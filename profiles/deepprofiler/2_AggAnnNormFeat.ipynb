{
 "cells": [
  {
   "attachments": {},
   "cell_type": "markdown",
   "metadata": {},
   "source": [
    "# Aggregate, Annotate, Normalize, and Feature Select\n",
    "\n",
    "This notebook will run all these above operations on a single-cell file obtained from DeepProfiler 1_Process_Outputs."
   ]
  },
  {
   "cell_type": "code",
   "execution_count": 1,
   "metadata": {},
   "outputs": [],
   "source": [
    "import pandas as pd\n",
    "import numpy as np\n",
    "import pycytominer\n",
    "import easygui as eg\n",
    "import os\n",
    "# from generate_profiles import *\n",
    "%load_ext autoreload\n",
    "%autoreload 2\n",
    "\n",
    "def stringToBool(correlation_input):\n",
    "    if correlation_input == 'yes':\n",
    "       return True\n",
    "    elif correlation_input == 'no':\n",
    "       return False\n",
    "    else:\n",
    "      raise ValueError"
   ]
  },
  {
   "attachments": {},
   "cell_type": "markdown",
   "metadata": {},
   "source": [
    "# 0) Inputs"
   ]
  },
  {
   "cell_type": "code",
   "execution_count": 2,
   "metadata": {},
   "outputs": [
    {
     "name": "stdout",
     "output_type": "stream",
     "text": [
      "Filename D:\\2022_10_04_AgNPCellRecovery_fossa_Cimini\\workspace\\deepprofiler\\2023_04_25_CNN_CellPainting_GFPRNA\\profiles\\2023_04_25_CNN_CellPainting_GFPRNAsingle_cells.csv\n",
      "Project name: 2023_04_25_CNN_CellPainting_GFPRNA\n",
      "Platemap file selected G:\\My Drive\\2022_10_04_AgNPCellRecovery_fossa_Cimini\\metadata\\platemaps\\2022_05_28_CellPainting\\barcode_platemap.csv\n"
     ]
    }
   ],
   "source": [
    "profile = eg.fileopenbox(msg=\"Choose a file with samples and their features\", default=r\"D:\")\n",
    "print('Filename', profile)\n",
    "\n",
    "project_name = input('Provide the name of this project:')\n",
    "print('Project name:', project_name)\n",
    "\n",
    "metadata_question = input(r\"If you need to annotate your dataset with an external file, write yes and press enter. If already annotated, answer no and press enter.\")\n",
    "metadata_answer = stringToBool(metadata_question)\n",
    "\n",
    "if metadata_answer:\n",
    "  platemap = eg.fileopenbox(msg=\"Choose a map (csv file) with plates names and metadata filenames\", default=r\"G:\")\n",
    "  platemap_path = os.path.split(platemap)[0]\n",
    "  print('Platemap file selected', platemap)\n",
    "  barcode_df = pd.read_csv(platemap)"
   ]
  },
  {
   "attachments": {},
   "cell_type": "markdown",
   "metadata": {},
   "source": [
    "## 1) Import extracted features file (single cell or well-aggregated)"
   ]
  },
  {
   "cell_type": "code",
   "execution_count": 11,
   "metadata": {},
   "outputs": [],
   "source": [
    "df = pd.read_csv(profile)\n",
    "df.head()\n",
    "\n",
    "cells_that_run = []\n",
    "cells_that_run.append(project_name)"
   ]
  },
  {
   "attachments": {},
   "cell_type": "markdown",
   "metadata": {},
   "source": [
    "### 1.a) Select features names"
   ]
  },
  {
   "cell_type": "code",
   "execution_count": 12,
   "metadata": {},
   "outputs": [],
   "source": [
    "# extract metadata prior to normalization\n",
    "metadata_cols = pycytominer.cyto_utils.infer_cp_features(df, metadata=True)\n",
    "# locations are not automatically inferred with cp features\n",
    "metadata_cols.append(\"Location_Center_X\")\n",
    "metadata_cols.append(\"Location_Center_Y\")\n",
    "derived_features = [\n",
    "    x for x in df.columns.tolist() if x not in metadata_cols\n",
    "]"
   ]
  },
  {
   "attachments": {},
   "cell_type": "markdown",
   "metadata": {},
   "source": [
    "## 2) Generate profile"
   ]
  },
  {
   "attachments": {},
   "cell_type": "markdown",
   "metadata": {},
   "source": [
    "### 2A) Aggregate"
   ]
  },
  {
   "attachments": {},
   "cell_type": "markdown",
   "metadata": {},
   "source": [
    "- Run the next cell to list the metadata columns, and copy them to choose from which metadata information you'd like to join the rows on (strata)"
   ]
  },
  {
   "attachments": {},
   "cell_type": "markdown",
   "metadata": {},
   "source": [
    "- If using **already aggregated data by plates and wells**, skip to 2B."
   ]
  },
  {
   "attachments": {},
   "cell_type": "markdown",
   "metadata": {},
   "source": [
    "- As a default we are using **Metadata_Plate and Metadata_Well** to join the rows, using the **'median'** operation. "
   ]
  },
  {
   "attachments": {},
   "cell_type": "markdown",
   "metadata": {},
   "source": [
    "Code below copied from pycytominer\n",
    "\n",
    "Reference: https://github.com/cytomining/pycytominer/blob/a5ae6c81a275b692ef5d4c85cfeb37696bf69242/pycytominer/cyto_utils/DeepProfiler_processing.py#L437-L444\n"
   ]
  },
  {
   "cell_type": "code",
   "execution_count": 13,
   "metadata": {},
   "outputs": [
    {
     "data": {
      "text/html": [
       "<div>\n",
       "<style scoped>\n",
       "    .dataframe tbody tr th:only-of-type {\n",
       "        vertical-align: middle;\n",
       "    }\n",
       "\n",
       "    .dataframe tbody tr th {\n",
       "        vertical-align: top;\n",
       "    }\n",
       "\n",
       "    .dataframe thead th {\n",
       "        text-align: right;\n",
       "    }\n",
       "</style>\n",
       "<table border=\"1\" class=\"dataframe\">\n",
       "  <thead>\n",
       "    <tr style=\"text-align: right;\">\n",
       "      <th></th>\n",
       "      <th>Metadata_Plate</th>\n",
       "      <th>Metadata_Well</th>\n",
       "      <th>efficientnet_0</th>\n",
       "      <th>efficientnet_1</th>\n",
       "      <th>efficientnet_2</th>\n",
       "      <th>efficientnet_3</th>\n",
       "      <th>efficientnet_4</th>\n",
       "      <th>efficientnet_5</th>\n",
       "      <th>efficientnet_6</th>\n",
       "      <th>efficientnet_7</th>\n",
       "      <th>...</th>\n",
       "      <th>efficientnet_662</th>\n",
       "      <th>efficientnet_663</th>\n",
       "      <th>efficientnet_664</th>\n",
       "      <th>efficientnet_665</th>\n",
       "      <th>efficientnet_666</th>\n",
       "      <th>efficientnet_667</th>\n",
       "      <th>efficientnet_668</th>\n",
       "      <th>efficientnet_669</th>\n",
       "      <th>efficientnet_670</th>\n",
       "      <th>efficientnet_671</th>\n",
       "    </tr>\n",
       "  </thead>\n",
       "  <tbody>\n",
       "    <tr>\n",
       "      <th>0</th>\n",
       "      <td>220528_102915_Plate_1</td>\n",
       "      <td>B10</td>\n",
       "      <td>0.518708</td>\n",
       "      <td>2.812436</td>\n",
       "      <td>3.218751</td>\n",
       "      <td>-0.131132</td>\n",
       "      <td>1.261852</td>\n",
       "      <td>0.519183</td>\n",
       "      <td>2.810942</td>\n",
       "      <td>0.530586</td>\n",
       "      <td>...</td>\n",
       "      <td>0.841880</td>\n",
       "      <td>0.827625</td>\n",
       "      <td>-0.180425</td>\n",
       "      <td>1.264115</td>\n",
       "      <td>1.490390</td>\n",
       "      <td>0.327663</td>\n",
       "      <td>3.036213</td>\n",
       "      <td>1.433404</td>\n",
       "      <td>0.538578</td>\n",
       "      <td>0.788551</td>\n",
       "    </tr>\n",
       "    <tr>\n",
       "      <th>1</th>\n",
       "      <td>220528_102915_Plate_1</td>\n",
       "      <td>B11</td>\n",
       "      <td>0.541497</td>\n",
       "      <td>2.778690</td>\n",
       "      <td>3.300595</td>\n",
       "      <td>-0.116309</td>\n",
       "      <td>1.234116</td>\n",
       "      <td>0.458571</td>\n",
       "      <td>2.823341</td>\n",
       "      <td>0.952075</td>\n",
       "      <td>...</td>\n",
       "      <td>0.910153</td>\n",
       "      <td>0.840212</td>\n",
       "      <td>-0.189845</td>\n",
       "      <td>1.231170</td>\n",
       "      <td>1.441773</td>\n",
       "      <td>0.352475</td>\n",
       "      <td>2.910588</td>\n",
       "      <td>1.445061</td>\n",
       "      <td>0.488202</td>\n",
       "      <td>0.716878</td>\n",
       "    </tr>\n",
       "    <tr>\n",
       "      <th>2</th>\n",
       "      <td>220528_102915_Plate_1</td>\n",
       "      <td>B2</td>\n",
       "      <td>0.544787</td>\n",
       "      <td>2.847978</td>\n",
       "      <td>3.176057</td>\n",
       "      <td>-0.119559</td>\n",
       "      <td>1.270010</td>\n",
       "      <td>0.545712</td>\n",
       "      <td>2.828436</td>\n",
       "      <td>0.286739</td>\n",
       "      <td>...</td>\n",
       "      <td>0.867258</td>\n",
       "      <td>0.761964</td>\n",
       "      <td>-0.173966</td>\n",
       "      <td>1.301321</td>\n",
       "      <td>1.526623</td>\n",
       "      <td>0.376966</td>\n",
       "      <td>3.095318</td>\n",
       "      <td>1.372507</td>\n",
       "      <td>0.488918</td>\n",
       "      <td>0.532168</td>\n",
       "    </tr>\n",
       "    <tr>\n",
       "      <th>3</th>\n",
       "      <td>220528_102915_Plate_1</td>\n",
       "      <td>B3</td>\n",
       "      <td>0.518260</td>\n",
       "      <td>2.842462</td>\n",
       "      <td>3.196894</td>\n",
       "      <td>-0.124644</td>\n",
       "      <td>1.264384</td>\n",
       "      <td>0.535548</td>\n",
       "      <td>2.816453</td>\n",
       "      <td>0.340362</td>\n",
       "      <td>...</td>\n",
       "      <td>0.857200</td>\n",
       "      <td>0.742780</td>\n",
       "      <td>-0.164780</td>\n",
       "      <td>1.170745</td>\n",
       "      <td>1.470740</td>\n",
       "      <td>0.355507</td>\n",
       "      <td>3.166224</td>\n",
       "      <td>1.287173</td>\n",
       "      <td>0.473407</td>\n",
       "      <td>0.442130</td>\n",
       "    </tr>\n",
       "    <tr>\n",
       "      <th>4</th>\n",
       "      <td>220528_102915_Plate_1</td>\n",
       "      <td>B4</td>\n",
       "      <td>0.570887</td>\n",
       "      <td>2.828761</td>\n",
       "      <td>3.198900</td>\n",
       "      <td>-0.096245</td>\n",
       "      <td>1.227968</td>\n",
       "      <td>0.534740</td>\n",
       "      <td>2.826558</td>\n",
       "      <td>0.319614</td>\n",
       "      <td>...</td>\n",
       "      <td>0.858262</td>\n",
       "      <td>0.780122</td>\n",
       "      <td>-0.168132</td>\n",
       "      <td>1.298958</td>\n",
       "      <td>1.543481</td>\n",
       "      <td>0.350412</td>\n",
       "      <td>3.091416</td>\n",
       "      <td>1.478590</td>\n",
       "      <td>0.474300</td>\n",
       "      <td>0.581399</td>\n",
       "    </tr>\n",
       "  </tbody>\n",
       "</table>\n",
       "<p>5 rows × 674 columns</p>\n",
       "</div>"
      ],
      "text/plain": [
       "          Metadata_Plate Metadata_Well  efficientnet_0  efficientnet_1  \\\n",
       "0  220528_102915_Plate_1           B10        0.518708        2.812436   \n",
       "1  220528_102915_Plate_1           B11        0.541497        2.778690   \n",
       "2  220528_102915_Plate_1            B2        0.544787        2.847978   \n",
       "3  220528_102915_Plate_1            B3        0.518260        2.842462   \n",
       "4  220528_102915_Plate_1            B4        0.570887        2.828761   \n",
       "\n",
       "   efficientnet_2  efficientnet_3  efficientnet_4  efficientnet_5  \\\n",
       "0        3.218751       -0.131132        1.261852        0.519183   \n",
       "1        3.300595       -0.116309        1.234116        0.458571   \n",
       "2        3.176057       -0.119559        1.270010        0.545712   \n",
       "3        3.196894       -0.124644        1.264384        0.535548   \n",
       "4        3.198900       -0.096245        1.227968        0.534740   \n",
       "\n",
       "   efficientnet_6  efficientnet_7  ...  efficientnet_662  efficientnet_663  \\\n",
       "0        2.810942        0.530586  ...          0.841880          0.827625   \n",
       "1        2.823341        0.952075  ...          0.910153          0.840212   \n",
       "2        2.828436        0.286739  ...          0.867258          0.761964   \n",
       "3        2.816453        0.340362  ...          0.857200          0.742780   \n",
       "4        2.826558        0.319614  ...          0.858262          0.780122   \n",
       "\n",
       "   efficientnet_664  efficientnet_665  efficientnet_666  efficientnet_667  \\\n",
       "0         -0.180425          1.264115          1.490390          0.327663   \n",
       "1         -0.189845          1.231170          1.441773          0.352475   \n",
       "2         -0.173966          1.301321          1.526623          0.376966   \n",
       "3         -0.164780          1.170745          1.470740          0.355507   \n",
       "4         -0.168132          1.298958          1.543481          0.350412   \n",
       "\n",
       "   efficientnet_668  efficientnet_669  efficientnet_670  efficientnet_671  \n",
       "0          3.036213          1.433404          0.538578          0.788551  \n",
       "1          2.910588          1.445061          0.488202          0.716878  \n",
       "2          3.095318          1.372507          0.488918          0.532168  \n",
       "3          3.166224          1.287173          0.473407          0.442130  \n",
       "4          3.091416          1.478590          0.474300          0.581399  \n",
       "\n",
       "[5 rows x 674 columns]"
      ]
     },
     "execution_count": 13,
     "metadata": {},
     "output_type": "execute_result"
    }
   ],
   "source": [
    "df = pycytominer.aggregate(df, \n",
    "                              strata=['Metadata_Plate', 'Metadata_Well'], \n",
    "                              operation='median',\n",
    "                              features=derived_features)\n",
    "df.head()"
   ]
  },
  {
   "attachments": {},
   "cell_type": "markdown",
   "metadata": {},
   "source": [
    "### 2B) Annotate "
   ]
  },
  {
   "attachments": {},
   "cell_type": "markdown",
   "metadata": {},
   "source": [
    "- Run the following to generate a plate list based on Metadata_Plate column."
   ]
  },
  {
   "cell_type": "code",
   "execution_count": 6,
   "metadata": {},
   "outputs": [
    {
     "name": "stdout",
     "output_type": "stream",
     "text": [
      "['220528_102915_Plate_1', '220609_145227_Plate_1']\n"
     ]
    }
   ],
   "source": [
    "plate_list = df['Metadata_Plate'].unique().tolist()\n",
    "print(plate_list)"
   ]
  },
  {
   "attachments": {},
   "cell_type": "markdown",
   "metadata": {},
   "source": [
    "- All metadata must be organized such:\n",
    "    ```\n",
    "    |- metadata \n",
    "    |   |   |- <barcode_platemap.csv> \n",
    "    |   |- platemap\n",
    "    |   |   |- <platemap_1.csv>\n",
    "    |   |   |- <platemap_2.csv>\n",
    "    ```"
   ]
  },
  {
   "attachments": {},
   "cell_type": "markdown",
   "metadata": {},
   "source": [
    "- Run the next cell to annotate the profiles. "
   ]
  },
  {
   "cell_type": "code",
   "execution_count": 14,
   "metadata": {},
   "outputs": [
    {
     "name": "stdout",
     "output_type": "stream",
     "text": [
      "Shape of each plate  (60, 682)\n",
      "Shape of each plate  (60, 682)\n"
     ]
    }
   ],
   "source": [
    "df_temp_list = []\n",
    "for pl in plate_list:\n",
    "    df_plate = df.loc[df['Metadata_Plate'] == pl]\n",
    "    #deal with metadata information\n",
    "    barcode_map = barcode_df[barcode_df['Assay_Plate_Barcode'] == pl]\n",
    "    index_map = barcode_map.index[0]\n",
    "    metadata_filename = barcode_df['Plate_Map_Name'][index_map]\n",
    "    metadata = pd.read_csv(platemap_path + r'/platemap/' + metadata_filename + '.txt', sep='\\t')\n",
    "    #annotate\n",
    "    df_temp = pycytominer.annotate(profiles = df_plate, platemap = metadata, join_on =  [\"Metadata_well_position\", \"Metadata_Well\"])\n",
    "    df_temp_list.append(df_temp)\n",
    "    print('Shape of each plate ', df_temp.shape)\n",
    "df = pd.concat(df_temp_list, axis=0)"
   ]
  },
  {
   "attachments": {},
   "cell_type": "markdown",
   "metadata": {},
   "source": [
    "### 2C) Normalize"
   ]
  },
  {
   "attachments": {},
   "cell_type": "markdown",
   "metadata": {},
   "source": [
    "- Normalize the dataset, per-plate basis, to **samples = all** or **samples = negcon**.\n",
    "- CHOOSE one or the other below."
   ]
  },
  {
   "attachments": {},
   "cell_type": "markdown",
   "metadata": {},
   "source": [
    "#### Normalize TO NEGCON => run next cell"
   ]
  },
  {
   "cell_type": "code",
   "execution_count": 8,
   "metadata": {},
   "outputs": [
    {
     "name": "stdout",
     "output_type": "stream",
     "text": [
      "(60, 682)\n",
      "(60, 682)\n"
     ]
    }
   ],
   "source": [
    "df_temp_list = []\n",
    "for pl in plate_list:\n",
    "    df_temp = df.loc[df['Metadata_Plate'] == pl]\n",
    "    print(df_temp.shape)\n",
    "    df_norm_temp = pycytominer.normalize(df_temp, features=derived_features, method = 'mad_robustize', mad_robustize_epsilon = 0, samples = \"Metadata_control_type == 'negcon'\") \n",
    "    df_temp_list.append(df_norm_temp)\n",
    "df_norm2 = pd.concat(df_temp_list, axis=0)\n",
    "cells_that_run.append('normalized_negcon')"
   ]
  },
  {
   "attachments": {},
   "cell_type": "markdown",
   "metadata": {},
   "source": [
    "#### Normalize TO ALL => run next cell"
   ]
  },
  {
   "cell_type": "code",
   "execution_count": 15,
   "metadata": {},
   "outputs": [
    {
     "name": "stdout",
     "output_type": "stream",
     "text": [
      "(60, 682)\n",
      "(60, 682)\n"
     ]
    }
   ],
   "source": [
    "df_temp_list = []\n",
    "for pl in plate_list:\n",
    "    df_temp = df.loc[df['Metadata_Plate'] == pl]\n",
    "    print(df_temp.shape)\n",
    "    df_norm_temp = pycytominer.normalize(df_temp, features=derived_features, method = 'mad_robustize', mad_robustize_epsilon = 0) \n",
    "    df_temp_list.append(df_norm_temp)\n",
    "df_norm2 = pd.concat(df_temp_list, axis=0)\n",
    "cells_that_run.append('normalized')"
   ]
  },
  {
   "attachments": {},
   "cell_type": "markdown",
   "metadata": {},
   "source": [
    "### Export only normalized"
   ]
  },
  {
   "cell_type": "code",
   "execution_count": 16,
   "metadata": {},
   "outputs": [
    {
     "name": "stdout",
     "output_type": "stream",
     "text": [
      "Successfully exported to: D:\\2022_10_04_AgNPCellRecovery_fossa_Cimini\\workspace\\deepprofiler\\2023_04_25_CNN_CellPainting_GFPRNA\\profiles/2023_04_25_CNN_CellPainting_GFPRNA_normalized.csv\n"
     ]
    }
   ],
   "source": [
    "output_name = '_'.join(cells_that_run)\n",
    "df_norm2.to_csv(output_path + r'/' + output_name + '.csv')\n",
    "print('Successfully exported to:', output_path + r'/' + output_name + '.csv')"
   ]
  },
  {
   "attachments": {},
   "cell_type": "markdown",
   "metadata": {},
   "source": [
    "### 2D) Feature selection"
   ]
  },
  {
   "cell_type": "code",
   "execution_count": 60,
   "metadata": {},
   "outputs": [
    {
     "name": "stdout",
     "output_type": "stream",
     "text": [
      "Number of columns removed: 17\n",
      "Percentage of columns removed: 2.489019033674964\n"
     ]
    }
   ],
   "source": [
    "df_selected = pycytominer.feature_select(df_norm2, features=derived_features, \n",
    "                                         operation = ['correlation_threshold', 'variance_threshold', 'drop_na_columns','drop_outliers'], outlier_cutoff = 500) \n",
    "print('Number of columns removed:', df_norm2.shape[1] - df_selected.shape[1])\n",
    "print('Percentage of columns removed:',100 - ((df_selected.shape[1]*100)/df_norm2.shape[1]))\n",
    "cells_that_run.append('feature_select')"
   ]
  },
  {
   "attachments": {},
   "cell_type": "markdown",
   "metadata": {},
   "source": [
    "# Export"
   ]
  },
  {
   "cell_type": "code",
   "execution_count": 9,
   "metadata": {},
   "outputs": [
    {
     "name": "stdout",
     "output_type": "stream",
     "text": [
      "Path to save the profile D:\\2022_10_04_AgNPCellRecovery_fossa_Cimini\\workspace\\deepprofiler\\2023_04_25_CNN_CellPainting_GFPRNA\\profiles\n"
     ]
    }
   ],
   "source": [
    "output_path = eg.diropenbox(msg=\"Choose an output folder\", default=r\"D:\")\n",
    "print('Path to save the profile', output_path)"
   ]
  },
  {
   "cell_type": "code",
   "execution_count": 61,
   "metadata": {},
   "outputs": [
    {
     "name": "stdout",
     "output_type": "stream",
     "text": [
      "Successfully exported to: D:\\2022_10_04_AgNPCellRecovery_fossa_Cimini\\workspace\\deepprofiler\\2023_04_25_CNN_CellPainting_GFPRNA\\profiles/2023_04_25_CNN_CellPainting_GFPRNA_normalized_feature_select.csv\n"
     ]
    }
   ],
   "source": [
    "output_name = '_'.join(cells_that_run)\n",
    "df_selected.to_csv(output_path + r'/' + output_name + '.csv')\n",
    "print('Successfully exported to:', output_path + r'/' + output_name + '.csv')"
   ]
  }
 ],
 "metadata": {
  "kernelspec": {
   "display_name": "pycytominer",
   "language": "python",
   "name": "python3"
  },
  "language_info": {
   "codemirror_mode": {
    "name": "ipython",
    "version": 3
   },
   "file_extension": ".py",
   "mimetype": "text/x-python",
   "name": "python",
   "nbconvert_exporter": "python",
   "pygments_lexer": "ipython3",
   "version": "3.9.12"
  },
  "orig_nbformat": 4
 },
 "nbformat": 4,
 "nbformat_minor": 2
}
