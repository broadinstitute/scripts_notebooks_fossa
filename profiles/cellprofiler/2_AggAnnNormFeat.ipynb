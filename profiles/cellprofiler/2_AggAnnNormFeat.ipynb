{
 "cells": [
  {
   "attachments": {},
   "cell_type": "markdown",
   "metadata": {},
   "source": [
    "# Aggregate, Annotate, Normalize, and Feature Select\n",
    "\n",
    "This notebook will run all these above operations on a single-cell file or well-aggregated file.\n",
    "\n",
    "We will have the option to run or not "
   ]
  },
  {
   "cell_type": "code",
   "execution_count": 1,
   "metadata": {},
   "outputs": [],
   "source": [
    "mport pandas as pd\n",
    "import numpy as np\n",
    "import pycytominer\n",
    "import easygui as eg\n",
    "import os\n",
    "import sys\n",
    "\n",
    "path_scripts = r\"C:\\Users\\Fer\\Documents\\GitHub\"\n",
    "sys.path.append(path_scripts)\n",
    "\n",
    "from scripts_notebooks_fossa.profiles import generate_profiles\n",
    "\n",
    "%load_ext autoreload\n",
    "%autoreload 2"
   ]
  },
  {
   "attachments": {},
   "cell_type": "markdown",
   "metadata": {},
   "source": [
    "# 0) Inputs"
   ]
  },
  {
   "cell_type": "code",
   "execution_count": 30,
   "metadata": {},
   "outputs": [
    {
     "name": "stdout",
     "output_type": "stream",
     "text": [
      "Filename D:\\2022_09_09_LiveCellPainting_fossa_Cimini\\workspace\\profiles\\2022_03_24_Acidification_LT\\2022_03_24_Acidification_LTsingle_cells.csv\n",
      "Project name: 2022_03_24_Acidification_LT\n",
      "Platemap file selected D:\\2022_09_09_LiveCellPainting_fossa_Cimini\\workspace\\metadata\\platemaps\\2022_03_24_Acidification_LT\\barcode_platemap.csv\n"
     ]
    }
   ],
   "source": [
    "profile = eg.fileopenbox(msg=\"Choose a file with samples and their features\", default=r\"D:\")\n",
    "print('Filename', profile)\n",
    "\n",
    "project_name = input('Provide the name of this project:')\n",
    "print('Project name:', project_name)\n",
    "\n",
    "metadata_question = input(r\"If you need to annotate your dataset with an external file, write yes and press enter. If already annotated, answer no and press enter.\")\n",
    "metadata_answer = generate_profiles.stringToBool(metadata_question)\n",
    "\n",
    "if metadata_answer:\n",
    "  platemap = eg.fileopenbox(msg=\"Choose a map (csv file) with plates names and metadata filenames\", default=r\"G:\")\n",
    "  platemap_path = os.path.split(platemap)[0]\n",
    "  print('Platemap file selected', platemap)\n",
    "  barcode_df = pd.read_csv(platemap)\n"
   ]
  },
  {
   "attachments": {},
   "cell_type": "markdown",
   "metadata": {},
   "source": [
    "## 1) Import extracted features file (single cell or well-aggregated)"
   ]
  },
  {
   "cell_type": "code",
   "execution_count": 56,
   "metadata": {},
   "outputs": [
    {
     "data": {
      "text/html": [
       "<div>\n",
       "<style scoped>\n",
       "    .dataframe tbody tr th:only-of-type {\n",
       "        vertical-align: middle;\n",
       "    }\n",
       "\n",
       "    .dataframe tbody tr th {\n",
       "        vertical-align: top;\n",
       "    }\n",
       "\n",
       "    .dataframe thead th {\n",
       "        text-align: right;\n",
       "    }\n",
       "</style>\n",
       "<table border=\"1\" class=\"dataframe\">\n",
       "  <thead>\n",
       "    <tr style=\"text-align: right;\">\n",
       "      <th></th>\n",
       "      <th>Unnamed: 0</th>\n",
       "      <th>Metadata_ImageNumber</th>\n",
       "      <th>Metadata_Plate</th>\n",
       "      <th>Metadata_Site</th>\n",
       "      <th>Metadata_Well</th>\n",
       "      <th>Metadata_TableNumber</th>\n",
       "      <th>Metadata_ObjectNumber_cytoplasm</th>\n",
       "      <th>Cytoplasm_AreaShape_Area</th>\n",
       "      <th>Cytoplasm_AreaShape_BoundingBoxArea</th>\n",
       "      <th>Cytoplasm_AreaShape_BoundingBoxMaximum_X</th>\n",
       "      <th>...</th>\n",
       "      <th>Nuclei_Texture_Variance_OrigLT_10_02_256</th>\n",
       "      <th>Nuclei_Texture_Variance_OrigLT_10_03_256</th>\n",
       "      <th>Nuclei_Texture_Variance_OrigLT_20_00_256</th>\n",
       "      <th>Nuclei_Texture_Variance_OrigLT_20_01_256</th>\n",
       "      <th>Nuclei_Texture_Variance_OrigLT_20_02_256</th>\n",
       "      <th>Nuclei_Texture_Variance_OrigLT_20_03_256</th>\n",
       "      <th>Nuclei_Texture_Variance_OrigLT_5_00_256</th>\n",
       "      <th>Nuclei_Texture_Variance_OrigLT_5_01_256</th>\n",
       "      <th>Nuclei_Texture_Variance_OrigLT_5_02_256</th>\n",
       "      <th>Nuclei_Texture_Variance_OrigLT_5_03_256</th>\n",
       "    </tr>\n",
       "  </thead>\n",
       "  <tbody>\n",
       "    <tr>\n",
       "      <th>0</th>\n",
       "      <td>0</td>\n",
       "      <td>1</td>\n",
       "      <td>220324_134819_Plate_1</td>\n",
       "      <td>1</td>\n",
       "      <td>C10</td>\n",
       "      <td>910470619</td>\n",
       "      <td>1</td>\n",
       "      <td>12277</td>\n",
       "      <td>24750</td>\n",
       "      <td>304</td>\n",
       "      <td>...</td>\n",
       "      <td>172.188039</td>\n",
       "      <td>191.776783</td>\n",
       "      <td>206.014046</td>\n",
       "      <td>180.528021</td>\n",
       "      <td>192.152952</td>\n",
       "      <td>159.039568</td>\n",
       "      <td>206.944097</td>\n",
       "      <td>201.633954</td>\n",
       "      <td>198.510129</td>\n",
       "      <td>204.705950</td>\n",
       "    </tr>\n",
       "    <tr>\n",
       "      <th>1</th>\n",
       "      <td>1</td>\n",
       "      <td>1</td>\n",
       "      <td>220324_134819_Plate_1</td>\n",
       "      <td>1</td>\n",
       "      <td>C10</td>\n",
       "      <td>910470619</td>\n",
       "      <td>2</td>\n",
       "      <td>14291</td>\n",
       "      <td>29808</td>\n",
       "      <td>455</td>\n",
       "      <td>...</td>\n",
       "      <td>48.931053</td>\n",
       "      <td>54.246853</td>\n",
       "      <td>24.282060</td>\n",
       "      <td>28.964805</td>\n",
       "      <td>59.981566</td>\n",
       "      <td>77.895028</td>\n",
       "      <td>70.749460</td>\n",
       "      <td>58.278640</td>\n",
       "      <td>50.693477</td>\n",
       "      <td>47.509867</td>\n",
       "    </tr>\n",
       "    <tr>\n",
       "      <th>2</th>\n",
       "      <td>2</td>\n",
       "      <td>1</td>\n",
       "      <td>220324_134819_Plate_1</td>\n",
       "      <td>1</td>\n",
       "      <td>C10</td>\n",
       "      <td>910470619</td>\n",
       "      <td>3</td>\n",
       "      <td>7964</td>\n",
       "      <td>31980</td>\n",
       "      <td>195</td>\n",
       "      <td>...</td>\n",
       "      <td>102.704277</td>\n",
       "      <td>90.249529</td>\n",
       "      <td>95.657071</td>\n",
       "      <td>63.552313</td>\n",
       "      <td>104.850935</td>\n",
       "      <td>111.064484</td>\n",
       "      <td>117.455004</td>\n",
       "      <td>121.552540</td>\n",
       "      <td>120.074147</td>\n",
       "      <td>105.702546</td>\n",
       "    </tr>\n",
       "    <tr>\n",
       "      <th>3</th>\n",
       "      <td>3</td>\n",
       "      <td>1</td>\n",
       "      <td>220324_134819_Plate_1</td>\n",
       "      <td>1</td>\n",
       "      <td>C10</td>\n",
       "      <td>910470619</td>\n",
       "      <td>4</td>\n",
       "      <td>20542</td>\n",
       "      <td>44590</td>\n",
       "      <td>290</td>\n",
       "      <td>...</td>\n",
       "      <td>13.866668</td>\n",
       "      <td>15.379843</td>\n",
       "      <td>15.547724</td>\n",
       "      <td>19.049825</td>\n",
       "      <td>11.638127</td>\n",
       "      <td>15.130115</td>\n",
       "      <td>14.145880</td>\n",
       "      <td>14.388920</td>\n",
       "      <td>16.262809</td>\n",
       "      <td>14.580236</td>\n",
       "    </tr>\n",
       "    <tr>\n",
       "      <th>4</th>\n",
       "      <td>4</td>\n",
       "      <td>1</td>\n",
       "      <td>220324_134819_Plate_1</td>\n",
       "      <td>1</td>\n",
       "      <td>C10</td>\n",
       "      <td>910470619</td>\n",
       "      <td>5</td>\n",
       "      <td>26929</td>\n",
       "      <td>52664</td>\n",
       "      <td>724</td>\n",
       "      <td>...</td>\n",
       "      <td>23.833673</td>\n",
       "      <td>25.477788</td>\n",
       "      <td>25.495137</td>\n",
       "      <td>28.227327</td>\n",
       "      <td>27.681037</td>\n",
       "      <td>34.870136</td>\n",
       "      <td>26.611093</td>\n",
       "      <td>27.155324</td>\n",
       "      <td>25.444177</td>\n",
       "      <td>24.750500</td>\n",
       "    </tr>\n",
       "  </tbody>\n",
       "</table>\n",
       "<p>5 rows × 1378 columns</p>\n",
       "</div>"
      ],
      "text/plain": [
       "   Unnamed: 0  Metadata_ImageNumber         Metadata_Plate  Metadata_Site  \\\n",
       "0           0                     1  220324_134819_Plate_1              1   \n",
       "1           1                     1  220324_134819_Plate_1              1   \n",
       "2           2                     1  220324_134819_Plate_1              1   \n",
       "3           3                     1  220324_134819_Plate_1              1   \n",
       "4           4                     1  220324_134819_Plate_1              1   \n",
       "\n",
       "  Metadata_Well  Metadata_TableNumber  Metadata_ObjectNumber_cytoplasm  \\\n",
       "0           C10             910470619                                1   \n",
       "1           C10             910470619                                2   \n",
       "2           C10             910470619                                3   \n",
       "3           C10             910470619                                4   \n",
       "4           C10             910470619                                5   \n",
       "\n",
       "   Cytoplasm_AreaShape_Area  Cytoplasm_AreaShape_BoundingBoxArea  \\\n",
       "0                     12277                                24750   \n",
       "1                     14291                                29808   \n",
       "2                      7964                                31980   \n",
       "3                     20542                                44590   \n",
       "4                     26929                                52664   \n",
       "\n",
       "   Cytoplasm_AreaShape_BoundingBoxMaximum_X  ...  \\\n",
       "0                                       304  ...   \n",
       "1                                       455  ...   \n",
       "2                                       195  ...   \n",
       "3                                       290  ...   \n",
       "4                                       724  ...   \n",
       "\n",
       "   Nuclei_Texture_Variance_OrigLT_10_02_256  \\\n",
       "0                                172.188039   \n",
       "1                                 48.931053   \n",
       "2                                102.704277   \n",
       "3                                 13.866668   \n",
       "4                                 23.833673   \n",
       "\n",
       "   Nuclei_Texture_Variance_OrigLT_10_03_256  \\\n",
       "0                                191.776783   \n",
       "1                                 54.246853   \n",
       "2                                 90.249529   \n",
       "3                                 15.379843   \n",
       "4                                 25.477788   \n",
       "\n",
       "   Nuclei_Texture_Variance_OrigLT_20_00_256  \\\n",
       "0                                206.014046   \n",
       "1                                 24.282060   \n",
       "2                                 95.657071   \n",
       "3                                 15.547724   \n",
       "4                                 25.495137   \n",
       "\n",
       "   Nuclei_Texture_Variance_OrigLT_20_01_256  \\\n",
       "0                                180.528021   \n",
       "1                                 28.964805   \n",
       "2                                 63.552313   \n",
       "3                                 19.049825   \n",
       "4                                 28.227327   \n",
       "\n",
       "   Nuclei_Texture_Variance_OrigLT_20_02_256  \\\n",
       "0                                192.152952   \n",
       "1                                 59.981566   \n",
       "2                                104.850935   \n",
       "3                                 11.638127   \n",
       "4                                 27.681037   \n",
       "\n",
       "   Nuclei_Texture_Variance_OrigLT_20_03_256  \\\n",
       "0                                159.039568   \n",
       "1                                 77.895028   \n",
       "2                                111.064484   \n",
       "3                                 15.130115   \n",
       "4                                 34.870136   \n",
       "\n",
       "   Nuclei_Texture_Variance_OrigLT_5_00_256  \\\n",
       "0                               206.944097   \n",
       "1                                70.749460   \n",
       "2                               117.455004   \n",
       "3                                14.145880   \n",
       "4                                26.611093   \n",
       "\n",
       "   Nuclei_Texture_Variance_OrigLT_5_01_256  \\\n",
       "0                               201.633954   \n",
       "1                                58.278640   \n",
       "2                               121.552540   \n",
       "3                                14.388920   \n",
       "4                                27.155324   \n",
       "\n",
       "   Nuclei_Texture_Variance_OrigLT_5_02_256  \\\n",
       "0                               198.510129   \n",
       "1                                50.693477   \n",
       "2                               120.074147   \n",
       "3                                16.262809   \n",
       "4                                25.444177   \n",
       "\n",
       "   Nuclei_Texture_Variance_OrigLT_5_03_256  \n",
       "0                               204.705950  \n",
       "1                                47.509867  \n",
       "2                               105.702546  \n",
       "3                                14.580236  \n",
       "4                                24.750500  \n",
       "\n",
       "[5 rows x 1378 columns]"
      ]
     },
     "execution_count": 56,
     "metadata": {},
     "output_type": "execute_result"
    }
   ],
   "source": [
    "df = pd.read_csv(profile)\n",
    "df.head()\n",
    "\n",
    "cells_that_run = []\n",
    "cells_that_run.append(project_name)"
   ]
  },
  {
   "attachments": {},
   "cell_type": "markdown",
   "metadata": {},
   "source": [
    "### 1.a) Count number of cells in each well "
   ]
  },
  {
   "cell_type": "code",
   "execution_count": 32,
   "metadata": {},
   "outputs": [],
   "source": [
    "object_count = (\n",
    "                df.groupby([\"Metadata_Plate\", \"Metadata_Well\"])[\"Nuclei_Number_Object_Number\"]\n",
    "                .count()\n",
    "                .reset_index()\n",
    "                .rename({\"Nuclei_Number_Object_Number\": \"Metadata_cell_count\"}, axis=\"columns\")\n",
    "            )"
   ]
  },
  {
   "attachments": {},
   "cell_type": "markdown",
   "metadata": {},
   "source": [
    "## 2) Generate profile"
   ]
  },
  {
   "attachments": {},
   "cell_type": "markdown",
   "metadata": {},
   "source": [
    "### 2A) Aggregate"
   ]
  },
  {
   "attachments": {},
   "cell_type": "markdown",
   "metadata": {},
   "source": [
    "- Run the next cell to list the metadata columns, and copy them to choose from which metadata information you'd like to join the rows on (strata)"
   ]
  },
  {
   "attachments": {},
   "cell_type": "markdown",
   "metadata": {},
   "source": [
    "- If using **already aggregated data by plates and wells**, skip to 2B."
   ]
  },
  {
   "cell_type": "code",
   "execution_count": 4,
   "metadata": {},
   "outputs": [
    {
     "data": {
      "text/plain": [
       "['Metadata_ImageNumber',\n",
       " 'Metadata_Plate',\n",
       " 'Metadata_Site',\n",
       " 'Metadata_Well',\n",
       " 'Metadata_TableNumber',\n",
       " 'Metadata_ObjectNumber_cytoplasm',\n",
       " 'Metadata_Cytoplasm_Parent_Cells',\n",
       " 'Metadata_Cytoplasm_Parent_Nuclei',\n",
       " 'Metadata_ObjectNumber_cells',\n",
       " 'Metadata_ObjectNumber']"
      ]
     },
     "execution_count": 4,
     "metadata": {},
     "output_type": "execute_result"
    }
   ],
   "source": [
    "pycytominer.cyto_utils.infer_cp_features(df, metadata=True)"
   ]
  },
  {
   "attachments": {},
   "cell_type": "markdown",
   "metadata": {},
   "source": [
    "- As a default we are using **Metadata_Plate and Metadata_Well** to join the rows, using the **'median'** operation. "
   ]
  },
  {
   "cell_type": "code",
   "execution_count": 57,
   "metadata": {},
   "outputs": [
    {
     "data": {
      "text/html": [
       "<div>\n",
       "<style scoped>\n",
       "    .dataframe tbody tr th:only-of-type {\n",
       "        vertical-align: middle;\n",
       "    }\n",
       "\n",
       "    .dataframe tbody tr th {\n",
       "        vertical-align: top;\n",
       "    }\n",
       "\n",
       "    .dataframe thead th {\n",
       "        text-align: right;\n",
       "    }\n",
       "</style>\n",
       "<table border=\"1\" class=\"dataframe\">\n",
       "  <thead>\n",
       "    <tr style=\"text-align: right;\">\n",
       "      <th></th>\n",
       "      <th>Metadata_Plate</th>\n",
       "      <th>Metadata_Well</th>\n",
       "      <th>Cytoplasm_AreaShape_Area</th>\n",
       "      <th>Cytoplasm_AreaShape_BoundingBoxArea</th>\n",
       "      <th>Cytoplasm_AreaShape_BoundingBoxMaximum_X</th>\n",
       "      <th>Cytoplasm_AreaShape_BoundingBoxMaximum_Y</th>\n",
       "      <th>Cytoplasm_AreaShape_BoundingBoxMinimum_X</th>\n",
       "      <th>Cytoplasm_AreaShape_BoundingBoxMinimum_Y</th>\n",
       "      <th>Cytoplasm_AreaShape_Center_X</th>\n",
       "      <th>Cytoplasm_AreaShape_Center_Y</th>\n",
       "      <th>...</th>\n",
       "      <th>Nuclei_Texture_Variance_OrigLT_10_02_256</th>\n",
       "      <th>Nuclei_Texture_Variance_OrigLT_10_03_256</th>\n",
       "      <th>Nuclei_Texture_Variance_OrigLT_20_00_256</th>\n",
       "      <th>Nuclei_Texture_Variance_OrigLT_20_01_256</th>\n",
       "      <th>Nuclei_Texture_Variance_OrigLT_20_02_256</th>\n",
       "      <th>Nuclei_Texture_Variance_OrigLT_20_03_256</th>\n",
       "      <th>Nuclei_Texture_Variance_OrigLT_5_00_256</th>\n",
       "      <th>Nuclei_Texture_Variance_OrigLT_5_01_256</th>\n",
       "      <th>Nuclei_Texture_Variance_OrigLT_5_02_256</th>\n",
       "      <th>Nuclei_Texture_Variance_OrigLT_5_03_256</th>\n",
       "    </tr>\n",
       "  </thead>\n",
       "  <tbody>\n",
       "    <tr>\n",
       "      <th>0</th>\n",
       "      <td>220324_134819_Plate_1</td>\n",
       "      <td>C10</td>\n",
       "      <td>13267.0</td>\n",
       "      <td>26796.0</td>\n",
       "      <td>696.0</td>\n",
       "      <td>578.0</td>\n",
       "      <td>529.0</td>\n",
       "      <td>402.0</td>\n",
       "      <td>618.768747</td>\n",
       "      <td>490.928433</td>\n",
       "      <td>...</td>\n",
       "      <td>52.592866</td>\n",
       "      <td>55.072915</td>\n",
       "      <td>55.256215</td>\n",
       "      <td>58.614150</td>\n",
       "      <td>58.262758</td>\n",
       "      <td>61.851628</td>\n",
       "      <td>56.082364</td>\n",
       "      <td>53.174189</td>\n",
       "      <td>53.351096</td>\n",
       "      <td>50.939043</td>\n",
       "    </tr>\n",
       "    <tr>\n",
       "      <th>1</th>\n",
       "      <td>220324_134819_Plate_1</td>\n",
       "      <td>C8</td>\n",
       "      <td>18487.0</td>\n",
       "      <td>36134.0</td>\n",
       "      <td>724.5</td>\n",
       "      <td>571.0</td>\n",
       "      <td>531.5</td>\n",
       "      <td>385.5</td>\n",
       "      <td>624.512243</td>\n",
       "      <td>475.329915</td>\n",
       "      <td>...</td>\n",
       "      <td>101.579659</td>\n",
       "      <td>104.833366</td>\n",
       "      <td>102.590733</td>\n",
       "      <td>110.913864</td>\n",
       "      <td>102.041391</td>\n",
       "      <td>113.269072</td>\n",
       "      <td>103.157839</td>\n",
       "      <td>102.426720</td>\n",
       "      <td>106.551106</td>\n",
       "      <td>105.263549</td>\n",
       "    </tr>\n",
       "    <tr>\n",
       "      <th>2</th>\n",
       "      <td>220324_134819_Plate_1</td>\n",
       "      <td>C9</td>\n",
       "      <td>13181.0</td>\n",
       "      <td>25584.0</td>\n",
       "      <td>678.0</td>\n",
       "      <td>529.0</td>\n",
       "      <td>488.0</td>\n",
       "      <td>352.0</td>\n",
       "      <td>592.016281</td>\n",
       "      <td>425.931690</td>\n",
       "      <td>...</td>\n",
       "      <td>18.157969</td>\n",
       "      <td>18.174451</td>\n",
       "      <td>19.227563</td>\n",
       "      <td>19.779993</td>\n",
       "      <td>18.090324</td>\n",
       "      <td>21.496804</td>\n",
       "      <td>18.622563</td>\n",
       "      <td>18.108056</td>\n",
       "      <td>19.082278</td>\n",
       "      <td>18.135697</td>\n",
       "    </tr>\n",
       "    <tr>\n",
       "      <th>3</th>\n",
       "      <td>220324_134819_Plate_1</td>\n",
       "      <td>D10</td>\n",
       "      <td>12475.0</td>\n",
       "      <td>23460.0</td>\n",
       "      <td>688.0</td>\n",
       "      <td>562.0</td>\n",
       "      <td>535.0</td>\n",
       "      <td>413.0</td>\n",
       "      <td>610.432063</td>\n",
       "      <td>486.678547</td>\n",
       "      <td>...</td>\n",
       "      <td>106.814632</td>\n",
       "      <td>102.613806</td>\n",
       "      <td>108.564186</td>\n",
       "      <td>109.454023</td>\n",
       "      <td>110.896811</td>\n",
       "      <td>113.285510</td>\n",
       "      <td>105.929430</td>\n",
       "      <td>103.481967</td>\n",
       "      <td>109.908506</td>\n",
       "      <td>104.247975</td>\n",
       "    </tr>\n",
       "    <tr>\n",
       "      <th>4</th>\n",
       "      <td>220324_134819_Plate_1</td>\n",
       "      <td>D8</td>\n",
       "      <td>17496.0</td>\n",
       "      <td>32831.0</td>\n",
       "      <td>674.0</td>\n",
       "      <td>546.0</td>\n",
       "      <td>471.5</td>\n",
       "      <td>381.5</td>\n",
       "      <td>566.840822</td>\n",
       "      <td>460.963581</td>\n",
       "      <td>...</td>\n",
       "      <td>45.518883</td>\n",
       "      <td>46.211893</td>\n",
       "      <td>48.452130</td>\n",
       "      <td>53.528258</td>\n",
       "      <td>50.276309</td>\n",
       "      <td>56.656157</td>\n",
       "      <td>48.676531</td>\n",
       "      <td>45.244221</td>\n",
       "      <td>48.159816</td>\n",
       "      <td>46.525829</td>\n",
       "    </tr>\n",
       "  </tbody>\n",
       "</table>\n",
       "<p>5 rows × 1369 columns</p>\n",
       "</div>"
      ],
      "text/plain": [
       "          Metadata_Plate Metadata_Well  Cytoplasm_AreaShape_Area  \\\n",
       "0  220324_134819_Plate_1           C10                   13267.0   \n",
       "1  220324_134819_Plate_1            C8                   18487.0   \n",
       "2  220324_134819_Plate_1            C9                   13181.0   \n",
       "3  220324_134819_Plate_1           D10                   12475.0   \n",
       "4  220324_134819_Plate_1            D8                   17496.0   \n",
       "\n",
       "   Cytoplasm_AreaShape_BoundingBoxArea  \\\n",
       "0                              26796.0   \n",
       "1                              36134.0   \n",
       "2                              25584.0   \n",
       "3                              23460.0   \n",
       "4                              32831.0   \n",
       "\n",
       "   Cytoplasm_AreaShape_BoundingBoxMaximum_X  \\\n",
       "0                                     696.0   \n",
       "1                                     724.5   \n",
       "2                                     678.0   \n",
       "3                                     688.0   \n",
       "4                                     674.0   \n",
       "\n",
       "   Cytoplasm_AreaShape_BoundingBoxMaximum_Y  \\\n",
       "0                                     578.0   \n",
       "1                                     571.0   \n",
       "2                                     529.0   \n",
       "3                                     562.0   \n",
       "4                                     546.0   \n",
       "\n",
       "   Cytoplasm_AreaShape_BoundingBoxMinimum_X  \\\n",
       "0                                     529.0   \n",
       "1                                     531.5   \n",
       "2                                     488.0   \n",
       "3                                     535.0   \n",
       "4                                     471.5   \n",
       "\n",
       "   Cytoplasm_AreaShape_BoundingBoxMinimum_Y  Cytoplasm_AreaShape_Center_X  \\\n",
       "0                                     402.0                    618.768747   \n",
       "1                                     385.5                    624.512243   \n",
       "2                                     352.0                    592.016281   \n",
       "3                                     413.0                    610.432063   \n",
       "4                                     381.5                    566.840822   \n",
       "\n",
       "   Cytoplasm_AreaShape_Center_Y  ...  \\\n",
       "0                    490.928433  ...   \n",
       "1                    475.329915  ...   \n",
       "2                    425.931690  ...   \n",
       "3                    486.678547  ...   \n",
       "4                    460.963581  ...   \n",
       "\n",
       "   Nuclei_Texture_Variance_OrigLT_10_02_256  \\\n",
       "0                                 52.592866   \n",
       "1                                101.579659   \n",
       "2                                 18.157969   \n",
       "3                                106.814632   \n",
       "4                                 45.518883   \n",
       "\n",
       "   Nuclei_Texture_Variance_OrigLT_10_03_256  \\\n",
       "0                                 55.072915   \n",
       "1                                104.833366   \n",
       "2                                 18.174451   \n",
       "3                                102.613806   \n",
       "4                                 46.211893   \n",
       "\n",
       "   Nuclei_Texture_Variance_OrigLT_20_00_256  \\\n",
       "0                                 55.256215   \n",
       "1                                102.590733   \n",
       "2                                 19.227563   \n",
       "3                                108.564186   \n",
       "4                                 48.452130   \n",
       "\n",
       "   Nuclei_Texture_Variance_OrigLT_20_01_256  \\\n",
       "0                                 58.614150   \n",
       "1                                110.913864   \n",
       "2                                 19.779993   \n",
       "3                                109.454023   \n",
       "4                                 53.528258   \n",
       "\n",
       "   Nuclei_Texture_Variance_OrigLT_20_02_256  \\\n",
       "0                                 58.262758   \n",
       "1                                102.041391   \n",
       "2                                 18.090324   \n",
       "3                                110.896811   \n",
       "4                                 50.276309   \n",
       "\n",
       "   Nuclei_Texture_Variance_OrigLT_20_03_256  \\\n",
       "0                                 61.851628   \n",
       "1                                113.269072   \n",
       "2                                 21.496804   \n",
       "3                                113.285510   \n",
       "4                                 56.656157   \n",
       "\n",
       "   Nuclei_Texture_Variance_OrigLT_5_00_256  \\\n",
       "0                                56.082364   \n",
       "1                               103.157839   \n",
       "2                                18.622563   \n",
       "3                               105.929430   \n",
       "4                                48.676531   \n",
       "\n",
       "   Nuclei_Texture_Variance_OrigLT_5_01_256  \\\n",
       "0                                53.174189   \n",
       "1                               102.426720   \n",
       "2                                18.108056   \n",
       "3                               103.481967   \n",
       "4                                45.244221   \n",
       "\n",
       "   Nuclei_Texture_Variance_OrigLT_5_02_256  \\\n",
       "0                                53.351096   \n",
       "1                               106.551106   \n",
       "2                                19.082278   \n",
       "3                               109.908506   \n",
       "4                                48.159816   \n",
       "\n",
       "   Nuclei_Texture_Variance_OrigLT_5_03_256  \n",
       "0                                50.939043  \n",
       "1                               105.263549  \n",
       "2                                18.135697  \n",
       "3                               104.247975  \n",
       "4                                46.525829  \n",
       "\n",
       "[5 rows x 1369 columns]"
      ]
     },
     "execution_count": 57,
     "metadata": {},
     "output_type": "execute_result"
    }
   ],
   "source": [
    "df = pycytominer.aggregate(df, \n",
    "                              strata=['Metadata_Plate', 'Metadata_Well'], \n",
    "                              operation='median')\n",
    "df.head()"
   ]
  },
  {
   "attachments": {},
   "cell_type": "markdown",
   "metadata": {},
   "source": [
    "### 2B) Annotate "
   ]
  },
  {
   "attachments": {},
   "cell_type": "markdown",
   "metadata": {},
   "source": [
    "- Run the following to generate a plate list based on Metadata_Plate column."
   ]
  },
  {
   "cell_type": "code",
   "execution_count": 34,
   "metadata": {},
   "outputs": [],
   "source": [
    "plate_list = df['Metadata_Plate'].unique().tolist()"
   ]
  },
  {
   "cell_type": "code",
   "execution_count": 7,
   "metadata": {},
   "outputs": [
    {
     "name": "stdout",
     "output_type": "stream",
     "text": [
      "['220324_134819_Plate_1', '220408_131035_Plate_1']\n"
     ]
    }
   ],
   "source": [
    "print(plate_list)"
   ]
  },
  {
   "attachments": {},
   "cell_type": "markdown",
   "metadata": {},
   "source": [
    "- All metadata must be organized such:\n",
    "    ```\n",
    "    |- metadata \n",
    "    |   |   |- <barcode_platemap.csv> \n",
    "    |   |- platemap\n",
    "    |   |   |- <platemap_1.csv>\n",
    "    |   |   |- <platemap_2.csv>\n",
    "    ```"
   ]
  },
  {
   "attachments": {},
   "cell_type": "markdown",
   "metadata": {},
   "source": [
    "- Run the next cell to annotate the profiles. "
   ]
  },
  {
   "cell_type": "code",
   "execution_count": 58,
   "metadata": {},
   "outputs": [
    {
     "name": "stdout",
     "output_type": "stream",
     "text": [
      "Shape of each plate  (12, 1378)\n",
      "Shape of each plate  (17, 1378)\n"
     ]
    }
   ],
   "source": [
    "df_temp_list = []\n",
    "for pl in plate_list:\n",
    "    df_plate = df.loc[df['Metadata_Plate'] == pl]\n",
    "    #deal with metadata information\n",
    "    barcode_map = barcode_df[barcode_df['Assay_Plate_Barcode'] == pl]\n",
    "    index_map = barcode_map.index[0]\n",
    "    metadata_filename = barcode_df['Plate_Map_Name'][index_map]\n",
    "    metadata = pd.read_csv(platemap_path + r'/platemap/' + metadata_filename + '.csv')\n",
    "    #annotate\n",
    "    df_temp = pycytominer.annotate(profiles = df_plate, platemap = metadata, join_on =  [\"Metadata_well_position\", \"Metadata_Well\"])\n",
    "    df_temp_list.append(df_temp)\n",
    "    print('Shape of each plate ', df_temp.shape)\n",
    "df = pd.concat(df_temp_list, axis=0)"
   ]
  },
  {
   "attachments": {},
   "cell_type": "markdown",
   "metadata": {},
   "source": [
    "### 2C) Normalize"
   ]
  },
  {
   "attachments": {},
   "cell_type": "markdown",
   "metadata": {},
   "source": [
    "- Normalize the dataset, per-plate basis, to **samples = all** or **samples = negcon**.\n",
    "- CHOOSE one or the other below."
   ]
  },
  {
   "attachments": {},
   "cell_type": "markdown",
   "metadata": {},
   "source": [
    "#### Normalize TO NEGCON => run next cell"
   ]
  },
  {
   "cell_type": "code",
   "execution_count": 59,
   "metadata": {},
   "outputs": [
    {
     "name": "stdout",
     "output_type": "stream",
     "text": [
      "(12, 1378)\n",
      "(17, 1378)\n"
     ]
    }
   ],
   "source": [
    "df_temp_list = []\n",
    "for pl in plate_list:\n",
    "    df_temp = df.loc[df['Metadata_Plate'] == pl]\n",
    "    print(df_temp.shape)\n",
    "    df_norm_temp = pycytominer.normalize(df_temp, method = 'mad_robustize', mad_robustize_epsilon = 0, samples = \"Metadata_control_type == 'negcon'\") \n",
    "    df_temp_list.append(df_norm_temp)\n",
    "df_norm2 = pd.concat(df_temp_list, axis=0)\n",
    "cells_that_run.append('normalized_negcon')"
   ]
  },
  {
   "attachments": {},
   "cell_type": "markdown",
   "metadata": {},
   "source": [
    "#### Normalize TO ALL => run next cell"
   ]
  },
  {
   "cell_type": "code",
   "execution_count": 47,
   "metadata": {},
   "outputs": [
    {
     "name": "stdout",
     "output_type": "stream",
     "text": [
      "(12, 1378)\n",
      "(17, 1378)\n"
     ]
    }
   ],
   "source": [
    "df_temp_list = []\n",
    "for pl in plate_list:\n",
    "    df_temp = df.loc[df['Metadata_Plate'] == pl]\n",
    "    print(df_temp.shape)\n",
    "    df_norm_temp = pycytominer.normalize(df_temp, method = 'mad_robustize', mad_robustize_epsilon = 0) \n",
    "    df_temp_list.append(df_norm_temp)\n",
    "df_norm2 = pd.concat(df_temp_list, axis=0)\n",
    "cells_that_run.append('normalized')"
   ]
  },
  {
   "attachments": {},
   "cell_type": "markdown",
   "metadata": {},
   "source": [
    "### 2D) Feature selection"
   ]
  },
  {
   "cell_type": "code",
   "execution_count": 37,
   "metadata": {},
   "outputs": [],
   "source": [
    "keep = ['Cells_Intensity_IntegratedIntensity_OrigLT', 'Cytoplasm_Intensity_IntegratedIntensity_OrigLT', \n",
    "        'Cytoplasm_Intensity_MeanIntensity_OrigLT', 'Cells_Intensity_MeanIntensity_OrigLT']"
   ]
  },
  {
   "cell_type": "code",
   "execution_count": 60,
   "metadata": {},
   "outputs": [],
   "source": [
    "df_keep = df_norm2[keep]"
   ]
  },
  {
   "cell_type": "code",
   "execution_count": 61,
   "metadata": {},
   "outputs": [
    {
     "name": "stdout",
     "output_type": "stream",
     "text": [
      "Number of columns removed: 1045\n",
      "Percentage of columns removed: 75.8345428156749\n"
     ]
    }
   ],
   "source": [
    "df_selected = pycytominer.feature_select(df_norm2, operation = ['correlation_threshold', 'variance_threshold', 'drop_na_columns','drop_outliers'], outlier_cutoff = 500) \n",
    "print('Number of columns removed:', df_norm2.shape[1] - df_selected.shape[1])\n",
    "print('Percentage of columns removed:',100 - ((df_selected.shape[1]*100)/df_norm2.shape[1]))\n",
    "cells_that_run.append('feature_select')"
   ]
  },
  {
   "cell_type": "code",
   "execution_count": 62,
   "metadata": {},
   "outputs": [],
   "source": [
    "df_selected = pd.concat([df_selected, df_keep], axis='columns')"
   ]
  },
  {
   "attachments": {},
   "cell_type": "markdown",
   "metadata": {},
   "source": [
    "### 2E) Merge object count"
   ]
  },
  {
   "cell_type": "code",
   "execution_count": 63,
   "metadata": {},
   "outputs": [],
   "source": [
    "df_selected = object_count.merge(df_selected, on=['Metadata_Plate','Metadata_Well'])"
   ]
  },
  {
   "attachments": {},
   "cell_type": "markdown",
   "metadata": {},
   "source": [
    "# Export"
   ]
  },
  {
   "cell_type": "code",
   "execution_count": 42,
   "metadata": {},
   "outputs": [
    {
     "name": "stdout",
     "output_type": "stream",
     "text": [
      "Path to save the profile D:\\2022_09_09_LiveCellPainting_fossa_Cimini\\workspace\\profiles\\2022_03_24_Acidification_LT\n"
     ]
    }
   ],
   "source": [
    "output_path = eg.diropenbox(msg=\"Choose an output folder\", default=r\"D:\")\n",
    "print('Path to save the profile', output_path)"
   ]
  },
  {
   "cell_type": "code",
   "execution_count": 64,
   "metadata": {},
   "outputs": [
    {
     "name": "stdout",
     "output_type": "stream",
     "text": [
      "Successfully exported to: D:\\2022_09_09_LiveCellPainting_fossa_Cimini\\workspace\\profiles\\2022_03_24_Acidification_LT/2022_03_24_Acidification_LT_normalized_negcon_feature_select_normalized_feature_select_feature_select_feature_select_normalized_negcon_feature_select.csv\n"
     ]
    }
   ],
   "source": [
    "output_name = '_'.join(cells_that_run)\n",
    "df_selected.to_csv(output_path + r'/' + output_name + '.csv')\n",
    "print('Successfully exported to:', output_path + r'/' + output_name + '.csv')"
   ]
  }
 ],
 "metadata": {
  "kernelspec": {
   "display_name": "pycytominer",
   "language": "python",
   "name": "python3"
  },
  "language_info": {
   "codemirror_mode": {
    "name": "ipython",
    "version": 3
   },
   "file_extension": ".py",
   "mimetype": "text/x-python",
   "name": "python",
   "nbconvert_exporter": "python",
   "pygments_lexer": "ipython3",
   "version": "3.9.12"
  },
  "orig_nbformat": 4
 },
 "nbformat": 4,
 "nbformat_minor": 2
}
