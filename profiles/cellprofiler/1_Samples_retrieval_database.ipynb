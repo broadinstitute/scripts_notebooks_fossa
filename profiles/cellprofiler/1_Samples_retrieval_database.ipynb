{
 "cells": [
  {
   "attachments": {},
   "cell_type": "markdown",
   "id": "261ae36a",
   "metadata": {},
   "source": [
    "# Select cells from database\n",
    "\n",
    "This notebook is intended to retrieve single-cells from a database file output from ExportToDatabase (CellProfiler).\n",
    "\n",
    "Requirements:\n",
    "- Nuclei, Cells and Cytoplasm objects named in that way;\n",
    "- Output database .db file from ExportToDatabase (CellProfiler);\n",
    "- Each database file is named after the Metadata_Plate name, e.g. 220607_092050_Plate_1;\n",
    "    - Provide a plate_list with all plate names: `plate_list = ['plate1', 'plate2', ...]`\n",
    "- All databased files must be organized such:\n",
    "    ```\n",
    "    |- backend \n",
    "    |   |- <project_name>\n",
    "    |   |   |- <plate_name>\n",
    "    |   |   |   |- <plate1.db>\n",
    "    |   |   |- <plate_name>\n",
    "    |   |   |   |- <plate2.db>\n",
    "    ...\n",
    "    ```\n"
   ]
  },
  {
   "cell_type": "code",
   "execution_count": 1,
   "id": "991b44e2",
   "metadata": {},
   "outputs": [],
   "source": [
    "import easygui as eg\n",
    "import sys\n",
    "\n",
    "path_scripts = r\"C:\\Users\\Fer\\Documents\\GitHub\"\n",
    "sys.path.append(path_scripts)\n",
    "\n",
    "from scripts_notebooks_fossa.profiles import generate_profiles\n",
    "\n",
    "%load_ext autoreload\n",
    "%autoreload 2"
   ]
  },
  {
   "attachments": {},
   "cell_type": "markdown",
   "id": "47f5aa73",
   "metadata": {},
   "source": [
    "# 0. Inputs\n",
    "\n",
    "- The function will look for your file using `\"{path}/{plate}/{plate}.db\"`, so make sure your plate is inside a folder with its name, and the file only contains the plate name."
   ]
  },
  {
   "cell_type": "code",
   "execution_count": 2,
   "id": "9f2a15e5",
   "metadata": {},
   "outputs": [],
   "source": [
    "plate_list = ['190905_182437_Plate_1']\n",
    "compartments = ['Nuclei', 'Cytoplasm', 'Cells']\n",
    "common_path = fr\"G:/My Drive/Fernanda Mestrado/Paper Mestrado/Redo_Analysis_Paper/analysis/Vimentin\""
   ]
  },
  {
   "cell_type": "code",
   "execution_count": 18,
   "id": "553b0533",
   "metadata": {},
   "outputs": [
    {
     "name": "stdout",
     "output_type": "stream",
     "text": [
      "Processing plate 190905_182437_Plate_1\n",
      "Metadata from image df: DONE\n"
     ]
    }
   ],
   "source": [
    "all_dfs = generate_profiles.merge_sqlite_dataframes(plate_list, common_path, compartments)"
   ]
  },
  {
   "cell_type": "markdown",
   "id": "da722996",
   "metadata": {},
   "source": [
    "# Export"
   ]
  },
  {
   "cell_type": "code",
   "execution_count": null,
   "id": "57707a7e",
   "metadata": {},
   "outputs": [],
   "source": [
    "output_name = 'EMT' + '_SingleCells'"
   ]
  },
  {
   "cell_type": "code",
   "execution_count": 12,
   "id": "041c908a",
   "metadata": {},
   "outputs": [
    {
     "name": "stdout",
     "output_type": "stream",
     "text": [
      "Successfully exported to: G:\\My Drive\\Fernanda Mestrado\\Paper Mestrado\\Redo_Analysis_Paper\\profiles\\Vimentin/Vimentinsingle_cells.csv\n"
     ]
    }
   ],
   "source": [
    "output_path = eg.diropenbox(msg=\"Choose an output folder\", default=r\"G:\")\n",
    "df.to_csv(fr\"{output_path}/{output_name}.csv\", index=False)\n",
    "print('Successfully exported to:', fr\"{output_path}/{output_name}.csv\")"
   ]
  }
 ],
 "metadata": {
  "kernelspec": {
   "display_name": "Python 3.9.12 ('pycytominer')",
   "language": "python",
   "name": "python3"
  },
  "language_info": {
   "codemirror_mode": {
    "name": "ipython",
    "version": 3
   },
   "file_extension": ".py",
   "mimetype": "text/x-python",
   "name": "python",
   "nbconvert_exporter": "python",
   "pygments_lexer": "ipython3",
   "version": "3.9.12"
  },
  "vscode": {
   "interpreter": {
    "hash": "0b0f1b97e275287bf162473fb7f5bf4d61e0faf8b1131d1dd0e85647099dcf42"
   }
  }
 },
 "nbformat": 4,
 "nbformat_minor": 5
}
