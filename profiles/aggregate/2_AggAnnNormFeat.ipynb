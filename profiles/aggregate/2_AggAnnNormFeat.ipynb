{
 "cells": [
  {
   "attachments": {},
   "cell_type": "markdown",
   "metadata": {},
   "source": [
    "# Aggregate, Annotate, Normalize, and Feature Select\n",
    "\n",
    "This notebook will run all these above operations on a single-cell file or well-aggregated file.\n",
    "\n",
    "We will have the option to run or not "
   ]
  },
  {
   "cell_type": "code",
   "execution_count": 1,
   "metadata": {},
   "outputs": [],
   "source": [
    "import pandas as pd\n",
    "import numpy as np\n",
    "import pycytominer\n",
    "import easygui as eg\n",
    "import utilitary as util\n",
    "import os\n",
    "from generate_profiles import *\n",
    "%load_ext autoreload\n",
    "%autoreload 2"
   ]
  },
  {
   "attachments": {},
   "cell_type": "markdown",
   "metadata": {},
   "source": [
    "# 0) Inputs"
   ]
  },
  {
   "cell_type": "code",
   "execution_count": 2,
   "metadata": {},
   "outputs": [
    {
     "name": "stdout",
     "output_type": "stream",
     "text": [
      "Filename G:\\My Drive\\2022_09_09_LiveCellPainting_fossa_Cimini\\analysis\\2022_06_07_DILI\\agg_normalization_featselect\\notebooks\\DILI_singlecell.csv\n",
      "Project name: 2022_06_07_DILI\n",
      "Platemap file selected G:\\My Drive\\2022_09_09_LiveCellPainting_fossa_Cimini\\metadata\\platemaps\\2022_06_07_DILI\\barcode_platemap.csv\n"
     ]
    }
   ],
   "source": [
    "profile = eg.fileopenbox(msg=\"Choose a file with samples and their features\", default=r\"D:\")\n",
    "print('Filename', profile)\n",
    "\n",
    "project_name = input('Provide the name of this project:')\n",
    "print('Project name:', project_name)\n",
    "\n",
    "metadata_question = input(r\"If you need to annotate your dataset with an external file, write yes and press enter. If already annotated, answer no and press enter.\")\n",
    "metadata_answer = stringToBool(metadata_question)\n",
    "\n",
    "if metadata_answer:\n",
    "  platemap = eg.fileopenbox(msg=\"Choose a map (csv file) with plates names and metadata filenames\", default=r\"G:\")\n",
    "  platemap_path = os.path.split(platemap)[0]\n",
    "  print('Platemap file selected', platemap)\n",
    "  barcode_df = pd.read_csv(platemap)\n",
    "\n",
    "cells_that_run = []\n",
    "cells_that_run.append(project_name)"
   ]
  },
  {
   "attachments": {},
   "cell_type": "markdown",
   "metadata": {},
   "source": [
    "## 1) Import extracted features file (single cell or well-aggregated)"
   ]
  },
  {
   "cell_type": "code",
   "execution_count": 3,
   "metadata": {},
   "outputs": [
    {
     "data": {
      "text/html": [
       "<div>\n",
       "<style scoped>\n",
       "    .dataframe tbody tr th:only-of-type {\n",
       "        vertical-align: middle;\n",
       "    }\n",
       "\n",
       "    .dataframe tbody tr th {\n",
       "        vertical-align: top;\n",
       "    }\n",
       "\n",
       "    .dataframe thead th {\n",
       "        text-align: right;\n",
       "    }\n",
       "</style>\n",
       "<table border=\"1\" class=\"dataframe\">\n",
       "  <thead>\n",
       "    <tr style=\"text-align: right;\">\n",
       "      <th></th>\n",
       "      <th>Unnamed: 0</th>\n",
       "      <th>Metadata_ImageNumber</th>\n",
       "      <th>Metadata_Plate</th>\n",
       "      <th>Metadata_Site</th>\n",
       "      <th>Metadata_Well</th>\n",
       "      <th>Metadata_TableNumber</th>\n",
       "      <th>Metadata_ObjectNumber_cytoplasm</th>\n",
       "      <th>Cytoplasm_AreaShape_Area</th>\n",
       "      <th>Cytoplasm_AreaShape_BoundingBoxArea</th>\n",
       "      <th>Cytoplasm_AreaShape_BoundingBoxMaximum_X</th>\n",
       "      <th>...</th>\n",
       "      <th>Nuclei_Texture_Variance_CorrPI_10_02_256</th>\n",
       "      <th>Nuclei_Texture_Variance_CorrPI_10_03_256</th>\n",
       "      <th>Nuclei_Texture_Variance_CorrPI_20_00_256</th>\n",
       "      <th>Nuclei_Texture_Variance_CorrPI_20_01_256</th>\n",
       "      <th>Nuclei_Texture_Variance_CorrPI_20_02_256</th>\n",
       "      <th>Nuclei_Texture_Variance_CorrPI_20_03_256</th>\n",
       "      <th>Nuclei_Texture_Variance_CorrPI_5_00_256</th>\n",
       "      <th>Nuclei_Texture_Variance_CorrPI_5_01_256</th>\n",
       "      <th>Nuclei_Texture_Variance_CorrPI_5_02_256</th>\n",
       "      <th>Nuclei_Texture_Variance_CorrPI_5_03_256</th>\n",
       "    </tr>\n",
       "  </thead>\n",
       "  <tbody>\n",
       "    <tr>\n",
       "      <th>0</th>\n",
       "      <td>0</td>\n",
       "      <td>1</td>\n",
       "      <td>220607_092050_Plate_1</td>\n",
       "      <td>1</td>\n",
       "      <td>B10</td>\n",
       "      <td>1571898871</td>\n",
       "      <td>1</td>\n",
       "      <td>17563</td>\n",
       "      <td>28700</td>\n",
       "      <td>1057</td>\n",
       "      <td>...</td>\n",
       "      <td>23.387480</td>\n",
       "      <td>23.456552</td>\n",
       "      <td>24.893570</td>\n",
       "      <td>21.909327</td>\n",
       "      <td>25.605559</td>\n",
       "      <td>26.443746</td>\n",
       "      <td>23.180844</td>\n",
       "      <td>23.307391</td>\n",
       "      <td>22.693203</td>\n",
       "      <td>22.563807</td>\n",
       "    </tr>\n",
       "    <tr>\n",
       "      <th>1</th>\n",
       "      <td>1</td>\n",
       "      <td>1</td>\n",
       "      <td>220607_092050_Plate_1</td>\n",
       "      <td>1</td>\n",
       "      <td>B10</td>\n",
       "      <td>1571898871</td>\n",
       "      <td>2</td>\n",
       "      <td>26625</td>\n",
       "      <td>47064</td>\n",
       "      <td>544</td>\n",
       "      <td>...</td>\n",
       "      <td>27.535579</td>\n",
       "      <td>28.164301</td>\n",
       "      <td>29.948233</td>\n",
       "      <td>32.728835</td>\n",
       "      <td>29.760620</td>\n",
       "      <td>28.631319</td>\n",
       "      <td>26.867608</td>\n",
       "      <td>27.496918</td>\n",
       "      <td>26.937428</td>\n",
       "      <td>27.227470</td>\n",
       "    </tr>\n",
       "    <tr>\n",
       "      <th>2</th>\n",
       "      <td>2</td>\n",
       "      <td>1</td>\n",
       "      <td>220607_092050_Plate_1</td>\n",
       "      <td>1</td>\n",
       "      <td>B10</td>\n",
       "      <td>1571898871</td>\n",
       "      <td>3</td>\n",
       "      <td>10090</td>\n",
       "      <td>20703</td>\n",
       "      <td>722</td>\n",
       "      <td>...</td>\n",
       "      <td>190.739156</td>\n",
       "      <td>184.776425</td>\n",
       "      <td>193.994949</td>\n",
       "      <td>288.495965</td>\n",
       "      <td>229.479026</td>\n",
       "      <td>227.778470</td>\n",
       "      <td>226.038468</td>\n",
       "      <td>191.521848</td>\n",
       "      <td>187.765931</td>\n",
       "      <td>190.227640</td>\n",
       "    </tr>\n",
       "    <tr>\n",
       "      <th>3</th>\n",
       "      <td>3</td>\n",
       "      <td>1</td>\n",
       "      <td>220607_092050_Plate_1</td>\n",
       "      <td>1</td>\n",
       "      <td>B10</td>\n",
       "      <td>1571898871</td>\n",
       "      <td>4</td>\n",
       "      <td>20770</td>\n",
       "      <td>39366</td>\n",
       "      <td>1068</td>\n",
       "      <td>...</td>\n",
       "      <td>30.832619</td>\n",
       "      <td>32.460216</td>\n",
       "      <td>30.510909</td>\n",
       "      <td>30.444835</td>\n",
       "      <td>31.034468</td>\n",
       "      <td>29.681880</td>\n",
       "      <td>31.185042</td>\n",
       "      <td>31.649853</td>\n",
       "      <td>30.655306</td>\n",
       "      <td>30.647967</td>\n",
       "    </tr>\n",
       "    <tr>\n",
       "      <th>4</th>\n",
       "      <td>4</td>\n",
       "      <td>1</td>\n",
       "      <td>220607_092050_Plate_1</td>\n",
       "      <td>1</td>\n",
       "      <td>B10</td>\n",
       "      <td>1571898871</td>\n",
       "      <td>5</td>\n",
       "      <td>27108</td>\n",
       "      <td>59052</td>\n",
       "      <td>409</td>\n",
       "      <td>...</td>\n",
       "      <td>111.594226</td>\n",
       "      <td>111.980760</td>\n",
       "      <td>116.428891</td>\n",
       "      <td>115.604023</td>\n",
       "      <td>116.062754</td>\n",
       "      <td>119.931474</td>\n",
       "      <td>115.106248</td>\n",
       "      <td>109.352773</td>\n",
       "      <td>108.304546</td>\n",
       "      <td>108.767129</td>\n",
       "    </tr>\n",
       "  </tbody>\n",
       "</table>\n",
       "<p>5 rows × 1818 columns</p>\n",
       "</div>"
      ],
      "text/plain": [
       "   Unnamed: 0  Metadata_ImageNumber         Metadata_Plate  Metadata_Site  \\\n",
       "0           0                     1  220607_092050_Plate_1              1   \n",
       "1           1                     1  220607_092050_Plate_1              1   \n",
       "2           2                     1  220607_092050_Plate_1              1   \n",
       "3           3                     1  220607_092050_Plate_1              1   \n",
       "4           4                     1  220607_092050_Plate_1              1   \n",
       "\n",
       "  Metadata_Well  Metadata_TableNumber  Metadata_ObjectNumber_cytoplasm  \\\n",
       "0           B10            1571898871                                1   \n",
       "1           B10            1571898871                                2   \n",
       "2           B10            1571898871                                3   \n",
       "3           B10            1571898871                                4   \n",
       "4           B10            1571898871                                5   \n",
       "\n",
       "   Cytoplasm_AreaShape_Area  Cytoplasm_AreaShape_BoundingBoxArea  \\\n",
       "0                     17563                                28700   \n",
       "1                     26625                                47064   \n",
       "2                     10090                                20703   \n",
       "3                     20770                                39366   \n",
       "4                     27108                                59052   \n",
       "\n",
       "   Cytoplasm_AreaShape_BoundingBoxMaximum_X  ...  \\\n",
       "0                                      1057  ...   \n",
       "1                                       544  ...   \n",
       "2                                       722  ...   \n",
       "3                                      1068  ...   \n",
       "4                                       409  ...   \n",
       "\n",
       "   Nuclei_Texture_Variance_CorrPI_10_02_256  \\\n",
       "0                                 23.387480   \n",
       "1                                 27.535579   \n",
       "2                                190.739156   \n",
       "3                                 30.832619   \n",
       "4                                111.594226   \n",
       "\n",
       "   Nuclei_Texture_Variance_CorrPI_10_03_256  \\\n",
       "0                                 23.456552   \n",
       "1                                 28.164301   \n",
       "2                                184.776425   \n",
       "3                                 32.460216   \n",
       "4                                111.980760   \n",
       "\n",
       "   Nuclei_Texture_Variance_CorrPI_20_00_256  \\\n",
       "0                                 24.893570   \n",
       "1                                 29.948233   \n",
       "2                                193.994949   \n",
       "3                                 30.510909   \n",
       "4                                116.428891   \n",
       "\n",
       "   Nuclei_Texture_Variance_CorrPI_20_01_256  \\\n",
       "0                                 21.909327   \n",
       "1                                 32.728835   \n",
       "2                                288.495965   \n",
       "3                                 30.444835   \n",
       "4                                115.604023   \n",
       "\n",
       "   Nuclei_Texture_Variance_CorrPI_20_02_256  \\\n",
       "0                                 25.605559   \n",
       "1                                 29.760620   \n",
       "2                                229.479026   \n",
       "3                                 31.034468   \n",
       "4                                116.062754   \n",
       "\n",
       "   Nuclei_Texture_Variance_CorrPI_20_03_256  \\\n",
       "0                                 26.443746   \n",
       "1                                 28.631319   \n",
       "2                                227.778470   \n",
       "3                                 29.681880   \n",
       "4                                119.931474   \n",
       "\n",
       "   Nuclei_Texture_Variance_CorrPI_5_00_256  \\\n",
       "0                                23.180844   \n",
       "1                                26.867608   \n",
       "2                               226.038468   \n",
       "3                                31.185042   \n",
       "4                               115.106248   \n",
       "\n",
       "   Nuclei_Texture_Variance_CorrPI_5_01_256  \\\n",
       "0                                23.307391   \n",
       "1                                27.496918   \n",
       "2                               191.521848   \n",
       "3                                31.649853   \n",
       "4                               109.352773   \n",
       "\n",
       "   Nuclei_Texture_Variance_CorrPI_5_02_256  \\\n",
       "0                                22.693203   \n",
       "1                                26.937428   \n",
       "2                               187.765931   \n",
       "3                                30.655306   \n",
       "4                               108.304546   \n",
       "\n",
       "   Nuclei_Texture_Variance_CorrPI_5_03_256  \n",
       "0                                22.563807  \n",
       "1                                27.227470  \n",
       "2                               190.227640  \n",
       "3                                30.647967  \n",
       "4                               108.767129  \n",
       "\n",
       "[5 rows x 1818 columns]"
      ]
     },
     "execution_count": 3,
     "metadata": {},
     "output_type": "execute_result"
    }
   ],
   "source": [
    "df = pd.read_csv(profile)\n",
    "df.head()"
   ]
  },
  {
   "attachments": {},
   "cell_type": "markdown",
   "metadata": {},
   "source": [
    "## 2) Generate profile"
   ]
  },
  {
   "attachments": {},
   "cell_type": "markdown",
   "metadata": {},
   "source": [
    "### 2A) Aggregate"
   ]
  },
  {
   "attachments": {},
   "cell_type": "markdown",
   "metadata": {},
   "source": [
    "- Run the next cell to list the metadata columns, and copy them to choose from which metadata information you'd like to join the rows on (strata)"
   ]
  },
  {
   "attachments": {},
   "cell_type": "markdown",
   "metadata": {},
   "source": [
    "- If using **already aggregated data by plates and wells**, skip to 2B."
   ]
  },
  {
   "cell_type": "code",
   "execution_count": 4,
   "metadata": {},
   "outputs": [
    {
     "data": {
      "text/plain": [
       "['Metadata_ImageNumber',\n",
       " 'Metadata_Plate',\n",
       " 'Metadata_Site',\n",
       " 'Metadata_Well',\n",
       " 'Metadata_TableNumber',\n",
       " 'Metadata_ObjectNumber_cytoplasm',\n",
       " 'Metadata_Cytoplasm_Parent_Cells',\n",
       " 'Metadata_Cytoplasm_Parent_Nuclei',\n",
       " 'Metadata_ObjectNumber_cells',\n",
       " 'Metadata_ObjectNumber']"
      ]
     },
     "execution_count": 4,
     "metadata": {},
     "output_type": "execute_result"
    }
   ],
   "source": [
    "pycytominer.cyto_utils.infer_cp_features(df, metadata=True)"
   ]
  },
  {
   "attachments": {},
   "cell_type": "markdown",
   "metadata": {},
   "source": [
    "- As a default we are using **Metadata_Plate and Metadata_Well** to join the rows, using the **'median'** operation. "
   ]
  },
  {
   "cell_type": "code",
   "execution_count": 5,
   "metadata": {},
   "outputs": [
    {
     "data": {
      "text/html": [
       "<div>\n",
       "<style scoped>\n",
       "    .dataframe tbody tr th:only-of-type {\n",
       "        vertical-align: middle;\n",
       "    }\n",
       "\n",
       "    .dataframe tbody tr th {\n",
       "        vertical-align: top;\n",
       "    }\n",
       "\n",
       "    .dataframe thead th {\n",
       "        text-align: right;\n",
       "    }\n",
       "</style>\n",
       "<table border=\"1\" class=\"dataframe\">\n",
       "  <thead>\n",
       "    <tr style=\"text-align: right;\">\n",
       "      <th></th>\n",
       "      <th>Metadata_Plate</th>\n",
       "      <th>Metadata_Well</th>\n",
       "      <th>Cytoplasm_AreaShape_Area</th>\n",
       "      <th>Cytoplasm_AreaShape_BoundingBoxArea</th>\n",
       "      <th>Cytoplasm_AreaShape_BoundingBoxMaximum_X</th>\n",
       "      <th>Cytoplasm_AreaShape_BoundingBoxMaximum_Y</th>\n",
       "      <th>Cytoplasm_AreaShape_BoundingBoxMinimum_X</th>\n",
       "      <th>Cytoplasm_AreaShape_BoundingBoxMinimum_Y</th>\n",
       "      <th>Cytoplasm_AreaShape_Center_X</th>\n",
       "      <th>Cytoplasm_AreaShape_Center_Y</th>\n",
       "      <th>...</th>\n",
       "      <th>Nuclei_Texture_Variance_CorrPI_10_02_256</th>\n",
       "      <th>Nuclei_Texture_Variance_CorrPI_10_03_256</th>\n",
       "      <th>Nuclei_Texture_Variance_CorrPI_20_00_256</th>\n",
       "      <th>Nuclei_Texture_Variance_CorrPI_20_01_256</th>\n",
       "      <th>Nuclei_Texture_Variance_CorrPI_20_02_256</th>\n",
       "      <th>Nuclei_Texture_Variance_CorrPI_20_03_256</th>\n",
       "      <th>Nuclei_Texture_Variance_CorrPI_5_00_256</th>\n",
       "      <th>Nuclei_Texture_Variance_CorrPI_5_01_256</th>\n",
       "      <th>Nuclei_Texture_Variance_CorrPI_5_02_256</th>\n",
       "      <th>Nuclei_Texture_Variance_CorrPI_5_03_256</th>\n",
       "    </tr>\n",
       "  </thead>\n",
       "  <tbody>\n",
       "    <tr>\n",
       "      <th>0</th>\n",
       "      <td>220607_092050_Plate_1</td>\n",
       "      <td>B10</td>\n",
       "      <td>18752.0</td>\n",
       "      <td>37376.0</td>\n",
       "      <td>693.0</td>\n",
       "      <td>555.0</td>\n",
       "      <td>498.0</td>\n",
       "      <td>360.0</td>\n",
       "      <td>599.561854</td>\n",
       "      <td>462.747582</td>\n",
       "      <td>...</td>\n",
       "      <td>58.348243</td>\n",
       "      <td>58.993129</td>\n",
       "      <td>60.285890</td>\n",
       "      <td>59.150598</td>\n",
       "      <td>60.150878</td>\n",
       "      <td>61.308779</td>\n",
       "      <td>57.335272</td>\n",
       "      <td>57.522162</td>\n",
       "      <td>58.258208</td>\n",
       "      <td>57.183770</td>\n",
       "    </tr>\n",
       "    <tr>\n",
       "      <th>1</th>\n",
       "      <td>220607_092050_Plate_1</td>\n",
       "      <td>B11</td>\n",
       "      <td>11882.0</td>\n",
       "      <td>24180.0</td>\n",
       "      <td>693.0</td>\n",
       "      <td>529.0</td>\n",
       "      <td>537.0</td>\n",
       "      <td>384.0</td>\n",
       "      <td>611.652130</td>\n",
       "      <td>457.321057</td>\n",
       "      <td>...</td>\n",
       "      <td>54.123691</td>\n",
       "      <td>55.449175</td>\n",
       "      <td>56.883491</td>\n",
       "      <td>57.822113</td>\n",
       "      <td>55.794023</td>\n",
       "      <td>54.900001</td>\n",
       "      <td>52.717471</td>\n",
       "      <td>53.066292</td>\n",
       "      <td>52.151373</td>\n",
       "      <td>52.641898</td>\n",
       "    </tr>\n",
       "    <tr>\n",
       "      <th>2</th>\n",
       "      <td>220607_092050_Plate_1</td>\n",
       "      <td>B3</td>\n",
       "      <td>12076.5</td>\n",
       "      <td>23814.0</td>\n",
       "      <td>679.5</td>\n",
       "      <td>544.5</td>\n",
       "      <td>523.5</td>\n",
       "      <td>393.0</td>\n",
       "      <td>602.766028</td>\n",
       "      <td>470.136183</td>\n",
       "      <td>...</td>\n",
       "      <td>65.144702</td>\n",
       "      <td>67.160620</td>\n",
       "      <td>66.890970</td>\n",
       "      <td>65.617630</td>\n",
       "      <td>67.153566</td>\n",
       "      <td>66.880734</td>\n",
       "      <td>64.223359</td>\n",
       "      <td>64.614367</td>\n",
       "      <td>64.830408</td>\n",
       "      <td>64.647169</td>\n",
       "    </tr>\n",
       "    <tr>\n",
       "      <th>3</th>\n",
       "      <td>220607_092050_Plate_1</td>\n",
       "      <td>B4</td>\n",
       "      <td>11418.5</td>\n",
       "      <td>22496.5</td>\n",
       "      <td>720.0</td>\n",
       "      <td>522.0</td>\n",
       "      <td>560.0</td>\n",
       "      <td>358.5</td>\n",
       "      <td>635.978163</td>\n",
       "      <td>439.942632</td>\n",
       "      <td>...</td>\n",
       "      <td>77.924752</td>\n",
       "      <td>79.349215</td>\n",
       "      <td>80.568016</td>\n",
       "      <td>81.234404</td>\n",
       "      <td>81.987271</td>\n",
       "      <td>81.433080</td>\n",
       "      <td>75.882404</td>\n",
       "      <td>76.401983</td>\n",
       "      <td>76.015379</td>\n",
       "      <td>75.955258</td>\n",
       "    </tr>\n",
       "    <tr>\n",
       "      <th>4</th>\n",
       "      <td>220607_092050_Plate_1</td>\n",
       "      <td>B5</td>\n",
       "      <td>13157.0</td>\n",
       "      <td>26010.0</td>\n",
       "      <td>651.0</td>\n",
       "      <td>515.0</td>\n",
       "      <td>491.0</td>\n",
       "      <td>351.0</td>\n",
       "      <td>568.869559</td>\n",
       "      <td>431.739302</td>\n",
       "      <td>...</td>\n",
       "      <td>71.288318</td>\n",
       "      <td>72.710651</td>\n",
       "      <td>74.004674</td>\n",
       "      <td>72.930256</td>\n",
       "      <td>74.864250</td>\n",
       "      <td>72.184426</td>\n",
       "      <td>69.797468</td>\n",
       "      <td>70.182677</td>\n",
       "      <td>69.166294</td>\n",
       "      <td>69.960563</td>\n",
       "    </tr>\n",
       "  </tbody>\n",
       "</table>\n",
       "<p>5 rows × 1809 columns</p>\n",
       "</div>"
      ],
      "text/plain": [
       "          Metadata_Plate Metadata_Well  Cytoplasm_AreaShape_Area  \\\n",
       "0  220607_092050_Plate_1           B10                   18752.0   \n",
       "1  220607_092050_Plate_1           B11                   11882.0   \n",
       "2  220607_092050_Plate_1            B3                   12076.5   \n",
       "3  220607_092050_Plate_1            B4                   11418.5   \n",
       "4  220607_092050_Plate_1            B5                   13157.0   \n",
       "\n",
       "   Cytoplasm_AreaShape_BoundingBoxArea  \\\n",
       "0                              37376.0   \n",
       "1                              24180.0   \n",
       "2                              23814.0   \n",
       "3                              22496.5   \n",
       "4                              26010.0   \n",
       "\n",
       "   Cytoplasm_AreaShape_BoundingBoxMaximum_X  \\\n",
       "0                                     693.0   \n",
       "1                                     693.0   \n",
       "2                                     679.5   \n",
       "3                                     720.0   \n",
       "4                                     651.0   \n",
       "\n",
       "   Cytoplasm_AreaShape_BoundingBoxMaximum_Y  \\\n",
       "0                                     555.0   \n",
       "1                                     529.0   \n",
       "2                                     544.5   \n",
       "3                                     522.0   \n",
       "4                                     515.0   \n",
       "\n",
       "   Cytoplasm_AreaShape_BoundingBoxMinimum_X  \\\n",
       "0                                     498.0   \n",
       "1                                     537.0   \n",
       "2                                     523.5   \n",
       "3                                     560.0   \n",
       "4                                     491.0   \n",
       "\n",
       "   Cytoplasm_AreaShape_BoundingBoxMinimum_Y  Cytoplasm_AreaShape_Center_X  \\\n",
       "0                                     360.0                    599.561854   \n",
       "1                                     384.0                    611.652130   \n",
       "2                                     393.0                    602.766028   \n",
       "3                                     358.5                    635.978163   \n",
       "4                                     351.0                    568.869559   \n",
       "\n",
       "   Cytoplasm_AreaShape_Center_Y  ...  \\\n",
       "0                    462.747582  ...   \n",
       "1                    457.321057  ...   \n",
       "2                    470.136183  ...   \n",
       "3                    439.942632  ...   \n",
       "4                    431.739302  ...   \n",
       "\n",
       "   Nuclei_Texture_Variance_CorrPI_10_02_256  \\\n",
       "0                                 58.348243   \n",
       "1                                 54.123691   \n",
       "2                                 65.144702   \n",
       "3                                 77.924752   \n",
       "4                                 71.288318   \n",
       "\n",
       "   Nuclei_Texture_Variance_CorrPI_10_03_256  \\\n",
       "0                                 58.993129   \n",
       "1                                 55.449175   \n",
       "2                                 67.160620   \n",
       "3                                 79.349215   \n",
       "4                                 72.710651   \n",
       "\n",
       "   Nuclei_Texture_Variance_CorrPI_20_00_256  \\\n",
       "0                                 60.285890   \n",
       "1                                 56.883491   \n",
       "2                                 66.890970   \n",
       "3                                 80.568016   \n",
       "4                                 74.004674   \n",
       "\n",
       "   Nuclei_Texture_Variance_CorrPI_20_01_256  \\\n",
       "0                                 59.150598   \n",
       "1                                 57.822113   \n",
       "2                                 65.617630   \n",
       "3                                 81.234404   \n",
       "4                                 72.930256   \n",
       "\n",
       "   Nuclei_Texture_Variance_CorrPI_20_02_256  \\\n",
       "0                                 60.150878   \n",
       "1                                 55.794023   \n",
       "2                                 67.153566   \n",
       "3                                 81.987271   \n",
       "4                                 74.864250   \n",
       "\n",
       "   Nuclei_Texture_Variance_CorrPI_20_03_256  \\\n",
       "0                                 61.308779   \n",
       "1                                 54.900001   \n",
       "2                                 66.880734   \n",
       "3                                 81.433080   \n",
       "4                                 72.184426   \n",
       "\n",
       "   Nuclei_Texture_Variance_CorrPI_5_00_256  \\\n",
       "0                                57.335272   \n",
       "1                                52.717471   \n",
       "2                                64.223359   \n",
       "3                                75.882404   \n",
       "4                                69.797468   \n",
       "\n",
       "   Nuclei_Texture_Variance_CorrPI_5_01_256  \\\n",
       "0                                57.522162   \n",
       "1                                53.066292   \n",
       "2                                64.614367   \n",
       "3                                76.401983   \n",
       "4                                70.182677   \n",
       "\n",
       "   Nuclei_Texture_Variance_CorrPI_5_02_256  \\\n",
       "0                                58.258208   \n",
       "1                                52.151373   \n",
       "2                                64.830408   \n",
       "3                                76.015379   \n",
       "4                                69.166294   \n",
       "\n",
       "   Nuclei_Texture_Variance_CorrPI_5_03_256  \n",
       "0                                57.183770  \n",
       "1                                52.641898  \n",
       "2                                64.647169  \n",
       "3                                75.955258  \n",
       "4                                69.960563  \n",
       "\n",
       "[5 rows x 1809 columns]"
      ]
     },
     "execution_count": 5,
     "metadata": {},
     "output_type": "execute_result"
    }
   ],
   "source": [
    "df = pycytominer.aggregate(df, \n",
    "                              strata=['Metadata_Plate', 'Metadata_Well'], \n",
    "                              operation='median')\n",
    "df.head()"
   ]
  },
  {
   "attachments": {},
   "cell_type": "markdown",
   "metadata": {},
   "source": [
    "### 2B) Annotate "
   ]
  },
  {
   "attachments": {},
   "cell_type": "markdown",
   "metadata": {},
   "source": [
    "- Run the following to generate a plate list based on Metadata_Plate column."
   ]
  },
  {
   "cell_type": "code",
   "execution_count": 6,
   "metadata": {},
   "outputs": [],
   "source": [
    "plate_list = df['Metadata_Plate'].unique().tolist()"
   ]
  },
  {
   "attachments": {},
   "cell_type": "markdown",
   "metadata": {},
   "source": [
    "- All metadata must be organized such:\n",
    "    ```\n",
    "    |- metadata \n",
    "    |   |   |- <barcode_platemap.csv> \n",
    "    |   |- platemap\n",
    "    |   |   |- <platemap_1.csv>\n",
    "    |   |   |- <platemap_2.csv>\n",
    "    ```"
   ]
  },
  {
   "attachments": {},
   "cell_type": "markdown",
   "metadata": {},
   "source": [
    "- Run the next cell to annotate the profiles. "
   ]
  },
  {
   "cell_type": "code",
   "execution_count": 7,
   "metadata": {},
   "outputs": [
    {
     "name": "stdout",
     "output_type": "stream",
     "text": [
      "Shape of each plate  (59, 1817)\n",
      "Shape of each plate  (58, 1817)\n",
      "Shape of each plate  (60, 1817)\n"
     ]
    }
   ],
   "source": [
    "df_temp_list = []\n",
    "for pl in plate_list:\n",
    "    df_plate = df.loc[df['Metadata_Plate'] == pl]\n",
    "    #deal with metadata information\n",
    "    barcode_map = barcode_df[barcode_df['Assay_Plate_Barcode'] == pl]\n",
    "    index_map = barcode_map.index[0]\n",
    "    metadata_filename = barcode_df['Plate_Map_Name'][index_map]\n",
    "    metadata = pd.read_csv(platemap_path + r'/platemap/' + metadata_filename + '.csv')\n",
    "    #annotate\n",
    "    df_temp = pycytominer.annotate(profiles = df_plate, platemap = metadata, join_on =  [\"Metadata_well_position\", \"Metadata_Well\"])\n",
    "    df_temp_list.append(df_temp)\n",
    "    print('Shape of each plate ', df_temp.shape)\n",
    "df = pd.concat(df_temp_list, axis=0)"
   ]
  },
  {
   "attachments": {},
   "cell_type": "markdown",
   "metadata": {},
   "source": [
    "### 2C) Normalize"
   ]
  },
  {
   "attachments": {},
   "cell_type": "markdown",
   "metadata": {},
   "source": [
    "- Normalize the dataset, per-plate basis, to **samples = all** or **samples = negcon**.\n",
    "- CHOOSE one or the other below."
   ]
  },
  {
   "attachments": {},
   "cell_type": "markdown",
   "metadata": {},
   "source": [
    "#### Normalize TO NEGCON => run next cell"
   ]
  },
  {
   "cell_type": "code",
   "execution_count": 8,
   "metadata": {},
   "outputs": [
    {
     "name": "stdout",
     "output_type": "stream",
     "text": [
      "(59, 1817)\n",
      "(58, 1817)\n"
     ]
    },
    {
     "name": "stderr",
     "output_type": "stream",
     "text": [
      "c:\\Users\\fossa\\Anaconda3\\envs\\pycytominer\\lib\\site-packages\\scipy\\stats\\_stats_py.py:2894: RuntimeWarning: invalid value encountered in subtract\n",
      "  mad = np.median(np.abs(x - med))\n",
      "c:\\Users\\fossa\\Anaconda3\\envs\\pycytominer\\lib\\site-packages\\scipy\\stats\\_stats_py.py:2894: RuntimeWarning: invalid value encountered in subtract\n",
      "  mad = np.median(np.abs(x - med))\n"
     ]
    },
    {
     "name": "stdout",
     "output_type": "stream",
     "text": [
      "(60, 1817)\n"
     ]
    },
    {
     "name": "stderr",
     "output_type": "stream",
     "text": [
      "c:\\Users\\fossa\\Anaconda3\\envs\\pycytominer\\lib\\site-packages\\scipy\\stats\\_stats_py.py:2894: RuntimeWarning: invalid value encountered in subtract\n",
      "  mad = np.median(np.abs(x - med))\n"
     ]
    }
   ],
   "source": [
    "df_temp_list = []\n",
    "for pl in plate_list:\n",
    "    df_temp = df.loc[df['Metadata_Plate'] == pl]\n",
    "    print(df_temp.shape)\n",
    "    df_norm_temp = pycytominer.normalize(df_temp, method = 'mad_robustize', mad_robustize_epsilon = 0, samples = \"Metadata_control_type == 'negcon'\") \n",
    "    df_temp_list.append(df_norm_temp)\n",
    "df_norm2 = pd.concat(df_temp_list, axis=0)\n",
    "cells_that_run.append('normalized_negcon')"
   ]
  },
  {
   "attachments": {},
   "cell_type": "markdown",
   "metadata": {},
   "source": [
    "#### Normalize TO ALL => run next cell"
   ]
  },
  {
   "cell_type": "code",
   "execution_count": null,
   "metadata": {},
   "outputs": [],
   "source": [
    "df_temp_list = []\n",
    "for pl in plate_list:\n",
    "    df_temp = df.loc[df['Metadata_Plate'] == pl]\n",
    "    print(df_temp.shape)\n",
    "    df_norm_temp = pycytominer.normalize(df_temp, method = 'mad_robustize', mad_robustize_epsilon = 0) \n",
    "    df_temp_list.append(df_norm_temp)\n",
    "df_norm2 = pd.concat(df_temp_list, axis=0)\n",
    "cells_that_run.append('normalized')"
   ]
  },
  {
   "attachments": {},
   "cell_type": "markdown",
   "metadata": {},
   "source": [
    "### 2D) Feature selection"
   ]
  },
  {
   "cell_type": "code",
   "execution_count": 9,
   "metadata": {},
   "outputs": [
    {
     "name": "stdout",
     "output_type": "stream",
     "text": [
      "Number of columns removed: 1417\n",
      "Percentage of columns removed: 77.98569069895433\n"
     ]
    }
   ],
   "source": [
    "df_selected = pycytominer.feature_select(df_norm2, operation = ['correlation_threshold', 'variance_threshold', 'drop_na_columns','drop_outliers'], outlier_cutoff = 500) \n",
    "print('Number of columns removed:', df_norm2.shape[1] - df_selected.shape[1])\n",
    "print('Percentage of columns removed:',100 - ((df_selected.shape[1]*100)/df_norm2.shape[1]))\n",
    "cells_that_run.append('feature_select')"
   ]
  },
  {
   "attachments": {},
   "cell_type": "markdown",
   "metadata": {},
   "source": [
    "# Export"
   ]
  },
  {
   "cell_type": "code",
   "execution_count": 10,
   "metadata": {},
   "outputs": [
    {
     "name": "stdout",
     "output_type": "stream",
     "text": [
      "Path to save the profile D:\\2022_09_09_LiveCellPainting_fossa_Cimini\\workspace\\profiles\\2022_06_07_DILI\n"
     ]
    }
   ],
   "source": [
    "output_path = eg.diropenbox(msg=\"Choose an output folder\", default=r\"D:\")\n",
    "print('Path to save the profile', output_path)"
   ]
  },
  {
   "cell_type": "code",
   "execution_count": 11,
   "metadata": {},
   "outputs": [
    {
     "name": "stdout",
     "output_type": "stream",
     "text": [
      "Successfully exported to: D:\\2022_09_09_LiveCellPainting_fossa_Cimini\\workspace\\profiles\\2022_06_07_DILI/2022_06_07_DILI_normalized_negcon_feature_select.csv\n"
     ]
    }
   ],
   "source": [
    "output_name = '_'.join(cells_that_run)\n",
    "df_selected.to_csv(output_path + r'/' + output_name + '.csv')\n",
    "print('Successfully exported to:', output_path + r'/' + output_name + '.csv')"
   ]
  }
 ],
 "metadata": {
  "kernelspec": {
   "display_name": "pycytominer",
   "language": "python",
   "name": "python3"
  },
  "language_info": {
   "codemirror_mode": {
    "name": "ipython",
    "version": 3
   },
   "file_extension": ".py",
   "mimetype": "text/x-python",
   "name": "python",
   "nbconvert_exporter": "python",
   "pygments_lexer": "ipython3",
   "version": "3.9.12"
  },
  "orig_nbformat": 4
 },
 "nbformat": 4,
 "nbformat_minor": 2
}
