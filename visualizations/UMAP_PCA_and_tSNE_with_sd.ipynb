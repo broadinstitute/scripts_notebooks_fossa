{
 "cells": [
  {
   "cell_type": "markdown",
   "metadata": {},
   "source": [
    "# Plot tSNE, UMAP, and PCA for data visualization\n",
    "\n",
    "Run tSNE and UMAP multiple times and get the mean embedding and the standard deviation.\n",
    "\n"
   ]
  },
  {
   "cell_type": "code",
   "execution_count": null,
   "metadata": {},
   "outputs": [],
   "source": [
    "import pandas as pd\n",
    "import easygui as eg\n",
    "import sys\n",
    "\n",
    "sys.path.append(r\"C:\\Users\\Fer\\Documents\\GitHub\")\n",
    "\n",
    "from scripts_notebooks_fossa.pycombat_umap import combat_util\n",
    "\n",
    "%load_ext autoreload\n",
    "%autoreload 2\n",
    "\n",
    "import warnings\n",
    "warnings.filterwarnings('ignore')"
   ]
  },
  {
   "cell_type": "markdown",
   "metadata": {},
   "source": [
    "## 1. Inputs"
   ]
  },
  {
   "cell_type": "code",
   "execution_count": null,
   "metadata": {},
   "outputs": [],
   "source": [
    "myfile = eg.fileopenbox(msg=\"Choose a file\", default=r\"F:\")\n",
    "print('Filename', myfile)\n",
    "df = pd.read_csv(myfile)\n",
    "df.head()"
   ]
  },
  {
   "cell_type": "code",
   "execution_count": null,
   "metadata": {},
   "outputs": [],
   "source": [
    "n_neighbors_input = 15\n",
    "min_dist_input = 0.5\n",
    "metric = 'cosine'\n",
    "hover_list = ['Metadata_Plate','Metadata_Well', 'Metadata_compound', 'Metadata_concentration_uM']\n",
    "run_iterations=100"
   ]
  },
  {
   "cell_type": "code",
   "execution_count": null,
   "metadata": {},
   "outputs": [],
   "source": [
    "cols_to_join = [\"Metadata_compound\", \"Metadata_concentration_uM\"]\n",
    "\n",
    "df, new_col = combat_util.col_generator(df, cols_to_join = cols_to_join)\n",
    "\n",
    "#just remove the 0 for the non-treated wells\n",
    "df[new_col] = df[new_col].str.replace(r' 0', ' 20', regex=True)\n",
    "df[new_col].unique()"
   ]
  },
  {
   "cell_type": "markdown",
   "metadata": {},
   "source": [
    "## 2. Filter samples if needed\n",
    "\n",
    "- Based on profile evaluation such as mean average precision, the profile for a specific sample can be non-reproducible, so we filter them here."
   ]
  },
  {
   "cell_type": "code",
   "execution_count": null,
   "metadata": {},
   "outputs": [],
   "source": [
    "list_filter_OUT=[\n",
    " 'Orphenadrine 1'\n",
    " ]"
   ]
  },
  {
   "cell_type": "code",
   "execution_count": null,
   "metadata": {},
   "outputs": [],
   "source": [
    "df_filtered = df.query(f'{new_col} not in {list_filter_OUT}').reset_index(drop=True)"
   ]
  },
  {
   "cell_type": "markdown",
   "metadata": {},
   "source": [
    "## 3. Run tSNE divergence and visualization"
   ]
  },
  {
   "cell_type": "code",
   "execution_count": null,
   "metadata": {},
   "outputs": [],
   "source": [
    "X, plot_tsne = combat_util.tsne_generator(df_filtered, perplexity=30, n_components = 2, metric=metric, iterate=True, number_runs=run_iterations)"
   ]
  },
  {
   "cell_type": "code",
   "execution_count": null,
   "metadata": {},
   "outputs": [],
   "source": [
    "combat_util.tsne_divergence(X, range=65)"
   ]
  },
  {
   "cell_type": "code",
   "execution_count": null,
   "metadata": {},
   "outputs": [],
   "source": [
    "combat_util.plot_tsne(plot_tsne, color_col='Metadata_compound',\n",
    "                      hover_cols=hover_list,\n",
    "                      size=True, size_col = \"Metadata_concentration_uM\",\n",
    "                      dili_color=True,\n",
    "                      x=\"0\", y=\"1\",\n",
    "                      error_x=\"x_err\", error_y=\"y_err\"\n",
    "                      )"
   ]
  },
  {
   "cell_type": "markdown",
   "metadata": {},
   "source": [
    "## 4. Run UMAP multiple times and plot"
   ]
  },
  {
   "cell_type": "code",
   "execution_count": null,
   "metadata": {},
   "outputs": [],
   "source": [
    "plot_umap = combat_util.generate_x_y_umap(df_filtered, n_neighbors=n_neighbors_input, min_dist=min_dist_input, \n",
    "                                          metric=metric, iterate=True, number_runs=run_iterations)"
   ]
  },
  {
   "cell_type": "code",
   "execution_count": null,
   "metadata": {},
   "outputs": [],
   "source": [
    "combat_util.plot_umap(plot_umap, color_col='Metadata_compound', \n",
    "                      hover_cols=hover_list,\n",
    "                      size=True, size_col = \"Metadata_concentration_uM\",\n",
    "                      dili_color=True,\n",
    "                      x=\"0\", y=\"1\",\n",
    "                      error_x=\"x_err\", error_y=\"y_err\"\n",
    "                      )"
   ]
  },
  {
   "cell_type": "markdown",
   "metadata": {},
   "source": [
    "## 5. Plot PCA"
   ]
  },
  {
   "cell_type": "code",
   "execution_count": null,
   "metadata": {},
   "outputs": [],
   "source": [
    "plot_pca = combat_util.generate_pca(df_filtered, n_components = 5)"
   ]
  },
  {
   "cell_type": "code",
   "execution_count": null,
   "metadata": {},
   "outputs": [],
   "source": [
    "combat_util.plot_umap(plot_pca, color_col='Metadata_compound', \n",
    "                      hover_cols=hover_list,\n",
    "                      size=True, size_col = \"Metadata_concentration_uM\",\n",
    "                      dili_color=True,\n",
    "                      x=\"0\", y=\"1\"\n",
    "                      )"
   ]
  },
  {
   "cell_type": "code",
   "execution_count": null,
   "metadata": {},
   "outputs": [],
   "source": [
    "combat_util.plot_umap(plot_pca, color_col='Metadata_compound', \n",
    "                      hover_cols=hover_list,\n",
    "                      size=True, size_col = \"Metadata_concentration_uM\",\n",
    "                      dili_color=True,\n",
    "                      x=\"1\", y=\"2\"\n",
    "                      )"
   ]
  },
  {
   "cell_type": "code",
   "execution_count": null,
   "metadata": {},
   "outputs": [],
   "source": [
    "combat_util.plot_umap(plot_pca, color_col='Metadata_compound',\n",
    "                      hover_cols=hover_list,\n",
    "                      size=True, size_col = \"Metadata_concentration_uM\",\n",
    "                      dili_color=True,\n",
    "                      x=\"0\", y=\"2\"\n",
    "                      )"
   ]
  }
 ],
 "metadata": {
  "kernelspec": {
   "display_name": "pycytominer",
   "language": "python",
   "name": "python3"
  },
  "language_info": {
   "codemirror_mode": {
    "name": "ipython",
    "version": 3
   },
   "file_extension": ".py",
   "mimetype": "text/x-python",
   "name": "python",
   "nbconvert_exporter": "python",
   "pygments_lexer": "ipython3",
   "version": "3.9.12"
  }
 },
 "nbformat": 4,
 "nbformat_minor": 2
}
