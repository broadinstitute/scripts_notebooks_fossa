{
 "cells": [
  {
   "attachments": {},
   "cell_type": "markdown",
   "metadata": {},
   "source": [
    "# Visualize batches, apply pyCombat and visualize again\n",
    "\n",
    "- This notebook is to visualize batch effects of High-Content screening assays, try to correct those effects using pyCombat [reference here], and visualize it again with UMAP to check if the effect was corrected.\n",
    "\n",
    "\n",
    "github@fefossa"
   ]
  },
  {
   "cell_type": "code",
   "execution_count": 1,
   "metadata": {},
   "outputs": [
    {
     "name": "stderr",
     "output_type": "stream",
     "text": [
      "c:\\Users\\Fer\\miniconda3\\envs\\pycytominer\\lib\\site-packages\\umap\\distances.py:1063: NumbaDeprecationWarning: \u001b[1mThe 'nopython' keyword argument was not supplied to the 'numba.jit' decorator. The implicit default value for this argument is currently False, but it will be changed to True in Numba 0.59.0. See https://numba.readthedocs.io/en/stable/reference/deprecation.html#deprecation-of-object-mode-fall-back-behaviour-when-using-jit for details.\u001b[0m\n",
      "  @numba.jit()\n",
      "c:\\Users\\Fer\\miniconda3\\envs\\pycytominer\\lib\\site-packages\\umap\\distances.py:1071: NumbaDeprecationWarning: \u001b[1mThe 'nopython' keyword argument was not supplied to the 'numba.jit' decorator. The implicit default value for this argument is currently False, but it will be changed to True in Numba 0.59.0. See https://numba.readthedocs.io/en/stable/reference/deprecation.html#deprecation-of-object-mode-fall-back-behaviour-when-using-jit for details.\u001b[0m\n",
      "  @numba.jit()\n",
      "c:\\Users\\Fer\\miniconda3\\envs\\pycytominer\\lib\\site-packages\\umap\\distances.py:1086: NumbaDeprecationWarning: \u001b[1mThe 'nopython' keyword argument was not supplied to the 'numba.jit' decorator. The implicit default value for this argument is currently False, but it will be changed to True in Numba 0.59.0. See https://numba.readthedocs.io/en/stable/reference/deprecation.html#deprecation-of-object-mode-fall-back-behaviour-when-using-jit for details.\u001b[0m\n",
      "  @numba.jit()\n",
      "c:\\Users\\Fer\\miniconda3\\envs\\pycytominer\\lib\\site-packages\\umap\\umap_.py:660: NumbaDeprecationWarning: \u001b[1mThe 'nopython' keyword argument was not supplied to the 'numba.jit' decorator. The implicit default value for this argument is currently False, but it will be changed to True in Numba 0.59.0. See https://numba.readthedocs.io/en/stable/reference/deprecation.html#deprecation-of-object-mode-fall-back-behaviour-when-using-jit for details.\u001b[0m\n",
      "  @numba.jit()\n"
     ]
    }
   ],
   "source": [
    "import pandas as pd\n",
    "import easygui as eg\n",
    "import sys\n",
    "\n",
    "sys.path.append(r\"C:\\Users\\Fer\\Documents\\GitHub\")\n",
    "\n",
    "from scripts_notebooks_fossa.pycombat_umap import combat_util\n",
    "\n",
    "%load_ext autoreload\n",
    "%autoreload 2"
   ]
  },
  {
   "attachments": {},
   "cell_type": "markdown",
   "metadata": {},
   "source": [
    "# 0. Inputs"
   ]
  },
  {
   "cell_type": "code",
   "execution_count": 2,
   "metadata": {},
   "outputs": [
    {
     "name": "stdout",
     "output_type": "stream",
     "text": [
      "Filename C:\\Users\\Fer\\Desktop\\example_batch effet\\profiles\\Test_batch_effect_visualization_normalized_negcon_feature_select.csv\n"
     ]
    },
    {
     "data": {
      "text/html": [
       "<div>\n",
       "<style scoped>\n",
       "    .dataframe tbody tr th:only-of-type {\n",
       "        vertical-align: middle;\n",
       "    }\n",
       "\n",
       "    .dataframe tbody tr th {\n",
       "        vertical-align: top;\n",
       "    }\n",
       "\n",
       "    .dataframe thead th {\n",
       "        text-align: right;\n",
       "    }\n",
       "</style>\n",
       "<table border=\"1\" class=\"dataframe\">\n",
       "  <thead>\n",
       "    <tr style=\"text-align: right;\">\n",
       "      <th></th>\n",
       "      <th>Unnamed: 0</th>\n",
       "      <th>Metadata_Plate</th>\n",
       "      <th>Metadata_Well</th>\n",
       "      <th>Metadata_cell_count</th>\n",
       "      <th>Metadata_plate_map_name</th>\n",
       "      <th>Metadata_Concentration</th>\n",
       "      <th>Metadata_Cell</th>\n",
       "      <th>Metadata_Compound</th>\n",
       "      <th>Metadata_moa</th>\n",
       "      <th>Metadata_DILI-concern</th>\n",
       "      <th>...</th>\n",
       "      <th>Nuclei_Texture_Correlation_CorrPI_20_03_256</th>\n",
       "      <th>Nuclei_Texture_Correlation_CorrPI_5_00_256</th>\n",
       "      <th>Nuclei_Texture_Correlation_CorrPI_5_01_256</th>\n",
       "      <th>Nuclei_Texture_Correlation_CorrPI_5_02_256</th>\n",
       "      <th>Nuclei_Texture_Correlation_CorrPI_5_03_256</th>\n",
       "      <th>Nuclei_Texture_InfoMeas1_CorrGFP_20_03_256</th>\n",
       "      <th>Nuclei_Texture_InfoMeas1_CorrGFP_5_00_256</th>\n",
       "      <th>Nuclei_Texture_InfoMeas1_CorrPI_20_03_256</th>\n",
       "      <th>Nuclei_Texture_InfoMeas2_CorrGFP_5_00_256</th>\n",
       "      <th>Nuclei_Texture_InfoMeas2_CorrPI_20_01_256</th>\n",
       "    </tr>\n",
       "  </thead>\n",
       "  <tbody>\n",
       "    <tr>\n",
       "      <th>0</th>\n",
       "      <td>0</td>\n",
       "      <td>220607_092050_Plate_1</td>\n",
       "      <td>B10</td>\n",
       "      <td>379</td>\n",
       "      <td>platemap_dili</td>\n",
       "      <td>10.0</td>\n",
       "      <td>Huh7</td>\n",
       "      <td>Etoposide</td>\n",
       "      <td>topoisomerase II inhibition</td>\n",
       "      <td>Less-DILI-Concern</td>\n",
       "      <td>...</td>\n",
       "      <td>5.395341</td>\n",
       "      <td>2.176806</td>\n",
       "      <td>1.990091</td>\n",
       "      <td>48.387255</td>\n",
       "      <td>1.974474</td>\n",
       "      <td>1.212773</td>\n",
       "      <td>-2.488307</td>\n",
       "      <td>0.539402</td>\n",
       "      <td>2.946562</td>\n",
       "      <td>0.051344</td>\n",
       "    </tr>\n",
       "    <tr>\n",
       "      <th>1</th>\n",
       "      <td>1</td>\n",
       "      <td>220607_092050_Plate_1</td>\n",
       "      <td>B11</td>\n",
       "      <td>697</td>\n",
       "      <td>platemap_dili</td>\n",
       "      <td>0.0</td>\n",
       "      <td>Huh7</td>\n",
       "      <td>Vehicle-ETP</td>\n",
       "      <td>ETP-Control</td>\n",
       "      <td>None</td>\n",
       "      <td>...</td>\n",
       "      <td>0.836678</td>\n",
       "      <td>-0.784427</td>\n",
       "      <td>0.030035</td>\n",
       "      <td>-62.191553</td>\n",
       "      <td>-3.388379</td>\n",
       "      <td>-2.004516</td>\n",
       "      <td>-0.437987</td>\n",
       "      <td>-1.783197</td>\n",
       "      <td>0.941576</td>\n",
       "      <td>2.066243</td>\n",
       "    </tr>\n",
       "    <tr>\n",
       "      <th>2</th>\n",
       "      <td>2</td>\n",
       "      <td>220607_092050_Plate_1</td>\n",
       "      <td>B3</td>\n",
       "      <td>544</td>\n",
       "      <td>platemap_dili</td>\n",
       "      <td>1.0</td>\n",
       "      <td>Huh7</td>\n",
       "      <td>Aspirin</td>\n",
       "      <td>COX inhibitor</td>\n",
       "      <td>Less-DILI-Concern</td>\n",
       "      <td>...</td>\n",
       "      <td>-2.208579</td>\n",
       "      <td>9.829729</td>\n",
       "      <td>6.816155</td>\n",
       "      <td>196.896797</td>\n",
       "      <td>23.537049</td>\n",
       "      <td>-13.271161</td>\n",
       "      <td>-0.979537</td>\n",
       "      <td>-3.876753</td>\n",
       "      <td>3.364471</td>\n",
       "      <td>3.272119</td>\n",
       "    </tr>\n",
       "    <tr>\n",
       "      <th>3</th>\n",
       "      <td>3</td>\n",
       "      <td>220607_092050_Plate_1</td>\n",
       "      <td>B4</td>\n",
       "      <td>584</td>\n",
       "      <td>platemap_dili</td>\n",
       "      <td>10.0</td>\n",
       "      <td>Huh7</td>\n",
       "      <td>Aspirin</td>\n",
       "      <td>COX inhibitor</td>\n",
       "      <td>Less-DILI-Concern</td>\n",
       "      <td>...</td>\n",
       "      <td>-0.096581</td>\n",
       "      <td>8.619137</td>\n",
       "      <td>5.273320</td>\n",
       "      <td>160.213646</td>\n",
       "      <td>18.685630</td>\n",
       "      <td>-14.791844</td>\n",
       "      <td>-1.857842</td>\n",
       "      <td>-4.521746</td>\n",
       "      <td>4.195629</td>\n",
       "      <td>3.709254</td>\n",
       "    </tr>\n",
       "    <tr>\n",
       "      <th>4</th>\n",
       "      <td>4</td>\n",
       "      <td>220607_092050_Plate_1</td>\n",
       "      <td>B5</td>\n",
       "      <td>561</td>\n",
       "      <td>platemap_dili</td>\n",
       "      <td>0.2</td>\n",
       "      <td>Huh7</td>\n",
       "      <td>Amiodarone</td>\n",
       "      <td>sodium/potassium-ATPase inhibitor</td>\n",
       "      <td>Most-DILI-Concern</td>\n",
       "      <td>...</td>\n",
       "      <td>-0.421291</td>\n",
       "      <td>6.718631</td>\n",
       "      <td>4.534543</td>\n",
       "      <td>113.441957</td>\n",
       "      <td>13.603080</td>\n",
       "      <td>-10.846040</td>\n",
       "      <td>-0.823910</td>\n",
       "      <td>-3.032397</td>\n",
       "      <td>3.062944</td>\n",
       "      <td>2.885333</td>\n",
       "    </tr>\n",
       "  </tbody>\n",
       "</table>\n",
       "<p>5 rows × 415 columns</p>\n",
       "</div>"
      ],
      "text/plain": [
       "   Unnamed: 0         Metadata_Plate Metadata_Well  Metadata_cell_count  \\\n",
       "0           0  220607_092050_Plate_1           B10                  379   \n",
       "1           1  220607_092050_Plate_1           B11                  697   \n",
       "2           2  220607_092050_Plate_1            B3                  544   \n",
       "3           3  220607_092050_Plate_1            B4                  584   \n",
       "4           4  220607_092050_Plate_1            B5                  561   \n",
       "\n",
       "  Metadata_plate_map_name  Metadata_Concentration Metadata_Cell  \\\n",
       "0           platemap_dili                    10.0          Huh7   \n",
       "1           platemap_dili                     0.0          Huh7   \n",
       "2           platemap_dili                     1.0          Huh7   \n",
       "3           platemap_dili                    10.0          Huh7   \n",
       "4           platemap_dili                     0.2          Huh7   \n",
       "\n",
       "  Metadata_Compound                       Metadata_moa Metadata_DILI-concern  \\\n",
       "0         Etoposide        topoisomerase II inhibition     Less-DILI-Concern   \n",
       "1       Vehicle-ETP                        ETP-Control                  None   \n",
       "2           Aspirin                      COX inhibitor     Less-DILI-Concern   \n",
       "3           Aspirin                      COX inhibitor     Less-DILI-Concern   \n",
       "4        Amiodarone  sodium/potassium-ATPase inhibitor     Most-DILI-Concern   \n",
       "\n",
       "   ...  Nuclei_Texture_Correlation_CorrPI_20_03_256  \\\n",
       "0  ...                                     5.395341   \n",
       "1  ...                                     0.836678   \n",
       "2  ...                                    -2.208579   \n",
       "3  ...                                    -0.096581   \n",
       "4  ...                                    -0.421291   \n",
       "\n",
       "  Nuclei_Texture_Correlation_CorrPI_5_00_256  \\\n",
       "0                                   2.176806   \n",
       "1                                  -0.784427   \n",
       "2                                   9.829729   \n",
       "3                                   8.619137   \n",
       "4                                   6.718631   \n",
       "\n",
       "   Nuclei_Texture_Correlation_CorrPI_5_01_256  \\\n",
       "0                                    1.990091   \n",
       "1                                    0.030035   \n",
       "2                                    6.816155   \n",
       "3                                    5.273320   \n",
       "4                                    4.534543   \n",
       "\n",
       "   Nuclei_Texture_Correlation_CorrPI_5_02_256  \\\n",
       "0                                   48.387255   \n",
       "1                                  -62.191553   \n",
       "2                                  196.896797   \n",
       "3                                  160.213646   \n",
       "4                                  113.441957   \n",
       "\n",
       "   Nuclei_Texture_Correlation_CorrPI_5_03_256  \\\n",
       "0                                    1.974474   \n",
       "1                                   -3.388379   \n",
       "2                                   23.537049   \n",
       "3                                   18.685630   \n",
       "4                                   13.603080   \n",
       "\n",
       "   Nuclei_Texture_InfoMeas1_CorrGFP_20_03_256  \\\n",
       "0                                    1.212773   \n",
       "1                                   -2.004516   \n",
       "2                                  -13.271161   \n",
       "3                                  -14.791844   \n",
       "4                                  -10.846040   \n",
       "\n",
       "   Nuclei_Texture_InfoMeas1_CorrGFP_5_00_256  \\\n",
       "0                                  -2.488307   \n",
       "1                                  -0.437987   \n",
       "2                                  -0.979537   \n",
       "3                                  -1.857842   \n",
       "4                                  -0.823910   \n",
       "\n",
       "   Nuclei_Texture_InfoMeas1_CorrPI_20_03_256  \\\n",
       "0                                   0.539402   \n",
       "1                                  -1.783197   \n",
       "2                                  -3.876753   \n",
       "3                                  -4.521746   \n",
       "4                                  -3.032397   \n",
       "\n",
       "   Nuclei_Texture_InfoMeas2_CorrGFP_5_00_256  \\\n",
       "0                                   2.946562   \n",
       "1                                   0.941576   \n",
       "2                                   3.364471   \n",
       "3                                   4.195629   \n",
       "4                                   3.062944   \n",
       "\n",
       "   Nuclei_Texture_InfoMeas2_CorrPI_20_01_256  \n",
       "0                                   0.051344  \n",
       "1                                   2.066243  \n",
       "2                                   3.272119  \n",
       "3                                   3.709254  \n",
       "4                                   2.885333  \n",
       "\n",
       "[5 rows x 415 columns]"
      ]
     },
     "execution_count": 2,
     "metadata": {},
     "output_type": "execute_result"
    }
   ],
   "source": [
    "myfile = eg.fileopenbox(msg=\"Choose a file\", default=r\"F:\")\n",
    "print('Filename', myfile)\n",
    "df = pd.read_csv(myfile)\n",
    "df.head()"
   ]
  },
  {
   "cell_type": "code",
   "execution_count": 3,
   "metadata": {},
   "outputs": [
    {
     "name": "stdout",
     "output_type": "stream",
     "text": [
      "Path to save the profile C:\\Users\\Fer\\Desktop\\example_batch effet\\profiles\n"
     ]
    }
   ],
   "source": [
    "output_path = eg.diropenbox(msg=\"Choose an output folder\", default=r\"X:\")\n",
    "print('Path to save the profile', output_path)"
   ]
  },
  {
   "attachments": {},
   "cell_type": "markdown",
   "metadata": {},
   "source": [
    "## 0. UMAP parameters and hover cols"
   ]
  },
  {
   "attachments": {},
   "cell_type": "markdown",
   "metadata": {},
   "source": [
    "### UMAP"
   ]
  },
  {
   "cell_type": "code",
   "execution_count": 4,
   "metadata": {},
   "outputs": [],
   "source": [
    "n_neighbors_input = 15\n",
    "min_dist_input = 0.5\n",
    "metric = 'cosine'"
   ]
  },
  {
   "attachments": {},
   "cell_type": "markdown",
   "metadata": {},
   "source": [
    "### Define hover columns to always have it on the plots"
   ]
  },
  {
   "cell_type": "code",
   "execution_count": 9,
   "metadata": {},
   "outputs": [],
   "source": [
    "hover_list = ['Metadata_Plate', 'Metadata_Well', 'Metadata_Compound', 'Metadata_Concentration']"
   ]
  },
  {
   "cell_type": "markdown",
   "metadata": {},
   "source": [
    "### Define a new column for the labels"
   ]
  },
  {
   "cell_type": "code",
   "execution_count": 10,
   "metadata": {},
   "outputs": [
    {
     "name": "stdout",
     "output_type": "stream",
     "text": [
      "Concentration\n",
      "Names of the compounds + concentration:  ['Etoposide 10.0' 'Vehicle-ETP 0.0' 'Aspirin 1.0' 'Aspirin 10.0'\n",
      " 'Amiodarone 0.2' 'Amiodarone 2.0' 'Cyclophosphamide 1.0'\n",
      " 'Cyclophosphamide 10.0' 'Etoposide 1.0' 'Non-treated 0.0' 'Lactose 1.0'\n",
      " 'Lactose 10.0' 'Lovastatin 1.0' 'Lovastatin 10.0' 'Orphenadrine 1.0'\n",
      " 'Orphenadrine 10.0' 'Tetracycline 1.0' 'Tetracycline 10.0' 'DMSO 1.4']\n"
     ]
    }
   ],
   "source": [
    "cols_to_join = [\"Metadata_Compound\", \"Metadata_Concentration\"]\n",
    "\n",
    "df, new_col = combat_util.col_generator(df, cols_to_join = cols_to_join)"
   ]
  },
  {
   "attachments": {},
   "cell_type": "markdown",
   "metadata": {},
   "source": [
    "# 1. Plot to check for batch effects\n",
    "\n",
    "- We plot columns that usually has batch effects like Plate (if they were read on different days), Well position"
   ]
  },
  {
   "attachments": {},
   "cell_type": "markdown",
   "metadata": {},
   "source": [
    "## Plate"
   ]
  },
  {
   "cell_type": "code",
   "execution_count": 12,
   "metadata": {},
   "outputs": [
    {
     "data": {
      "application/vnd.plotly.v1+json": {
       "config": {
        "plotlyServerURL": "https://plot.ly",
        "toImageButtonOptions": {
         "filename": "custom_image",
         "format": "svg",
         "height": 500,
         "scale": 6,
         "width": 700
        }
       },
       "data": [
        {
         "customdata": [
          [
           "220607_092050_Plate_1",
           "B10",
           "Etoposide",
           10
          ],
          [
           "220607_092050_Plate_1",
           "B11",
           "Vehicle-ETP",
           0
          ],
          [
           "220607_092050_Plate_1",
           "B3",
           "Aspirin",
           1
          ],
          [
           "220607_092050_Plate_1",
           "B4",
           "Aspirin",
           10
          ],
          [
           "220607_092050_Plate_1",
           "B5",
           "Amiodarone",
           0.2
          ],
          [
           "220607_092050_Plate_1",
           "B6",
           "Amiodarone",
           2
          ],
          [
           "220607_092050_Plate_1",
           "B7",
           "Cyclophosphamide",
           1
          ],
          [
           "220607_092050_Plate_1",
           "B8",
           "Cyclophosphamide",
           10
          ],
          [
           "220607_092050_Plate_1",
           "B9",
           "Etoposide",
           1
          ],
          [
           "220607_092050_Plate_1",
           "C10",
           "Etoposide",
           10
          ],
          [
           "220607_092050_Plate_1",
           "C11",
           "Vehicle-ETP",
           0
          ],
          [
           "220607_092050_Plate_1",
           "C2",
           "Non-treated",
           0
          ],
          [
           "220607_092050_Plate_1",
           "C3",
           "Aspirin",
           1
          ],
          [
           "220607_092050_Plate_1",
           "C4",
           "Aspirin",
           10
          ],
          [
           "220607_092050_Plate_1",
           "C5",
           "Amiodarone",
           0.2
          ],
          [
           "220607_092050_Plate_1",
           "C6",
           "Amiodarone",
           2
          ],
          [
           "220607_092050_Plate_1",
           "C7",
           "Cyclophosphamide",
           1
          ],
          [
           "220607_092050_Plate_1",
           "C8",
           "Cyclophosphamide",
           10
          ],
          [
           "220607_092050_Plate_1",
           "C9",
           "Etoposide",
           1
          ],
          [
           "220607_092050_Plate_1",
           "D10",
           "Etoposide",
           10
          ],
          [
           "220607_092050_Plate_1",
           "D11",
           "Vehicle-ETP",
           0
          ],
          [
           "220607_092050_Plate_1",
           "D2",
           "Non-treated",
           0
          ],
          [
           "220607_092050_Plate_1",
           "D3",
           "Aspirin",
           1
          ],
          [
           "220607_092050_Plate_1",
           "D4",
           "Aspirin",
           10
          ],
          [
           "220607_092050_Plate_1",
           "D5",
           "Amiodarone",
           0.2
          ],
          [
           "220607_092050_Plate_1",
           "D6",
           "Amiodarone",
           2
          ],
          [
           "220607_092050_Plate_1",
           "D7",
           "Cyclophosphamide",
           1
          ],
          [
           "220607_092050_Plate_1",
           "D8",
           "Cyclophosphamide",
           10
          ],
          [
           "220607_092050_Plate_1",
           "D9",
           "Etoposide",
           1
          ],
          [
           "220607_092050_Plate_1",
           "E10",
           "Lactose",
           1
          ],
          [
           "220607_092050_Plate_1",
           "E11",
           "Lactose",
           10
          ],
          [
           "220607_092050_Plate_1",
           "E2",
           "Non-treated",
           0
          ],
          [
           "220607_092050_Plate_1",
           "E3",
           "Lovastatin",
           1
          ],
          [
           "220607_092050_Plate_1",
           "E4",
           "Lovastatin",
           10
          ],
          [
           "220607_092050_Plate_1",
           "E5",
           "Orphenadrine",
           1
          ],
          [
           "220607_092050_Plate_1",
           "E6",
           "Orphenadrine",
           10
          ],
          [
           "220607_092050_Plate_1",
           "E7",
           "Tetracycline",
           1
          ],
          [
           "220607_092050_Plate_1",
           "E8",
           "Tetracycline",
           10
          ],
          [
           "220607_092050_Plate_1",
           "E9",
           "DMSO",
           1.4
          ],
          [
           "220607_092050_Plate_1",
           "F10",
           "Lactose",
           1
          ],
          [
           "220607_092050_Plate_1",
           "F11",
           "Lactose",
           10
          ],
          [
           "220607_092050_Plate_1",
           "F2",
           "Non-treated",
           0
          ],
          [
           "220607_092050_Plate_1",
           "F3",
           "Lovastatin",
           1
          ],
          [
           "220607_092050_Plate_1",
           "F4",
           "Lovastatin",
           10
          ],
          [
           "220607_092050_Plate_1",
           "F5",
           "Orphenadrine",
           1
          ],
          [
           "220607_092050_Plate_1",
           "F6",
           "Orphenadrine",
           10
          ],
          [
           "220607_092050_Plate_1",
           "F7",
           "Tetracycline",
           1
          ],
          [
           "220607_092050_Plate_1",
           "F8",
           "Tetracycline",
           10
          ],
          [
           "220607_092050_Plate_1",
           "F9",
           "DMSO",
           1.4
          ],
          [
           "220607_092050_Plate_1",
           "G10",
           "Lactose",
           1
          ],
          [
           "220607_092050_Plate_1",
           "G11",
           "Lactose",
           10
          ],
          [
           "220607_092050_Plate_1",
           "G2",
           "Non-treated",
           0
          ],
          [
           "220607_092050_Plate_1",
           "G3",
           "Lovastatin",
           1
          ],
          [
           "220607_092050_Plate_1",
           "G4",
           "Lovastatin",
           10
          ],
          [
           "220607_092050_Plate_1",
           "G5",
           "Orphenadrine",
           1
          ],
          [
           "220607_092050_Plate_1",
           "G6",
           "Orphenadrine",
           10
          ],
          [
           "220607_092050_Plate_1",
           "G7",
           "Tetracycline",
           1
          ],
          [
           "220607_092050_Plate_1",
           "G8",
           "Tetracycline",
           10
          ],
          [
           "220607_092050_Plate_1",
           "G9",
           "DMSO",
           1.4
          ]
         ],
         "error_x": {
          "thickness": 3
         },
         "error_y": {
          "thickness": 3
         },
         "hovertemplate": "colors_plot_col=220607_092050_Plate_1<br>0=%{x}<br>1=%{y}<br>Metadata_Plate=%{customdata[0]}<br>Metadata_Well=%{customdata[1]}<br>Metadata_Compound=%{customdata[2]}<br>Metadata_Concentration=%{customdata[3]}<extra></extra>",
         "legendgroup": "220607_092050_Plate_1",
         "marker": {
          "color": "rgb(229, 134, 6)",
          "size": 10,
          "symbol": "circle"
         },
         "mode": "markers",
         "name": "220607_092050_Plate_1",
         "orientation": "v",
         "showlegend": true,
         "type": "scatter",
         "x": [
          7.277199745178223,
          8.496153831481934,
          7.7925519943237305,
          7.963379859924316,
          7.831668376922607,
          7.6438751220703125,
          7.829371929168701,
          7.7163166999816895,
          7.684168338775635,
          7.227214813232422,
          10.104244232177734,
          8.9307861328125,
          9.407236099243164,
          8.14754867553711,
          8.190865516662598,
          8.204119682312012,
          9.242924690246582,
          8.362249374389648,
          8.207437515258789,
          7.72511625289917,
          8.20317268371582,
          8.95867919921875,
          9.283173561096191,
          8.290548324584961,
          8.837701797485352,
          8.586952209472656,
          9.141396522521973,
          8.674625396728516,
          7.790373802185059,
          8.969253540039062,
          8.831113815307617,
          5.617006778717041,
          10.380448341369629,
          10.471118927001953,
          9.29043960571289,
          9.536375999450684,
          10.475343704223633,
          10.456879615783691,
          9.17434024810791,
          10.366790771484375,
          9.485146522521973,
          9.501811027526855,
          10.128488540649414,
          9.7584810256958,
          10.06275463104248,
          9.970742225646973,
          10.426215171813965,
          10.516118049621582,
          7.163944244384766,
          8.98857593536377,
          9.630614280700684,
          9.157061576843262,
          9.317242622375488,
          9.397955894470215,
          8.900607109069824,
          9.254225730895996,
          9.250548362731934,
          9.722610473632812,
          9.93029499053955
         ],
         "xaxis": "x",
         "y": [
          -2.568594217300415,
          -1.6542872190475464,
          -3.737186908721924,
          -3.2692272663116455,
          -3.471081018447876,
          -3.413900136947632,
          -2.425039052963257,
          -3.4094579219818115,
          -2.698883295059204,
          -2.5249109268188477,
          -5.093203544616699,
          -1.8307037353515625,
          -3.5903098583221436,
          -2.6179161071777344,
          -2.622487783432007,
          -3.382373809814453,
          -2.8592355251312256,
          -3.9891786575317383,
          -4.955026626586914,
          -4.33574914932251,
          -3.706592559814453,
          -5.492730140686035,
          -3.8737008571624756,
          -4.199131488800049,
          -4.158836364746094,
          -3.5120203495025635,
          -4.609489440917969,
          -4.851705551147461,
          -4.675857067108154,
          -1.0649923086166382,
          -1.4722750186920166,
          4.557031631469727,
          -5.524185657501221,
          -5.548771381378174,
          -1.4160650968551636,
          -1.295790195465088,
          -4.283230781555176,
          -3.746652126312256,
          -0.8958522081375122,
          -4.410905838012695,
          -3.706088066101074,
          -5.264054298400879,
          -6.018991947174072,
          -6.012380123138428,
          -5.75369930267334,
          -6.131853103637695,
          -4.957630157470703,
          -4.9218010902404785,
          -1.6815954446792603,
          -5.395283222198486,
          -5.024494171142578,
          -5.996441841125488,
          -6.039540767669678,
          -5.7184319496154785,
          -5.139658451080322,
          -5.827737331390381,
          -5.350354194641113,
          -4.781811714172363,
          -4.822314262390137
         ],
         "yaxis": "y"
        },
        {
         "customdata": [
          [
           "220608_152238_Plate_1",
           "B10",
           "Etoposide",
           10
          ],
          [
           "220608_152238_Plate_1",
           "B11",
           "Vehicle-ETP",
           0
          ],
          [
           "220608_152238_Plate_1",
           "B3",
           "Aspirin",
           1
          ],
          [
           "220608_152238_Plate_1",
           "B4",
           "Aspirin",
           10
          ],
          [
           "220608_152238_Plate_1",
           "B5",
           "Amiodarone",
           0.2
          ],
          [
           "220608_152238_Plate_1",
           "B6",
           "Amiodarone",
           2
          ],
          [
           "220608_152238_Plate_1",
           "B7",
           "Cyclophosphamide",
           1
          ],
          [
           "220608_152238_Plate_1",
           "B8",
           "Cyclophosphamide",
           10
          ],
          [
           "220608_152238_Plate_1",
           "B9",
           "Etoposide",
           1
          ],
          [
           "220608_152238_Plate_1",
           "C10",
           "Etoposide",
           10
          ],
          [
           "220608_152238_Plate_1",
           "C11",
           "Vehicle-ETP",
           0
          ],
          [
           "220608_152238_Plate_1",
           "C2",
           "Non-treated",
           0
          ],
          [
           "220608_152238_Plate_1",
           "C3",
           "Aspirin",
           1
          ],
          [
           "220608_152238_Plate_1",
           "C4",
           "Aspirin",
           10
          ],
          [
           "220608_152238_Plate_1",
           "C5",
           "Amiodarone",
           0.2
          ],
          [
           "220608_152238_Plate_1",
           "C6",
           "Amiodarone",
           2
          ],
          [
           "220608_152238_Plate_1",
           "C7",
           "Cyclophosphamide",
           1
          ],
          [
           "220608_152238_Plate_1",
           "C8",
           "Cyclophosphamide",
           10
          ],
          [
           "220608_152238_Plate_1",
           "C9",
           "Etoposide",
           1
          ],
          [
           "220608_152238_Plate_1",
           "D10",
           "Etoposide",
           10
          ],
          [
           "220608_152238_Plate_1",
           "D11",
           "Vehicle-ETP",
           0
          ],
          [
           "220608_152238_Plate_1",
           "D2",
           "Non-treated",
           0
          ],
          [
           "220608_152238_Plate_1",
           "D3",
           "Aspirin",
           1
          ],
          [
           "220608_152238_Plate_1",
           "D4",
           "Aspirin",
           10
          ],
          [
           "220608_152238_Plate_1",
           "D5",
           "Amiodarone",
           0.2
          ],
          [
           "220608_152238_Plate_1",
           "D6",
           "Amiodarone",
           2
          ],
          [
           "220608_152238_Plate_1",
           "D7",
           "Cyclophosphamide",
           1
          ],
          [
           "220608_152238_Plate_1",
           "D8",
           "Cyclophosphamide",
           10
          ],
          [
           "220608_152238_Plate_1",
           "D9",
           "Etoposide",
           1
          ],
          [
           "220608_152238_Plate_1",
           "E10",
           "Lactose",
           1
          ],
          [
           "220608_152238_Plate_1",
           "E2",
           "Non-treated",
           0
          ],
          [
           "220608_152238_Plate_1",
           "E3",
           "Lovastatin",
           1
          ],
          [
           "220608_152238_Plate_1",
           "E4",
           "Lovastatin",
           10
          ],
          [
           "220608_152238_Plate_1",
           "E5",
           "Orphenadrine",
           1
          ],
          [
           "220608_152238_Plate_1",
           "E6",
           "Orphenadrine",
           10
          ],
          [
           "220608_152238_Plate_1",
           "E7",
           "Tetracycline",
           1
          ],
          [
           "220608_152238_Plate_1",
           "E8",
           "Tetracycline",
           10
          ],
          [
           "220608_152238_Plate_1",
           "E9",
           "DMSO",
           1.4
          ],
          [
           "220608_152238_Plate_1",
           "F10",
           "Lactose",
           1
          ],
          [
           "220608_152238_Plate_1",
           "F11",
           "Lactose",
           10
          ],
          [
           "220608_152238_Plate_1",
           "F2",
           "Non-treated",
           0
          ],
          [
           "220608_152238_Plate_1",
           "F3",
           "Lovastatin",
           1
          ],
          [
           "220608_152238_Plate_1",
           "F4",
           "Lovastatin",
           10
          ],
          [
           "220608_152238_Plate_1",
           "F5",
           "Orphenadrine",
           1
          ],
          [
           "220608_152238_Plate_1",
           "F6",
           "Orphenadrine",
           10
          ],
          [
           "220608_152238_Plate_1",
           "F7",
           "Tetracycline",
           1
          ],
          [
           "220608_152238_Plate_1",
           "F8",
           "Tetracycline",
           10
          ],
          [
           "220608_152238_Plate_1",
           "F9",
           "DMSO",
           1.4
          ],
          [
           "220608_152238_Plate_1",
           "G10",
           "Lactose",
           1
          ],
          [
           "220608_152238_Plate_1",
           "G11",
           "Lactose",
           10
          ],
          [
           "220608_152238_Plate_1",
           "G2",
           "Non-treated",
           0
          ],
          [
           "220608_152238_Plate_1",
           "G3",
           "Lovastatin",
           1
          ],
          [
           "220608_152238_Plate_1",
           "G4",
           "Lovastatin",
           10
          ],
          [
           "220608_152238_Plate_1",
           "G5",
           "Orphenadrine",
           1
          ],
          [
           "220608_152238_Plate_1",
           "G6",
           "Orphenadrine",
           10
          ],
          [
           "220608_152238_Plate_1",
           "G7",
           "Tetracycline",
           1
          ],
          [
           "220608_152238_Plate_1",
           "G8",
           "Tetracycline",
           10
          ],
          [
           "220608_152238_Plate_1",
           "G9",
           "DMSO",
           1.4
          ]
         ],
         "error_x": {
          "thickness": 3
         },
         "error_y": {
          "thickness": 3
         },
         "hovertemplate": "colors_plot_col=220608_152238_Plate_1<br>0=%{x}<br>1=%{y}<br>Metadata_Plate=%{customdata[0]}<br>Metadata_Well=%{customdata[1]}<br>Metadata_Compound=%{customdata[2]}<br>Metadata_Concentration=%{customdata[3]}<extra></extra>",
         "legendgroup": "220608_152238_Plate_1",
         "marker": {
          "color": "rgb(93, 105, 177)",
          "size": 10,
          "symbol": "circle"
         },
         "mode": "markers",
         "name": "220608_152238_Plate_1",
         "orientation": "v",
         "showlegend": true,
         "type": "scatter",
         "x": [
          7.305424690246582,
          6.4275641441345215,
          6.6759514808654785,
          7.3237762451171875,
          6.808204650878906,
          7.308581829071045,
          6.948095321655273,
          7.400489330291748,
          5.940806865692139,
          8.823923110961914,
          7.591135025024414,
          7.683178424835205,
          5.569513320922852,
          9.143298149108887,
          7.315359592437744,
          9.2489595413208,
          7.947429656982422,
          6.707025527954102,
          8.663969039916992,
          8.289789199829102,
          5.754186153411865,
          8.199295997619629,
          8.963052749633789,
          8.03329086303711,
          6.98707389831543,
          7.47492790222168,
          8.562688827514648,
          8.200589179992676,
          8.90939712524414,
          8.165862083435059,
          7.656205177307129,
          8.00447940826416,
          8.41483211517334,
          8.764602661132812,
          6.823659896850586,
          7.340031623840332,
          7.6282124519348145,
          7.81223726272583,
          6.3396897315979,
          9.378072738647461,
          5.632327079772949,
          7.469192028045654,
          7.20366907119751,
          9.436202049255371,
          7.650525093078613,
          8.086760520935059,
          7.697093486785889,
          6.16864538192749,
          8.558318138122559,
          8.405917167663574,
          8.913439750671387,
          5.907471179962158,
          8.765301704406738,
          8.952875137329102,
          9.011972427368164,
          7.4853715896606445,
          7.416534423828125,
          5.360366344451904
         ],
         "xaxis": "x",
         "y": [
          5.315536975860596,
          5.387349605560303,
          6.138972282409668,
          6.272468566894531,
          5.605792045593262,
          4.807146072387695,
          5.836808681488037,
          5.787081718444824,
          5.025240421295166,
          5.26302433013916,
          2.6802210807800293,
          4.673992156982422,
          4.458078384399414,
          3.729391574859619,
          3.8360698223114014,
          4.662759780883789,
          3.8688697814941406,
          1.6673375368118286,
          4.842966556549072,
          4.861856937408447,
          4.228285789489746,
          4.319613933563232,
          3.7012739181518555,
          3.910616159439087,
          3.932197093963623,
          3.8170411586761475,
          3.31857967376709,
          3.453260898590088,
          4.489238262176514,
          5.983409881591797,
          4.38853120803833,
          4.151540756225586,
          5.799703598022461,
          5.5554046630859375,
          1.2648818492889404,
          6.058836936950684,
          6.286411285400391,
          6.019018650054932,
          4.16301155090332,
          4.070326805114746,
          3.636629104614258,
          3.039928674697876,
          1.6985572576522827,
          4.504329204559326,
          3.5227441787719727,
          3.0716826915740967,
          3.4484100341796875,
          4.424880504608154,
          3.0352015495300293,
          2.8462250232696533,
          4.167147159576416,
          3.995123863220215,
          3.497537851333618,
          4.060347080230713,
          4.856146812438965,
          2.869736433029175,
          2.020028591156006,
          3.3116910457611084
         ],
         "yaxis": "y"
        },
        {
         "customdata": [
          [
           "220617_090443_Plate_1",
           "B10",
           "Etoposide",
           10
          ],
          [
           "220617_090443_Plate_1",
           "B11",
           "Vehicle-ETP",
           0
          ],
          [
           "220617_090443_Plate_1",
           "B2",
           "Non-treated",
           0
          ],
          [
           "220617_090443_Plate_1",
           "B3",
           "Aspirin",
           1
          ],
          [
           "220617_090443_Plate_1",
           "B4",
           "Aspirin",
           10
          ],
          [
           "220617_090443_Plate_1",
           "B5",
           "Amiodarone",
           0.2
          ],
          [
           "220617_090443_Plate_1",
           "B6",
           "Amiodarone",
           2
          ],
          [
           "220617_090443_Plate_1",
           "B7",
           "Cyclophosphamide",
           1
          ],
          [
           "220617_090443_Plate_1",
           "B8",
           "Cyclophosphamide",
           10
          ],
          [
           "220617_090443_Plate_1",
           "B9",
           "Etoposide",
           1
          ],
          [
           "220617_090443_Plate_1",
           "C10",
           "Etoposide",
           10
          ],
          [
           "220617_090443_Plate_1",
           "C11",
           "Vehicle-ETP",
           0
          ],
          [
           "220617_090443_Plate_1",
           "C2",
           "Non-treated",
           0
          ],
          [
           "220617_090443_Plate_1",
           "C3",
           "Aspirin",
           1
          ],
          [
           "220617_090443_Plate_1",
           "C4",
           "Aspirin",
           10
          ],
          [
           "220617_090443_Plate_1",
           "C5",
           "Amiodarone",
           0.2
          ],
          [
           "220617_090443_Plate_1",
           "C6",
           "Amiodarone",
           2
          ],
          [
           "220617_090443_Plate_1",
           "C7",
           "Cyclophosphamide",
           1
          ],
          [
           "220617_090443_Plate_1",
           "C8",
           "Cyclophosphamide",
           10
          ],
          [
           "220617_090443_Plate_1",
           "C9",
           "Etoposide",
           1
          ],
          [
           "220617_090443_Plate_1",
           "D10",
           "Etoposide",
           10
          ],
          [
           "220617_090443_Plate_1",
           "D11",
           "Vehicle-ETP",
           0
          ],
          [
           "220617_090443_Plate_1",
           "D2",
           "Non-treated",
           0
          ],
          [
           "220617_090443_Plate_1",
           "D3",
           "Aspirin",
           1
          ],
          [
           "220617_090443_Plate_1",
           "D4",
           "Aspirin",
           10
          ],
          [
           "220617_090443_Plate_1",
           "D5",
           "Amiodarone",
           0.2
          ],
          [
           "220617_090443_Plate_1",
           "D6",
           "Amiodarone",
           2
          ],
          [
           "220617_090443_Plate_1",
           "D7",
           "Cyclophosphamide",
           1
          ],
          [
           "220617_090443_Plate_1",
           "D8",
           "Cyclophosphamide",
           10
          ],
          [
           "220617_090443_Plate_1",
           "D9",
           "Etoposide",
           1
          ],
          [
           "220617_090443_Plate_1",
           "E10",
           "Lactose",
           1
          ],
          [
           "220617_090443_Plate_1",
           "E11",
           "Lactose",
           10
          ],
          [
           "220617_090443_Plate_1",
           "E2",
           "Non-treated",
           0
          ],
          [
           "220617_090443_Plate_1",
           "E3",
           "Lovastatin",
           1
          ],
          [
           "220617_090443_Plate_1",
           "E4",
           "Lovastatin",
           10
          ],
          [
           "220617_090443_Plate_1",
           "E5",
           "Orphenadrine",
           1
          ],
          [
           "220617_090443_Plate_1",
           "E6",
           "Orphenadrine",
           10
          ],
          [
           "220617_090443_Plate_1",
           "E7",
           "Tetracycline",
           1
          ],
          [
           "220617_090443_Plate_1",
           "E8",
           "Tetracycline",
           10
          ],
          [
           "220617_090443_Plate_1",
           "E9",
           "DMSO",
           1.4
          ],
          [
           "220617_090443_Plate_1",
           "F10",
           "Lactose",
           1
          ],
          [
           "220617_090443_Plate_1",
           "F11",
           "Lactose",
           10
          ],
          [
           "220617_090443_Plate_1",
           "F2",
           "Non-treated",
           0
          ],
          [
           "220617_090443_Plate_1",
           "F3",
           "Lovastatin",
           1
          ],
          [
           "220617_090443_Plate_1",
           "F4",
           "Lovastatin",
           10
          ],
          [
           "220617_090443_Plate_1",
           "F5",
           "Orphenadrine",
           1
          ],
          [
           "220617_090443_Plate_1",
           "F6",
           "Orphenadrine",
           10
          ],
          [
           "220617_090443_Plate_1",
           "F7",
           "Tetracycline",
           1
          ],
          [
           "220617_090443_Plate_1",
           "F8",
           "Tetracycline",
           10
          ],
          [
           "220617_090443_Plate_1",
           "F9",
           "DMSO",
           1.4
          ],
          [
           "220617_090443_Plate_1",
           "G10",
           "Lactose",
           1
          ],
          [
           "220617_090443_Plate_1",
           "G11",
           "Lactose",
           10
          ],
          [
           "220617_090443_Plate_1",
           "G2",
           "Non-treated",
           0
          ],
          [
           "220617_090443_Plate_1",
           "G3",
           "Lovastatin",
           1
          ],
          [
           "220617_090443_Plate_1",
           "G4",
           "Lovastatin",
           10
          ],
          [
           "220617_090443_Plate_1",
           "G5",
           "Orphenadrine",
           1
          ],
          [
           "220617_090443_Plate_1",
           "G6",
           "Orphenadrine",
           10
          ],
          [
           "220617_090443_Plate_1",
           "G7",
           "Tetracycline",
           1
          ],
          [
           "220617_090443_Plate_1",
           "G8",
           "Tetracycline",
           10
          ],
          [
           "220617_090443_Plate_1",
           "G9",
           "DMSO",
           1.4
          ]
         ],
         "error_x": {
          "thickness": 3
         },
         "error_y": {
          "thickness": 3
         },
         "hovertemplate": "colors_plot_col=220617_090443_Plate_1<br>0=%{x}<br>1=%{y}<br>Metadata_Plate=%{customdata[0]}<br>Metadata_Well=%{customdata[1]}<br>Metadata_Compound=%{customdata[2]}<br>Metadata_Concentration=%{customdata[3]}<extra></extra>",
         "legendgroup": "220617_090443_Plate_1",
         "marker": {
          "color": "rgb(82, 188, 163)",
          "size": 10,
          "symbol": "circle"
         },
         "mode": "markers",
         "name": "220617_090443_Plate_1",
         "orientation": "v",
         "showlegend": true,
         "type": "scatter",
         "x": [
          5.31111478805542,
          1.8347147703170776,
          3.499798536300659,
          3.2581098079681396,
          2.995959520339966,
          3.7269861698150635,
          3.0615129470825195,
          2.857163906097412,
          5.585015773773193,
          4.987727165222168,
          4.81824254989624,
          3.315696954727173,
          3.8650293350219727,
          4.388321876525879,
          3.891547918319702,
          3.627176284790039,
          3.1228408813476562,
          3.638165235519409,
          4.195988655090332,
          4.9510884284973145,
          4.549540996551514,
          3.1968002319335938,
          2.54120135307312,
          5.021861553192139,
          3.6773054599761963,
          3.8616905212402344,
          2.927867889404297,
          4.242304801940918,
          3.7806317806243896,
          4.680422782897949,
          1.0433924198150635,
          0.4861079752445221,
          2.193603754043579,
          1.065543532371521,
          1.408560037612915,
          1.1889541149139404,
          1.2246131896972656,
          0.6930434107780457,
          1.2268043756484985,
          0.6898933053016663,
          4.930734157562256,
          3.298363447189331,
          1.939362645149231,
          4.810217380523682,
          3.799579381942749,
          1.7191613912582397,
          2.3855457305908203,
          3.1169862747192383,
          2.9417612552642822,
          0.92729651927948,
          3.7894976139068604,
          2.5167198181152344,
          6.179624080657959,
          4.646600723266602,
          3.0698025226593018,
          3.5090765953063965,
          2.0172274112701416,
          2.8200206756591797,
          4.3775763511657715,
          4.764294147491455
         ],
         "xaxis": "x",
         "y": [
          1.022457242012024,
          1.3519785404205322,
          0.590641975402832,
          0.983849287033081,
          0.7158267498016357,
          1.6223359107971191,
          1.7359765768051147,
          1.2897307872772217,
          1.686046838760376,
          0.6897090077400208,
          0.5662714242935181,
          2.3131940364837646,
          2.7251806259155273,
          3.518594980239868,
          1.8878202438354492,
          2.912534475326538,
          1.7994134426116943,
          2.349457263946533,
          2.134303331375122,
          1.0312117338180542,
          0.9709477424621582,
          2.2896437644958496,
          2.2871954441070557,
          3.860280990600586,
          2.8845138549804688,
          1.9787267446517944,
          2.7810301780700684,
          2.4277615547180176,
          2.262700080871582,
          1.3166486024856567,
          1.2245533466339111,
          1.224989414215088,
          2.8926424980163574,
          1.5476511716842651,
          1.6470235586166382,
          1.1413121223449707,
          2.0140469074249268,
          1.844201922416687,
          1.2305916547775269,
          1.561376929283142,
          3.2490484714508057,
          3.6071953773498535,
          2.0136046409606934,
          4.135177135467529,
          3.9185376167297363,
          2.1880693435668945,
          3.47007155418396,
          3.148589849472046,
          3.765202045440674,
          1.8567335605621338,
          3.4677562713623047,
          3.4872612953186035,
          1.3907134532928467,
          2.604677677154541,
          3.775529384613037,
          3.33278489112854,
          2.703871965408325,
          3.236164093017578,
          2.651063919067383,
          1.8516771793365479
         ],
         "yaxis": "y"
        }
       ],
       "layout": {
        "autosize": false,
        "font": {
         "size": 18
        },
        "height": 700,
        "legend": {
         "title": {
          "text": "Metadata_Plate"
         },
         "tracegroupgap": 0
        },
        "margin": {
         "b": 20,
         "l": 50,
         "pad": 4,
         "r": 50,
         "t": 50
        },
        "template": {
         "data": {
          "bar": [
           {
            "error_x": {
             "color": "#2a3f5f"
            },
            "error_y": {
             "color": "#2a3f5f"
            },
            "marker": {
             "line": {
              "color": "#E5ECF6",
              "width": 0.5
             },
             "pattern": {
              "fillmode": "overlay",
              "size": 10,
              "solidity": 0.2
             }
            },
            "type": "bar"
           }
          ],
          "barpolar": [
           {
            "marker": {
             "line": {
              "color": "#E5ECF6",
              "width": 0.5
             },
             "pattern": {
              "fillmode": "overlay",
              "size": 10,
              "solidity": 0.2
             }
            },
            "type": "barpolar"
           }
          ],
          "carpet": [
           {
            "aaxis": {
             "endlinecolor": "#2a3f5f",
             "gridcolor": "white",
             "linecolor": "white",
             "minorgridcolor": "white",
             "startlinecolor": "#2a3f5f"
            },
            "baxis": {
             "endlinecolor": "#2a3f5f",
             "gridcolor": "white",
             "linecolor": "white",
             "minorgridcolor": "white",
             "startlinecolor": "#2a3f5f"
            },
            "type": "carpet"
           }
          ],
          "choropleth": [
           {
            "colorbar": {
             "outlinewidth": 0,
             "ticks": ""
            },
            "type": "choropleth"
           }
          ],
          "contour": [
           {
            "colorbar": {
             "outlinewidth": 0,
             "ticks": ""
            },
            "colorscale": [
             [
              0,
              "#0d0887"
             ],
             [
              0.1111111111111111,
              "#46039f"
             ],
             [
              0.2222222222222222,
              "#7201a8"
             ],
             [
              0.3333333333333333,
              "#9c179e"
             ],
             [
              0.4444444444444444,
              "#bd3786"
             ],
             [
              0.5555555555555556,
              "#d8576b"
             ],
             [
              0.6666666666666666,
              "#ed7953"
             ],
             [
              0.7777777777777778,
              "#fb9f3a"
             ],
             [
              0.8888888888888888,
              "#fdca26"
             ],
             [
              1,
              "#f0f921"
             ]
            ],
            "type": "contour"
           }
          ],
          "contourcarpet": [
           {
            "colorbar": {
             "outlinewidth": 0,
             "ticks": ""
            },
            "type": "contourcarpet"
           }
          ],
          "heatmap": [
           {
            "colorbar": {
             "outlinewidth": 0,
             "ticks": ""
            },
            "colorscale": [
             [
              0,
              "#0d0887"
             ],
             [
              0.1111111111111111,
              "#46039f"
             ],
             [
              0.2222222222222222,
              "#7201a8"
             ],
             [
              0.3333333333333333,
              "#9c179e"
             ],
             [
              0.4444444444444444,
              "#bd3786"
             ],
             [
              0.5555555555555556,
              "#d8576b"
             ],
             [
              0.6666666666666666,
              "#ed7953"
             ],
             [
              0.7777777777777778,
              "#fb9f3a"
             ],
             [
              0.8888888888888888,
              "#fdca26"
             ],
             [
              1,
              "#f0f921"
             ]
            ],
            "type": "heatmap"
           }
          ],
          "heatmapgl": [
           {
            "colorbar": {
             "outlinewidth": 0,
             "ticks": ""
            },
            "colorscale": [
             [
              0,
              "#0d0887"
             ],
             [
              0.1111111111111111,
              "#46039f"
             ],
             [
              0.2222222222222222,
              "#7201a8"
             ],
             [
              0.3333333333333333,
              "#9c179e"
             ],
             [
              0.4444444444444444,
              "#bd3786"
             ],
             [
              0.5555555555555556,
              "#d8576b"
             ],
             [
              0.6666666666666666,
              "#ed7953"
             ],
             [
              0.7777777777777778,
              "#fb9f3a"
             ],
             [
              0.8888888888888888,
              "#fdca26"
             ],
             [
              1,
              "#f0f921"
             ]
            ],
            "type": "heatmapgl"
           }
          ],
          "histogram": [
           {
            "marker": {
             "pattern": {
              "fillmode": "overlay",
              "size": 10,
              "solidity": 0.2
             }
            },
            "type": "histogram"
           }
          ],
          "histogram2d": [
           {
            "colorbar": {
             "outlinewidth": 0,
             "ticks": ""
            },
            "colorscale": [
             [
              0,
              "#0d0887"
             ],
             [
              0.1111111111111111,
              "#46039f"
             ],
             [
              0.2222222222222222,
              "#7201a8"
             ],
             [
              0.3333333333333333,
              "#9c179e"
             ],
             [
              0.4444444444444444,
              "#bd3786"
             ],
             [
              0.5555555555555556,
              "#d8576b"
             ],
             [
              0.6666666666666666,
              "#ed7953"
             ],
             [
              0.7777777777777778,
              "#fb9f3a"
             ],
             [
              0.8888888888888888,
              "#fdca26"
             ],
             [
              1,
              "#f0f921"
             ]
            ],
            "type": "histogram2d"
           }
          ],
          "histogram2dcontour": [
           {
            "colorbar": {
             "outlinewidth": 0,
             "ticks": ""
            },
            "colorscale": [
             [
              0,
              "#0d0887"
             ],
             [
              0.1111111111111111,
              "#46039f"
             ],
             [
              0.2222222222222222,
              "#7201a8"
             ],
             [
              0.3333333333333333,
              "#9c179e"
             ],
             [
              0.4444444444444444,
              "#bd3786"
             ],
             [
              0.5555555555555556,
              "#d8576b"
             ],
             [
              0.6666666666666666,
              "#ed7953"
             ],
             [
              0.7777777777777778,
              "#fb9f3a"
             ],
             [
              0.8888888888888888,
              "#fdca26"
             ],
             [
              1,
              "#f0f921"
             ]
            ],
            "type": "histogram2dcontour"
           }
          ],
          "mesh3d": [
           {
            "colorbar": {
             "outlinewidth": 0,
             "ticks": ""
            },
            "type": "mesh3d"
           }
          ],
          "parcoords": [
           {
            "line": {
             "colorbar": {
              "outlinewidth": 0,
              "ticks": ""
             }
            },
            "type": "parcoords"
           }
          ],
          "pie": [
           {
            "automargin": true,
            "type": "pie"
           }
          ],
          "scatter": [
           {
            "fillpattern": {
             "fillmode": "overlay",
             "size": 10,
             "solidity": 0.2
            },
            "type": "scatter"
           }
          ],
          "scatter3d": [
           {
            "line": {
             "colorbar": {
              "outlinewidth": 0,
              "ticks": ""
             }
            },
            "marker": {
             "colorbar": {
              "outlinewidth": 0,
              "ticks": ""
             }
            },
            "type": "scatter3d"
           }
          ],
          "scattercarpet": [
           {
            "marker": {
             "colorbar": {
              "outlinewidth": 0,
              "ticks": ""
             }
            },
            "type": "scattercarpet"
           }
          ],
          "scattergeo": [
           {
            "marker": {
             "colorbar": {
              "outlinewidth": 0,
              "ticks": ""
             }
            },
            "type": "scattergeo"
           }
          ],
          "scattergl": [
           {
            "marker": {
             "colorbar": {
              "outlinewidth": 0,
              "ticks": ""
             }
            },
            "type": "scattergl"
           }
          ],
          "scattermapbox": [
           {
            "marker": {
             "colorbar": {
              "outlinewidth": 0,
              "ticks": ""
             }
            },
            "type": "scattermapbox"
           }
          ],
          "scatterpolar": [
           {
            "marker": {
             "colorbar": {
              "outlinewidth": 0,
              "ticks": ""
             }
            },
            "type": "scatterpolar"
           }
          ],
          "scatterpolargl": [
           {
            "marker": {
             "colorbar": {
              "outlinewidth": 0,
              "ticks": ""
             }
            },
            "type": "scatterpolargl"
           }
          ],
          "scatterternary": [
           {
            "marker": {
             "colorbar": {
              "outlinewidth": 0,
              "ticks": ""
             }
            },
            "type": "scatterternary"
           }
          ],
          "surface": [
           {
            "colorbar": {
             "outlinewidth": 0,
             "ticks": ""
            },
            "colorscale": [
             [
              0,
              "#0d0887"
             ],
             [
              0.1111111111111111,
              "#46039f"
             ],
             [
              0.2222222222222222,
              "#7201a8"
             ],
             [
              0.3333333333333333,
              "#9c179e"
             ],
             [
              0.4444444444444444,
              "#bd3786"
             ],
             [
              0.5555555555555556,
              "#d8576b"
             ],
             [
              0.6666666666666666,
              "#ed7953"
             ],
             [
              0.7777777777777778,
              "#fb9f3a"
             ],
             [
              0.8888888888888888,
              "#fdca26"
             ],
             [
              1,
              "#f0f921"
             ]
            ],
            "type": "surface"
           }
          ],
          "table": [
           {
            "cells": {
             "fill": {
              "color": "#EBF0F8"
             },
             "line": {
              "color": "white"
             }
            },
            "header": {
             "fill": {
              "color": "#C8D4E3"
             },
             "line": {
              "color": "white"
             }
            },
            "type": "table"
           }
          ]
         },
         "layout": {
          "annotationdefaults": {
           "arrowcolor": "#2a3f5f",
           "arrowhead": 0,
           "arrowwidth": 1
          },
          "autotypenumbers": "strict",
          "coloraxis": {
           "colorbar": {
            "outlinewidth": 0,
            "ticks": ""
           }
          },
          "colorscale": {
           "diverging": [
            [
             0,
             "#8e0152"
            ],
            [
             0.1,
             "#c51b7d"
            ],
            [
             0.2,
             "#de77ae"
            ],
            [
             0.3,
             "#f1b6da"
            ],
            [
             0.4,
             "#fde0ef"
            ],
            [
             0.5,
             "#f7f7f7"
            ],
            [
             0.6,
             "#e6f5d0"
            ],
            [
             0.7,
             "#b8e186"
            ],
            [
             0.8,
             "#7fbc41"
            ],
            [
             0.9,
             "#4d9221"
            ],
            [
             1,
             "#276419"
            ]
           ],
           "sequential": [
            [
             0,
             "#0d0887"
            ],
            [
             0.1111111111111111,
             "#46039f"
            ],
            [
             0.2222222222222222,
             "#7201a8"
            ],
            [
             0.3333333333333333,
             "#9c179e"
            ],
            [
             0.4444444444444444,
             "#bd3786"
            ],
            [
             0.5555555555555556,
             "#d8576b"
            ],
            [
             0.6666666666666666,
             "#ed7953"
            ],
            [
             0.7777777777777778,
             "#fb9f3a"
            ],
            [
             0.8888888888888888,
             "#fdca26"
            ],
            [
             1,
             "#f0f921"
            ]
           ],
           "sequentialminus": [
            [
             0,
             "#0d0887"
            ],
            [
             0.1111111111111111,
             "#46039f"
            ],
            [
             0.2222222222222222,
             "#7201a8"
            ],
            [
             0.3333333333333333,
             "#9c179e"
            ],
            [
             0.4444444444444444,
             "#bd3786"
            ],
            [
             0.5555555555555556,
             "#d8576b"
            ],
            [
             0.6666666666666666,
             "#ed7953"
            ],
            [
             0.7777777777777778,
             "#fb9f3a"
            ],
            [
             0.8888888888888888,
             "#fdca26"
            ],
            [
             1,
             "#f0f921"
            ]
           ]
          },
          "colorway": [
           "#636efa",
           "#EF553B",
           "#00cc96",
           "#ab63fa",
           "#FFA15A",
           "#19d3f3",
           "#FF6692",
           "#B6E880",
           "#FF97FF",
           "#FECB52"
          ],
          "font": {
           "color": "#2a3f5f"
          },
          "geo": {
           "bgcolor": "white",
           "lakecolor": "white",
           "landcolor": "#E5ECF6",
           "showlakes": true,
           "showland": true,
           "subunitcolor": "white"
          },
          "hoverlabel": {
           "align": "left"
          },
          "hovermode": "closest",
          "mapbox": {
           "style": "light"
          },
          "paper_bgcolor": "white",
          "plot_bgcolor": "#E5ECF6",
          "polar": {
           "angularaxis": {
            "gridcolor": "white",
            "linecolor": "white",
            "ticks": ""
           },
           "bgcolor": "#E5ECF6",
           "radialaxis": {
            "gridcolor": "white",
            "linecolor": "white",
            "ticks": ""
           }
          },
          "scene": {
           "xaxis": {
            "backgroundcolor": "#E5ECF6",
            "gridcolor": "white",
            "gridwidth": 2,
            "linecolor": "white",
            "showbackground": true,
            "ticks": "",
            "zerolinecolor": "white"
           },
           "yaxis": {
            "backgroundcolor": "#E5ECF6",
            "gridcolor": "white",
            "gridwidth": 2,
            "linecolor": "white",
            "showbackground": true,
            "ticks": "",
            "zerolinecolor": "white"
           },
           "zaxis": {
            "backgroundcolor": "#E5ECF6",
            "gridcolor": "white",
            "gridwidth": 2,
            "linecolor": "white",
            "showbackground": true,
            "ticks": "",
            "zerolinecolor": "white"
           }
          },
          "shapedefaults": {
           "line": {
            "color": "#2a3f5f"
           }
          },
          "ternary": {
           "aaxis": {
            "gridcolor": "white",
            "linecolor": "white",
            "ticks": ""
           },
           "baxis": {
            "gridcolor": "white",
            "linecolor": "white",
            "ticks": ""
           },
           "bgcolor": "#E5ECF6",
           "caxis": {
            "gridcolor": "white",
            "linecolor": "white",
            "ticks": ""
           }
          },
          "title": {
           "x": 0.05
          },
          "xaxis": {
           "automargin": true,
           "gridcolor": "white",
           "linecolor": "white",
           "ticks": "",
           "title": {
            "standoff": 15
           },
           "zerolinecolor": "white",
           "zerolinewidth": 2
          },
          "yaxis": {
           "automargin": true,
           "gridcolor": "white",
           "linecolor": "white",
           "ticks": "",
           "title": {
            "standoff": 15
           },
           "zerolinecolor": "white",
           "zerolinewidth": 2
          }
         }
        },
        "title": {
         "text": "Labeled by Metadata_Plate"
        },
        "updatemenus": [
         {
          "buttons": [
           {
            "args": [
             "visible",
             "legendonly"
            ],
            "label": "Deselect All",
            "method": "restyle"
           },
           {
            "args": [
             "visible",
             true
            ],
            "label": "Select All",
            "method": "restyle"
           }
          ],
          "direction": "left",
          "pad": {
           "r": 5,
           "t": 5
          },
          "showactive": true,
          "type": "buttons",
          "x": 1,
          "xanchor": "left",
          "y": 1.1,
          "yanchor": "top"
         }
        ],
        "width": 900,
        "xaxis": {
         "anchor": "y",
         "domain": [
          0,
          1
         ],
         "title": {
          "text": "0"
         }
        },
        "yaxis": {
         "anchor": "x",
         "domain": [
          0,
          1
         ],
         "title": {
          "text": "1"
         }
        }
       }
      }
     },
     "metadata": {},
     "output_type": "display_data"
    },
    {
     "data": {
      "application/vnd.plotly.v1+json": {
       "config": {
        "plotlyServerURL": "https://plot.ly",
        "toImageButtonOptions": {
         "filename": "custom_image",
         "format": "svg",
         "height": 500,
         "scale": 6,
         "width": 700
        }
       },
       "data": [
        {
         "customdata": [
          [
           "220617_090443_Plate_1",
           "C2",
           "Non-treated",
           0
          ],
          [
           "220608_152238_Plate_1",
           "G2",
           "Non-treated",
           0
          ],
          [
           "220608_152238_Plate_1",
           "F2",
           "Non-treated",
           0
          ],
          [
           "220617_090443_Plate_1",
           "D2",
           "Non-treated",
           0
          ],
          [
           "220607_092050_Plate_1",
           "E2",
           "Non-treated",
           0
          ],
          [
           "220607_092050_Plate_1",
           "D2",
           "Non-treated",
           0
          ],
          [
           "220607_092050_Plate_1",
           "F2",
           "Non-treated",
           0
          ],
          [
           "220607_092050_Plate_1",
           "G2",
           "Non-treated",
           0
          ],
          [
           "220617_090443_Plate_1",
           "B2",
           "Non-treated",
           0
          ],
          [
           "220617_090443_Plate_1",
           "E2",
           "Non-treated",
           0
          ],
          [
           "220617_090443_Plate_1",
           "G2",
           "Non-treated",
           0
          ],
          [
           "220607_092050_Plate_1",
           "C2",
           "Non-treated",
           0
          ],
          [
           "220608_152238_Plate_1",
           "C2",
           "Non-treated",
           0
          ],
          [
           "220617_090443_Plate_1",
           "F2",
           "Non-treated",
           0
          ],
          [
           "220608_152238_Plate_1",
           "E2",
           "Non-treated",
           0
          ],
          [
           "220608_152238_Plate_1",
           "D2",
           "Non-treated",
           0
          ]
         ],
         "error_x": {
          "thickness": 3
         },
         "error_y": {
          "thickness": 3
         },
         "hovertemplate": "colors_plot_col=Non-treated<br>0=%{x}<br>1=%{y}<br>Metadata_size=%{marker.size}<br>Metadata_Plate=%{customdata[0]}<br>Metadata_Well=%{customdata[1]}<br>Metadata_Compound=%{customdata[2]}<br>Metadata_Concentration=%{customdata[3]}<extra></extra>",
         "legendgroup": "Non-treated",
         "marker": {
          "color": "rgb(36, 121, 108)",
          "size": [
           0,
           0,
           0,
           0,
           0,
           0,
           0,
           0,
           0,
           0,
           0,
           0,
           0,
           0,
           0,
           0
          ],
          "sizemode": "area",
          "sizeref": 0.025,
          "symbol": "circle"
         },
         "mode": "markers",
         "name": "Non-treated",
         "orientation": "v",
         "showlegend": true,
         "type": "scatter",
         "x": [
          3.8650293350219727,
          8.913439750671387,
          5.632327079772949,
          2.54120135307312,
          5.617006778717041,
          8.95867919921875,
          9.501811027526855,
          9.157061576843262,
          3.499798536300659,
          2.193603754043579,
          6.179624080657959,
          8.9307861328125,
          7.683178424835205,
          1.939362645149231,
          7.656205177307129,
          8.199295997619629
         ],
         "xaxis": "x",
         "y": [
          2.7251806259155273,
          4.167147159576416,
          3.636629104614258,
          2.2871954441070557,
          4.557031631469727,
          -5.492730140686035,
          -5.264054298400879,
          -5.996441841125488,
          0.590641975402832,
          2.8926424980163574,
          1.3907134532928467,
          -1.8307037353515625,
          4.673992156982422,
          2.0136046409606934,
          4.38853120803833,
          4.319613933563232
         ],
         "yaxis": "y"
        },
        {
         "customdata": [
          [
           "220607_092050_Plate_1",
           "D5",
           "Amiodarone",
           0.2
          ],
          [
           "220617_090443_Plate_1",
           "D5",
           "Amiodarone",
           0.2
          ],
          [
           "220617_090443_Plate_1",
           "B5",
           "Amiodarone",
           0.2
          ],
          [
           "220617_090443_Plate_1",
           "C5",
           "Amiodarone",
           0.2
          ],
          [
           "220608_152238_Plate_1",
           "B5",
           "Amiodarone",
           0.2
          ],
          [
           "220608_152238_Plate_1",
           "D5",
           "Amiodarone",
           0.2
          ],
          [
           "220607_092050_Plate_1",
           "B5",
           "Amiodarone",
           0.2
          ],
          [
           "220607_092050_Plate_1",
           "C5",
           "Amiodarone",
           0.2
          ],
          [
           "220608_152238_Plate_1",
           "C5",
           "Amiodarone",
           0.2
          ],
          [
           "220617_090443_Plate_1",
           "B6",
           "Amiodarone",
           2
          ],
          [
           "220617_090443_Plate_1",
           "D6",
           "Amiodarone",
           2
          ],
          [
           "220607_092050_Plate_1",
           "D6",
           "Amiodarone",
           2
          ],
          [
           "220607_092050_Plate_1",
           "B6",
           "Amiodarone",
           2
          ],
          [
           "220608_152238_Plate_1",
           "C6",
           "Amiodarone",
           2
          ],
          [
           "220617_090443_Plate_1",
           "C6",
           "Amiodarone",
           2
          ],
          [
           "220607_092050_Plate_1",
           "C6",
           "Amiodarone",
           2
          ],
          [
           "220608_152238_Plate_1",
           "B6",
           "Amiodarone",
           2
          ],
          [
           "220608_152238_Plate_1",
           "D6",
           "Amiodarone",
           2
          ]
         ],
         "error_x": {
          "thickness": 3
         },
         "error_y": {
          "thickness": 3
         },
         "hovertemplate": "colors_plot_col=Amiodarone<br>0=%{x}<br>1=%{y}<br>Metadata_size=%{marker.size}<br>Metadata_Plate=%{customdata[0]}<br>Metadata_Well=%{customdata[1]}<br>Metadata_Compound=%{customdata[2]}<br>Metadata_Concentration=%{customdata[3]}<extra></extra>",
         "legendgroup": "Amiodarone",
         "marker": {
          "color": "#33a02c",
          "size": [
           0,
           0,
           0,
           0,
           0,
           0,
           0,
           0,
           0,
           2,
           2,
           2,
           2,
           2,
           2,
           2,
           2,
           2
          ],
          "sizemode": "area",
          "sizeref": 0.025,
          "symbol": "circle"
         },
         "mode": "markers",
         "name": "Amiodarone",
         "orientation": "v",
         "showlegend": true,
         "type": "scatter",
         "x": [
          8.837701797485352,
          3.8616905212402344,
          3.7269861698150635,
          3.627176284790039,
          6.808204650878906,
          6.98707389831543,
          7.831668376922607,
          8.190865516662598,
          7.315359592437744,
          3.0615129470825195,
          2.927867889404297,
          8.586952209472656,
          7.6438751220703125,
          9.2489595413208,
          3.1228408813476562,
          8.204119682312012,
          7.308581829071045,
          7.47492790222168
         ],
         "xaxis": "x",
         "y": [
          -4.158836364746094,
          1.9787267446517944,
          1.6223359107971191,
          2.912534475326538,
          5.605792045593262,
          3.932197093963623,
          -3.471081018447876,
          -2.622487783432007,
          3.8360698223114014,
          1.7359765768051147,
          2.7810301780700684,
          -3.5120203495025635,
          -3.413900136947632,
          4.662759780883789,
          1.7994134426116943,
          -3.382373809814453,
          4.807146072387695,
          3.8170411586761475
         ],
         "yaxis": "y"
        },
        {
         "customdata": [
          [
           "220608_152238_Plate_1",
           "B11",
           "Vehicle-ETP",
           0
          ],
          [
           "220617_090443_Plate_1",
           "D11",
           "Vehicle-ETP",
           0
          ],
          [
           "220608_152238_Plate_1",
           "D11",
           "Vehicle-ETP",
           0
          ],
          [
           "220617_090443_Plate_1",
           "C11",
           "Vehicle-ETP",
           0
          ],
          [
           "220617_090443_Plate_1",
           "B11",
           "Vehicle-ETP",
           0
          ],
          [
           "220607_092050_Plate_1",
           "D11",
           "Vehicle-ETP",
           0
          ],
          [
           "220607_092050_Plate_1",
           "C11",
           "Vehicle-ETP",
           0
          ],
          [
           "220608_152238_Plate_1",
           "C11",
           "Vehicle-ETP",
           0
          ],
          [
           "220607_092050_Plate_1",
           "B11",
           "Vehicle-ETP",
           0
          ]
         ],
         "error_x": {
          "thickness": 3
         },
         "error_y": {
          "thickness": 3
         },
         "hovertemplate": "colors_plot_col=Vehicle-ETP<br>0=%{x}<br>1=%{y}<br>Metadata_size=%{marker.size}<br>Metadata_Plate=%{customdata[0]}<br>Metadata_Well=%{customdata[1]}<br>Metadata_Compound=%{customdata[2]}<br>Metadata_Concentration=%{customdata[3]}<extra></extra>",
         "legendgroup": "Vehicle-ETP",
         "marker": {
          "color": "rgb(204, 97, 176)",
          "size": [
           0,
           0,
           0,
           0,
           0,
           0,
           0,
           0,
           0
          ],
          "sizemode": "area",
          "sizeref": 0.025,
          "symbol": "circle"
         },
         "mode": "markers",
         "name": "Vehicle-ETP",
         "orientation": "v",
         "showlegend": true,
         "type": "scatter",
         "x": [
          6.4275641441345215,
          3.1968002319335938,
          5.754186153411865,
          3.315696954727173,
          1.8347147703170776,
          8.20317268371582,
          10.104244232177734,
          7.591135025024414,
          8.496153831481934
         ],
         "xaxis": "x",
         "y": [
          5.387349605560303,
          2.2896437644958496,
          4.228285789489746,
          2.3131940364837646,
          1.3519785404205322,
          -3.706592559814453,
          -5.093203544616699,
          2.6802210807800293,
          -1.6542872190475464
         ],
         "yaxis": "y"
        },
        {
         "customdata": [
          [
           "220608_152238_Plate_1",
           "G10",
           "Lactose",
           1
          ],
          [
           "220608_152238_Plate_1",
           "F10",
           "Lactose",
           1
          ],
          [
           "220608_152238_Plate_1",
           "E10",
           "Lactose",
           1
          ],
          [
           "220617_090443_Plate_1",
           "G10",
           "Lactose",
           1
          ],
          [
           "220617_090443_Plate_1",
           "F10",
           "Lactose",
           1
          ],
          [
           "220617_090443_Plate_1",
           "E10",
           "Lactose",
           1
          ],
          [
           "220607_092050_Plate_1",
           "G10",
           "Lactose",
           1
          ],
          [
           "220607_092050_Plate_1",
           "E10",
           "Lactose",
           1
          ],
          [
           "220607_092050_Plate_1",
           "F10",
           "Lactose",
           1
          ],
          [
           "220617_090443_Plate_1",
           "E11",
           "Lactose",
           10
          ],
          [
           "220617_090443_Plate_1",
           "F11",
           "Lactose",
           10
          ],
          [
           "220617_090443_Plate_1",
           "G11",
           "Lactose",
           10
          ],
          [
           "220608_152238_Plate_1",
           "G11",
           "Lactose",
           10
          ],
          [
           "220608_152238_Plate_1",
           "F11",
           "Lactose",
           10
          ],
          [
           "220607_092050_Plate_1",
           "G11",
           "Lactose",
           10
          ],
          [
           "220607_092050_Plate_1",
           "E11",
           "Lactose",
           10
          ],
          [
           "220607_092050_Plate_1",
           "F11",
           "Lactose",
           10
          ]
         ],
         "error_x": {
          "thickness": 3
         },
         "error_y": {
          "thickness": 3
         },
         "hovertemplate": "colors_plot_col=Lactose<br>0=%{x}<br>1=%{y}<br>Metadata_size=%{marker.size}<br>Metadata_Plate=%{customdata[0]}<br>Metadata_Well=%{customdata[1]}<br>Metadata_Compound=%{customdata[2]}<br>Metadata_Concentration=%{customdata[3]}<extra></extra>",
         "legendgroup": "Lactose",
         "marker": {
          "color": "rgb(165, 170, 153)",
          "size": [
           1,
           1,
           1,
           1,
           1,
           1,
           1,
           1,
           1,
           10,
           10,
           10,
           10,
           10,
           10,
           10,
           10
          ],
          "sizemode": "area",
          "sizeref": 0.025,
          "symbol": "circle"
         },
         "mode": "markers",
         "name": "Lactose",
         "orientation": "v",
         "showlegend": true,
         "type": "scatter",
         "x": [
          8.558318138122559,
          6.3396897315979,
          8.165862083435059,
          3.7894976139068604,
          4.930734157562256,
          1.0433924198150635,
          8.98857593536377,
          8.969253540039062,
          10.366790771484375,
          0.4861079752445221,
          3.298363447189331,
          2.5167198181152344,
          8.405917167663574,
          9.378072738647461,
          9.630614280700684,
          8.831113815307617,
          9.485146522521973
         ],
         "xaxis": "x",
         "y": [
          3.0352015495300293,
          4.16301155090332,
          5.983409881591797,
          3.4677562713623047,
          3.2490484714508057,
          1.2245533466339111,
          -5.395283222198486,
          -1.0649923086166382,
          -4.410905838012695,
          1.224989414215088,
          3.6071953773498535,
          3.4872612953186035,
          2.8462250232696533,
          4.070326805114746,
          -5.024494171142578,
          -1.4722750186920166,
          -3.706088066101074
         ],
         "yaxis": "y"
        },
        {
         "customdata": [
          [
           "220608_152238_Plate_1",
           "F9",
           "DMSO",
           1.4
          ],
          [
           "220608_152238_Plate_1",
           "E9",
           "DMSO",
           1.4
          ],
          [
           "220617_090443_Plate_1",
           "F9",
           "DMSO",
           1.4
          ],
          [
           "220617_090443_Plate_1",
           "E9",
           "DMSO",
           1.4
          ],
          [
           "220608_152238_Plate_1",
           "G9",
           "DMSO",
           1.4
          ],
          [
           "220617_090443_Plate_1",
           "G9",
           "DMSO",
           1.4
          ],
          [
           "220607_092050_Plate_1",
           "F9",
           "DMSO",
           1.4
          ],
          [
           "220607_092050_Plate_1",
           "E9",
           "DMSO",
           1.4
          ],
          [
           "220607_092050_Plate_1",
           "G9",
           "DMSO",
           1.4
          ]
         ],
         "error_x": {
          "thickness": 3
         },
         "error_y": {
          "thickness": 3
         },
         "hovertemplate": "colors_plot_col=DMSO<br>0=%{x}<br>1=%{y}<br>Metadata_size=%{marker.size}<br>Metadata_Plate=%{customdata[0]}<br>Metadata_Well=%{customdata[1]}<br>Metadata_Compound=%{customdata[2]}<br>Metadata_Concentration=%{customdata[3]}<extra></extra>",
         "legendgroup": "DMSO",
         "marker": {
          "color": "rgb(237, 100, 90)",
          "size": [
           1,
           1,
           1,
           1,
           1,
           1,
           1,
           1,
           1
          ],
          "sizemode": "area",
          "sizeref": 0.025,
          "symbol": "circle"
         },
         "mode": "markers",
         "name": "DMSO",
         "orientation": "v",
         "showlegend": true,
         "type": "scatter",
         "x": [
          6.16864538192749,
          7.81223726272583,
          0.92729651927948,
          0.6898933053016663,
          5.360366344451904,
          4.764294147491455,
          7.163944244384766,
          9.17434024810791,
          9.93029499053955
         ],
         "xaxis": "x",
         "y": [
          4.424880504608154,
          6.019018650054932,
          1.8567335605621338,
          1.561376929283142,
          3.3116910457611084,
          1.8516771793365479,
          -1.6815954446792603,
          -0.8958522081375122,
          -4.822314262390137
         ],
         "yaxis": "y"
        },
        {
         "customdata": [
          [
           "220608_152238_Plate_1",
           "D3",
           "Aspirin",
           1
          ],
          [
           "220617_090443_Plate_1",
           "D3",
           "Aspirin",
           1
          ],
          [
           "220617_090443_Plate_1",
           "C3",
           "Aspirin",
           1
          ],
          [
           "220617_090443_Plate_1",
           "B3",
           "Aspirin",
           1
          ],
          [
           "220607_092050_Plate_1",
           "D3",
           "Aspirin",
           1
          ],
          [
           "220607_092050_Plate_1",
           "C3",
           "Aspirin",
           1
          ],
          [
           "220607_092050_Plate_1",
           "B3",
           "Aspirin",
           1
          ],
          [
           "220608_152238_Plate_1",
           "C3",
           "Aspirin",
           1
          ],
          [
           "220608_152238_Plate_1",
           "B3",
           "Aspirin",
           1
          ],
          [
           "220607_092050_Plate_1",
           "D4",
           "Aspirin",
           10
          ],
          [
           "220608_152238_Plate_1",
           "D4",
           "Aspirin",
           10
          ],
          [
           "220607_092050_Plate_1",
           "C4",
           "Aspirin",
           10
          ],
          [
           "220608_152238_Plate_1",
           "C4",
           "Aspirin",
           10
          ],
          [
           "220607_092050_Plate_1",
           "B4",
           "Aspirin",
           10
          ],
          [
           "220617_090443_Plate_1",
           "D4",
           "Aspirin",
           10
          ],
          [
           "220617_090443_Plate_1",
           "B4",
           "Aspirin",
           10
          ],
          [
           "220617_090443_Plate_1",
           "C4",
           "Aspirin",
           10
          ],
          [
           "220608_152238_Plate_1",
           "B4",
           "Aspirin",
           10
          ]
         ],
         "error_x": {
          "thickness": 3
         },
         "error_y": {
          "thickness": 3
         },
         "hovertemplate": "colors_plot_col=Aspirin<br>0=%{x}<br>1=%{y}<br>Metadata_size=%{marker.size}<br>Metadata_Plate=%{customdata[0]}<br>Metadata_Well=%{customdata[1]}<br>Metadata_Compound=%{customdata[2]}<br>Metadata_Concentration=%{customdata[3]}<extra></extra>",
         "legendgroup": "Aspirin",
         "marker": {
          "color": "#1f78b4",
          "size": [
           1,
           1,
           1,
           1,
           1,
           1,
           1,
           1,
           1,
           10,
           10,
           10,
           10,
           10,
           10,
           10,
           10,
           10
          ],
          "sizemode": "area",
          "sizeref": 0.025,
          "symbol": "circle"
         },
         "mode": "markers",
         "name": "Aspirin",
         "orientation": "v",
         "showlegend": true,
         "type": "scatter",
         "x": [
          8.963052749633789,
          5.021861553192139,
          4.388321876525879,
          3.2581098079681396,
          9.283173561096191,
          9.407236099243164,
          7.7925519943237305,
          5.569513320922852,
          6.6759514808654785,
          8.290548324584961,
          8.03329086303711,
          8.14754867553711,
          9.143298149108887,
          7.963379859924316,
          3.6773054599761963,
          2.995959520339966,
          3.891547918319702,
          7.3237762451171875
         ],
         "xaxis": "x",
         "y": [
          3.7012739181518555,
          3.860280990600586,
          3.518594980239868,
          0.983849287033081,
          -3.8737008571624756,
          -3.5903098583221436,
          -3.737186908721924,
          4.458078384399414,
          6.138972282409668,
          -4.199131488800049,
          3.910616159439087,
          -2.6179161071777344,
          3.729391574859619,
          -3.2692272663116455,
          2.8845138549804688,
          0.7158267498016357,
          1.8878202438354492,
          6.272468566894531
         ],
         "yaxis": "y"
        },
        {
         "customdata": [
          [
           "220608_152238_Plate_1",
           "F3",
           "Lovastatin",
           1
          ],
          [
           "220608_152238_Plate_1",
           "E3",
           "Lovastatin",
           1
          ],
          [
           "220608_152238_Plate_1",
           "G3",
           "Lovastatin",
           1
          ],
          [
           "220617_090443_Plate_1",
           "G3",
           "Lovastatin",
           1
          ],
          [
           "220617_090443_Plate_1",
           "F3",
           "Lovastatin",
           1
          ],
          [
           "220617_090443_Plate_1",
           "E3",
           "Lovastatin",
           1
          ],
          [
           "220607_092050_Plate_1",
           "G3",
           "Lovastatin",
           1
          ],
          [
           "220607_092050_Plate_1",
           "F3",
           "Lovastatin",
           1
          ],
          [
           "220607_092050_Plate_1",
           "E3",
           "Lovastatin",
           1
          ],
          [
           "220608_152238_Plate_1",
           "F4",
           "Lovastatin",
           10
          ],
          [
           "220617_090443_Plate_1",
           "E4",
           "Lovastatin",
           10
          ],
          [
           "220617_090443_Plate_1",
           "F4",
           "Lovastatin",
           10
          ],
          [
           "220617_090443_Plate_1",
           "G4",
           "Lovastatin",
           10
          ],
          [
           "220608_152238_Plate_1",
           "G4",
           "Lovastatin",
           10
          ],
          [
           "220607_092050_Plate_1",
           "G4",
           "Lovastatin",
           10
          ],
          [
           "220607_092050_Plate_1",
           "E4",
           "Lovastatin",
           10
          ],
          [
           "220607_092050_Plate_1",
           "F4",
           "Lovastatin",
           10
          ],
          [
           "220608_152238_Plate_1",
           "E4",
           "Lovastatin",
           10
          ]
         ],
         "error_x": {
          "thickness": 3
         },
         "error_y": {
          "thickness": 3
         },
         "hovertemplate": "colors_plot_col=Lovastatin<br>0=%{x}<br>1=%{y}<br>Metadata_size=%{marker.size}<br>Metadata_Plate=%{customdata[0]}<br>Metadata_Well=%{customdata[1]}<br>Metadata_Compound=%{customdata[2]}<br>Metadata_Concentration=%{customdata[3]}<extra></extra>",
         "legendgroup": "Lovastatin",
         "marker": {
          "color": "#6a3d9a",
          "size": [
           1,
           1,
           1,
           1,
           1,
           1,
           1,
           1,
           1,
           10,
           10,
           10,
           10,
           10,
           10,
           10,
           10,
           10
          ],
          "sizemode": "area",
          "sizeref": 0.025,
          "symbol": "circle"
         },
         "mode": "markers",
         "name": "Lovastatin",
         "orientation": "v",
         "showlegend": true,
         "type": "scatter",
         "x": [
          7.469192028045654,
          8.00447940826416,
          5.907471179962158,
          4.646600723266602,
          4.810217380523682,
          1.065543532371521,
          9.317242622375488,
          10.128488540649414,
          10.380448341369629,
          7.20366907119751,
          1.408560037612915,
          3.799579381942749,
          3.0698025226593018,
          8.765301704406738,
          9.397955894470215,
          10.471118927001953,
          9.7584810256958,
          8.41483211517334
         ],
         "xaxis": "x",
         "y": [
          3.039928674697876,
          4.151540756225586,
          3.995123863220215,
          2.604677677154541,
          4.135177135467529,
          1.5476511716842651,
          -6.039540767669678,
          -6.018991947174072,
          -5.524185657501221,
          1.6985572576522827,
          1.6470235586166382,
          3.9185376167297363,
          3.775529384613037,
          3.497537851333618,
          -5.7184319496154785,
          -5.548771381378174,
          -6.012380123138428,
          5.799703598022461
         ],
         "yaxis": "y"
        },
        {
         "customdata": [
          [
           "220608_152238_Plate_1",
           "F5",
           "Orphenadrine",
           1
          ],
          [
           "220608_152238_Plate_1",
           "E5",
           "Orphenadrine",
           1
          ],
          [
           "220617_090443_Plate_1",
           "G5",
           "Orphenadrine",
           1
          ],
          [
           "220617_090443_Plate_1",
           "F5",
           "Orphenadrine",
           1
          ],
          [
           "220608_152238_Plate_1",
           "G5",
           "Orphenadrine",
           1
          ],
          [
           "220617_090443_Plate_1",
           "E5",
           "Orphenadrine",
           1
          ],
          [
           "220607_092050_Plate_1",
           "F5",
           "Orphenadrine",
           1
          ],
          [
           "220607_092050_Plate_1",
           "E5",
           "Orphenadrine",
           1
          ],
          [
           "220607_092050_Plate_1",
           "G5",
           "Orphenadrine",
           1
          ],
          [
           "220617_090443_Plate_1",
           "E6",
           "Orphenadrine",
           10
          ],
          [
           "220617_090443_Plate_1",
           "F6",
           "Orphenadrine",
           10
          ],
          [
           "220617_090443_Plate_1",
           "G6",
           "Orphenadrine",
           10
          ],
          [
           "220608_152238_Plate_1",
           "G6",
           "Orphenadrine",
           10
          ],
          [
           "220607_092050_Plate_1",
           "F6",
           "Orphenadrine",
           10
          ],
          [
           "220608_152238_Plate_1",
           "F6",
           "Orphenadrine",
           10
          ],
          [
           "220607_092050_Plate_1",
           "G6",
           "Orphenadrine",
           10
          ],
          [
           "220608_152238_Plate_1",
           "E6",
           "Orphenadrine",
           10
          ],
          [
           "220607_092050_Plate_1",
           "E6",
           "Orphenadrine",
           10
          ]
         ],
         "error_x": {
          "thickness": 3
         },
         "error_y": {
          "thickness": 3
         },
         "hovertemplate": "colors_plot_col=Orphenadrine<br>0=%{x}<br>1=%{y}<br>Metadata_size=%{marker.size}<br>Metadata_Plate=%{customdata[0]}<br>Metadata_Well=%{customdata[1]}<br>Metadata_Compound=%{customdata[2]}<br>Metadata_Concentration=%{customdata[3]}<extra></extra>",
         "legendgroup": "Orphenadrine",
         "marker": {
          "color": "#a6cee3",
          "size": [
           1,
           1,
           1,
           1,
           1,
           1,
           1,
           1,
           1,
           10,
           10,
           10,
           10,
           10,
           10,
           10,
           10,
           10
          ],
          "sizemode": "area",
          "sizeref": 0.025,
          "symbol": "circle"
         },
         "mode": "markers",
         "name": "Orphenadrine",
         "orientation": "v",
         "showlegend": true,
         "type": "scatter",
         "x": [
          9.436202049255371,
          8.764602661132812,
          3.5090765953063965,
          1.7191613912582397,
          8.952875137329102,
          1.1889541149139404,
          10.06275463104248,
          9.29043960571289,
          8.900607109069824,
          1.2246131896972656,
          2.3855457305908203,
          2.0172274112701416,
          9.011972427368164,
          9.970742225646973,
          7.650525093078613,
          9.254225730895996,
          6.823659896850586,
          9.536375999450684
         ],
         "xaxis": "x",
         "y": [
          4.504329204559326,
          5.5554046630859375,
          3.33278489112854,
          2.1880693435668945,
          4.060347080230713,
          1.1413121223449707,
          -5.75369930267334,
          -1.4160650968551636,
          -5.139658451080322,
          2.0140469074249268,
          3.47007155418396,
          2.703871965408325,
          4.856146812438965,
          -6.131853103637695,
          3.5227441787719727,
          -5.827737331390381,
          1.2648818492889404,
          -1.295790195465088
         ],
         "yaxis": "y"
        },
        {
         "customdata": [
          [
           "220608_152238_Plate_1",
           "D7",
           "Cyclophosphamide",
           1
          ],
          [
           "220617_090443_Plate_1",
           "D7",
           "Cyclophosphamide",
           1
          ],
          [
           "220617_090443_Plate_1",
           "C7",
           "Cyclophosphamide",
           1
          ],
          [
           "220617_090443_Plate_1",
           "B7",
           "Cyclophosphamide",
           1
          ],
          [
           "220608_152238_Plate_1",
           "C7",
           "Cyclophosphamide",
           1
          ],
          [
           "220607_092050_Plate_1",
           "D7",
           "Cyclophosphamide",
           1
          ],
          [
           "220607_092050_Plate_1",
           "C7",
           "Cyclophosphamide",
           1
          ],
          [
           "220607_092050_Plate_1",
           "B7",
           "Cyclophosphamide",
           1
          ],
          [
           "220608_152238_Plate_1",
           "B7",
           "Cyclophosphamide",
           1
          ],
          [
           "220617_090443_Plate_1",
           "D8",
           "Cyclophosphamide",
           10
          ],
          [
           "220607_092050_Plate_1",
           "D8",
           "Cyclophosphamide",
           10
          ],
          [
           "220607_092050_Plate_1",
           "C8",
           "Cyclophosphamide",
           10
          ],
          [
           "220607_092050_Plate_1",
           "B8",
           "Cyclophosphamide",
           10
          ],
          [
           "220608_152238_Plate_1",
           "D8",
           "Cyclophosphamide",
           10
          ],
          [
           "220608_152238_Plate_1",
           "B8",
           "Cyclophosphamide",
           10
          ],
          [
           "220617_090443_Plate_1",
           "C8",
           "Cyclophosphamide",
           10
          ],
          [
           "220608_152238_Plate_1",
           "C8",
           "Cyclophosphamide",
           10
          ],
          [
           "220617_090443_Plate_1",
           "B8",
           "Cyclophosphamide",
           10
          ]
         ],
         "error_x": {
          "thickness": 3
         },
         "error_y": {
          "thickness": 3
         },
         "hovertemplate": "colors_plot_col=Cyclophosphamide<br>0=%{x}<br>1=%{y}<br>Metadata_size=%{marker.size}<br>Metadata_Plate=%{customdata[0]}<br>Metadata_Well=%{customdata[1]}<br>Metadata_Compound=%{customdata[2]}<br>Metadata_Concentration=%{customdata[3]}<extra></extra>",
         "legendgroup": "Cyclophosphamide",
         "marker": {
          "color": "#e31a1c",
          "size": [
           1,
           1,
           1,
           1,
           1,
           1,
           1,
           1,
           1,
           10,
           10,
           10,
           10,
           10,
           10,
           10,
           10,
           10
          ],
          "sizemode": "area",
          "sizeref": 0.025,
          "symbol": "circle"
         },
         "mode": "markers",
         "name": "Cyclophosphamide",
         "orientation": "v",
         "showlegend": true,
         "type": "scatter",
         "x": [
          8.562688827514648,
          4.242304801940918,
          3.638165235519409,
          2.857163906097412,
          7.947429656982422,
          9.141396522521973,
          9.242924690246582,
          7.829371929168701,
          6.948095321655273,
          3.7806317806243896,
          8.674625396728516,
          8.362249374389648,
          7.7163166999816895,
          8.200589179992676,
          7.400489330291748,
          4.195988655090332,
          6.707025527954102,
          5.585015773773193
         ],
         "xaxis": "x",
         "y": [
          3.31857967376709,
          2.4277615547180176,
          2.349457263946533,
          1.2897307872772217,
          3.8688697814941406,
          -4.609489440917969,
          -2.8592355251312256,
          -2.425039052963257,
          5.836808681488037,
          2.262700080871582,
          -4.851705551147461,
          -3.9891786575317383,
          -3.4094579219818115,
          3.453260898590088,
          5.787081718444824,
          2.134303331375122,
          1.6673375368118286,
          1.686046838760376
         ],
         "yaxis": "y"
        },
        {
         "customdata": [
          [
           "220608_152238_Plate_1",
           "D9",
           "Etoposide",
           1
          ],
          [
           "220617_090443_Plate_1",
           "D9",
           "Etoposide",
           1
          ],
          [
           "220617_090443_Plate_1",
           "C9",
           "Etoposide",
           1
          ],
          [
           "220617_090443_Plate_1",
           "B9",
           "Etoposide",
           1
          ],
          [
           "220608_152238_Plate_1",
           "C9",
           "Etoposide",
           1
          ],
          [
           "220607_092050_Plate_1",
           "D9",
           "Etoposide",
           1
          ],
          [
           "220607_092050_Plate_1",
           "C9",
           "Etoposide",
           1
          ],
          [
           "220607_092050_Plate_1",
           "B9",
           "Etoposide",
           1
          ],
          [
           "220608_152238_Plate_1",
           "B9",
           "Etoposide",
           1
          ],
          [
           "220607_092050_Plate_1",
           "D10",
           "Etoposide",
           10
          ],
          [
           "220608_152238_Plate_1",
           "C10",
           "Etoposide",
           10
          ],
          [
           "220607_092050_Plate_1",
           "C10",
           "Etoposide",
           10
          ],
          [
           "220608_152238_Plate_1",
           "D10",
           "Etoposide",
           10
          ],
          [
           "220617_090443_Plate_1",
           "B10",
           "Etoposide",
           10
          ],
          [
           "220608_152238_Plate_1",
           "B10",
           "Etoposide",
           10
          ],
          [
           "220617_090443_Plate_1",
           "D10",
           "Etoposide",
           10
          ],
          [
           "220617_090443_Plate_1",
           "C10",
           "Etoposide",
           10
          ],
          [
           "220607_092050_Plate_1",
           "B10",
           "Etoposide",
           10
          ]
         ],
         "error_x": {
          "thickness": 3
         },
         "error_y": {
          "thickness": 3
         },
         "hovertemplate": "colors_plot_col=Etoposide<br>0=%{x}<br>1=%{y}<br>Metadata_size=%{marker.size}<br>Metadata_Plate=%{customdata[0]}<br>Metadata_Well=%{customdata[1]}<br>Metadata_Compound=%{customdata[2]}<br>Metadata_Concentration=%{customdata[3]}<extra></extra>",
         "legendgroup": "Etoposide",
         "marker": {
          "color": "#ff7f00",
          "size": [
           1,
           1,
           1,
           1,
           1,
           1,
           1,
           1,
           1,
           10,
           10,
           10,
           10,
           10,
           10,
           10,
           10,
           10
          ],
          "sizemode": "area",
          "sizeref": 0.025,
          "symbol": "circle"
         },
         "mode": "markers",
         "name": "Etoposide",
         "orientation": "v",
         "showlegend": true,
         "type": "scatter",
         "x": [
          8.90939712524414,
          4.680422782897949,
          4.9510884284973145,
          4.987727165222168,
          8.663969039916992,
          7.790373802185059,
          8.207437515258789,
          7.684168338775635,
          5.940806865692139,
          7.72511625289917,
          8.823923110961914,
          7.227214813232422,
          8.289789199829102,
          5.31111478805542,
          7.305424690246582,
          4.549540996551514,
          4.81824254989624,
          7.277199745178223
         ],
         "xaxis": "x",
         "y": [
          4.489238262176514,
          1.3166486024856567,
          1.0312117338180542,
          0.6897090077400208,
          4.842966556549072,
          -4.675857067108154,
          -4.955026626586914,
          -2.698883295059204,
          5.025240421295166,
          -4.33574914932251,
          5.26302433013916,
          -2.5249109268188477,
          4.861856937408447,
          1.022457242012024,
          5.315536975860596,
          0.9709477424621582,
          0.5662714242935181,
          -2.568594217300415
         ],
         "yaxis": "y"
        },
        {
         "customdata": [
          [
           "220608_152238_Plate_1",
           "E7",
           "Tetracycline",
           1
          ],
          [
           "220608_152238_Plate_1",
           "F7",
           "Tetracycline",
           1
          ],
          [
           "220608_152238_Plate_1",
           "G7",
           "Tetracycline",
           1
          ],
          [
           "220617_090443_Plate_1",
           "G7",
           "Tetracycline",
           1
          ],
          [
           "220617_090443_Plate_1",
           "F7",
           "Tetracycline",
           1
          ],
          [
           "220617_090443_Plate_1",
           "E7",
           "Tetracycline",
           1
          ],
          [
           "220607_092050_Plate_1",
           "F7",
           "Tetracycline",
           1
          ],
          [
           "220607_092050_Plate_1",
           "E7",
           "Tetracycline",
           1
          ],
          [
           "220607_092050_Plate_1",
           "G7",
           "Tetracycline",
           1
          ],
          [
           "220617_090443_Plate_1",
           "F8",
           "Tetracycline",
           10
          ],
          [
           "220617_090443_Plate_1",
           "E8",
           "Tetracycline",
           10
          ],
          [
           "220617_090443_Plate_1",
           "G8",
           "Tetracycline",
           10
          ],
          [
           "220608_152238_Plate_1",
           "G8",
           "Tetracycline",
           10
          ],
          [
           "220607_092050_Plate_1",
           "F8",
           "Tetracycline",
           10
          ],
          [
           "220608_152238_Plate_1",
           "E8",
           "Tetracycline",
           10
          ],
          [
           "220608_152238_Plate_1",
           "F8",
           "Tetracycline",
           10
          ],
          [
           "220607_092050_Plate_1",
           "G8",
           "Tetracycline",
           10
          ],
          [
           "220607_092050_Plate_1",
           "E8",
           "Tetracycline",
           10
          ]
         ],
         "error_x": {
          "thickness": 3
         },
         "error_y": {
          "thickness": 3
         },
         "hovertemplate": "colors_plot_col=Tetracycline<br>0=%{x}<br>1=%{y}<br>Metadata_size=%{marker.size}<br>Metadata_Plate=%{customdata[0]}<br>Metadata_Well=%{customdata[1]}<br>Metadata_Compound=%{customdata[2]}<br>Metadata_Concentration=%{customdata[3]}<extra></extra>",
         "legendgroup": "Tetracycline",
         "marker": {
          "color": "rgb(118, 78, 159)",
          "size": [
           1,
           1,
           1,
           1,
           1,
           1,
           1,
           1,
           1,
           10,
           10,
           10,
           10,
           10,
           10,
           10,
           10,
           10
          ],
          "sizemode": "area",
          "sizeref": 0.025,
          "symbol": "circle"
         },
         "mode": "markers",
         "name": "Tetracycline",
         "orientation": "v",
         "showlegend": true,
         "type": "scatter",
         "x": [
          7.340031623840332,
          8.086760520935059,
          7.4853715896606445,
          2.8200206756591797,
          3.1169862747192383,
          0.6930434107780457,
          10.426215171813965,
          10.475343704223633,
          9.250548362731934,
          2.9417612552642822,
          1.2268043756484985,
          4.3775763511657715,
          7.416534423828125,
          10.516118049621582,
          7.6282124519348145,
          7.697093486785889,
          9.722610473632812,
          10.456879615783691
         ],
         "xaxis": "x",
         "y": [
          6.058836936950684,
          3.0716826915740967,
          2.869736433029175,
          3.236164093017578,
          3.148589849472046,
          1.844201922416687,
          -4.957630157470703,
          -4.283230781555176,
          -5.350354194641113,
          3.765202045440674,
          1.2305916547775269,
          2.651063919067383,
          2.020028591156006,
          -4.9218010902404785,
          6.286411285400391,
          3.4484100341796875,
          -4.781811714172363,
          -3.746652126312256
         ],
         "yaxis": "y"
        }
       ],
       "layout": {
        "autosize": false,
        "font": {
         "size": 18
        },
        "height": 700,
        "legend": {
         "itemsizing": "constant",
         "title": {
          "text": "Metadata_Compound"
         },
         "tracegroupgap": 0
        },
        "margin": {
         "b": 20,
         "l": 50,
         "pad": 4,
         "r": 50,
         "t": 50
        },
        "template": {
         "data": {
          "bar": [
           {
            "error_x": {
             "color": "#2a3f5f"
            },
            "error_y": {
             "color": "#2a3f5f"
            },
            "marker": {
             "line": {
              "color": "#E5ECF6",
              "width": 0.5
             },
             "pattern": {
              "fillmode": "overlay",
              "size": 10,
              "solidity": 0.2
             }
            },
            "type": "bar"
           }
          ],
          "barpolar": [
           {
            "marker": {
             "line": {
              "color": "#E5ECF6",
              "width": 0.5
             },
             "pattern": {
              "fillmode": "overlay",
              "size": 10,
              "solidity": 0.2
             }
            },
            "type": "barpolar"
           }
          ],
          "carpet": [
           {
            "aaxis": {
             "endlinecolor": "#2a3f5f",
             "gridcolor": "white",
             "linecolor": "white",
             "minorgridcolor": "white",
             "startlinecolor": "#2a3f5f"
            },
            "baxis": {
             "endlinecolor": "#2a3f5f",
             "gridcolor": "white",
             "linecolor": "white",
             "minorgridcolor": "white",
             "startlinecolor": "#2a3f5f"
            },
            "type": "carpet"
           }
          ],
          "choropleth": [
           {
            "colorbar": {
             "outlinewidth": 0,
             "ticks": ""
            },
            "type": "choropleth"
           }
          ],
          "contour": [
           {
            "colorbar": {
             "outlinewidth": 0,
             "ticks": ""
            },
            "colorscale": [
             [
              0,
              "#0d0887"
             ],
             [
              0.1111111111111111,
              "#46039f"
             ],
             [
              0.2222222222222222,
              "#7201a8"
             ],
             [
              0.3333333333333333,
              "#9c179e"
             ],
             [
              0.4444444444444444,
              "#bd3786"
             ],
             [
              0.5555555555555556,
              "#d8576b"
             ],
             [
              0.6666666666666666,
              "#ed7953"
             ],
             [
              0.7777777777777778,
              "#fb9f3a"
             ],
             [
              0.8888888888888888,
              "#fdca26"
             ],
             [
              1,
              "#f0f921"
             ]
            ],
            "type": "contour"
           }
          ],
          "contourcarpet": [
           {
            "colorbar": {
             "outlinewidth": 0,
             "ticks": ""
            },
            "type": "contourcarpet"
           }
          ],
          "heatmap": [
           {
            "colorbar": {
             "outlinewidth": 0,
             "ticks": ""
            },
            "colorscale": [
             [
              0,
              "#0d0887"
             ],
             [
              0.1111111111111111,
              "#46039f"
             ],
             [
              0.2222222222222222,
              "#7201a8"
             ],
             [
              0.3333333333333333,
              "#9c179e"
             ],
             [
              0.4444444444444444,
              "#bd3786"
             ],
             [
              0.5555555555555556,
              "#d8576b"
             ],
             [
              0.6666666666666666,
              "#ed7953"
             ],
             [
              0.7777777777777778,
              "#fb9f3a"
             ],
             [
              0.8888888888888888,
              "#fdca26"
             ],
             [
              1,
              "#f0f921"
             ]
            ],
            "type": "heatmap"
           }
          ],
          "heatmapgl": [
           {
            "colorbar": {
             "outlinewidth": 0,
             "ticks": ""
            },
            "colorscale": [
             [
              0,
              "#0d0887"
             ],
             [
              0.1111111111111111,
              "#46039f"
             ],
             [
              0.2222222222222222,
              "#7201a8"
             ],
             [
              0.3333333333333333,
              "#9c179e"
             ],
             [
              0.4444444444444444,
              "#bd3786"
             ],
             [
              0.5555555555555556,
              "#d8576b"
             ],
             [
              0.6666666666666666,
              "#ed7953"
             ],
             [
              0.7777777777777778,
              "#fb9f3a"
             ],
             [
              0.8888888888888888,
              "#fdca26"
             ],
             [
              1,
              "#f0f921"
             ]
            ],
            "type": "heatmapgl"
           }
          ],
          "histogram": [
           {
            "marker": {
             "pattern": {
              "fillmode": "overlay",
              "size": 10,
              "solidity": 0.2
             }
            },
            "type": "histogram"
           }
          ],
          "histogram2d": [
           {
            "colorbar": {
             "outlinewidth": 0,
             "ticks": ""
            },
            "colorscale": [
             [
              0,
              "#0d0887"
             ],
             [
              0.1111111111111111,
              "#46039f"
             ],
             [
              0.2222222222222222,
              "#7201a8"
             ],
             [
              0.3333333333333333,
              "#9c179e"
             ],
             [
              0.4444444444444444,
              "#bd3786"
             ],
             [
              0.5555555555555556,
              "#d8576b"
             ],
             [
              0.6666666666666666,
              "#ed7953"
             ],
             [
              0.7777777777777778,
              "#fb9f3a"
             ],
             [
              0.8888888888888888,
              "#fdca26"
             ],
             [
              1,
              "#f0f921"
             ]
            ],
            "type": "histogram2d"
           }
          ],
          "histogram2dcontour": [
           {
            "colorbar": {
             "outlinewidth": 0,
             "ticks": ""
            },
            "colorscale": [
             [
              0,
              "#0d0887"
             ],
             [
              0.1111111111111111,
              "#46039f"
             ],
             [
              0.2222222222222222,
              "#7201a8"
             ],
             [
              0.3333333333333333,
              "#9c179e"
             ],
             [
              0.4444444444444444,
              "#bd3786"
             ],
             [
              0.5555555555555556,
              "#d8576b"
             ],
             [
              0.6666666666666666,
              "#ed7953"
             ],
             [
              0.7777777777777778,
              "#fb9f3a"
             ],
             [
              0.8888888888888888,
              "#fdca26"
             ],
             [
              1,
              "#f0f921"
             ]
            ],
            "type": "histogram2dcontour"
           }
          ],
          "mesh3d": [
           {
            "colorbar": {
             "outlinewidth": 0,
             "ticks": ""
            },
            "type": "mesh3d"
           }
          ],
          "parcoords": [
           {
            "line": {
             "colorbar": {
              "outlinewidth": 0,
              "ticks": ""
             }
            },
            "type": "parcoords"
           }
          ],
          "pie": [
           {
            "automargin": true,
            "type": "pie"
           }
          ],
          "scatter": [
           {
            "fillpattern": {
             "fillmode": "overlay",
             "size": 10,
             "solidity": 0.2
            },
            "type": "scatter"
           }
          ],
          "scatter3d": [
           {
            "line": {
             "colorbar": {
              "outlinewidth": 0,
              "ticks": ""
             }
            },
            "marker": {
             "colorbar": {
              "outlinewidth": 0,
              "ticks": ""
             }
            },
            "type": "scatter3d"
           }
          ],
          "scattercarpet": [
           {
            "marker": {
             "colorbar": {
              "outlinewidth": 0,
              "ticks": ""
             }
            },
            "type": "scattercarpet"
           }
          ],
          "scattergeo": [
           {
            "marker": {
             "colorbar": {
              "outlinewidth": 0,
              "ticks": ""
             }
            },
            "type": "scattergeo"
           }
          ],
          "scattergl": [
           {
            "marker": {
             "colorbar": {
              "outlinewidth": 0,
              "ticks": ""
             }
            },
            "type": "scattergl"
           }
          ],
          "scattermapbox": [
           {
            "marker": {
             "colorbar": {
              "outlinewidth": 0,
              "ticks": ""
             }
            },
            "type": "scattermapbox"
           }
          ],
          "scatterpolar": [
           {
            "marker": {
             "colorbar": {
              "outlinewidth": 0,
              "ticks": ""
             }
            },
            "type": "scatterpolar"
           }
          ],
          "scatterpolargl": [
           {
            "marker": {
             "colorbar": {
              "outlinewidth": 0,
              "ticks": ""
             }
            },
            "type": "scatterpolargl"
           }
          ],
          "scatterternary": [
           {
            "marker": {
             "colorbar": {
              "outlinewidth": 0,
              "ticks": ""
             }
            },
            "type": "scatterternary"
           }
          ],
          "surface": [
           {
            "colorbar": {
             "outlinewidth": 0,
             "ticks": ""
            },
            "colorscale": [
             [
              0,
              "#0d0887"
             ],
             [
              0.1111111111111111,
              "#46039f"
             ],
             [
              0.2222222222222222,
              "#7201a8"
             ],
             [
              0.3333333333333333,
              "#9c179e"
             ],
             [
              0.4444444444444444,
              "#bd3786"
             ],
             [
              0.5555555555555556,
              "#d8576b"
             ],
             [
              0.6666666666666666,
              "#ed7953"
             ],
             [
              0.7777777777777778,
              "#fb9f3a"
             ],
             [
              0.8888888888888888,
              "#fdca26"
             ],
             [
              1,
              "#f0f921"
             ]
            ],
            "type": "surface"
           }
          ],
          "table": [
           {
            "cells": {
             "fill": {
              "color": "#EBF0F8"
             },
             "line": {
              "color": "white"
             }
            },
            "header": {
             "fill": {
              "color": "#C8D4E3"
             },
             "line": {
              "color": "white"
             }
            },
            "type": "table"
           }
          ]
         },
         "layout": {
          "annotationdefaults": {
           "arrowcolor": "#2a3f5f",
           "arrowhead": 0,
           "arrowwidth": 1
          },
          "autotypenumbers": "strict",
          "coloraxis": {
           "colorbar": {
            "outlinewidth": 0,
            "ticks": ""
           }
          },
          "colorscale": {
           "diverging": [
            [
             0,
             "#8e0152"
            ],
            [
             0.1,
             "#c51b7d"
            ],
            [
             0.2,
             "#de77ae"
            ],
            [
             0.3,
             "#f1b6da"
            ],
            [
             0.4,
             "#fde0ef"
            ],
            [
             0.5,
             "#f7f7f7"
            ],
            [
             0.6,
             "#e6f5d0"
            ],
            [
             0.7,
             "#b8e186"
            ],
            [
             0.8,
             "#7fbc41"
            ],
            [
             0.9,
             "#4d9221"
            ],
            [
             1,
             "#276419"
            ]
           ],
           "sequential": [
            [
             0,
             "#0d0887"
            ],
            [
             0.1111111111111111,
             "#46039f"
            ],
            [
             0.2222222222222222,
             "#7201a8"
            ],
            [
             0.3333333333333333,
             "#9c179e"
            ],
            [
             0.4444444444444444,
             "#bd3786"
            ],
            [
             0.5555555555555556,
             "#d8576b"
            ],
            [
             0.6666666666666666,
             "#ed7953"
            ],
            [
             0.7777777777777778,
             "#fb9f3a"
            ],
            [
             0.8888888888888888,
             "#fdca26"
            ],
            [
             1,
             "#f0f921"
            ]
           ],
           "sequentialminus": [
            [
             0,
             "#0d0887"
            ],
            [
             0.1111111111111111,
             "#46039f"
            ],
            [
             0.2222222222222222,
             "#7201a8"
            ],
            [
             0.3333333333333333,
             "#9c179e"
            ],
            [
             0.4444444444444444,
             "#bd3786"
            ],
            [
             0.5555555555555556,
             "#d8576b"
            ],
            [
             0.6666666666666666,
             "#ed7953"
            ],
            [
             0.7777777777777778,
             "#fb9f3a"
            ],
            [
             0.8888888888888888,
             "#fdca26"
            ],
            [
             1,
             "#f0f921"
            ]
           ]
          },
          "colorway": [
           "#636efa",
           "#EF553B",
           "#00cc96",
           "#ab63fa",
           "#FFA15A",
           "#19d3f3",
           "#FF6692",
           "#B6E880",
           "#FF97FF",
           "#FECB52"
          ],
          "font": {
           "color": "#2a3f5f"
          },
          "geo": {
           "bgcolor": "white",
           "lakecolor": "white",
           "landcolor": "#E5ECF6",
           "showlakes": true,
           "showland": true,
           "subunitcolor": "white"
          },
          "hoverlabel": {
           "align": "left"
          },
          "hovermode": "closest",
          "mapbox": {
           "style": "light"
          },
          "paper_bgcolor": "white",
          "plot_bgcolor": "#E5ECF6",
          "polar": {
           "angularaxis": {
            "gridcolor": "white",
            "linecolor": "white",
            "ticks": ""
           },
           "bgcolor": "#E5ECF6",
           "radialaxis": {
            "gridcolor": "white",
            "linecolor": "white",
            "ticks": ""
           }
          },
          "scene": {
           "xaxis": {
            "backgroundcolor": "#E5ECF6",
            "gridcolor": "white",
            "gridwidth": 2,
            "linecolor": "white",
            "showbackground": true,
            "ticks": "",
            "zerolinecolor": "white"
           },
           "yaxis": {
            "backgroundcolor": "#E5ECF6",
            "gridcolor": "white",
            "gridwidth": 2,
            "linecolor": "white",
            "showbackground": true,
            "ticks": "",
            "zerolinecolor": "white"
           },
           "zaxis": {
            "backgroundcolor": "#E5ECF6",
            "gridcolor": "white",
            "gridwidth": 2,
            "linecolor": "white",
            "showbackground": true,
            "ticks": "",
            "zerolinecolor": "white"
           }
          },
          "shapedefaults": {
           "line": {
            "color": "#2a3f5f"
           }
          },
          "ternary": {
           "aaxis": {
            "gridcolor": "white",
            "linecolor": "white",
            "ticks": ""
           },
           "baxis": {
            "gridcolor": "white",
            "linecolor": "white",
            "ticks": ""
           },
           "bgcolor": "#E5ECF6",
           "caxis": {
            "gridcolor": "white",
            "linecolor": "white",
            "ticks": ""
           }
          },
          "title": {
           "x": 0.05
          },
          "xaxis": {
           "automargin": true,
           "gridcolor": "white",
           "linecolor": "white",
           "ticks": "",
           "title": {
            "standoff": 15
           },
           "zerolinecolor": "white",
           "zerolinewidth": 2
          },
          "yaxis": {
           "automargin": true,
           "gridcolor": "white",
           "linecolor": "white",
           "ticks": "",
           "title": {
            "standoff": 15
           },
           "zerolinecolor": "white",
           "zerolinewidth": 2
          }
         }
        },
        "title": {
         "text": "Size defined by Metadata_Concentration"
        },
        "updatemenus": [
         {
          "buttons": [
           {
            "args": [
             "visible",
             "legendonly"
            ],
            "label": "Deselect All",
            "method": "restyle"
           },
           {
            "args": [
             "visible",
             true
            ],
            "label": "Select All",
            "method": "restyle"
           }
          ],
          "direction": "left",
          "pad": {
           "r": 5,
           "t": 5
          },
          "showactive": true,
          "type": "buttons",
          "x": 1,
          "xanchor": "left",
          "y": 1.1,
          "yanchor": "top"
         }
        ],
        "width": 900,
        "xaxis": {
         "anchor": "y",
         "domain": [
          0,
          1
         ],
         "title": {
          "text": "0"
         }
        },
        "yaxis": {
         "anchor": "x",
         "domain": [
          0,
          1
         ],
         "title": {
          "text": "1"
         }
        }
       }
      }
     },
     "metadata": {},
     "output_type": "display_data"
    }
   ],
   "source": [
    "df_plot = combat_util.generate_x_y_umap(df, n_neighbors=n_neighbors_input, min_dist=min_dist_input, metric=metric)\n",
    "combat_util.plot_umap(df_plot, \n",
    "                      color_col='Metadata_Plate',\n",
    "                      hover_cols=hover_list)\n",
    "combat_util.plot_umap(df_plot, color_col='Metadata_Compound', \n",
    "                      hover_cols=hover_list,\n",
    "                      size=True, size_col = \"Metadata_Concentration\",\n",
    "                      dili_color=True\n",
    "                      )"
   ]
  },
  {
   "attachments": {},
   "cell_type": "markdown",
   "metadata": {},
   "source": [
    "# 2. Apply pyCombat\n",
    "\n",
    "- Based on the batch effects you could visually identify above, choose the batch_col you'd like to correct "
   ]
  },
  {
   "cell_type": "code",
   "execution_count": 13,
   "metadata": {},
   "outputs": [],
   "source": [
    "batch_col = \"Metadata_Plate\""
   ]
  },
  {
   "cell_type": "code",
   "execution_count": 14,
   "metadata": {},
   "outputs": [
    {
     "name": "stdout",
     "output_type": "stream",
     "text": [
      "Found 3 batches.\n",
      "Adjusting for 0 covariate(s) or covariate level(s).\n",
      "Standardizing Data across genes.\n",
      "Fitting L/S model and finding priors.\n",
      "Finding parametric adjustments.\n",
      "Adjusting the Data\n"
     ]
    }
   ],
   "source": [
    "df_plates = combat_util.pycombat_generator(df, batch_column = batch_col, well_column = 'Metadata_Well')"
   ]
  },
  {
   "cell_type": "code",
   "execution_count": 15,
   "metadata": {},
   "outputs": [],
   "source": [
    "output_name = \"Test_batch_effect_visualization_normalized_negcon_feature_select_pycombat\"\n",
    "\n",
    "df_plates.to_csv(rf\"{output_path}\\{output_name}.csv\" ,index=False)"
   ]
  },
  {
   "attachments": {},
   "cell_type": "markdown",
   "metadata": {},
   "source": [
    "# 3. Plot after batch correction"
   ]
  },
  {
   "cell_type": "code",
   "execution_count": 17,
   "metadata": {},
   "outputs": [
    {
     "data": {
      "application/vnd.plotly.v1+json": {
       "config": {
        "plotlyServerURL": "https://plot.ly",
        "toImageButtonOptions": {
         "filename": "custom_image",
         "format": "svg",
         "height": 500,
         "scale": 6,
         "width": 700
        }
       },
       "data": [
        {
         "customdata": [
          [
           "220607_092050_Plate_1",
           "B10",
           "Etoposide",
           10
          ],
          [
           "220607_092050_Plate_1",
           "B11",
           "Vehicle-ETP",
           0
          ],
          [
           "220607_092050_Plate_1",
           "B3",
           "Aspirin",
           1
          ],
          [
           "220607_092050_Plate_1",
           "B4",
           "Aspirin",
           10
          ],
          [
           "220607_092050_Plate_1",
           "B5",
           "Amiodarone",
           0.2
          ],
          [
           "220607_092050_Plate_1",
           "B6",
           "Amiodarone",
           2
          ],
          [
           "220607_092050_Plate_1",
           "B7",
           "Cyclophosphamide",
           1
          ],
          [
           "220607_092050_Plate_1",
           "B8",
           "Cyclophosphamide",
           10
          ],
          [
           "220607_092050_Plate_1",
           "B9",
           "Etoposide",
           1
          ],
          [
           "220607_092050_Plate_1",
           "C10",
           "Etoposide",
           10
          ],
          [
           "220607_092050_Plate_1",
           "C11",
           "Vehicle-ETP",
           0
          ],
          [
           "220607_092050_Plate_1",
           "C2",
           "Non-treated",
           0
          ],
          [
           "220607_092050_Plate_1",
           "C3",
           "Aspirin",
           1
          ],
          [
           "220607_092050_Plate_1",
           "C4",
           "Aspirin",
           10
          ],
          [
           "220607_092050_Plate_1",
           "C5",
           "Amiodarone",
           0.2
          ],
          [
           "220607_092050_Plate_1",
           "C6",
           "Amiodarone",
           2
          ],
          [
           "220607_092050_Plate_1",
           "C7",
           "Cyclophosphamide",
           1
          ],
          [
           "220607_092050_Plate_1",
           "C8",
           "Cyclophosphamide",
           10
          ],
          [
           "220607_092050_Plate_1",
           "C9",
           "Etoposide",
           1
          ],
          [
           "220607_092050_Plate_1",
           "D10",
           "Etoposide",
           10
          ],
          [
           "220607_092050_Plate_1",
           "D11",
           "Vehicle-ETP",
           0
          ],
          [
           "220607_092050_Plate_1",
           "D2",
           "Non-treated",
           0
          ],
          [
           "220607_092050_Plate_1",
           "D3",
           "Aspirin",
           1
          ],
          [
           "220607_092050_Plate_1",
           "D4",
           "Aspirin",
           10
          ],
          [
           "220607_092050_Plate_1",
           "D5",
           "Amiodarone",
           0.2
          ],
          [
           "220607_092050_Plate_1",
           "D6",
           "Amiodarone",
           2
          ],
          [
           "220607_092050_Plate_1",
           "D7",
           "Cyclophosphamide",
           1
          ],
          [
           "220607_092050_Plate_1",
           "D8",
           "Cyclophosphamide",
           10
          ],
          [
           "220607_092050_Plate_1",
           "D9",
           "Etoposide",
           1
          ],
          [
           "220607_092050_Plate_1",
           "E10",
           "Lactose",
           1
          ],
          [
           "220607_092050_Plate_1",
           "E11",
           "Lactose",
           10
          ],
          [
           "220607_092050_Plate_1",
           "E2",
           "Non-treated",
           0
          ],
          [
           "220607_092050_Plate_1",
           "E3",
           "Lovastatin",
           1
          ],
          [
           "220607_092050_Plate_1",
           "E4",
           "Lovastatin",
           10
          ],
          [
           "220607_092050_Plate_1",
           "E5",
           "Orphenadrine",
           1
          ],
          [
           "220607_092050_Plate_1",
           "E6",
           "Orphenadrine",
           10
          ],
          [
           "220607_092050_Plate_1",
           "E7",
           "Tetracycline",
           1
          ],
          [
           "220607_092050_Plate_1",
           "E8",
           "Tetracycline",
           10
          ],
          [
           "220607_092050_Plate_1",
           "E9",
           "DMSO",
           1.4
          ],
          [
           "220607_092050_Plate_1",
           "F10",
           "Lactose",
           1
          ],
          [
           "220607_092050_Plate_1",
           "F11",
           "Lactose",
           10
          ],
          [
           "220607_092050_Plate_1",
           "F2",
           "Non-treated",
           0
          ],
          [
           "220607_092050_Plate_1",
           "F3",
           "Lovastatin",
           1
          ],
          [
           "220607_092050_Plate_1",
           "F4",
           "Lovastatin",
           10
          ],
          [
           "220607_092050_Plate_1",
           "F5",
           "Orphenadrine",
           1
          ],
          [
           "220607_092050_Plate_1",
           "F6",
           "Orphenadrine",
           10
          ],
          [
           "220607_092050_Plate_1",
           "F7",
           "Tetracycline",
           1
          ],
          [
           "220607_092050_Plate_1",
           "F8",
           "Tetracycline",
           10
          ],
          [
           "220607_092050_Plate_1",
           "F9",
           "DMSO",
           1.4
          ],
          [
           "220607_092050_Plate_1",
           "G10",
           "Lactose",
           1
          ],
          [
           "220607_092050_Plate_1",
           "G11",
           "Lactose",
           10
          ],
          [
           "220607_092050_Plate_1",
           "G2",
           "Non-treated",
           0
          ],
          [
           "220607_092050_Plate_1",
           "G3",
           "Lovastatin",
           1
          ],
          [
           "220607_092050_Plate_1",
           "G4",
           "Lovastatin",
           10
          ],
          [
           "220607_092050_Plate_1",
           "G5",
           "Orphenadrine",
           1
          ],
          [
           "220607_092050_Plate_1",
           "G6",
           "Orphenadrine",
           10
          ],
          [
           "220607_092050_Plate_1",
           "G7",
           "Tetracycline",
           1
          ],
          [
           "220607_092050_Plate_1",
           "G8",
           "Tetracycline",
           10
          ],
          [
           "220607_092050_Plate_1",
           "G9",
           "DMSO",
           1.4
          ]
         ],
         "error_x": {
          "thickness": 3
         },
         "error_y": {
          "thickness": 3
         },
         "hovertemplate": "colors_plot_col=220607_092050_Plate_1<br>0=%{x}<br>1=%{y}<br>Metadata_Plate=%{customdata[0]}<br>Metadata_Well=%{customdata[1]}<br>Metadata_Compound=%{customdata[2]}<br>Metadata_Concentration=%{customdata[3]}<extra></extra>",
         "legendgroup": "220607_092050_Plate_1",
         "marker": {
          "color": "rgb(229, 134, 6)",
          "size": 10,
          "symbol": "circle"
         },
         "mode": "markers",
         "name": "220607_092050_Plate_1",
         "orientation": "v",
         "showlegend": true,
         "type": "scatter",
         "x": [
          1.486005425453186,
          -1.7833715677261353,
          -2.3941714763641357,
          -2.800928831100464,
          2.788966417312622,
          1.9118646383285522,
          -3.01324462890625,
          -2.939873456954956,
          1.1694185733795166,
          1.4333304166793823,
          -0.03746027499437332,
          -2.291896343231201,
          -3.153918504714966,
          -3.2558341026306152,
          -3.548431634902954,
          -2.868300437927246,
          -3.017296314239502,
          -2.269886016845703,
          1.7026373147964478,
          2.243675947189331,
          -3.3005049228668213,
          -0.7995076179504395,
          -3.510744094848633,
          -2.423969030380249,
          -2.2254042625427246,
          -3.268792152404785,
          -1.0673315525054932,
          -1.4912141561508179,
          1.6644963026046753,
          3.598242998123169,
          -2.0011401176452637,
          3.663874387741089,
          0.8419514298439026,
          0.9592359066009521,
          -1.5110023021697998,
          -1.3079419136047363,
          -0.6622494459152222,
          -0.7510328888893127,
          -1.2494643926620483,
          0.21272698044776917,
          -3.6648359298706055,
          2.0416462421417236,
          1.0170024633407593,
          0.6792808771133423,
          2.9716403484344482,
          1.3139538764953613,
          0.37256720662117004,
          2.8252487182617188,
          -1.4416180849075317,
          -0.08649285137653351,
          -0.6709889769554138,
          -0.5671379566192627,
          -0.04894634336233139,
          -0.5016433000564575,
          2.523900032043457,
          -0.3718512952327728,
          -0.32761502265930176,
          -0.4617059528827667,
          -3.428020477294922
         ],
         "xaxis": "x",
         "y": [
          4.581937313079834,
          2.4358909130096436,
          -0.5296468734741211,
          -0.16490298509597778,
          -0.16904577612876892,
          -0.03247116133570671,
          0.3246179223060608,
          -0.4188411831855774,
          3.7094333171844482,
          4.270251274108887,
          -2.693983554840088,
          2.6889257431030273,
          2.262519359588623,
          1.6910516023635864,
          -1.471161127090454,
          -1.0369328260421753,
          2.7683916091918945,
          -1.3564456701278687,
          3.2125821113586426,
          4.1146721839904785,
          1.4143935441970825,
          -0.9227939248085022,
          2.3800652027130127,
          -2.2453739643096924,
          -1.9954897165298462,
          -2.2092182636260986,
          -2.609445571899414,
          -1.5671981573104858,
          3.1621623039245605,
          -0.901544988155365,
          2.9100162982940674,
          -1.2579729557037354,
          -0.5421816110610962,
          -0.3246367871761322,
          3.017320394515991,
          2.667604446411133,
          1.1386388540267944,
          1.980026364326477,
          2.661442518234253,
          -3.1460230350494385,
          -3.268866777420044,
          -2.1940665245056152,
          -1.0377798080444336,
          -1.6889636516571045,
          -2.5427732467651367,
          -1.5866124629974365,
          -2.5877768993377686,
          -2.189032793045044,
          1.5574134588241577,
          -2.29599928855896,
          -1.4674063920974731,
          -1.8779852390289307,
          -1.233094334602356,
          -1.5074360370635986,
          -1.86370050907135,
          -1.0222657918930054,
          -2.303391218185425,
          -2.517165184020996,
          -2.733369827270508
         ],
         "yaxis": "y"
        },
        {
         "customdata": [
          [
           "220608_152238_Plate_1",
           "B10",
           "Etoposide",
           10
          ],
          [
           "220608_152238_Plate_1",
           "B11",
           "Vehicle-ETP",
           0
          ],
          [
           "220608_152238_Plate_1",
           "B3",
           "Aspirin",
           1
          ],
          [
           "220608_152238_Plate_1",
           "B4",
           "Aspirin",
           10
          ],
          [
           "220608_152238_Plate_1",
           "B5",
           "Amiodarone",
           0.2
          ],
          [
           "220608_152238_Plate_1",
           "B6",
           "Amiodarone",
           2
          ],
          [
           "220608_152238_Plate_1",
           "B7",
           "Cyclophosphamide",
           1
          ],
          [
           "220608_152238_Plate_1",
           "B8",
           "Cyclophosphamide",
           10
          ],
          [
           "220608_152238_Plate_1",
           "B9",
           "Etoposide",
           1
          ],
          [
           "220608_152238_Plate_1",
           "C10",
           "Etoposide",
           10
          ],
          [
           "220608_152238_Plate_1",
           "C11",
           "Vehicle-ETP",
           0
          ],
          [
           "220608_152238_Plate_1",
           "C2",
           "Non-treated",
           0
          ],
          [
           "220608_152238_Plate_1",
           "C3",
           "Aspirin",
           1
          ],
          [
           "220608_152238_Plate_1",
           "C4",
           "Aspirin",
           10
          ],
          [
           "220608_152238_Plate_1",
           "C5",
           "Amiodarone",
           0.2
          ],
          [
           "220608_152238_Plate_1",
           "C6",
           "Amiodarone",
           2
          ],
          [
           "220608_152238_Plate_1",
           "C7",
           "Cyclophosphamide",
           1
          ],
          [
           "220608_152238_Plate_1",
           "C8",
           "Cyclophosphamide",
           10
          ],
          [
           "220608_152238_Plate_1",
           "C9",
           "Etoposide",
           1
          ],
          [
           "220608_152238_Plate_1",
           "D10",
           "Etoposide",
           10
          ],
          [
           "220608_152238_Plate_1",
           "D11",
           "Vehicle-ETP",
           0
          ],
          [
           "220608_152238_Plate_1",
           "D2",
           "Non-treated",
           0
          ],
          [
           "220608_152238_Plate_1",
           "D3",
           "Aspirin",
           1
          ],
          [
           "220608_152238_Plate_1",
           "D4",
           "Aspirin",
           10
          ],
          [
           "220608_152238_Plate_1",
           "D5",
           "Amiodarone",
           0.2
          ],
          [
           "220608_152238_Plate_1",
           "D6",
           "Amiodarone",
           2
          ],
          [
           "220608_152238_Plate_1",
           "D7",
           "Cyclophosphamide",
           1
          ],
          [
           "220608_152238_Plate_1",
           "D8",
           "Cyclophosphamide",
           10
          ],
          [
           "220608_152238_Plate_1",
           "D9",
           "Etoposide",
           1
          ],
          [
           "220608_152238_Plate_1",
           "E10",
           "Lactose",
           1
          ],
          [
           "220608_152238_Plate_1",
           "E2",
           "Non-treated",
           0
          ],
          [
           "220608_152238_Plate_1",
           "E3",
           "Lovastatin",
           1
          ],
          [
           "220608_152238_Plate_1",
           "E4",
           "Lovastatin",
           10
          ],
          [
           "220608_152238_Plate_1",
           "E5",
           "Orphenadrine",
           1
          ],
          [
           "220608_152238_Plate_1",
           "E6",
           "Orphenadrine",
           10
          ],
          [
           "220608_152238_Plate_1",
           "E7",
           "Tetracycline",
           1
          ],
          [
           "220608_152238_Plate_1",
           "E8",
           "Tetracycline",
           10
          ],
          [
           "220608_152238_Plate_1",
           "E9",
           "DMSO",
           1.4
          ],
          [
           "220608_152238_Plate_1",
           "F10",
           "Lactose",
           1
          ],
          [
           "220608_152238_Plate_1",
           "F11",
           "Lactose",
           10
          ],
          [
           "220608_152238_Plate_1",
           "F2",
           "Non-treated",
           0
          ],
          [
           "220608_152238_Plate_1",
           "F3",
           "Lovastatin",
           1
          ],
          [
           "220608_152238_Plate_1",
           "F4",
           "Lovastatin",
           10
          ],
          [
           "220608_152238_Plate_1",
           "F5",
           "Orphenadrine",
           1
          ],
          [
           "220608_152238_Plate_1",
           "F6",
           "Orphenadrine",
           10
          ],
          [
           "220608_152238_Plate_1",
           "F7",
           "Tetracycline",
           1
          ],
          [
           "220608_152238_Plate_1",
           "F8",
           "Tetracycline",
           10
          ],
          [
           "220608_152238_Plate_1",
           "F9",
           "DMSO",
           1.4
          ],
          [
           "220608_152238_Plate_1",
           "G10",
           "Lactose",
           1
          ],
          [
           "220608_152238_Plate_1",
           "G11",
           "Lactose",
           10
          ],
          [
           "220608_152238_Plate_1",
           "G2",
           "Non-treated",
           0
          ],
          [
           "220608_152238_Plate_1",
           "G3",
           "Lovastatin",
           1
          ],
          [
           "220608_152238_Plate_1",
           "G4",
           "Lovastatin",
           10
          ],
          [
           "220608_152238_Plate_1",
           "G5",
           "Orphenadrine",
           1
          ],
          [
           "220608_152238_Plate_1",
           "G6",
           "Orphenadrine",
           10
          ],
          [
           "220608_152238_Plate_1",
           "G7",
           "Tetracycline",
           1
          ],
          [
           "220608_152238_Plate_1",
           "G8",
           "Tetracycline",
           10
          ],
          [
           "220608_152238_Plate_1",
           "G9",
           "DMSO",
           1.4
          ]
         ],
         "error_x": {
          "thickness": 3
         },
         "error_y": {
          "thickness": 3
         },
         "hovertemplate": "colors_plot_col=220608_152238_Plate_1<br>0=%{x}<br>1=%{y}<br>Metadata_Plate=%{customdata[0]}<br>Metadata_Well=%{customdata[1]}<br>Metadata_Compound=%{customdata[2]}<br>Metadata_Concentration=%{customdata[3]}<extra></extra>",
         "legendgroup": "220608_152238_Plate_1",
         "marker": {
          "color": "rgb(93, 105, 177)",
          "size": 10,
          "symbol": "circle"
         },
         "mode": "markers",
         "name": "220608_152238_Plate_1",
         "orientation": "v",
         "showlegend": true,
         "type": "scatter",
         "x": [
          1.0253633260726929,
          2.2672133445739746,
          -1.8392843008041382,
          -2.026308298110962,
          -2.1255009174346924,
          -3.2268056869506836,
          -2.1666696071624756,
          -1.4924614429473877,
          3.297971248626709,
          1.977393388748169,
          -3.1555933952331543,
          -1.4447622299194336,
          3.3270726203918457,
          -3.3896963596343994,
          -2.1906025409698486,
          -3.195941925048828,
          -1.749523639678955,
          -3.358567714691162,
          2.357161283493042,
          2.2690083980560303,
          2.737849473953247,
          -1.2873023748397827,
          -2.635350465774536,
          -3.1236636638641357,
          -2.325273036956787,
          -3.041177272796631,
          -2.2538504600524902,
          -1.8745312690734863,
          2.610935688018799,
          -2.0433335304260254,
          -1.863566279411316,
          -2.563123941421509,
          -0.4738653302192688,
          0.4574044346809387,
          -2.6343533992767334,
          -0.8790587186813354,
          -1.958669662475586,
          -0.47105950117111206,
          3.1371474266052246,
          0.2517399787902832,
          1.4696125984191895,
          -1.623582124710083,
          -3.27585506439209,
          -1.2675389051437378,
          1.116967797279358,
          -0.8988065719604492,
          -1.5254733562469482,
          3.01005220413208,
          -1.5011764764785767,
          -0.989411473274231,
          -0.15966752171516418,
          3.2722296714782715,
          -1.825177788734436,
          -3.3306643962860107,
          -0.8358516097068787,
          -1.6834601163864136,
          -3.5190157890319824,
          0.0778818130493164
         ],
         "xaxis": "x",
         "y": [
          3.1979055404663086,
          -0.5735617280006409,
          0.4736916422843933,
          0.8978118300437927,
          -0.10106562823057175,
          -0.6641831398010254,
          0.349066823720932,
          0.7833550572395325,
          -0.444648802280426,
          4.529398441314697,
          -3.029263496398926,
          -0.4841846823692322,
          -0.9671933650970459,
          -2.694908857345581,
          -3.035126209259033,
          -1.1322003602981567,
          -2.372826099395752,
          2.533630132675171,
          3.9111287593841553,
          3.7727062702178955,
          -1.5349888801574707,
          -1.8300132751464844,
          -2.9068384170532227,
          -3.6795151233673096,
          -2.434443235397339,
          -1.7874562740325928,
          -4.399177551269531,
          -3.6753475666046143,
          3.411113739013672,
          1.8758548498153687,
          -1.8307760953903198,
          -2.0238561630249023,
          0.4166847765445709,
          -0.9085080027580261,
          3.0600013732910156,
          1.1558210849761963,
          1.4013580083847046,
          1.543251633644104,
          -2.304853677749634,
          -1.1291773319244385,
          -1.9284664392471313,
          -2.247303009033203,
          2.6083436012268066,
          -0.948783278465271,
          -2.035932779312134,
          -2.3537871837615967,
          -2.153733491897583,
          -1.0223286151885986,
          -3.6685268878936768,
          -3.117125988006592,
          -0.9186651706695557,
          -1.891496181488037,
          -4.190133571624756,
          -3.3837532997131348,
          -0.6298647522926331,
          -1.0986542701721191,
          1.8529924154281616,
          -1.9001708030700684
         ],
         "yaxis": "y"
        },
        {
         "customdata": [
          [
           "220617_090443_Plate_1",
           "B10",
           "Etoposide",
           10
          ],
          [
           "220617_090443_Plate_1",
           "B11",
           "Vehicle-ETP",
           0
          ],
          [
           "220617_090443_Plate_1",
           "B2",
           "Non-treated",
           0
          ],
          [
           "220617_090443_Plate_1",
           "B3",
           "Aspirin",
           1
          ],
          [
           "220617_090443_Plate_1",
           "B4",
           "Aspirin",
           10
          ],
          [
           "220617_090443_Plate_1",
           "B5",
           "Amiodarone",
           0.2
          ],
          [
           "220617_090443_Plate_1",
           "B6",
           "Amiodarone",
           2
          ],
          [
           "220617_090443_Plate_1",
           "B7",
           "Cyclophosphamide",
           1
          ],
          [
           "220617_090443_Plate_1",
           "B8",
           "Cyclophosphamide",
           10
          ],
          [
           "220617_090443_Plate_1",
           "B9",
           "Etoposide",
           1
          ],
          [
           "220617_090443_Plate_1",
           "C10",
           "Etoposide",
           10
          ],
          [
           "220617_090443_Plate_1",
           "C11",
           "Vehicle-ETP",
           0
          ],
          [
           "220617_090443_Plate_1",
           "C2",
           "Non-treated",
           0
          ],
          [
           "220617_090443_Plate_1",
           "C3",
           "Aspirin",
           1
          ],
          [
           "220617_090443_Plate_1",
           "C4",
           "Aspirin",
           10
          ],
          [
           "220617_090443_Plate_1",
           "C5",
           "Amiodarone",
           0.2
          ],
          [
           "220617_090443_Plate_1",
           "C6",
           "Amiodarone",
           2
          ],
          [
           "220617_090443_Plate_1",
           "C7",
           "Cyclophosphamide",
           1
          ],
          [
           "220617_090443_Plate_1",
           "C8",
           "Cyclophosphamide",
           10
          ],
          [
           "220617_090443_Plate_1",
           "C9",
           "Etoposide",
           1
          ],
          [
           "220617_090443_Plate_1",
           "D10",
           "Etoposide",
           10
          ],
          [
           "220617_090443_Plate_1",
           "D11",
           "Vehicle-ETP",
           0
          ],
          [
           "220617_090443_Plate_1",
           "D2",
           "Non-treated",
           0
          ],
          [
           "220617_090443_Plate_1",
           "D3",
           "Aspirin",
           1
          ],
          [
           "220617_090443_Plate_1",
           "D4",
           "Aspirin",
           10
          ],
          [
           "220617_090443_Plate_1",
           "D5",
           "Amiodarone",
           0.2
          ],
          [
           "220617_090443_Plate_1",
           "D6",
           "Amiodarone",
           2
          ],
          [
           "220617_090443_Plate_1",
           "D7",
           "Cyclophosphamide",
           1
          ],
          [
           "220617_090443_Plate_1",
           "D8",
           "Cyclophosphamide",
           10
          ],
          [
           "220617_090443_Plate_1",
           "D9",
           "Etoposide",
           1
          ],
          [
           "220617_090443_Plate_1",
           "E10",
           "Lactose",
           1
          ],
          [
           "220617_090443_Plate_1",
           "E11",
           "Lactose",
           10
          ],
          [
           "220617_090443_Plate_1",
           "E2",
           "Non-treated",
           0
          ],
          [
           "220617_090443_Plate_1",
           "E3",
           "Lovastatin",
           1
          ],
          [
           "220617_090443_Plate_1",
           "E4",
           "Lovastatin",
           10
          ],
          [
           "220617_090443_Plate_1",
           "E5",
           "Orphenadrine",
           1
          ],
          [
           "220617_090443_Plate_1",
           "E6",
           "Orphenadrine",
           10
          ],
          [
           "220617_090443_Plate_1",
           "E7",
           "Tetracycline",
           1
          ],
          [
           "220617_090443_Plate_1",
           "E8",
           "Tetracycline",
           10
          ],
          [
           "220617_090443_Plate_1",
           "E9",
           "DMSO",
           1.4
          ],
          [
           "220617_090443_Plate_1",
           "F10",
           "Lactose",
           1
          ],
          [
           "220617_090443_Plate_1",
           "F11",
           "Lactose",
           10
          ],
          [
           "220617_090443_Plate_1",
           "F2",
           "Non-treated",
           0
          ],
          [
           "220617_090443_Plate_1",
           "F3",
           "Lovastatin",
           1
          ],
          [
           "220617_090443_Plate_1",
           "F4",
           "Lovastatin",
           10
          ],
          [
           "220617_090443_Plate_1",
           "F5",
           "Orphenadrine",
           1
          ],
          [
           "220617_090443_Plate_1",
           "F6",
           "Orphenadrine",
           10
          ],
          [
           "220617_090443_Plate_1",
           "F7",
           "Tetracycline",
           1
          ],
          [
           "220617_090443_Plate_1",
           "F8",
           "Tetracycline",
           10
          ],
          [
           "220617_090443_Plate_1",
           "F9",
           "DMSO",
           1.4
          ],
          [
           "220617_090443_Plate_1",
           "G10",
           "Lactose",
           1
          ],
          [
           "220617_090443_Plate_1",
           "G11",
           "Lactose",
           10
          ],
          [
           "220617_090443_Plate_1",
           "G2",
           "Non-treated",
           0
          ],
          [
           "220617_090443_Plate_1",
           "G3",
           "Lovastatin",
           1
          ],
          [
           "220617_090443_Plate_1",
           "G4",
           "Lovastatin",
           10
          ],
          [
           "220617_090443_Plate_1",
           "G5",
           "Orphenadrine",
           1
          ],
          [
           "220617_090443_Plate_1",
           "G6",
           "Orphenadrine",
           10
          ],
          [
           "220617_090443_Plate_1",
           "G7",
           "Tetracycline",
           1
          ],
          [
           "220617_090443_Plate_1",
           "G8",
           "Tetracycline",
           10
          ],
          [
           "220617_090443_Plate_1",
           "G9",
           "DMSO",
           1.4
          ]
         ],
         "error_x": {
          "thickness": 3
         },
         "error_y": {
          "thickness": 3
         },
         "hovertemplate": "colors_plot_col=220617_090443_Plate_1<br>0=%{x}<br>1=%{y}<br>Metadata_Plate=%{customdata[0]}<br>Metadata_Well=%{customdata[1]}<br>Metadata_Compound=%{customdata[2]}<br>Metadata_Concentration=%{customdata[3]}<extra></extra>",
         "legendgroup": "220617_090443_Plate_1",
         "marker": {
          "color": "rgb(82, 188, 163)",
          "size": 10,
          "symbol": "circle"
         },
         "mode": "markers",
         "name": "220617_090443_Plate_1",
         "orientation": "v",
         "showlegend": true,
         "type": "scatter",
         "x": [
          0.8912737965583801,
          -0.9966514706611633,
          -3.156888961791992,
          -2.774080753326416,
          -2.6756231784820557,
          -3.570786714553833,
          3.057964324951172,
          2.494760036468506,
          -2.721085786819458,
          1.8537452220916748,
          1.7474777698516846,
          -2.761164903640747,
          2.745795488357544,
          3.15910005569458,
          2.046092987060547,
          2.569030523300171,
          -3.224095582962036,
          -2.301239252090454,
          -2.228513240814209,
          1.7206649780273438,
          1.514066457748413,
          -2.3125109672546387,
          -0.9217519164085388,
          3.0169339179992676,
          -1.575052261352539,
          -2.4355525970458984,
          -2.713735818862915,
          -2.8800227642059326,
          -2.376366376876831,
          2.095250368118286,
          0.1481783092021942,
          0.28528594970703125,
          -0.11865416914224625,
          0.6831641793251038,
          0.2711569368839264,
          0.02954115904867649,
          0.6023581027984619,
          0.6865907311439514,
          0.2872466444969177,
          0.3715441823005676,
          0.9207721948623657,
          -3.7408828735351562,
          -0.35810768604278564,
          3.444010019302368,
          2.6126344203948975,
          -0.32093551754951477,
          1.012832522392273,
          -0.6106979250907898,
          -0.10051024705171585,
          0.3702055513858795,
          -1.4693892002105713,
          -0.6629955172538757,
          -2.999373435974121,
          -2.0179319381713867,
          -0.6918253898620605,
          -1.1708565950393677,
          1.4407627582550049,
          -0.46352455019950867,
          -2.7215912342071533,
          -0.8344230055809021
         ],
         "xaxis": "x",
         "y": [
          4.149599075317383,
          0.5915039777755737,
          0.13068395853042603,
          0.5727967023849487,
          1.0454078912734985,
          -0.1790051907300949,
          -0.23367717862129211,
          0.14204879105091095,
          2.023435115814209,
          3.6496894359588623,
          4.08620023727417,
          -3.527292251586914,
          -0.3724590539932251,
          -1.1721946001052856,
          -0.45844078063964844,
          -0.9427545070648193,
          -1.132946252822876,
          -2.8857979774475098,
          -3.8302817344665527,
          4.340963363647461,
          3.8347465991973877,
          -3.9008712768554688,
          -1.3111047744750977,
          -1.75486421585083,
          -4.056919097900391,
          -3.5807363986968994,
          -2.6446280479431152,
          -3.8661322593688965,
          -3.4256434440612793,
          3.653311014175415,
          1.1922714710235596,
          0.9569623470306396,
          -0.6620938181877136,
          0.45037898421287537,
          0.32556405663490295,
          0.6093931198120117,
          0.8206406831741333,
          0.6962953209877014,
          0.8659330010414124,
          1.2918256521224976,
          -2.1660683155059814,
          1.9822276830673218,
          -0.3599063456058502,
          -1.7905206680297852,
          -2.200839042663574,
          -0.26734718680381775,
          -1.7976007461547852,
          -3.907160997390747,
          -3.7370548248291016,
          0.010831130668520927,
          -3.0109236240386963,
          -2.914337635040283,
          2.7542760372161865,
          -1.0749163627624512,
          -3.7316641807556152,
          -3.3254787921905518,
          -1.130022406578064,
          -3.4841156005859375,
          -3.925926685333252,
          -1.6382337808609009
         ],
         "yaxis": "y"
        }
       ],
       "layout": {
        "autosize": false,
        "font": {
         "size": 18
        },
        "height": 700,
        "legend": {
         "title": {
          "text": "Metadata_Plate"
         },
         "tracegroupgap": 0
        },
        "margin": {
         "b": 20,
         "l": 50,
         "pad": 4,
         "r": 50,
         "t": 50
        },
        "template": {
         "data": {
          "bar": [
           {
            "error_x": {
             "color": "#2a3f5f"
            },
            "error_y": {
             "color": "#2a3f5f"
            },
            "marker": {
             "line": {
              "color": "#E5ECF6",
              "width": 0.5
             },
             "pattern": {
              "fillmode": "overlay",
              "size": 10,
              "solidity": 0.2
             }
            },
            "type": "bar"
           }
          ],
          "barpolar": [
           {
            "marker": {
             "line": {
              "color": "#E5ECF6",
              "width": 0.5
             },
             "pattern": {
              "fillmode": "overlay",
              "size": 10,
              "solidity": 0.2
             }
            },
            "type": "barpolar"
           }
          ],
          "carpet": [
           {
            "aaxis": {
             "endlinecolor": "#2a3f5f",
             "gridcolor": "white",
             "linecolor": "white",
             "minorgridcolor": "white",
             "startlinecolor": "#2a3f5f"
            },
            "baxis": {
             "endlinecolor": "#2a3f5f",
             "gridcolor": "white",
             "linecolor": "white",
             "minorgridcolor": "white",
             "startlinecolor": "#2a3f5f"
            },
            "type": "carpet"
           }
          ],
          "choropleth": [
           {
            "colorbar": {
             "outlinewidth": 0,
             "ticks": ""
            },
            "type": "choropleth"
           }
          ],
          "contour": [
           {
            "colorbar": {
             "outlinewidth": 0,
             "ticks": ""
            },
            "colorscale": [
             [
              0,
              "#0d0887"
             ],
             [
              0.1111111111111111,
              "#46039f"
             ],
             [
              0.2222222222222222,
              "#7201a8"
             ],
             [
              0.3333333333333333,
              "#9c179e"
             ],
             [
              0.4444444444444444,
              "#bd3786"
             ],
             [
              0.5555555555555556,
              "#d8576b"
             ],
             [
              0.6666666666666666,
              "#ed7953"
             ],
             [
              0.7777777777777778,
              "#fb9f3a"
             ],
             [
              0.8888888888888888,
              "#fdca26"
             ],
             [
              1,
              "#f0f921"
             ]
            ],
            "type": "contour"
           }
          ],
          "contourcarpet": [
           {
            "colorbar": {
             "outlinewidth": 0,
             "ticks": ""
            },
            "type": "contourcarpet"
           }
          ],
          "heatmap": [
           {
            "colorbar": {
             "outlinewidth": 0,
             "ticks": ""
            },
            "colorscale": [
             [
              0,
              "#0d0887"
             ],
             [
              0.1111111111111111,
              "#46039f"
             ],
             [
              0.2222222222222222,
              "#7201a8"
             ],
             [
              0.3333333333333333,
              "#9c179e"
             ],
             [
              0.4444444444444444,
              "#bd3786"
             ],
             [
              0.5555555555555556,
              "#d8576b"
             ],
             [
              0.6666666666666666,
              "#ed7953"
             ],
             [
              0.7777777777777778,
              "#fb9f3a"
             ],
             [
              0.8888888888888888,
              "#fdca26"
             ],
             [
              1,
              "#f0f921"
             ]
            ],
            "type": "heatmap"
           }
          ],
          "heatmapgl": [
           {
            "colorbar": {
             "outlinewidth": 0,
             "ticks": ""
            },
            "colorscale": [
             [
              0,
              "#0d0887"
             ],
             [
              0.1111111111111111,
              "#46039f"
             ],
             [
              0.2222222222222222,
              "#7201a8"
             ],
             [
              0.3333333333333333,
              "#9c179e"
             ],
             [
              0.4444444444444444,
              "#bd3786"
             ],
             [
              0.5555555555555556,
              "#d8576b"
             ],
             [
              0.6666666666666666,
              "#ed7953"
             ],
             [
              0.7777777777777778,
              "#fb9f3a"
             ],
             [
              0.8888888888888888,
              "#fdca26"
             ],
             [
              1,
              "#f0f921"
             ]
            ],
            "type": "heatmapgl"
           }
          ],
          "histogram": [
           {
            "marker": {
             "pattern": {
              "fillmode": "overlay",
              "size": 10,
              "solidity": 0.2
             }
            },
            "type": "histogram"
           }
          ],
          "histogram2d": [
           {
            "colorbar": {
             "outlinewidth": 0,
             "ticks": ""
            },
            "colorscale": [
             [
              0,
              "#0d0887"
             ],
             [
              0.1111111111111111,
              "#46039f"
             ],
             [
              0.2222222222222222,
              "#7201a8"
             ],
             [
              0.3333333333333333,
              "#9c179e"
             ],
             [
              0.4444444444444444,
              "#bd3786"
             ],
             [
              0.5555555555555556,
              "#d8576b"
             ],
             [
              0.6666666666666666,
              "#ed7953"
             ],
             [
              0.7777777777777778,
              "#fb9f3a"
             ],
             [
              0.8888888888888888,
              "#fdca26"
             ],
             [
              1,
              "#f0f921"
             ]
            ],
            "type": "histogram2d"
           }
          ],
          "histogram2dcontour": [
           {
            "colorbar": {
             "outlinewidth": 0,
             "ticks": ""
            },
            "colorscale": [
             [
              0,
              "#0d0887"
             ],
             [
              0.1111111111111111,
              "#46039f"
             ],
             [
              0.2222222222222222,
              "#7201a8"
             ],
             [
              0.3333333333333333,
              "#9c179e"
             ],
             [
              0.4444444444444444,
              "#bd3786"
             ],
             [
              0.5555555555555556,
              "#d8576b"
             ],
             [
              0.6666666666666666,
              "#ed7953"
             ],
             [
              0.7777777777777778,
              "#fb9f3a"
             ],
             [
              0.8888888888888888,
              "#fdca26"
             ],
             [
              1,
              "#f0f921"
             ]
            ],
            "type": "histogram2dcontour"
           }
          ],
          "mesh3d": [
           {
            "colorbar": {
             "outlinewidth": 0,
             "ticks": ""
            },
            "type": "mesh3d"
           }
          ],
          "parcoords": [
           {
            "line": {
             "colorbar": {
              "outlinewidth": 0,
              "ticks": ""
             }
            },
            "type": "parcoords"
           }
          ],
          "pie": [
           {
            "automargin": true,
            "type": "pie"
           }
          ],
          "scatter": [
           {
            "fillpattern": {
             "fillmode": "overlay",
             "size": 10,
             "solidity": 0.2
            },
            "type": "scatter"
           }
          ],
          "scatter3d": [
           {
            "line": {
             "colorbar": {
              "outlinewidth": 0,
              "ticks": ""
             }
            },
            "marker": {
             "colorbar": {
              "outlinewidth": 0,
              "ticks": ""
             }
            },
            "type": "scatter3d"
           }
          ],
          "scattercarpet": [
           {
            "marker": {
             "colorbar": {
              "outlinewidth": 0,
              "ticks": ""
             }
            },
            "type": "scattercarpet"
           }
          ],
          "scattergeo": [
           {
            "marker": {
             "colorbar": {
              "outlinewidth": 0,
              "ticks": ""
             }
            },
            "type": "scattergeo"
           }
          ],
          "scattergl": [
           {
            "marker": {
             "colorbar": {
              "outlinewidth": 0,
              "ticks": ""
             }
            },
            "type": "scattergl"
           }
          ],
          "scattermapbox": [
           {
            "marker": {
             "colorbar": {
              "outlinewidth": 0,
              "ticks": ""
             }
            },
            "type": "scattermapbox"
           }
          ],
          "scatterpolar": [
           {
            "marker": {
             "colorbar": {
              "outlinewidth": 0,
              "ticks": ""
             }
            },
            "type": "scatterpolar"
           }
          ],
          "scatterpolargl": [
           {
            "marker": {
             "colorbar": {
              "outlinewidth": 0,
              "ticks": ""
             }
            },
            "type": "scatterpolargl"
           }
          ],
          "scatterternary": [
           {
            "marker": {
             "colorbar": {
              "outlinewidth": 0,
              "ticks": ""
             }
            },
            "type": "scatterternary"
           }
          ],
          "surface": [
           {
            "colorbar": {
             "outlinewidth": 0,
             "ticks": ""
            },
            "colorscale": [
             [
              0,
              "#0d0887"
             ],
             [
              0.1111111111111111,
              "#46039f"
             ],
             [
              0.2222222222222222,
              "#7201a8"
             ],
             [
              0.3333333333333333,
              "#9c179e"
             ],
             [
              0.4444444444444444,
              "#bd3786"
             ],
             [
              0.5555555555555556,
              "#d8576b"
             ],
             [
              0.6666666666666666,
              "#ed7953"
             ],
             [
              0.7777777777777778,
              "#fb9f3a"
             ],
             [
              0.8888888888888888,
              "#fdca26"
             ],
             [
              1,
              "#f0f921"
             ]
            ],
            "type": "surface"
           }
          ],
          "table": [
           {
            "cells": {
             "fill": {
              "color": "#EBF0F8"
             },
             "line": {
              "color": "white"
             }
            },
            "header": {
             "fill": {
              "color": "#C8D4E3"
             },
             "line": {
              "color": "white"
             }
            },
            "type": "table"
           }
          ]
         },
         "layout": {
          "annotationdefaults": {
           "arrowcolor": "#2a3f5f",
           "arrowhead": 0,
           "arrowwidth": 1
          },
          "autotypenumbers": "strict",
          "coloraxis": {
           "colorbar": {
            "outlinewidth": 0,
            "ticks": ""
           }
          },
          "colorscale": {
           "diverging": [
            [
             0,
             "#8e0152"
            ],
            [
             0.1,
             "#c51b7d"
            ],
            [
             0.2,
             "#de77ae"
            ],
            [
             0.3,
             "#f1b6da"
            ],
            [
             0.4,
             "#fde0ef"
            ],
            [
             0.5,
             "#f7f7f7"
            ],
            [
             0.6,
             "#e6f5d0"
            ],
            [
             0.7,
             "#b8e186"
            ],
            [
             0.8,
             "#7fbc41"
            ],
            [
             0.9,
             "#4d9221"
            ],
            [
             1,
             "#276419"
            ]
           ],
           "sequential": [
            [
             0,
             "#0d0887"
            ],
            [
             0.1111111111111111,
             "#46039f"
            ],
            [
             0.2222222222222222,
             "#7201a8"
            ],
            [
             0.3333333333333333,
             "#9c179e"
            ],
            [
             0.4444444444444444,
             "#bd3786"
            ],
            [
             0.5555555555555556,
             "#d8576b"
            ],
            [
             0.6666666666666666,
             "#ed7953"
            ],
            [
             0.7777777777777778,
             "#fb9f3a"
            ],
            [
             0.8888888888888888,
             "#fdca26"
            ],
            [
             1,
             "#f0f921"
            ]
           ],
           "sequentialminus": [
            [
             0,
             "#0d0887"
            ],
            [
             0.1111111111111111,
             "#46039f"
            ],
            [
             0.2222222222222222,
             "#7201a8"
            ],
            [
             0.3333333333333333,
             "#9c179e"
            ],
            [
             0.4444444444444444,
             "#bd3786"
            ],
            [
             0.5555555555555556,
             "#d8576b"
            ],
            [
             0.6666666666666666,
             "#ed7953"
            ],
            [
             0.7777777777777778,
             "#fb9f3a"
            ],
            [
             0.8888888888888888,
             "#fdca26"
            ],
            [
             1,
             "#f0f921"
            ]
           ]
          },
          "colorway": [
           "#636efa",
           "#EF553B",
           "#00cc96",
           "#ab63fa",
           "#FFA15A",
           "#19d3f3",
           "#FF6692",
           "#B6E880",
           "#FF97FF",
           "#FECB52"
          ],
          "font": {
           "color": "#2a3f5f"
          },
          "geo": {
           "bgcolor": "white",
           "lakecolor": "white",
           "landcolor": "#E5ECF6",
           "showlakes": true,
           "showland": true,
           "subunitcolor": "white"
          },
          "hoverlabel": {
           "align": "left"
          },
          "hovermode": "closest",
          "mapbox": {
           "style": "light"
          },
          "paper_bgcolor": "white",
          "plot_bgcolor": "#E5ECF6",
          "polar": {
           "angularaxis": {
            "gridcolor": "white",
            "linecolor": "white",
            "ticks": ""
           },
           "bgcolor": "#E5ECF6",
           "radialaxis": {
            "gridcolor": "white",
            "linecolor": "white",
            "ticks": ""
           }
          },
          "scene": {
           "xaxis": {
            "backgroundcolor": "#E5ECF6",
            "gridcolor": "white",
            "gridwidth": 2,
            "linecolor": "white",
            "showbackground": true,
            "ticks": "",
            "zerolinecolor": "white"
           },
           "yaxis": {
            "backgroundcolor": "#E5ECF6",
            "gridcolor": "white",
            "gridwidth": 2,
            "linecolor": "white",
            "showbackground": true,
            "ticks": "",
            "zerolinecolor": "white"
           },
           "zaxis": {
            "backgroundcolor": "#E5ECF6",
            "gridcolor": "white",
            "gridwidth": 2,
            "linecolor": "white",
            "showbackground": true,
            "ticks": "",
            "zerolinecolor": "white"
           }
          },
          "shapedefaults": {
           "line": {
            "color": "#2a3f5f"
           }
          },
          "ternary": {
           "aaxis": {
            "gridcolor": "white",
            "linecolor": "white",
            "ticks": ""
           },
           "baxis": {
            "gridcolor": "white",
            "linecolor": "white",
            "ticks": ""
           },
           "bgcolor": "#E5ECF6",
           "caxis": {
            "gridcolor": "white",
            "linecolor": "white",
            "ticks": ""
           }
          },
          "title": {
           "x": 0.05
          },
          "xaxis": {
           "automargin": true,
           "gridcolor": "white",
           "linecolor": "white",
           "ticks": "",
           "title": {
            "standoff": 15
           },
           "zerolinecolor": "white",
           "zerolinewidth": 2
          },
          "yaxis": {
           "automargin": true,
           "gridcolor": "white",
           "linecolor": "white",
           "ticks": "",
           "title": {
            "standoff": 15
           },
           "zerolinecolor": "white",
           "zerolinewidth": 2
          }
         }
        },
        "title": {
         "text": "Labeled by Metadata_Plate"
        },
        "updatemenus": [
         {
          "buttons": [
           {
            "args": [
             "visible",
             "legendonly"
            ],
            "label": "Deselect All",
            "method": "restyle"
           },
           {
            "args": [
             "visible",
             true
            ],
            "label": "Select All",
            "method": "restyle"
           }
          ],
          "direction": "left",
          "pad": {
           "r": 5,
           "t": 5
          },
          "showactive": true,
          "type": "buttons",
          "x": 1,
          "xanchor": "left",
          "y": 1.1,
          "yanchor": "top"
         }
        ],
        "width": 900,
        "xaxis": {
         "anchor": "y",
         "domain": [
          0,
          1
         ],
         "title": {
          "text": "0"
         }
        },
        "yaxis": {
         "anchor": "x",
         "domain": [
          0,
          1
         ],
         "title": {
          "text": "1"
         }
        }
       }
      }
     },
     "metadata": {},
     "output_type": "display_data"
    },
    {
     "data": {
      "application/vnd.plotly.v1+json": {
       "config": {
        "plotlyServerURL": "https://plot.ly",
        "toImageButtonOptions": {
         "filename": "custom_image",
         "format": "svg",
         "height": 500,
         "scale": 6,
         "width": 700
        }
       },
       "data": [
        {
         "customdata": [
          [
           "220617_090443_Plate_1",
           "C2",
           "Non-treated",
           0
          ],
          [
           "220608_152238_Plate_1",
           "G2",
           "Non-treated",
           0
          ],
          [
           "220608_152238_Plate_1",
           "F2",
           "Non-treated",
           0
          ],
          [
           "220617_090443_Plate_1",
           "D2",
           "Non-treated",
           0
          ],
          [
           "220607_092050_Plate_1",
           "E2",
           "Non-treated",
           0
          ],
          [
           "220607_092050_Plate_1",
           "D2",
           "Non-treated",
           0
          ],
          [
           "220607_092050_Plate_1",
           "F2",
           "Non-treated",
           0
          ],
          [
           "220607_092050_Plate_1",
           "G2",
           "Non-treated",
           0
          ],
          [
           "220617_090443_Plate_1",
           "B2",
           "Non-treated",
           0
          ],
          [
           "220617_090443_Plate_1",
           "E2",
           "Non-treated",
           0
          ],
          [
           "220617_090443_Plate_1",
           "G2",
           "Non-treated",
           0
          ],
          [
           "220607_092050_Plate_1",
           "C2",
           "Non-treated",
           0
          ],
          [
           "220608_152238_Plate_1",
           "C2",
           "Non-treated",
           0
          ],
          [
           "220617_090443_Plate_1",
           "F2",
           "Non-treated",
           0
          ],
          [
           "220608_152238_Plate_1",
           "E2",
           "Non-treated",
           0
          ],
          [
           "220608_152238_Plate_1",
           "D2",
           "Non-treated",
           0
          ]
         ],
         "error_x": {
          "thickness": 3
         },
         "error_y": {
          "thickness": 3
         },
         "hovertemplate": "colors_plot_col=Non-treated<br>0=%{x}<br>1=%{y}<br>Metadata_size=%{marker.size}<br>Metadata_Plate=%{customdata[0]}<br>Metadata_Well=%{customdata[1]}<br>Metadata_Compound=%{customdata[2]}<br>Metadata_Concentration=%{customdata[3]}<extra></extra>",
         "legendgroup": "Non-treated",
         "marker": {
          "color": "rgb(36, 121, 108)",
          "size": [
           0,
           0,
           0,
           0,
           0,
           0,
           0,
           0,
           0,
           0,
           0,
           0,
           0,
           0,
           0,
           0
          ],
          "sizemode": "area",
          "sizeref": 0.025,
          "symbol": "circle"
         },
         "mode": "markers",
         "name": "Non-treated",
         "orientation": "v",
         "showlegend": true,
         "type": "scatter",
         "x": [
          2.745795488357544,
          -0.15966752171516418,
          1.4696125984191895,
          -0.9217519164085388,
          3.663874387741089,
          -0.7995076179504395,
          2.0416462421417236,
          -0.5671379566192627,
          -3.156888961791992,
          -0.11865416914224625,
          -2.999373435974121,
          -2.291896343231201,
          -1.4447622299194336,
          -0.35810768604278564,
          -1.863566279411316,
          -1.2873023748397827
         ],
         "xaxis": "x",
         "y": [
          -0.3724590539932251,
          -0.9186651706695557,
          -1.9284664392471313,
          -1.3111047744750977,
          -1.2579729557037354,
          -0.9227939248085022,
          -2.1940665245056152,
          -1.8779852390289307,
          0.13068395853042603,
          -0.6620938181877136,
          2.7542760372161865,
          2.6889257431030273,
          -0.4841846823692322,
          -0.3599063456058502,
          -1.8307760953903198,
          -1.8300132751464844
         ],
         "yaxis": "y"
        },
        {
         "customdata": [
          [
           "220607_092050_Plate_1",
           "D5",
           "Amiodarone",
           0.2
          ],
          [
           "220617_090443_Plate_1",
           "D5",
           "Amiodarone",
           0.2
          ],
          [
           "220617_090443_Plate_1",
           "B5",
           "Amiodarone",
           0.2
          ],
          [
           "220617_090443_Plate_1",
           "C5",
           "Amiodarone",
           0.2
          ],
          [
           "220608_152238_Plate_1",
           "B5",
           "Amiodarone",
           0.2
          ],
          [
           "220608_152238_Plate_1",
           "D5",
           "Amiodarone",
           0.2
          ],
          [
           "220607_092050_Plate_1",
           "B5",
           "Amiodarone",
           0.2
          ],
          [
           "220607_092050_Plate_1",
           "C5",
           "Amiodarone",
           0.2
          ],
          [
           "220608_152238_Plate_1",
           "C5",
           "Amiodarone",
           0.2
          ],
          [
           "220617_090443_Plate_1",
           "B6",
           "Amiodarone",
           2
          ],
          [
           "220617_090443_Plate_1",
           "D6",
           "Amiodarone",
           2
          ],
          [
           "220607_092050_Plate_1",
           "D6",
           "Amiodarone",
           2
          ],
          [
           "220607_092050_Plate_1",
           "B6",
           "Amiodarone",
           2
          ],
          [
           "220608_152238_Plate_1",
           "C6",
           "Amiodarone",
           2
          ],
          [
           "220617_090443_Plate_1",
           "C6",
           "Amiodarone",
           2
          ],
          [
           "220607_092050_Plate_1",
           "C6",
           "Amiodarone",
           2
          ],
          [
           "220608_152238_Plate_1",
           "B6",
           "Amiodarone",
           2
          ],
          [
           "220608_152238_Plate_1",
           "D6",
           "Amiodarone",
           2
          ]
         ],
         "error_x": {
          "thickness": 3
         },
         "error_y": {
          "thickness": 3
         },
         "hovertemplate": "colors_plot_col=Amiodarone<br>0=%{x}<br>1=%{y}<br>Metadata_size=%{marker.size}<br>Metadata_Plate=%{customdata[0]}<br>Metadata_Well=%{customdata[1]}<br>Metadata_Compound=%{customdata[2]}<br>Metadata_Concentration=%{customdata[3]}<extra></extra>",
         "legendgroup": "Amiodarone",
         "marker": {
          "color": "#33a02c",
          "size": [
           0,
           0,
           0,
           0,
           0,
           0,
           0,
           0,
           0,
           2,
           2,
           2,
           2,
           2,
           2,
           2,
           2,
           2
          ],
          "sizemode": "area",
          "sizeref": 0.025,
          "symbol": "circle"
         },
         "mode": "markers",
         "name": "Amiodarone",
         "orientation": "v",
         "showlegend": true,
         "type": "scatter",
         "x": [
          -2.2254042625427246,
          -2.4355525970458984,
          -3.570786714553833,
          2.569030523300171,
          -2.1255009174346924,
          -2.325273036956787,
          2.788966417312622,
          -3.548431634902954,
          -2.1906025409698486,
          3.057964324951172,
          -2.713735818862915,
          -3.268792152404785,
          1.9118646383285522,
          -3.195941925048828,
          -3.224095582962036,
          -2.868300437927246,
          -3.2268056869506836,
          -3.041177272796631
         ],
         "xaxis": "x",
         "y": [
          -1.9954897165298462,
          -3.5807363986968994,
          -0.1790051907300949,
          -0.9427545070648193,
          -0.10106562823057175,
          -2.434443235397339,
          -0.16904577612876892,
          -1.471161127090454,
          -3.035126209259033,
          -0.23367717862129211,
          -2.6446280479431152,
          -2.2092182636260986,
          -0.03247116133570671,
          -1.1322003602981567,
          -1.132946252822876,
          -1.0369328260421753,
          -0.6641831398010254,
          -1.7874562740325928
         ],
         "yaxis": "y"
        },
        {
         "customdata": [
          [
           "220608_152238_Plate_1",
           "B11",
           "Vehicle-ETP",
           0
          ],
          [
           "220617_090443_Plate_1",
           "D11",
           "Vehicle-ETP",
           0
          ],
          [
           "220608_152238_Plate_1",
           "D11",
           "Vehicle-ETP",
           0
          ],
          [
           "220617_090443_Plate_1",
           "C11",
           "Vehicle-ETP",
           0
          ],
          [
           "220617_090443_Plate_1",
           "B11",
           "Vehicle-ETP",
           0
          ],
          [
           "220607_092050_Plate_1",
           "D11",
           "Vehicle-ETP",
           0
          ],
          [
           "220607_092050_Plate_1",
           "C11",
           "Vehicle-ETP",
           0
          ],
          [
           "220608_152238_Plate_1",
           "C11",
           "Vehicle-ETP",
           0
          ],
          [
           "220607_092050_Plate_1",
           "B11",
           "Vehicle-ETP",
           0
          ]
         ],
         "error_x": {
          "thickness": 3
         },
         "error_y": {
          "thickness": 3
         },
         "hovertemplate": "colors_plot_col=Vehicle-ETP<br>0=%{x}<br>1=%{y}<br>Metadata_size=%{marker.size}<br>Metadata_Plate=%{customdata[0]}<br>Metadata_Well=%{customdata[1]}<br>Metadata_Compound=%{customdata[2]}<br>Metadata_Concentration=%{customdata[3]}<extra></extra>",
         "legendgroup": "Vehicle-ETP",
         "marker": {
          "color": "rgb(204, 97, 176)",
          "size": [
           0,
           0,
           0,
           0,
           0,
           0,
           0,
           0,
           0
          ],
          "sizemode": "area",
          "sizeref": 0.025,
          "symbol": "circle"
         },
         "mode": "markers",
         "name": "Vehicle-ETP",
         "orientation": "v",
         "showlegend": true,
         "type": "scatter",
         "x": [
          2.2672133445739746,
          -2.3125109672546387,
          2.737849473953247,
          -2.761164903640747,
          -0.9966514706611633,
          -3.3005049228668213,
          -0.03746027499437332,
          -3.1555933952331543,
          -1.7833715677261353
         ],
         "xaxis": "x",
         "y": [
          -0.5735617280006409,
          -3.9008712768554688,
          -1.5349888801574707,
          -3.527292251586914,
          0.5915039777755737,
          1.4143935441970825,
          -2.693983554840088,
          -3.029263496398926,
          2.4358909130096436
         ],
         "yaxis": "y"
        },
        {
         "customdata": [
          [
           "220608_152238_Plate_1",
           "G10",
           "Lactose",
           1
          ],
          [
           "220608_152238_Plate_1",
           "F10",
           "Lactose",
           1
          ],
          [
           "220608_152238_Plate_1",
           "E10",
           "Lactose",
           1
          ],
          [
           "220617_090443_Plate_1",
           "G10",
           "Lactose",
           1
          ],
          [
           "220617_090443_Plate_1",
           "F10",
           "Lactose",
           1
          ],
          [
           "220617_090443_Plate_1",
           "E10",
           "Lactose",
           1
          ],
          [
           "220607_092050_Plate_1",
           "G10",
           "Lactose",
           1
          ],
          [
           "220607_092050_Plate_1",
           "E10",
           "Lactose",
           1
          ],
          [
           "220607_092050_Plate_1",
           "F10",
           "Lactose",
           1
          ],
          [
           "220617_090443_Plate_1",
           "E11",
           "Lactose",
           10
          ],
          [
           "220617_090443_Plate_1",
           "F11",
           "Lactose",
           10
          ],
          [
           "220617_090443_Plate_1",
           "G11",
           "Lactose",
           10
          ],
          [
           "220608_152238_Plate_1",
           "G11",
           "Lactose",
           10
          ],
          [
           "220608_152238_Plate_1",
           "F11",
           "Lactose",
           10
          ],
          [
           "220607_092050_Plate_1",
           "G11",
           "Lactose",
           10
          ],
          [
           "220607_092050_Plate_1",
           "E11",
           "Lactose",
           10
          ],
          [
           "220607_092050_Plate_1",
           "F11",
           "Lactose",
           10
          ]
         ],
         "error_x": {
          "thickness": 3
         },
         "error_y": {
          "thickness": 3
         },
         "hovertemplate": "colors_plot_col=Lactose<br>0=%{x}<br>1=%{y}<br>Metadata_size=%{marker.size}<br>Metadata_Plate=%{customdata[0]}<br>Metadata_Well=%{customdata[1]}<br>Metadata_Compound=%{customdata[2]}<br>Metadata_Concentration=%{customdata[3]}<extra></extra>",
         "legendgroup": "Lactose",
         "marker": {
          "color": "rgb(165, 170, 153)",
          "size": [
           1,
           1,
           1,
           1,
           1,
           1,
           1,
           1,
           1,
           10,
           10,
           10,
           10,
           10,
           10,
           10,
           10
          ],
          "sizemode": "area",
          "sizeref": 0.025,
          "symbol": "circle"
         },
         "mode": "markers",
         "name": "Lactose",
         "orientation": "v",
         "showlegend": true,
         "type": "scatter",
         "x": [
          -1.5011764764785767,
          3.1371474266052246,
          -2.0433335304260254,
          -1.4693892002105713,
          0.9207721948623657,
          0.1481783092021942,
          -0.08649285137653351,
          3.598242998123169,
          0.21272698044776917,
          0.28528594970703125,
          -3.7408828735351562,
          -0.6629955172538757,
          -0.989411473274231,
          0.2517399787902832,
          -0.6709889769554138,
          -2.0011401176452637,
          -3.6648359298706055
         ],
         "xaxis": "x",
         "y": [
          -3.6685268878936768,
          -2.304853677749634,
          1.8758548498153687,
          -3.0109236240386963,
          -2.1660683155059814,
          1.1922714710235596,
          -2.29599928855896,
          -0.901544988155365,
          -3.1460230350494385,
          0.9569623470306396,
          1.9822276830673218,
          -2.914337635040283,
          -3.117125988006592,
          -1.1291773319244385,
          -1.4674063920974731,
          2.9100162982940674,
          -3.268866777420044
         ],
         "yaxis": "y"
        },
        {
         "customdata": [
          [
           "220608_152238_Plate_1",
           "F9",
           "DMSO",
           1.4
          ],
          [
           "220608_152238_Plate_1",
           "E9",
           "DMSO",
           1.4
          ],
          [
           "220617_090443_Plate_1",
           "F9",
           "DMSO",
           1.4
          ],
          [
           "220617_090443_Plate_1",
           "E9",
           "DMSO",
           1.4
          ],
          [
           "220608_152238_Plate_1",
           "G9",
           "DMSO",
           1.4
          ],
          [
           "220617_090443_Plate_1",
           "G9",
           "DMSO",
           1.4
          ],
          [
           "220607_092050_Plate_1",
           "F9",
           "DMSO",
           1.4
          ],
          [
           "220607_092050_Plate_1",
           "E9",
           "DMSO",
           1.4
          ],
          [
           "220607_092050_Plate_1",
           "G9",
           "DMSO",
           1.4
          ]
         ],
         "error_x": {
          "thickness": 3
         },
         "error_y": {
          "thickness": 3
         },
         "hovertemplate": "colors_plot_col=DMSO<br>0=%{x}<br>1=%{y}<br>Metadata_size=%{marker.size}<br>Metadata_Plate=%{customdata[0]}<br>Metadata_Well=%{customdata[1]}<br>Metadata_Compound=%{customdata[2]}<br>Metadata_Concentration=%{customdata[3]}<extra></extra>",
         "legendgroup": "DMSO",
         "marker": {
          "color": "rgb(237, 100, 90)",
          "size": [
           1,
           1,
           1,
           1,
           1,
           1,
           1,
           1,
           1
          ],
          "sizemode": "area",
          "sizeref": 0.025,
          "symbol": "circle"
         },
         "mode": "markers",
         "name": "DMSO",
         "orientation": "v",
         "showlegend": true,
         "type": "scatter",
         "x": [
          3.01005220413208,
          -0.47105950117111206,
          0.3702055513858795,
          0.3715441823005676,
          0.0778818130493164,
          -0.8344230055809021,
          -1.4416180849075317,
          -1.2494643926620483,
          -3.428020477294922
         ],
         "xaxis": "x",
         "y": [
          -1.0223286151885986,
          1.543251633644104,
          0.010831130668520927,
          1.2918256521224976,
          -1.9001708030700684,
          -1.6382337808609009,
          1.5574134588241577,
          2.661442518234253,
          -2.733369827270508
         ],
         "yaxis": "y"
        },
        {
         "customdata": [
          [
           "220608_152238_Plate_1",
           "D3",
           "Aspirin",
           1
          ],
          [
           "220617_090443_Plate_1",
           "D3",
           "Aspirin",
           1
          ],
          [
           "220617_090443_Plate_1",
           "C3",
           "Aspirin",
           1
          ],
          [
           "220617_090443_Plate_1",
           "B3",
           "Aspirin",
           1
          ],
          [
           "220607_092050_Plate_1",
           "D3",
           "Aspirin",
           1
          ],
          [
           "220607_092050_Plate_1",
           "C3",
           "Aspirin",
           1
          ],
          [
           "220607_092050_Plate_1",
           "B3",
           "Aspirin",
           1
          ],
          [
           "220608_152238_Plate_1",
           "C3",
           "Aspirin",
           1
          ],
          [
           "220608_152238_Plate_1",
           "B3",
           "Aspirin",
           1
          ],
          [
           "220607_092050_Plate_1",
           "D4",
           "Aspirin",
           10
          ],
          [
           "220608_152238_Plate_1",
           "D4",
           "Aspirin",
           10
          ],
          [
           "220607_092050_Plate_1",
           "C4",
           "Aspirin",
           10
          ],
          [
           "220608_152238_Plate_1",
           "C4",
           "Aspirin",
           10
          ],
          [
           "220607_092050_Plate_1",
           "B4",
           "Aspirin",
           10
          ],
          [
           "220617_090443_Plate_1",
           "D4",
           "Aspirin",
           10
          ],
          [
           "220617_090443_Plate_1",
           "B4",
           "Aspirin",
           10
          ],
          [
           "220617_090443_Plate_1",
           "C4",
           "Aspirin",
           10
          ],
          [
           "220608_152238_Plate_1",
           "B4",
           "Aspirin",
           10
          ]
         ],
         "error_x": {
          "thickness": 3
         },
         "error_y": {
          "thickness": 3
         },
         "hovertemplate": "colors_plot_col=Aspirin<br>0=%{x}<br>1=%{y}<br>Metadata_size=%{marker.size}<br>Metadata_Plate=%{customdata[0]}<br>Metadata_Well=%{customdata[1]}<br>Metadata_Compound=%{customdata[2]}<br>Metadata_Concentration=%{customdata[3]}<extra></extra>",
         "legendgroup": "Aspirin",
         "marker": {
          "color": "#1f78b4",
          "size": [
           1,
           1,
           1,
           1,
           1,
           1,
           1,
           1,
           1,
           10,
           10,
           10,
           10,
           10,
           10,
           10,
           10,
           10
          ],
          "sizemode": "area",
          "sizeref": 0.025,
          "symbol": "circle"
         },
         "mode": "markers",
         "name": "Aspirin",
         "orientation": "v",
         "showlegend": true,
         "type": "scatter",
         "x": [
          -2.635350465774536,
          3.0169339179992676,
          3.15910005569458,
          -2.774080753326416,
          -3.510744094848633,
          -3.153918504714966,
          -2.3941714763641357,
          3.3270726203918457,
          -1.8392843008041382,
          -2.423969030380249,
          -3.1236636638641357,
          -3.2558341026306152,
          -3.3896963596343994,
          -2.800928831100464,
          -1.575052261352539,
          -2.6756231784820557,
          2.046092987060547,
          -2.026308298110962
         ],
         "xaxis": "x",
         "y": [
          -2.9068384170532227,
          -1.75486421585083,
          -1.1721946001052856,
          0.5727967023849487,
          2.3800652027130127,
          2.262519359588623,
          -0.5296468734741211,
          -0.9671933650970459,
          0.4736916422843933,
          -2.2453739643096924,
          -3.6795151233673096,
          1.6910516023635864,
          -2.694908857345581,
          -0.16490298509597778,
          -4.056919097900391,
          1.0454078912734985,
          -0.45844078063964844,
          0.8978118300437927
         ],
         "yaxis": "y"
        },
        {
         "customdata": [
          [
           "220608_152238_Plate_1",
           "F3",
           "Lovastatin",
           1
          ],
          [
           "220608_152238_Plate_1",
           "E3",
           "Lovastatin",
           1
          ],
          [
           "220608_152238_Plate_1",
           "G3",
           "Lovastatin",
           1
          ],
          [
           "220617_090443_Plate_1",
           "G3",
           "Lovastatin",
           1
          ],
          [
           "220617_090443_Plate_1",
           "F3",
           "Lovastatin",
           1
          ],
          [
           "220617_090443_Plate_1",
           "E3",
           "Lovastatin",
           1
          ],
          [
           "220607_092050_Plate_1",
           "G3",
           "Lovastatin",
           1
          ],
          [
           "220607_092050_Plate_1",
           "F3",
           "Lovastatin",
           1
          ],
          [
           "220607_092050_Plate_1",
           "E3",
           "Lovastatin",
           1
          ],
          [
           "220608_152238_Plate_1",
           "F4",
           "Lovastatin",
           10
          ],
          [
           "220617_090443_Plate_1",
           "E4",
           "Lovastatin",
           10
          ],
          [
           "220617_090443_Plate_1",
           "F4",
           "Lovastatin",
           10
          ],
          [
           "220617_090443_Plate_1",
           "G4",
           "Lovastatin",
           10
          ],
          [
           "220608_152238_Plate_1",
           "G4",
           "Lovastatin",
           10
          ],
          [
           "220607_092050_Plate_1",
           "G4",
           "Lovastatin",
           10
          ],
          [
           "220607_092050_Plate_1",
           "E4",
           "Lovastatin",
           10
          ],
          [
           "220607_092050_Plate_1",
           "F4",
           "Lovastatin",
           10
          ],
          [
           "220608_152238_Plate_1",
           "E4",
           "Lovastatin",
           10
          ]
         ],
         "error_x": {
          "thickness": 3
         },
         "error_y": {
          "thickness": 3
         },
         "hovertemplate": "colors_plot_col=Lovastatin<br>0=%{x}<br>1=%{y}<br>Metadata_size=%{marker.size}<br>Metadata_Plate=%{customdata[0]}<br>Metadata_Well=%{customdata[1]}<br>Metadata_Compound=%{customdata[2]}<br>Metadata_Concentration=%{customdata[3]}<extra></extra>",
         "legendgroup": "Lovastatin",
         "marker": {
          "color": "#6a3d9a",
          "size": [
           1,
           1,
           1,
           1,
           1,
           1,
           1,
           1,
           1,
           10,
           10,
           10,
           10,
           10,
           10,
           10,
           10,
           10
          ],
          "sizemode": "area",
          "sizeref": 0.025,
          "symbol": "circle"
         },
         "mode": "markers",
         "name": "Lovastatin",
         "orientation": "v",
         "showlegend": true,
         "type": "scatter",
         "x": [
          -1.623582124710083,
          -2.563123941421509,
          3.2722296714782715,
          -2.0179319381713867,
          3.444010019302368,
          0.6831641793251038,
          -0.04894634336233139,
          1.0170024633407593,
          0.8419514298439026,
          -3.27585506439209,
          0.2711569368839264,
          2.6126344203948975,
          -0.6918253898620605,
          -1.825177788734436,
          -0.5016433000564575,
          0.9592359066009521,
          0.6792808771133423,
          -0.4738653302192688
         ],
         "xaxis": "x",
         "y": [
          -2.247303009033203,
          -2.0238561630249023,
          -1.891496181488037,
          -1.0749163627624512,
          -1.7905206680297852,
          0.45037898421287537,
          -1.233094334602356,
          -1.0377798080444336,
          -0.5421816110610962,
          2.6083436012268066,
          0.32556405663490295,
          -2.200839042663574,
          -3.7316641807556152,
          -4.190133571624756,
          -1.5074360370635986,
          -0.3246367871761322,
          -1.6889636516571045,
          0.4166847765445709
         ],
         "yaxis": "y"
        },
        {
         "customdata": [
          [
           "220608_152238_Plate_1",
           "F5",
           "Orphenadrine",
           1
          ],
          [
           "220608_152238_Plate_1",
           "E5",
           "Orphenadrine",
           1
          ],
          [
           "220617_090443_Plate_1",
           "G5",
           "Orphenadrine",
           1
          ],
          [
           "220617_090443_Plate_1",
           "F5",
           "Orphenadrine",
           1
          ],
          [
           "220608_152238_Plate_1",
           "G5",
           "Orphenadrine",
           1
          ],
          [
           "220617_090443_Plate_1",
           "E5",
           "Orphenadrine",
           1
          ],
          [
           "220607_092050_Plate_1",
           "F5",
           "Orphenadrine",
           1
          ],
          [
           "220607_092050_Plate_1",
           "E5",
           "Orphenadrine",
           1
          ],
          [
           "220607_092050_Plate_1",
           "G5",
           "Orphenadrine",
           1
          ],
          [
           "220617_090443_Plate_1",
           "E6",
           "Orphenadrine",
           10
          ],
          [
           "220617_090443_Plate_1",
           "F6",
           "Orphenadrine",
           10
          ],
          [
           "220617_090443_Plate_1",
           "G6",
           "Orphenadrine",
           10
          ],
          [
           "220608_152238_Plate_1",
           "G6",
           "Orphenadrine",
           10
          ],
          [
           "220607_092050_Plate_1",
           "F6",
           "Orphenadrine",
           10
          ],
          [
           "220608_152238_Plate_1",
           "F6",
           "Orphenadrine",
           10
          ],
          [
           "220607_092050_Plate_1",
           "G6",
           "Orphenadrine",
           10
          ],
          [
           "220608_152238_Plate_1",
           "E6",
           "Orphenadrine",
           10
          ],
          [
           "220607_092050_Plate_1",
           "E6",
           "Orphenadrine",
           10
          ]
         ],
         "error_x": {
          "thickness": 3
         },
         "error_y": {
          "thickness": 3
         },
         "hovertemplate": "colors_plot_col=Orphenadrine<br>0=%{x}<br>1=%{y}<br>Metadata_size=%{marker.size}<br>Metadata_Plate=%{customdata[0]}<br>Metadata_Well=%{customdata[1]}<br>Metadata_Compound=%{customdata[2]}<br>Metadata_Concentration=%{customdata[3]}<extra></extra>",
         "legendgroup": "Orphenadrine",
         "marker": {
          "color": "#a6cee3",
          "size": [
           1,
           1,
           1,
           1,
           1,
           1,
           1,
           1,
           1,
           10,
           10,
           10,
           10,
           10,
           10,
           10,
           10,
           10
          ],
          "sizemode": "area",
          "sizeref": 0.025,
          "symbol": "circle"
         },
         "mode": "markers",
         "name": "Orphenadrine",
         "orientation": "v",
         "showlegend": true,
         "type": "scatter",
         "x": [
          -1.2675389051437378,
          0.4574044346809387,
          -1.1708565950393677,
          -0.32093551754951477,
          -3.3306643962860107,
          0.02954115904867649,
          2.9716403484344482,
          -1.5110023021697998,
          2.523900032043457,
          0.6023581027984619,
          1.012832522392273,
          1.4407627582550049,
          -0.8358516097068787,
          1.3139538764953613,
          1.116967797279358,
          -0.3718512952327728,
          -2.6343533992767334,
          -1.3079419136047363
         ],
         "xaxis": "x",
         "y": [
          -0.948783278465271,
          -0.9085080027580261,
          -3.3254787921905518,
          -0.26734718680381775,
          -3.3837532997131348,
          0.6093931198120117,
          -2.5427732467651367,
          3.017320394515991,
          -1.86370050907135,
          0.8206406831741333,
          -1.7976007461547852,
          -1.130022406578064,
          -0.6298647522926331,
          -1.5866124629974365,
          -2.035932779312134,
          -1.0222657918930054,
          3.0600013732910156,
          2.667604446411133
         ],
         "yaxis": "y"
        },
        {
         "customdata": [
          [
           "220608_152238_Plate_1",
           "D7",
           "Cyclophosphamide",
           1
          ],
          [
           "220617_090443_Plate_1",
           "D7",
           "Cyclophosphamide",
           1
          ],
          [
           "220617_090443_Plate_1",
           "C7",
           "Cyclophosphamide",
           1
          ],
          [
           "220617_090443_Plate_1",
           "B7",
           "Cyclophosphamide",
           1
          ],
          [
           "220608_152238_Plate_1",
           "C7",
           "Cyclophosphamide",
           1
          ],
          [
           "220607_092050_Plate_1",
           "D7",
           "Cyclophosphamide",
           1
          ],
          [
           "220607_092050_Plate_1",
           "C7",
           "Cyclophosphamide",
           1
          ],
          [
           "220607_092050_Plate_1",
           "B7",
           "Cyclophosphamide",
           1
          ],
          [
           "220608_152238_Plate_1",
           "B7",
           "Cyclophosphamide",
           1
          ],
          [
           "220617_090443_Plate_1",
           "D8",
           "Cyclophosphamide",
           10
          ],
          [
           "220607_092050_Plate_1",
           "D8",
           "Cyclophosphamide",
           10
          ],
          [
           "220607_092050_Plate_1",
           "C8",
           "Cyclophosphamide",
           10
          ],
          [
           "220607_092050_Plate_1",
           "B8",
           "Cyclophosphamide",
           10
          ],
          [
           "220608_152238_Plate_1",
           "D8",
           "Cyclophosphamide",
           10
          ],
          [
           "220608_152238_Plate_1",
           "B8",
           "Cyclophosphamide",
           10
          ],
          [
           "220617_090443_Plate_1",
           "C8",
           "Cyclophosphamide",
           10
          ],
          [
           "220608_152238_Plate_1",
           "C8",
           "Cyclophosphamide",
           10
          ],
          [
           "220617_090443_Plate_1",
           "B8",
           "Cyclophosphamide",
           10
          ]
         ],
         "error_x": {
          "thickness": 3
         },
         "error_y": {
          "thickness": 3
         },
         "hovertemplate": "colors_plot_col=Cyclophosphamide<br>0=%{x}<br>1=%{y}<br>Metadata_size=%{marker.size}<br>Metadata_Plate=%{customdata[0]}<br>Metadata_Well=%{customdata[1]}<br>Metadata_Compound=%{customdata[2]}<br>Metadata_Concentration=%{customdata[3]}<extra></extra>",
         "legendgroup": "Cyclophosphamide",
         "marker": {
          "color": "#e31a1c",
          "size": [
           1,
           1,
           1,
           1,
           1,
           1,
           1,
           1,
           1,
           10,
           10,
           10,
           10,
           10,
           10,
           10,
           10,
           10
          ],
          "sizemode": "area",
          "sizeref": 0.025,
          "symbol": "circle"
         },
         "mode": "markers",
         "name": "Cyclophosphamide",
         "orientation": "v",
         "showlegend": true,
         "type": "scatter",
         "x": [
          -2.2538504600524902,
          -2.8800227642059326,
          -2.301239252090454,
          2.494760036468506,
          -1.749523639678955,
          -1.0673315525054932,
          -3.017296314239502,
          -3.01324462890625,
          -2.1666696071624756,
          -2.376366376876831,
          -1.4912141561508179,
          -2.269886016845703,
          -2.939873456954956,
          -1.8745312690734863,
          -1.4924614429473877,
          -2.228513240814209,
          -3.358567714691162,
          -2.721085786819458
         ],
         "xaxis": "x",
         "y": [
          -4.399177551269531,
          -3.8661322593688965,
          -2.8857979774475098,
          0.14204879105091095,
          -2.372826099395752,
          -2.609445571899414,
          2.7683916091918945,
          0.3246179223060608,
          0.349066823720932,
          -3.4256434440612793,
          -1.5671981573104858,
          -1.3564456701278687,
          -0.4188411831855774,
          -3.6753475666046143,
          0.7833550572395325,
          -3.8302817344665527,
          2.533630132675171,
          2.023435115814209
         ],
         "yaxis": "y"
        },
        {
         "customdata": [
          [
           "220608_152238_Plate_1",
           "D9",
           "Etoposide",
           1
          ],
          [
           "220617_090443_Plate_1",
           "D9",
           "Etoposide",
           1
          ],
          [
           "220617_090443_Plate_1",
           "C9",
           "Etoposide",
           1
          ],
          [
           "220617_090443_Plate_1",
           "B9",
           "Etoposide",
           1
          ],
          [
           "220608_152238_Plate_1",
           "C9",
           "Etoposide",
           1
          ],
          [
           "220607_092050_Plate_1",
           "D9",
           "Etoposide",
           1
          ],
          [
           "220607_092050_Plate_1",
           "C9",
           "Etoposide",
           1
          ],
          [
           "220607_092050_Plate_1",
           "B9",
           "Etoposide",
           1
          ],
          [
           "220608_152238_Plate_1",
           "B9",
           "Etoposide",
           1
          ],
          [
           "220607_092050_Plate_1",
           "D10",
           "Etoposide",
           10
          ],
          [
           "220608_152238_Plate_1",
           "C10",
           "Etoposide",
           10
          ],
          [
           "220607_092050_Plate_1",
           "C10",
           "Etoposide",
           10
          ],
          [
           "220608_152238_Plate_1",
           "D10",
           "Etoposide",
           10
          ],
          [
           "220617_090443_Plate_1",
           "B10",
           "Etoposide",
           10
          ],
          [
           "220608_152238_Plate_1",
           "B10",
           "Etoposide",
           10
          ],
          [
           "220617_090443_Plate_1",
           "D10",
           "Etoposide",
           10
          ],
          [
           "220617_090443_Plate_1",
           "C10",
           "Etoposide",
           10
          ],
          [
           "220607_092050_Plate_1",
           "B10",
           "Etoposide",
           10
          ]
         ],
         "error_x": {
          "thickness": 3
         },
         "error_y": {
          "thickness": 3
         },
         "hovertemplate": "colors_plot_col=Etoposide<br>0=%{x}<br>1=%{y}<br>Metadata_size=%{marker.size}<br>Metadata_Plate=%{customdata[0]}<br>Metadata_Well=%{customdata[1]}<br>Metadata_Compound=%{customdata[2]}<br>Metadata_Concentration=%{customdata[3]}<extra></extra>",
         "legendgroup": "Etoposide",
         "marker": {
          "color": "#ff7f00",
          "size": [
           1,
           1,
           1,
           1,
           1,
           1,
           1,
           1,
           1,
           10,
           10,
           10,
           10,
           10,
           10,
           10,
           10,
           10
          ],
          "sizemode": "area",
          "sizeref": 0.025,
          "symbol": "circle"
         },
         "mode": "markers",
         "name": "Etoposide",
         "orientation": "v",
         "showlegend": true,
         "type": "scatter",
         "x": [
          2.610935688018799,
          2.095250368118286,
          1.7206649780273438,
          1.8537452220916748,
          2.357161283493042,
          1.6644963026046753,
          1.7026373147964478,
          1.1694185733795166,
          3.297971248626709,
          2.243675947189331,
          1.977393388748169,
          1.4333304166793823,
          2.2690083980560303,
          0.8912737965583801,
          1.0253633260726929,
          1.514066457748413,
          1.7474777698516846,
          1.486005425453186
         ],
         "xaxis": "x",
         "y": [
          3.411113739013672,
          3.653311014175415,
          4.340963363647461,
          3.6496894359588623,
          3.9111287593841553,
          3.1621623039245605,
          3.2125821113586426,
          3.7094333171844482,
          -0.444648802280426,
          4.1146721839904785,
          4.529398441314697,
          4.270251274108887,
          3.7727062702178955,
          4.149599075317383,
          3.1979055404663086,
          3.8347465991973877,
          4.08620023727417,
          4.581937313079834
         ],
         "yaxis": "y"
        },
        {
         "customdata": [
          [
           "220608_152238_Plate_1",
           "E7",
           "Tetracycline",
           1
          ],
          [
           "220608_152238_Plate_1",
           "F7",
           "Tetracycline",
           1
          ],
          [
           "220608_152238_Plate_1",
           "G7",
           "Tetracycline",
           1
          ],
          [
           "220617_090443_Plate_1",
           "G7",
           "Tetracycline",
           1
          ],
          [
           "220617_090443_Plate_1",
           "F7",
           "Tetracycline",
           1
          ],
          [
           "220617_090443_Plate_1",
           "E7",
           "Tetracycline",
           1
          ],
          [
           "220607_092050_Plate_1",
           "F7",
           "Tetracycline",
           1
          ],
          [
           "220607_092050_Plate_1",
           "E7",
           "Tetracycline",
           1
          ],
          [
           "220607_092050_Plate_1",
           "G7",
           "Tetracycline",
           1
          ],
          [
           "220617_090443_Plate_1",
           "F8",
           "Tetracycline",
           10
          ],
          [
           "220617_090443_Plate_1",
           "E8",
           "Tetracycline",
           10
          ],
          [
           "220617_090443_Plate_1",
           "G8",
           "Tetracycline",
           10
          ],
          [
           "220608_152238_Plate_1",
           "G8",
           "Tetracycline",
           10
          ],
          [
           "220607_092050_Plate_1",
           "F8",
           "Tetracycline",
           10
          ],
          [
           "220608_152238_Plate_1",
           "E8",
           "Tetracycline",
           10
          ],
          [
           "220608_152238_Plate_1",
           "F8",
           "Tetracycline",
           10
          ],
          [
           "220607_092050_Plate_1",
           "G8",
           "Tetracycline",
           10
          ],
          [
           "220607_092050_Plate_1",
           "E8",
           "Tetracycline",
           10
          ]
         ],
         "error_x": {
          "thickness": 3
         },
         "error_y": {
          "thickness": 3
         },
         "hovertemplate": "colors_plot_col=Tetracycline<br>0=%{x}<br>1=%{y}<br>Metadata_size=%{marker.size}<br>Metadata_Plate=%{customdata[0]}<br>Metadata_Well=%{customdata[1]}<br>Metadata_Compound=%{customdata[2]}<br>Metadata_Concentration=%{customdata[3]}<extra></extra>",
         "legendgroup": "Tetracycline",
         "marker": {
          "color": "rgb(118, 78, 159)",
          "size": [
           1,
           1,
           1,
           1,
           1,
           1,
           1,
           1,
           1,
           10,
           10,
           10,
           10,
           10,
           10,
           10,
           10,
           10
          ],
          "sizemode": "area",
          "sizeref": 0.025,
          "symbol": "circle"
         },
         "mode": "markers",
         "name": "Tetracycline",
         "orientation": "v",
         "showlegend": true,
         "type": "scatter",
         "x": [
          -0.8790587186813354,
          -0.8988065719604492,
          -1.6834601163864136,
          -0.46352455019950867,
          -0.6106979250907898,
          0.6865907311439514,
          0.37256720662117004,
          -0.6622494459152222,
          -0.32761502265930176,
          -0.10051024705171585,
          0.2872466444969177,
          -2.7215912342071533,
          -3.5190157890319824,
          2.8252487182617188,
          -1.958669662475586,
          -1.5254733562469482,
          -0.4617059528827667,
          -0.7510328888893127
         ],
         "xaxis": "x",
         "y": [
          1.1558210849761963,
          -2.3537871837615967,
          -1.0986542701721191,
          -3.4841156005859375,
          -3.907160997390747,
          0.6962953209877014,
          -2.5877768993377686,
          1.1386388540267944,
          -2.303391218185425,
          -3.7370548248291016,
          0.8659330010414124,
          -3.925926685333252,
          1.8529924154281616,
          -2.189032793045044,
          1.4013580083847046,
          -2.153733491897583,
          -2.517165184020996,
          1.980026364326477
         ],
         "yaxis": "y"
        }
       ],
       "layout": {
        "autosize": false,
        "font": {
         "size": 18
        },
        "height": 700,
        "legend": {
         "itemsizing": "constant",
         "title": {
          "text": "Metadata_Compound"
         },
         "tracegroupgap": 0
        },
        "margin": {
         "b": 20,
         "l": 50,
         "pad": 4,
         "r": 50,
         "t": 50
        },
        "template": {
         "data": {
          "bar": [
           {
            "error_x": {
             "color": "#2a3f5f"
            },
            "error_y": {
             "color": "#2a3f5f"
            },
            "marker": {
             "line": {
              "color": "#E5ECF6",
              "width": 0.5
             },
             "pattern": {
              "fillmode": "overlay",
              "size": 10,
              "solidity": 0.2
             }
            },
            "type": "bar"
           }
          ],
          "barpolar": [
           {
            "marker": {
             "line": {
              "color": "#E5ECF6",
              "width": 0.5
             },
             "pattern": {
              "fillmode": "overlay",
              "size": 10,
              "solidity": 0.2
             }
            },
            "type": "barpolar"
           }
          ],
          "carpet": [
           {
            "aaxis": {
             "endlinecolor": "#2a3f5f",
             "gridcolor": "white",
             "linecolor": "white",
             "minorgridcolor": "white",
             "startlinecolor": "#2a3f5f"
            },
            "baxis": {
             "endlinecolor": "#2a3f5f",
             "gridcolor": "white",
             "linecolor": "white",
             "minorgridcolor": "white",
             "startlinecolor": "#2a3f5f"
            },
            "type": "carpet"
           }
          ],
          "choropleth": [
           {
            "colorbar": {
             "outlinewidth": 0,
             "ticks": ""
            },
            "type": "choropleth"
           }
          ],
          "contour": [
           {
            "colorbar": {
             "outlinewidth": 0,
             "ticks": ""
            },
            "colorscale": [
             [
              0,
              "#0d0887"
             ],
             [
              0.1111111111111111,
              "#46039f"
             ],
             [
              0.2222222222222222,
              "#7201a8"
             ],
             [
              0.3333333333333333,
              "#9c179e"
             ],
             [
              0.4444444444444444,
              "#bd3786"
             ],
             [
              0.5555555555555556,
              "#d8576b"
             ],
             [
              0.6666666666666666,
              "#ed7953"
             ],
             [
              0.7777777777777778,
              "#fb9f3a"
             ],
             [
              0.8888888888888888,
              "#fdca26"
             ],
             [
              1,
              "#f0f921"
             ]
            ],
            "type": "contour"
           }
          ],
          "contourcarpet": [
           {
            "colorbar": {
             "outlinewidth": 0,
             "ticks": ""
            },
            "type": "contourcarpet"
           }
          ],
          "heatmap": [
           {
            "colorbar": {
             "outlinewidth": 0,
             "ticks": ""
            },
            "colorscale": [
             [
              0,
              "#0d0887"
             ],
             [
              0.1111111111111111,
              "#46039f"
             ],
             [
              0.2222222222222222,
              "#7201a8"
             ],
             [
              0.3333333333333333,
              "#9c179e"
             ],
             [
              0.4444444444444444,
              "#bd3786"
             ],
             [
              0.5555555555555556,
              "#d8576b"
             ],
             [
              0.6666666666666666,
              "#ed7953"
             ],
             [
              0.7777777777777778,
              "#fb9f3a"
             ],
             [
              0.8888888888888888,
              "#fdca26"
             ],
             [
              1,
              "#f0f921"
             ]
            ],
            "type": "heatmap"
           }
          ],
          "heatmapgl": [
           {
            "colorbar": {
             "outlinewidth": 0,
             "ticks": ""
            },
            "colorscale": [
             [
              0,
              "#0d0887"
             ],
             [
              0.1111111111111111,
              "#46039f"
             ],
             [
              0.2222222222222222,
              "#7201a8"
             ],
             [
              0.3333333333333333,
              "#9c179e"
             ],
             [
              0.4444444444444444,
              "#bd3786"
             ],
             [
              0.5555555555555556,
              "#d8576b"
             ],
             [
              0.6666666666666666,
              "#ed7953"
             ],
             [
              0.7777777777777778,
              "#fb9f3a"
             ],
             [
              0.8888888888888888,
              "#fdca26"
             ],
             [
              1,
              "#f0f921"
             ]
            ],
            "type": "heatmapgl"
           }
          ],
          "histogram": [
           {
            "marker": {
             "pattern": {
              "fillmode": "overlay",
              "size": 10,
              "solidity": 0.2
             }
            },
            "type": "histogram"
           }
          ],
          "histogram2d": [
           {
            "colorbar": {
             "outlinewidth": 0,
             "ticks": ""
            },
            "colorscale": [
             [
              0,
              "#0d0887"
             ],
             [
              0.1111111111111111,
              "#46039f"
             ],
             [
              0.2222222222222222,
              "#7201a8"
             ],
             [
              0.3333333333333333,
              "#9c179e"
             ],
             [
              0.4444444444444444,
              "#bd3786"
             ],
             [
              0.5555555555555556,
              "#d8576b"
             ],
             [
              0.6666666666666666,
              "#ed7953"
             ],
             [
              0.7777777777777778,
              "#fb9f3a"
             ],
             [
              0.8888888888888888,
              "#fdca26"
             ],
             [
              1,
              "#f0f921"
             ]
            ],
            "type": "histogram2d"
           }
          ],
          "histogram2dcontour": [
           {
            "colorbar": {
             "outlinewidth": 0,
             "ticks": ""
            },
            "colorscale": [
             [
              0,
              "#0d0887"
             ],
             [
              0.1111111111111111,
              "#46039f"
             ],
             [
              0.2222222222222222,
              "#7201a8"
             ],
             [
              0.3333333333333333,
              "#9c179e"
             ],
             [
              0.4444444444444444,
              "#bd3786"
             ],
             [
              0.5555555555555556,
              "#d8576b"
             ],
             [
              0.6666666666666666,
              "#ed7953"
             ],
             [
              0.7777777777777778,
              "#fb9f3a"
             ],
             [
              0.8888888888888888,
              "#fdca26"
             ],
             [
              1,
              "#f0f921"
             ]
            ],
            "type": "histogram2dcontour"
           }
          ],
          "mesh3d": [
           {
            "colorbar": {
             "outlinewidth": 0,
             "ticks": ""
            },
            "type": "mesh3d"
           }
          ],
          "parcoords": [
           {
            "line": {
             "colorbar": {
              "outlinewidth": 0,
              "ticks": ""
             }
            },
            "type": "parcoords"
           }
          ],
          "pie": [
           {
            "automargin": true,
            "type": "pie"
           }
          ],
          "scatter": [
           {
            "fillpattern": {
             "fillmode": "overlay",
             "size": 10,
             "solidity": 0.2
            },
            "type": "scatter"
           }
          ],
          "scatter3d": [
           {
            "line": {
             "colorbar": {
              "outlinewidth": 0,
              "ticks": ""
             }
            },
            "marker": {
             "colorbar": {
              "outlinewidth": 0,
              "ticks": ""
             }
            },
            "type": "scatter3d"
           }
          ],
          "scattercarpet": [
           {
            "marker": {
             "colorbar": {
              "outlinewidth": 0,
              "ticks": ""
             }
            },
            "type": "scattercarpet"
           }
          ],
          "scattergeo": [
           {
            "marker": {
             "colorbar": {
              "outlinewidth": 0,
              "ticks": ""
             }
            },
            "type": "scattergeo"
           }
          ],
          "scattergl": [
           {
            "marker": {
             "colorbar": {
              "outlinewidth": 0,
              "ticks": ""
             }
            },
            "type": "scattergl"
           }
          ],
          "scattermapbox": [
           {
            "marker": {
             "colorbar": {
              "outlinewidth": 0,
              "ticks": ""
             }
            },
            "type": "scattermapbox"
           }
          ],
          "scatterpolar": [
           {
            "marker": {
             "colorbar": {
              "outlinewidth": 0,
              "ticks": ""
             }
            },
            "type": "scatterpolar"
           }
          ],
          "scatterpolargl": [
           {
            "marker": {
             "colorbar": {
              "outlinewidth": 0,
              "ticks": ""
             }
            },
            "type": "scatterpolargl"
           }
          ],
          "scatterternary": [
           {
            "marker": {
             "colorbar": {
              "outlinewidth": 0,
              "ticks": ""
             }
            },
            "type": "scatterternary"
           }
          ],
          "surface": [
           {
            "colorbar": {
             "outlinewidth": 0,
             "ticks": ""
            },
            "colorscale": [
             [
              0,
              "#0d0887"
             ],
             [
              0.1111111111111111,
              "#46039f"
             ],
             [
              0.2222222222222222,
              "#7201a8"
             ],
             [
              0.3333333333333333,
              "#9c179e"
             ],
             [
              0.4444444444444444,
              "#bd3786"
             ],
             [
              0.5555555555555556,
              "#d8576b"
             ],
             [
              0.6666666666666666,
              "#ed7953"
             ],
             [
              0.7777777777777778,
              "#fb9f3a"
             ],
             [
              0.8888888888888888,
              "#fdca26"
             ],
             [
              1,
              "#f0f921"
             ]
            ],
            "type": "surface"
           }
          ],
          "table": [
           {
            "cells": {
             "fill": {
              "color": "#EBF0F8"
             },
             "line": {
              "color": "white"
             }
            },
            "header": {
             "fill": {
              "color": "#C8D4E3"
             },
             "line": {
              "color": "white"
             }
            },
            "type": "table"
           }
          ]
         },
         "layout": {
          "annotationdefaults": {
           "arrowcolor": "#2a3f5f",
           "arrowhead": 0,
           "arrowwidth": 1
          },
          "autotypenumbers": "strict",
          "coloraxis": {
           "colorbar": {
            "outlinewidth": 0,
            "ticks": ""
           }
          },
          "colorscale": {
           "diverging": [
            [
             0,
             "#8e0152"
            ],
            [
             0.1,
             "#c51b7d"
            ],
            [
             0.2,
             "#de77ae"
            ],
            [
             0.3,
             "#f1b6da"
            ],
            [
             0.4,
             "#fde0ef"
            ],
            [
             0.5,
             "#f7f7f7"
            ],
            [
             0.6,
             "#e6f5d0"
            ],
            [
             0.7,
             "#b8e186"
            ],
            [
             0.8,
             "#7fbc41"
            ],
            [
             0.9,
             "#4d9221"
            ],
            [
             1,
             "#276419"
            ]
           ],
           "sequential": [
            [
             0,
             "#0d0887"
            ],
            [
             0.1111111111111111,
             "#46039f"
            ],
            [
             0.2222222222222222,
             "#7201a8"
            ],
            [
             0.3333333333333333,
             "#9c179e"
            ],
            [
             0.4444444444444444,
             "#bd3786"
            ],
            [
             0.5555555555555556,
             "#d8576b"
            ],
            [
             0.6666666666666666,
             "#ed7953"
            ],
            [
             0.7777777777777778,
             "#fb9f3a"
            ],
            [
             0.8888888888888888,
             "#fdca26"
            ],
            [
             1,
             "#f0f921"
            ]
           ],
           "sequentialminus": [
            [
             0,
             "#0d0887"
            ],
            [
             0.1111111111111111,
             "#46039f"
            ],
            [
             0.2222222222222222,
             "#7201a8"
            ],
            [
             0.3333333333333333,
             "#9c179e"
            ],
            [
             0.4444444444444444,
             "#bd3786"
            ],
            [
             0.5555555555555556,
             "#d8576b"
            ],
            [
             0.6666666666666666,
             "#ed7953"
            ],
            [
             0.7777777777777778,
             "#fb9f3a"
            ],
            [
             0.8888888888888888,
             "#fdca26"
            ],
            [
             1,
             "#f0f921"
            ]
           ]
          },
          "colorway": [
           "#636efa",
           "#EF553B",
           "#00cc96",
           "#ab63fa",
           "#FFA15A",
           "#19d3f3",
           "#FF6692",
           "#B6E880",
           "#FF97FF",
           "#FECB52"
          ],
          "font": {
           "color": "#2a3f5f"
          },
          "geo": {
           "bgcolor": "white",
           "lakecolor": "white",
           "landcolor": "#E5ECF6",
           "showlakes": true,
           "showland": true,
           "subunitcolor": "white"
          },
          "hoverlabel": {
           "align": "left"
          },
          "hovermode": "closest",
          "mapbox": {
           "style": "light"
          },
          "paper_bgcolor": "white",
          "plot_bgcolor": "#E5ECF6",
          "polar": {
           "angularaxis": {
            "gridcolor": "white",
            "linecolor": "white",
            "ticks": ""
           },
           "bgcolor": "#E5ECF6",
           "radialaxis": {
            "gridcolor": "white",
            "linecolor": "white",
            "ticks": ""
           }
          },
          "scene": {
           "xaxis": {
            "backgroundcolor": "#E5ECF6",
            "gridcolor": "white",
            "gridwidth": 2,
            "linecolor": "white",
            "showbackground": true,
            "ticks": "",
            "zerolinecolor": "white"
           },
           "yaxis": {
            "backgroundcolor": "#E5ECF6",
            "gridcolor": "white",
            "gridwidth": 2,
            "linecolor": "white",
            "showbackground": true,
            "ticks": "",
            "zerolinecolor": "white"
           },
           "zaxis": {
            "backgroundcolor": "#E5ECF6",
            "gridcolor": "white",
            "gridwidth": 2,
            "linecolor": "white",
            "showbackground": true,
            "ticks": "",
            "zerolinecolor": "white"
           }
          },
          "shapedefaults": {
           "line": {
            "color": "#2a3f5f"
           }
          },
          "ternary": {
           "aaxis": {
            "gridcolor": "white",
            "linecolor": "white",
            "ticks": ""
           },
           "baxis": {
            "gridcolor": "white",
            "linecolor": "white",
            "ticks": ""
           },
           "bgcolor": "#E5ECF6",
           "caxis": {
            "gridcolor": "white",
            "linecolor": "white",
            "ticks": ""
           }
          },
          "title": {
           "x": 0.05
          },
          "xaxis": {
           "automargin": true,
           "gridcolor": "white",
           "linecolor": "white",
           "ticks": "",
           "title": {
            "standoff": 15
           },
           "zerolinecolor": "white",
           "zerolinewidth": 2
          },
          "yaxis": {
           "automargin": true,
           "gridcolor": "white",
           "linecolor": "white",
           "ticks": "",
           "title": {
            "standoff": 15
           },
           "zerolinecolor": "white",
           "zerolinewidth": 2
          }
         }
        },
        "title": {
         "text": "Size defined by Metadata_Concentration"
        },
        "updatemenus": [
         {
          "buttons": [
           {
            "args": [
             "visible",
             "legendonly"
            ],
            "label": "Deselect All",
            "method": "restyle"
           },
           {
            "args": [
             "visible",
             true
            ],
            "label": "Select All",
            "method": "restyle"
           }
          ],
          "direction": "left",
          "pad": {
           "r": 5,
           "t": 5
          },
          "showactive": true,
          "type": "buttons",
          "x": 1,
          "xanchor": "left",
          "y": 1.1,
          "yanchor": "top"
         }
        ],
        "width": 900,
        "xaxis": {
         "anchor": "y",
         "domain": [
          0,
          1
         ],
         "title": {
          "text": "0"
         }
        },
        "yaxis": {
         "anchor": "x",
         "domain": [
          0,
          1
         ],
         "title": {
          "text": "1"
         }
        }
       }
      }
     },
     "metadata": {},
     "output_type": "display_data"
    }
   ],
   "source": [
    "df_plot = combat_util.generate_x_y_umap(df_plates, n_neighbors=n_neighbors_input, min_dist=min_dist_input, metric=metric)\n",
    "combat_util.plot_umap(df_plot, \n",
    "                      color_col='Metadata_Plate',\n",
    "                      hover_cols=hover_list)\n",
    "combat_util.plot_umap(df_plot, color_col='Metadata_Compound', split_df = False, split_column = None, np = None,\n",
    "                      hover_cols=hover_list,\n",
    "                      size=True, size_col = \"Metadata_Concentration\",\n",
    "                      dili_color=True\n",
    "                      )"
   ]
  },
  {
   "attachments": {},
   "cell_type": "markdown",
   "metadata": {},
   "source": [
    "## 3D"
   ]
  },
  {
   "cell_type": "code",
   "execution_count": 18,
   "metadata": {},
   "outputs": [],
   "source": [
    "df_3d = combat_util.generate_x_y_umap(df_plates, n_neighbors=n_neighbors_input, min_dist=min_dist_input, metric=metric, n_components=3)"
   ]
  },
  {
   "cell_type": "code",
   "execution_count": 19,
   "metadata": {},
   "outputs": [
    {
     "data": {
      "application/vnd.plotly.v1+json": {
       "config": {
        "plotlyServerURL": "https://plot.ly",
        "toImageButtonOptions": {
         "filename": "custom_image",
         "format": "svg",
         "height": 500,
         "scale": 6,
         "width": 700
        }
       },
       "data": [
        {
         "customdata": [
          [
           "220617_090443_Plate_1",
           "C2",
           "Non-treated",
           0
          ],
          [
           "220608_152238_Plate_1",
           "G2",
           "Non-treated",
           0
          ],
          [
           "220608_152238_Plate_1",
           "F2",
           "Non-treated",
           0
          ],
          [
           "220617_090443_Plate_1",
           "D2",
           "Non-treated",
           0
          ],
          [
           "220607_092050_Plate_1",
           "E2",
           "Non-treated",
           0
          ],
          [
           "220607_092050_Plate_1",
           "D2",
           "Non-treated",
           0
          ],
          [
           "220607_092050_Plate_1",
           "F2",
           "Non-treated",
           0
          ],
          [
           "220607_092050_Plate_1",
           "G2",
           "Non-treated",
           0
          ],
          [
           "220617_090443_Plate_1",
           "B2",
           "Non-treated",
           0
          ],
          [
           "220617_090443_Plate_1",
           "E2",
           "Non-treated",
           0
          ],
          [
           "220617_090443_Plate_1",
           "G2",
           "Non-treated",
           0
          ],
          [
           "220607_092050_Plate_1",
           "C2",
           "Non-treated",
           0
          ],
          [
           "220608_152238_Plate_1",
           "C2",
           "Non-treated",
           0
          ],
          [
           "220617_090443_Plate_1",
           "F2",
           "Non-treated",
           0
          ],
          [
           "220608_152238_Plate_1",
           "E2",
           "Non-treated",
           0
          ],
          [
           "220608_152238_Plate_1",
           "D2",
           "Non-treated",
           0
          ]
         ],
         "hovertemplate": "colors_plot_col=Non-treated<br>0=%{x}<br>1=%{y}<br>2=%{z}<br>Metadata_size=%{marker.size}<br>Metadata_Plate=%{customdata[0]}<br>Metadata_Well=%{customdata[1]}<br>Metadata_Compound=%{customdata[2]}<br>Metadata_Concentration=%{customdata[3]}<extra></extra>",
         "legendgroup": "Non-treated",
         "marker": {
          "color": "#636efa",
          "size": [
           0,
           0,
           0,
           0,
           0,
           0,
           0,
           0,
           0,
           0,
           0,
           0,
           0,
           0,
           0,
           0
          ],
          "sizemode": "area",
          "sizeref": 0.025,
          "symbol": "circle"
         },
         "mode": "markers",
         "name": "Non-treated",
         "scene": "scene",
         "showlegend": true,
         "type": "scatter3d",
         "x": [
          3.788191556930542,
          4.014459133148193,
          4.316341876983643,
          3.8297183513641357,
          4.527644157409668,
          3.4105215072631836,
          4.475081443786621,
          3.7027828693389893,
          1.7655750513076782,
          3.3103127479553223,
          0.32964837551116943,
          -0.11670047044754028,
          2.45914888381958,
          3.492856979370117,
          3.64418625831604,
          3.546729803085327
         ],
         "y": [
          -6.7476806640625,
          -8.867386817932129,
          -6.883759021759033,
          -9.315486907958984,
          -6.052917957305908,
          -8.780312538146973,
          -6.9126996994018555,
          -8.781614303588867,
          -8.447309494018555,
          -8.3402738571167,
          -10.037796020507812,
          -9.50660228729248,
          -9.366275787353516,
          -8.41164493560791,
          -9.049493789672852,
          -9.33755874633789
         ],
         "z": [
          4.049734115600586,
          7.9757981300354,
          6.752895355224609,
          7.542294502258301,
          4.302032470703125,
          7.590432167053223,
          5.949769020080566,
          6.332449436187744,
          4.329172134399414,
          7.416040897369385,
          6.73989200592041,
          6.6117095947265625,
          6.290826320648193,
          8.005620002746582,
          5.034729957580566,
          6.586020469665527
         ]
        },
        {
         "customdata": [
          [
           "220607_092050_Plate_1",
           "D5",
           "Amiodarone",
           0.2
          ],
          [
           "220617_090443_Plate_1",
           "D5",
           "Amiodarone",
           0.2
          ],
          [
           "220617_090443_Plate_1",
           "B5",
           "Amiodarone",
           0.2
          ],
          [
           "220617_090443_Plate_1",
           "C5",
           "Amiodarone",
           0.2
          ],
          [
           "220608_152238_Plate_1",
           "B5",
           "Amiodarone",
           0.2
          ],
          [
           "220608_152238_Plate_1",
           "D5",
           "Amiodarone",
           0.2
          ],
          [
           "220607_092050_Plate_1",
           "B5",
           "Amiodarone",
           0.2
          ],
          [
           "220607_092050_Plate_1",
           "C5",
           "Amiodarone",
           0.2
          ],
          [
           "220608_152238_Plate_1",
           "C5",
           "Amiodarone",
           0.2
          ],
          [
           "220617_090443_Plate_1",
           "B6",
           "Amiodarone",
           2
          ],
          [
           "220617_090443_Plate_1",
           "D6",
           "Amiodarone",
           2
          ],
          [
           "220607_092050_Plate_1",
           "D6",
           "Amiodarone",
           2
          ],
          [
           "220607_092050_Plate_1",
           "B6",
           "Amiodarone",
           2
          ],
          [
           "220608_152238_Plate_1",
           "C6",
           "Amiodarone",
           2
          ],
          [
           "220617_090443_Plate_1",
           "C6",
           "Amiodarone",
           2
          ],
          [
           "220607_092050_Plate_1",
           "C6",
           "Amiodarone",
           2
          ],
          [
           "220608_152238_Plate_1",
           "B6",
           "Amiodarone",
           2
          ],
          [
           "220608_152238_Plate_1",
           "D6",
           "Amiodarone",
           2
          ]
         ],
         "hovertemplate": "colors_plot_col=Amiodarone<br>0=%{x}<br>1=%{y}<br>2=%{z}<br>Metadata_size=%{marker.size}<br>Metadata_Plate=%{customdata[0]}<br>Metadata_Well=%{customdata[1]}<br>Metadata_Compound=%{customdata[2]}<br>Metadata_Concentration=%{customdata[3]}<extra></extra>",
         "legendgroup": "Amiodarone",
         "marker": {
          "color": "#EF553B",
          "size": [
           0,
           0,
           0,
           0,
           0,
           0,
           0,
           0,
           0,
           2,
           2,
           2,
           2,
           2,
           2,
           2,
           2,
           2
          ],
          "sizemode": "area",
          "sizeref": 0.025,
          "symbol": "circle"
         },
         "mode": "markers",
         "name": "Amiodarone",
         "scene": "scene",
         "showlegend": true,
         "type": "scatter3d",
         "x": [
          3.628164768218994,
          3.914905309677124,
          1.7904666662216187,
          3.9725592136383057,
          2.1850574016571045,
          3.949198007583618,
          3.3670361042022705,
          1.9840580224990845,
          2.8988754749298096,
          3.983477830886841,
          3.5613415241241455,
          3.0297467708587646,
          3.098250150680542,
          2.4440572261810303,
          2.6841204166412354,
          2.6785154342651367,
          2.2456440925598145,
          3.1897358894348145
         ],
         "y": [
          -9.289212226867676,
          -10.971480369567871,
          -9.00234317779541,
          -7.165912628173828,
          -7.747242450714111,
          -9.038774490356445,
          -6.6891188621521,
          -9.988900184631348,
          -10.182297706604004,
          -6.74850606918335,
          -10.130651473999023,
          -9.907502174377441,
          -7.67116641998291,
          -9.745477676391602,
          -9.338007926940918,
          -8.97109603881836,
          -9.419746398925781,
          -9.516389846801758
         ],
         "z": [
          4.813449859619141,
          5.2668232917785645,
          4.1337175369262695,
          4.241311073303223,
          4.626147747039795,
          4.168757438659668,
          4.03059196472168,
          4.8579325675964355,
          5.4220380783081055,
          3.681424379348755,
          4.309134006500244,
          4.618833065032959,
          3.8696744441986084,
          4.728038787841797,
          4.340066909790039,
          4.494813919067383,
          4.274102210998535,
          4.224905967712402
         ]
        },
        {
         "customdata": [
          [
           "220608_152238_Plate_1",
           "B11",
           "Vehicle-ETP",
           0
          ],
          [
           "220617_090443_Plate_1",
           "D11",
           "Vehicle-ETP",
           0
          ],
          [
           "220608_152238_Plate_1",
           "D11",
           "Vehicle-ETP",
           0
          ],
          [
           "220617_090443_Plate_1",
           "C11",
           "Vehicle-ETP",
           0
          ],
          [
           "220617_090443_Plate_1",
           "B11",
           "Vehicle-ETP",
           0
          ],
          [
           "220607_092050_Plate_1",
           "D11",
           "Vehicle-ETP",
           0
          ],
          [
           "220607_092050_Plate_1",
           "C11",
           "Vehicle-ETP",
           0
          ],
          [
           "220608_152238_Plate_1",
           "C11",
           "Vehicle-ETP",
           0
          ],
          [
           "220607_092050_Plate_1",
           "B11",
           "Vehicle-ETP",
           0
          ]
         ],
         "hovertemplate": "colors_plot_col=Vehicle-ETP<br>0=%{x}<br>1=%{y}<br>2=%{z}<br>Metadata_size=%{marker.size}<br>Metadata_Plate=%{customdata[0]}<br>Metadata_Well=%{customdata[1]}<br>Metadata_Compound=%{customdata[2]}<br>Metadata_Concentration=%{customdata[3]}<extra></extra>",
         "legendgroup": "Vehicle-ETP",
         "marker": {
          "color": "#00cc96",
          "size": [
           0,
           0,
           0,
           0,
           0,
           0,
           0,
           0,
           0
          ],
          "sizemode": "area",
          "sizeref": 0.025,
          "symbol": "circle"
         },
         "mode": "markers",
         "name": "Vehicle-ETP",
         "scene": "scene",
         "showlegend": true,
         "type": "scatter3d",
         "x": [
          3.19069766998291,
          4.124465465545654,
          4.374825477600098,
          3.585965633392334,
          1.4410890340805054,
          1.4416786432266235,
          4.755997180938721,
          2.879432439804077,
          0.22488242387771606
         ],
         "y": [
          -6.902917861938477,
          -10.94946575164795,
          -6.871374607086182,
          -10.572895050048828,
          -8.300789833068848,
          -10.11607551574707,
          -8.798450469970703,
          -10.897725105285645,
          -8.989151000976562
         ],
         "z": [
          4.254336357116699,
          5.0097432136535645,
          4.653284072875977,
          4.64343786239624,
          5.045803546905518,
          6.226115703582764,
          6.438270568847656,
          5.120905876159668,
          5.893340110778809
         ]
        },
        {
         "customdata": [
          [
           "220608_152238_Plate_1",
           "G10",
           "Lactose",
           1
          ],
          [
           "220608_152238_Plate_1",
           "F10",
           "Lactose",
           1
          ],
          [
           "220608_152238_Plate_1",
           "E10",
           "Lactose",
           1
          ],
          [
           "220617_090443_Plate_1",
           "G10",
           "Lactose",
           1
          ],
          [
           "220617_090443_Plate_1",
           "F10",
           "Lactose",
           1
          ],
          [
           "220617_090443_Plate_1",
           "E10",
           "Lactose",
           1
          ],
          [
           "220607_092050_Plate_1",
           "G10",
           "Lactose",
           1
          ],
          [
           "220607_092050_Plate_1",
           "E10",
           "Lactose",
           1
          ],
          [
           "220607_092050_Plate_1",
           "F10",
           "Lactose",
           1
          ],
          [
           "220617_090443_Plate_1",
           "E11",
           "Lactose",
           10
          ],
          [
           "220617_090443_Plate_1",
           "F11",
           "Lactose",
           10
          ],
          [
           "220617_090443_Plate_1",
           "G11",
           "Lactose",
           10
          ],
          [
           "220608_152238_Plate_1",
           "G11",
           "Lactose",
           10
          ],
          [
           "220608_152238_Plate_1",
           "F11",
           "Lactose",
           10
          ],
          [
           "220607_092050_Plate_1",
           "G11",
           "Lactose",
           10
          ],
          [
           "220607_092050_Plate_1",
           "E11",
           "Lactose",
           10
          ],
          [
           "220607_092050_Plate_1",
           "F11",
           "Lactose",
           10
          ]
         ],
         "hovertemplate": "colors_plot_col=Lactose<br>0=%{x}<br>1=%{y}<br>2=%{z}<br>Metadata_size=%{marker.size}<br>Metadata_Plate=%{customdata[0]}<br>Metadata_Well=%{customdata[1]}<br>Metadata_Compound=%{customdata[2]}<br>Metadata_Concentration=%{customdata[3]}<extra></extra>",
         "legendgroup": "Lactose",
         "marker": {
          "color": "#ab63fa",
          "size": [
           1,
           1,
           1,
           1,
           1,
           1,
           1,
           1,
           1,
           10,
           10,
           10,
           10,
           10,
           10,
           10,
           10
          ],
          "sizemode": "area",
          "sizeref": 0.025,
          "symbol": "circle"
         },
         "mode": "markers",
         "name": "Lactose",
         "scene": "scene",
         "showlegend": true,
         "type": "scatter3d",
         "x": [
          3.900603771209717,
          4.701419830322266,
          0.9429451823234558,
          4.306175231933594,
          4.078676700592041,
          2.1640307903289795,
          4.40219783782959,
          3.9958605766296387,
          5.031766891479492,
          2.0764100551605225,
          1.7020044326782227,
          4.800008773803711,
          4.141417026519775,
          4.216739177703857,
          3.479304313659668,
          0.23294705152511597,
          2.7191317081451416
         ],
         "y": [
          -10.42783260345459,
          -6.650290489196777,
          -8.672304153442383,
          -9.45667839050293,
          -7.21210241317749,
          -7.111125469207764,
          -8.6475830078125,
          -5.8957929611206055,
          -9.082308769226074,
          -6.831480979919434,
          -10.341874122619629,
          -9.643881797790527,
          -9.892227172851562,
          -8.49316692352295,
          -9.828725814819336,
          -9.084946632385254,
          -11.274330139160156
         ],
         "z": [
          6.262856960296631,
          5.420443534851074,
          6.140236854553223,
          5.193639755249023,
          6.664026737213135,
          6.713370323181152,
          5.731200695037842,
          4.302490234375,
          6.619906425476074,
          6.951479434967041,
          7.061527729034424,
          6.425593376159668,
          6.284244537353516,
          7.671046257019043,
          7.25625467300415,
          6.594432353973389,
          5.626177787780762
         ]
        },
        {
         "customdata": [
          [
           "220608_152238_Plate_1",
           "F9",
           "DMSO",
           1.4
          ],
          [
           "220608_152238_Plate_1",
           "E9",
           "DMSO",
           1.4
          ],
          [
           "220617_090443_Plate_1",
           "F9",
           "DMSO",
           1.4
          ],
          [
           "220617_090443_Plate_1",
           "E9",
           "DMSO",
           1.4
          ],
          [
           "220608_152238_Plate_1",
           "G9",
           "DMSO",
           1.4
          ],
          [
           "220617_090443_Plate_1",
           "G9",
           "DMSO",
           1.4
          ],
          [
           "220607_092050_Plate_1",
           "F9",
           "DMSO",
           1.4
          ],
          [
           "220607_092050_Plate_1",
           "E9",
           "DMSO",
           1.4
          ],
          [
           "220607_092050_Plate_1",
           "G9",
           "DMSO",
           1.4
          ]
         ],
         "hovertemplate": "colors_plot_col=DMSO<br>0=%{x}<br>1=%{y}<br>2=%{z}<br>Metadata_size=%{marker.size}<br>Metadata_Plate=%{customdata[0]}<br>Metadata_Well=%{customdata[1]}<br>Metadata_Compound=%{customdata[2]}<br>Metadata_Concentration=%{customdata[3]}<extra></extra>",
         "legendgroup": "DMSO",
         "marker": {
          "color": "#FFA15A",
          "size": [
           1,
           1,
           1,
           1,
           1,
           1,
           1,
           1,
           1
          ],
          "sizemode": "area",
          "sizeref": 0.025,
          "symbol": "circle"
         },
         "mode": "markers",
         "name": "DMSO",
         "scene": "scene",
         "showlegend": true,
         "type": "scatter3d",
         "x": [
          4.695449352264404,
          1.4730479717254639,
          2.890263319015503,
          1.9669950008392334,
          3.7423384189605713,
          3.9324662685394287,
          1.652794599533081,
          0.6494578719139099,
          3.0514419078826904
         ],
         "y": [
          -6.473459243774414,
          -7.486208438873291,
          -7.065734386444092,
          -6.917605400085449,
          -8.068580627441406,
          -9.231801986694336,
          -8.479998588562012,
          -8.484878540039062,
          -10.601461410522461
         ],
         "z": [
          4.225687026977539,
          6.754505634307861,
          6.7433977127075195,
          7.182740688323975,
          5.988625526428223,
          6.906489849090576,
          6.2490410804748535,
          6.668904781341553,
          6.840278625488281
         ]
        },
        {
         "customdata": [
          [
           "220608_152238_Plate_1",
           "D3",
           "Aspirin",
           1
          ],
          [
           "220617_090443_Plate_1",
           "D3",
           "Aspirin",
           1
          ],
          [
           "220617_090443_Plate_1",
           "C3",
           "Aspirin",
           1
          ],
          [
           "220617_090443_Plate_1",
           "B3",
           "Aspirin",
           1
          ],
          [
           "220607_092050_Plate_1",
           "D3",
           "Aspirin",
           1
          ],
          [
           "220607_092050_Plate_1",
           "C3",
           "Aspirin",
           1
          ],
          [
           "220607_092050_Plate_1",
           "B3",
           "Aspirin",
           1
          ],
          [
           "220608_152238_Plate_1",
           "C3",
           "Aspirin",
           1
          ],
          [
           "220608_152238_Plate_1",
           "B3",
           "Aspirin",
           1
          ],
          [
           "220607_092050_Plate_1",
           "D4",
           "Aspirin",
           10
          ],
          [
           "220608_152238_Plate_1",
           "D4",
           "Aspirin",
           10
          ],
          [
           "220607_092050_Plate_1",
           "C4",
           "Aspirin",
           10
          ],
          [
           "220608_152238_Plate_1",
           "C4",
           "Aspirin",
           10
          ],
          [
           "220607_092050_Plate_1",
           "B4",
           "Aspirin",
           10
          ],
          [
           "220617_090443_Plate_1",
           "D4",
           "Aspirin",
           10
          ],
          [
           "220617_090443_Plate_1",
           "B4",
           "Aspirin",
           10
          ],
          [
           "220617_090443_Plate_1",
           "C4",
           "Aspirin",
           10
          ],
          [
           "220608_152238_Plate_1",
           "B4",
           "Aspirin",
           10
          ]
         ],
         "hovertemplate": "colors_plot_col=Aspirin<br>0=%{x}<br>1=%{y}<br>2=%{z}<br>Metadata_size=%{marker.size}<br>Metadata_Plate=%{customdata[0]}<br>Metadata_Well=%{customdata[1]}<br>Metadata_Compound=%{customdata[2]}<br>Metadata_Concentration=%{customdata[3]}<extra></extra>",
         "legendgroup": "Aspirin",
         "marker": {
          "color": "#19d3f3",
          "size": [
           1,
           1,
           1,
           1,
           1,
           1,
           1,
           1,
           1,
           10,
           10,
           10,
           10,
           10,
           10,
           10,
           10,
           10
          ],
          "sizemode": "area",
          "sizeref": 0.025,
          "symbol": "circle"
         },
         "mode": "markers",
         "name": "Aspirin",
         "scene": "scene",
         "showlegend": true,
         "type": "scatter3d",
         "x": [
          3.2633659839630127,
          4.470603942871094,
          4.101417541503906,
          1.207220435142517,
          0.7793758511543274,
          0.6969090104103088,
          2.6382975578308105,
          4.45130729675293,
          1.677167534828186,
          3.994001865386963,
          3.3378920555114746,
          0.7449859976768494,
          2.8186891078948975,
          2.1915810108184814,
          4.3350114822387695,
          1.0059783458709717,
          3.7080602645874023,
          1.5186717510223389
         ],
         "y": [
          -10.693230628967285,
          -6.086060047149658,
          -6.364823818206787,
          -8.709153175354004,
          -10.51919937133789,
          -10.338253021240234,
          -8.240754127502441,
          -6.210891246795654,
          -7.553257465362549,
          -8.577178955078125,
          -11.282808303833008,
          -10.021056175231934,
          -10.660404205322266,
          -8.820222854614258,
          -10.819391250610352,
          -8.957038879394531,
          -7.670215129852295,
          -7.8067708015441895
         ],
         "z": [
          6.052867412567139,
          5.007026195526123,
          4.58858585357666,
          4.460080146789551,
          6.732212543487549,
          6.391733169555664,
          4.348339080810547,
          4.072704315185547,
          5.108319282531738,
          4.26381254196167,
          5.637406826019287,
          5.827220439910889,
          6.146088600158691,
          4.312407970428467,
          5.761031627655029,
          5.257836818695068,
          3.988341808319092,
          5.465548515319824
         ]
        },
        {
         "customdata": [
          [
           "220608_152238_Plate_1",
           "F3",
           "Lovastatin",
           1
          ],
          [
           "220608_152238_Plate_1",
           "E3",
           "Lovastatin",
           1
          ],
          [
           "220608_152238_Plate_1",
           "G3",
           "Lovastatin",
           1
          ],
          [
           "220617_090443_Plate_1",
           "G3",
           "Lovastatin",
           1
          ],
          [
           "220617_090443_Plate_1",
           "F3",
           "Lovastatin",
           1
          ],
          [
           "220617_090443_Plate_1",
           "E3",
           "Lovastatin",
           1
          ],
          [
           "220607_092050_Plate_1",
           "G3",
           "Lovastatin",
           1
          ],
          [
           "220607_092050_Plate_1",
           "F3",
           "Lovastatin",
           1
          ],
          [
           "220607_092050_Plate_1",
           "E3",
           "Lovastatin",
           1
          ],
          [
           "220608_152238_Plate_1",
           "F4",
           "Lovastatin",
           10
          ],
          [
           "220617_090443_Plate_1",
           "E4",
           "Lovastatin",
           10
          ],
          [
           "220617_090443_Plate_1",
           "F4",
           "Lovastatin",
           10
          ],
          [
           "220617_090443_Plate_1",
           "G4",
           "Lovastatin",
           10
          ],
          [
           "220608_152238_Plate_1",
           "G4",
           "Lovastatin",
           10
          ],
          [
           "220607_092050_Plate_1",
           "G4",
           "Lovastatin",
           10
          ],
          [
           "220607_092050_Plate_1",
           "E4",
           "Lovastatin",
           10
          ],
          [
           "220607_092050_Plate_1",
           "F4",
           "Lovastatin",
           10
          ],
          [
           "220608_152238_Plate_1",
           "E4",
           "Lovastatin",
           10
          ]
         ],
         "hovertemplate": "colors_plot_col=Lovastatin<br>0=%{x}<br>1=%{y}<br>2=%{z}<br>Metadata_size=%{marker.size}<br>Metadata_Plate=%{customdata[0]}<br>Metadata_Well=%{customdata[1]}<br>Metadata_Compound=%{customdata[2]}<br>Metadata_Concentration=%{customdata[3]}<extra></extra>",
         "legendgroup": "Lovastatin",
         "marker": {
          "color": "#FF6692",
          "size": [
           1,
           1,
           1,
           1,
           1,
           1,
           1,
           1,
           1,
           10,
           10,
           10,
           10,
           10,
           10,
           10,
           10,
           10
          ],
          "sizemode": "area",
          "sizeref": 0.025,
          "symbol": "circle"
         },
         "mode": "markers",
         "name": "Lovastatin",
         "scene": "scene",
         "showlegend": true,
         "type": "scatter3d",
         "x": [
          3.1714742183685303,
          4.095681190490723,
          4.854738235473633,
          2.7422938346862793,
          4.965116024017334,
          3.0021512508392334,
          3.831355571746826,
          4.483518600463867,
          4.08136510848999,
          0.6688395142555237,
          2.737112283706665,
          5.0101799964904785,
          4.755379676818848,
          3.9160640239715576,
          3.572356939315796,
          3.585120677947998,
          3.7820398807525635,
          2.5747270584106445
         ],
         "y": [
          -9.29843521118164,
          -9.125197410583496,
          -6.469594478607178,
          -8.709946632385254,
          -6.312729358673096,
          -7.001270771026611,
          -8.509285926818848,
          -7.6863532066345215,
          -7.92455530166626,
          -10.25705623626709,
          -7.28551721572876,
          -7.0316596031188965,
          -10.345333099365234,
          -10.688284873962402,
          -8.856477737426758,
          -7.485117435455322,
          -7.480167388916016,
          -7.699997901916504
         ],
         "z": [
          5.6860175132751465,
          4.609399318695068,
          4.840348720550537,
          5.763359069824219,
          4.98961877822876,
          7.125019550323486,
          6.953330039978027,
          6.343226432800293,
          6.737137794494629,
          7.023776531219482,
          7.685142993927002,
          5.493209362030029,
          6.17277717590332,
          5.87127685546875,
          6.8766961097717285,
          6.7564167976379395,
          6.6191792488098145,
          6.8964362144470215
         ]
        },
        {
         "customdata": [
          [
           "220608_152238_Plate_1",
           "F5",
           "Orphenadrine",
           1
          ],
          [
           "220608_152238_Plate_1",
           "E5",
           "Orphenadrine",
           1
          ],
          [
           "220617_090443_Plate_1",
           "G5",
           "Orphenadrine",
           1
          ],
          [
           "220617_090443_Plate_1",
           "F5",
           "Orphenadrine",
           1
          ],
          [
           "220608_152238_Plate_1",
           "G5",
           "Orphenadrine",
           1
          ],
          [
           "220617_090443_Plate_1",
           "E5",
           "Orphenadrine",
           1
          ],
          [
           "220607_092050_Plate_1",
           "F5",
           "Orphenadrine",
           1
          ],
          [
           "220607_092050_Plate_1",
           "E5",
           "Orphenadrine",
           1
          ],
          [
           "220607_092050_Plate_1",
           "G5",
           "Orphenadrine",
           1
          ],
          [
           "220617_090443_Plate_1",
           "E6",
           "Orphenadrine",
           10
          ],
          [
           "220617_090443_Plate_1",
           "F6",
           "Orphenadrine",
           10
          ],
          [
           "220617_090443_Plate_1",
           "G6",
           "Orphenadrine",
           10
          ],
          [
           "220608_152238_Plate_1",
           "G6",
           "Orphenadrine",
           10
          ],
          [
           "220607_092050_Plate_1",
           "F6",
           "Orphenadrine",
           10
          ],
          [
           "220608_152238_Plate_1",
           "F6",
           "Orphenadrine",
           10
          ],
          [
           "220607_092050_Plate_1",
           "G6",
           "Orphenadrine",
           10
          ],
          [
           "220608_152238_Plate_1",
           "E6",
           "Orphenadrine",
           10
          ],
          [
           "220607_092050_Plate_1",
           "E6",
           "Orphenadrine",
           10
          ]
         ],
         "hovertemplate": "colors_plot_col=Orphenadrine<br>0=%{x}<br>1=%{y}<br>2=%{z}<br>Metadata_size=%{marker.size}<br>Metadata_Plate=%{customdata[0]}<br>Metadata_Well=%{customdata[1]}<br>Metadata_Compound=%{customdata[2]}<br>Metadata_Concentration=%{customdata[3]}<extra></extra>",
         "legendgroup": "Orphenadrine",
         "marker": {
          "color": "#B6E880",
          "size": [
           1,
           1,
           1,
           1,
           1,
           1,
           1,
           1,
           1,
           10,
           10,
           10,
           10,
           10,
           10,
           10,
           10,
           10
          ],
          "sizemode": "area",
          "sizeref": 0.025,
          "symbol": "circle"
         },
         "mode": "markers",
         "name": "Orphenadrine",
         "scene": "scene",
         "showlegend": true,
         "type": "scatter3d",
         "x": [
          3.3117456436157227,
          3.3134031295776367,
          4.615637302398682,
          3.0505177974700928,
          3.455770492553711,
          2.798889398574829,
          4.804972171783447,
          0.35418665409088135,
          4.728262424468994,
          2.629878520965576,
          4.233541011810303,
          4.010111331939697,
          3.576808214187622,
          4.681223392486572,
          4.5133376121521,
          3.2667696475982666,
          0.2568592429161072,
          0.8131136894226074
         ],
         "y": [
          -9.598124504089355,
          -7.787282943725586,
          -9.981462478637695,
          -8.209798812866211,
          -10.719292640686035,
          -6.766355991363525,
          -6.506713390350342,
          -8.666839599609375,
          -7.243775367736816,
          -6.8635640144348145,
          -7.2336955070495605,
          -7.65031099319458,
          -8.985673904418945,
          -7.244460105895996,
          -7.665043830871582,
          -9.184837341308594,
          -9.750763893127441,
          -8.771289825439453
         ],
         "z": [
          7.700417995452881,
          7.258660793304443,
          5.373478889465332,
          7.841296672821045,
          6.554005146026611,
          7.818295478820801,
          5.6659393310546875,
          7.115203380584717,
          4.779095649719238,
          7.647491455078125,
          7.368994235992432,
          7.815130710601807,
          8.01160717010498,
          7.151655197143555,
          7.465259552001953,
          7.322117328643799,
          7.04970645904541,
          7.205343246459961
         ]
        },
        {
         "customdata": [
          [
           "220608_152238_Plate_1",
           "D7",
           "Cyclophosphamide",
           1
          ],
          [
           "220617_090443_Plate_1",
           "D7",
           "Cyclophosphamide",
           1
          ],
          [
           "220617_090443_Plate_1",
           "C7",
           "Cyclophosphamide",
           1
          ],
          [
           "220617_090443_Plate_1",
           "B7",
           "Cyclophosphamide",
           1
          ],
          [
           "220608_152238_Plate_1",
           "C7",
           "Cyclophosphamide",
           1
          ],
          [
           "220607_092050_Plate_1",
           "D7",
           "Cyclophosphamide",
           1
          ],
          [
           "220607_092050_Plate_1",
           "C7",
           "Cyclophosphamide",
           1
          ],
          [
           "220607_092050_Plate_1",
           "B7",
           "Cyclophosphamide",
           1
          ],
          [
           "220608_152238_Plate_1",
           "B7",
           "Cyclophosphamide",
           1
          ],
          [
           "220617_090443_Plate_1",
           "D8",
           "Cyclophosphamide",
           10
          ],
          [
           "220607_092050_Plate_1",
           "D8",
           "Cyclophosphamide",
           10
          ],
          [
           "220607_092050_Plate_1",
           "C8",
           "Cyclophosphamide",
           10
          ],
          [
           "220607_092050_Plate_1",
           "B8",
           "Cyclophosphamide",
           10
          ],
          [
           "220608_152238_Plate_1",
           "D8",
           "Cyclophosphamide",
           10
          ],
          [
           "220608_152238_Plate_1",
           "B8",
           "Cyclophosphamide",
           10
          ],
          [
           "220617_090443_Plate_1",
           "C8",
           "Cyclophosphamide",
           10
          ],
          [
           "220608_152238_Plate_1",
           "C8",
           "Cyclophosphamide",
           10
          ],
          [
           "220617_090443_Plate_1",
           "B8",
           "Cyclophosphamide",
           10
          ]
         ],
         "hovertemplate": "colors_plot_col=Cyclophosphamide<br>0=%{x}<br>1=%{y}<br>2=%{z}<br>Metadata_size=%{marker.size}<br>Metadata_Plate=%{customdata[0]}<br>Metadata_Well=%{customdata[1]}<br>Metadata_Compound=%{customdata[2]}<br>Metadata_Concentration=%{customdata[3]}<extra></extra>",
         "legendgroup": "Cyclophosphamide",
         "marker": {
          "color": "#FF97FF",
          "size": [
           1,
           1,
           1,
           1,
           1,
           1,
           1,
           1,
           1,
           10,
           10,
           10,
           10,
           10,
           10,
           10,
           10,
           10
          ],
          "sizemode": "area",
          "sizeref": 0.025,
          "symbol": "circle"
         },
         "mode": "markers",
         "name": "Cyclophosphamide",
         "scene": "scene",
         "showlegend": true,
         "type": "scatter3d",
         "x": [
          4.189953804016113,
          3.5252087116241455,
          3.656163454055786,
          3.2253947257995605,
          3.438809394836426,
          3.998016119003296,
          0.07191035151481628,
          1.343410849571228,
          1.8348896503448486,
          3.342226982116699,
          3.4156594276428223,
          3.049776792526245,
          2.2652387619018555,
          3.70047926902771,
          2.1373894214630127,
          3.2185542583465576,
          0.5600579977035522,
          0.4792458713054657
         ],
         "y": [
          -11.163007736206055,
          -11.014341354370117,
          -9.98084831237793,
          -7.251554489135742,
          -9.55020809173584,
          -9.340009689331055,
          -10.143183708190918,
          -8.977989196777344,
          -7.931258678436279,
          -10.789325714111328,
          -8.5681734085083,
          -9.069801330566406,
          -8.583159446716309,
          -10.659889221191406,
          -7.772993087768555,
          -10.42300033569336,
          -10.505755424499512,
          -9.689319610595703
         ],
         "z": [
          5.725727558135986,
          5.008364677429199,
          5.190618515014648,
          3.748323440551758,
          5.521426677703857,
          5.617251873016357,
          6.465304851531982,
          4.620596885681152,
          4.867193698883057,
          4.991518974304199,
          5.556959629058838,
          4.950500965118408,
          4.9002838134765625,
          5.345831394195557,
          5.4965691566467285,
          5.209780693054199,
          6.622159481048584,
          6.276155948638916
         ]
        },
        {
         "customdata": [
          [
           "220608_152238_Plate_1",
           "D9",
           "Etoposide",
           1
          ],
          [
           "220617_090443_Plate_1",
           "D9",
           "Etoposide",
           1
          ],
          [
           "220617_090443_Plate_1",
           "C9",
           "Etoposide",
           1
          ],
          [
           "220617_090443_Plate_1",
           "B9",
           "Etoposide",
           1
          ],
          [
           "220608_152238_Plate_1",
           "C9",
           "Etoposide",
           1
          ],
          [
           "220607_092050_Plate_1",
           "D9",
           "Etoposide",
           1
          ],
          [
           "220607_092050_Plate_1",
           "C9",
           "Etoposide",
           1
          ],
          [
           "220607_092050_Plate_1",
           "B9",
           "Etoposide",
           1
          ],
          [
           "220608_152238_Plate_1",
           "B9",
           "Etoposide",
           1
          ],
          [
           "220607_092050_Plate_1",
           "D10",
           "Etoposide",
           10
          ],
          [
           "220608_152238_Plate_1",
           "C10",
           "Etoposide",
           10
          ],
          [
           "220607_092050_Plate_1",
           "C10",
           "Etoposide",
           10
          ],
          [
           "220608_152238_Plate_1",
           "D10",
           "Etoposide",
           10
          ],
          [
           "220617_090443_Plate_1",
           "B10",
           "Etoposide",
           10
          ],
          [
           "220608_152238_Plate_1",
           "B10",
           "Etoposide",
           10
          ],
          [
           "220617_090443_Plate_1",
           "D10",
           "Etoposide",
           10
          ],
          [
           "220617_090443_Plate_1",
           "C10",
           "Etoposide",
           10
          ],
          [
           "220607_092050_Plate_1",
           "B10",
           "Etoposide",
           10
          ]
         ],
         "hovertemplate": "colors_plot_col=Etoposide<br>0=%{x}<br>1=%{y}<br>2=%{z}<br>Metadata_size=%{marker.size}<br>Metadata_Plate=%{customdata[0]}<br>Metadata_Well=%{customdata[1]}<br>Metadata_Compound=%{customdata[2]}<br>Metadata_Concentration=%{customdata[3]}<extra></extra>",
         "legendgroup": "Etoposide",
         "marker": {
          "color": "#FECB52",
          "size": [
           1,
           1,
           1,
           1,
           1,
           1,
           1,
           1,
           1,
           10,
           10,
           10,
           10,
           10,
           10,
           10,
           10,
           10
          ],
          "sizemode": "area",
          "sizeref": 0.025,
          "symbol": "circle"
         },
         "mode": "markers",
         "name": "Etoposide",
         "scene": "scene",
         "showlegend": true,
         "type": "scatter3d",
         "x": [
          -1.494877815246582,
          -1.495876431465149,
          -1.8857752084732056,
          -1.6403740644454956,
          -1.8493636846542358,
          -1.2208163738250732,
          -1.0805670022964478,
          -1.0280961990356445,
          3.9369351863861084,
          -1.718897819519043,
          -2.2515227794647217,
          -1.925041675567627,
          -1.6562029123306274,
          -1.5198512077331543,
          -0.7661626935005188,
          -1.5335781574249268,
          -1.6721508502960205,
          -2.294018030166626
         ],
         "y": [
          -7.46946382522583,
          -7.973169326782227,
          -7.898622035980225,
          -7.561824798583984,
          -7.292660713195801,
          -7.2550482749938965,
          -6.91730260848999,
          -7.629781246185303,
          -6.47556734085083,
          -7.265076160430908,
          -7.591267108917236,
          -8.040705680847168,
          -7.290056228637695,
          -8.4994535446167,
          -7.917969703674316,
          -8.176815032958984,
          -7.75244665145874,
          -7.797951698303223
         ],
         "z": [
          7.449023246765137,
          7.127967834472656,
          7.117123126983643,
          6.603311538696289,
          7.137449264526367,
          6.877216815948486,
          6.5102620124816895,
          6.1668500900268555,
          3.9152729511260986,
          6.680362224578857,
          6.635488033294678,
          6.572490215301514,
          6.834229946136475,
          6.552598476409912,
          6.379542827606201,
          6.715776443481445,
          6.300535678863525,
          6.40829610824585
         ]
        },
        {
         "customdata": [
          [
           "220608_152238_Plate_1",
           "E7",
           "Tetracycline",
           1
          ],
          [
           "220608_152238_Plate_1",
           "F7",
           "Tetracycline",
           1
          ],
          [
           "220608_152238_Plate_1",
           "G7",
           "Tetracycline",
           1
          ],
          [
           "220617_090443_Plate_1",
           "G7",
           "Tetracycline",
           1
          ],
          [
           "220617_090443_Plate_1",
           "F7",
           "Tetracycline",
           1
          ],
          [
           "220617_090443_Plate_1",
           "E7",
           "Tetracycline",
           1
          ],
          [
           "220607_092050_Plate_1",
           "F7",
           "Tetracycline",
           1
          ],
          [
           "220607_092050_Plate_1",
           "E7",
           "Tetracycline",
           1
          ],
          [
           "220607_092050_Plate_1",
           "G7",
           "Tetracycline",
           1
          ],
          [
           "220617_090443_Plate_1",
           "F8",
           "Tetracycline",
           10
          ],
          [
           "220617_090443_Plate_1",
           "E8",
           "Tetracycline",
           10
          ],
          [
           "220617_090443_Plate_1",
           "G8",
           "Tetracycline",
           10
          ],
          [
           "220608_152238_Plate_1",
           "G8",
           "Tetracycline",
           10
          ],
          [
           "220607_092050_Plate_1",
           "F8",
           "Tetracycline",
           10
          ],
          [
           "220608_152238_Plate_1",
           "E8",
           "Tetracycline",
           10
          ],
          [
           "220608_152238_Plate_1",
           "F8",
           "Tetracycline",
           10
          ],
          [
           "220607_092050_Plate_1",
           "G8",
           "Tetracycline",
           10
          ],
          [
           "220607_092050_Plate_1",
           "E8",
           "Tetracycline",
           10
          ]
         ],
         "hovertemplate": "colors_plot_col=Tetracycline<br>0=%{x}<br>1=%{y}<br>2=%{z}<br>Metadata_size=%{marker.size}<br>Metadata_Plate=%{customdata[0]}<br>Metadata_Well=%{customdata[1]}<br>Metadata_Compound=%{customdata[2]}<br>Metadata_Concentration=%{customdata[3]}<extra></extra>",
         "legendgroup": "Tetracycline",
         "marker": {
          "color": "#636efa",
          "size": [
           1,
           1,
           1,
           1,
           1,
           1,
           1,
           1,
           1,
           10,
           10,
           10,
           10,
           10,
           10,
           10,
           10,
           10
          ],
          "sizemode": "area",
          "sizeref": 0.025,
          "symbol": "circle"
         },
         "mode": "markers",
         "name": "Tetracycline",
         "scene": "scene",
         "showlegend": true,
         "type": "scatter3d",
         "x": [
          1.6646058559417725,
          4.015881538391113,
          2.747560977935791,
          5.011036396026611,
          4.958742141723633,
          2.5811879634857178,
          4.5837578773498535,
          1.8047969341278076,
          4.580844879150391,
          5.025346279144287,
          2.299515724182129,
          4.099130153656006,
          1.2839351892471313,
          4.585269927978516,
          1.2476998567581177,
          3.052462100982666,
          4.488519191741943,
          1.5050022602081299
         ],
         "y": [
          -7.527241230010986,
          -9.202059745788574,
          -8.803618431091309,
          -9.740691184997559,
          -10.147290229797363,
          -6.542525768280029,
          -8.499903678894043,
          -8.088956832885742,
          -8.761068344116211,
          -9.742208480834961,
          -7.044962406158447,
          -10.536796569824219,
          -10.346721649169922,
          -6.843530178070068,
          -7.967438697814941,
          -9.389908790588379,
          -9.122591018676758,
          -8.542177200317383
         ],
         "z": [
          6.2983927726745605,
          6.084207057952881,
          6.0352325439453125,
          5.841869831085205,
          5.857196807861328,
          7.203673362731934,
          6.3483991622924805,
          6.716554164886475,
          5.879274845123291,
          6.271155834197998,
          7.455053806304932,
          5.257651329040527,
          6.6801958084106445,
          5.233066558837891,
          5.833056449890137,
          5.898367404937744,
          5.796045303344727,
          7.14607572555542
         ]
        }
       ],
       "layout": {
        "autosize": false,
        "font": {
         "size": 18
        },
        "height": 700,
        "legend": {
         "itemsizing": "constant",
         "title": {
          "text": "Metadata_Compound"
         },
         "tracegroupgap": 0
        },
        "margin": {
         "b": 20,
         "l": 50,
         "pad": 4,
         "r": 50,
         "t": 50
        },
        "scene": {
         "domain": {
          "x": [
           0,
           1
          ],
          "y": [
           0,
           1
          ]
         },
         "xaxis": {
          "title": {
           "text": "0"
          }
         },
         "yaxis": {
          "title": {
           "text": "1"
          }
         },
         "zaxis": {
          "title": {
           "text": "2"
          }
         }
        },
        "template": {
         "data": {
          "bar": [
           {
            "error_x": {
             "color": "#2a3f5f"
            },
            "error_y": {
             "color": "#2a3f5f"
            },
            "marker": {
             "line": {
              "color": "#E5ECF6",
              "width": 0.5
             },
             "pattern": {
              "fillmode": "overlay",
              "size": 10,
              "solidity": 0.2
             }
            },
            "type": "bar"
           }
          ],
          "barpolar": [
           {
            "marker": {
             "line": {
              "color": "#E5ECF6",
              "width": 0.5
             },
             "pattern": {
              "fillmode": "overlay",
              "size": 10,
              "solidity": 0.2
             }
            },
            "type": "barpolar"
           }
          ],
          "carpet": [
           {
            "aaxis": {
             "endlinecolor": "#2a3f5f",
             "gridcolor": "white",
             "linecolor": "white",
             "minorgridcolor": "white",
             "startlinecolor": "#2a3f5f"
            },
            "baxis": {
             "endlinecolor": "#2a3f5f",
             "gridcolor": "white",
             "linecolor": "white",
             "minorgridcolor": "white",
             "startlinecolor": "#2a3f5f"
            },
            "type": "carpet"
           }
          ],
          "choropleth": [
           {
            "colorbar": {
             "outlinewidth": 0,
             "ticks": ""
            },
            "type": "choropleth"
           }
          ],
          "contour": [
           {
            "colorbar": {
             "outlinewidth": 0,
             "ticks": ""
            },
            "colorscale": [
             [
              0,
              "#0d0887"
             ],
             [
              0.1111111111111111,
              "#46039f"
             ],
             [
              0.2222222222222222,
              "#7201a8"
             ],
             [
              0.3333333333333333,
              "#9c179e"
             ],
             [
              0.4444444444444444,
              "#bd3786"
             ],
             [
              0.5555555555555556,
              "#d8576b"
             ],
             [
              0.6666666666666666,
              "#ed7953"
             ],
             [
              0.7777777777777778,
              "#fb9f3a"
             ],
             [
              0.8888888888888888,
              "#fdca26"
             ],
             [
              1,
              "#f0f921"
             ]
            ],
            "type": "contour"
           }
          ],
          "contourcarpet": [
           {
            "colorbar": {
             "outlinewidth": 0,
             "ticks": ""
            },
            "type": "contourcarpet"
           }
          ],
          "heatmap": [
           {
            "colorbar": {
             "outlinewidth": 0,
             "ticks": ""
            },
            "colorscale": [
             [
              0,
              "#0d0887"
             ],
             [
              0.1111111111111111,
              "#46039f"
             ],
             [
              0.2222222222222222,
              "#7201a8"
             ],
             [
              0.3333333333333333,
              "#9c179e"
             ],
             [
              0.4444444444444444,
              "#bd3786"
             ],
             [
              0.5555555555555556,
              "#d8576b"
             ],
             [
              0.6666666666666666,
              "#ed7953"
             ],
             [
              0.7777777777777778,
              "#fb9f3a"
             ],
             [
              0.8888888888888888,
              "#fdca26"
             ],
             [
              1,
              "#f0f921"
             ]
            ],
            "type": "heatmap"
           }
          ],
          "heatmapgl": [
           {
            "colorbar": {
             "outlinewidth": 0,
             "ticks": ""
            },
            "colorscale": [
             [
              0,
              "#0d0887"
             ],
             [
              0.1111111111111111,
              "#46039f"
             ],
             [
              0.2222222222222222,
              "#7201a8"
             ],
             [
              0.3333333333333333,
              "#9c179e"
             ],
             [
              0.4444444444444444,
              "#bd3786"
             ],
             [
              0.5555555555555556,
              "#d8576b"
             ],
             [
              0.6666666666666666,
              "#ed7953"
             ],
             [
              0.7777777777777778,
              "#fb9f3a"
             ],
             [
              0.8888888888888888,
              "#fdca26"
             ],
             [
              1,
              "#f0f921"
             ]
            ],
            "type": "heatmapgl"
           }
          ],
          "histogram": [
           {
            "marker": {
             "pattern": {
              "fillmode": "overlay",
              "size": 10,
              "solidity": 0.2
             }
            },
            "type": "histogram"
           }
          ],
          "histogram2d": [
           {
            "colorbar": {
             "outlinewidth": 0,
             "ticks": ""
            },
            "colorscale": [
             [
              0,
              "#0d0887"
             ],
             [
              0.1111111111111111,
              "#46039f"
             ],
             [
              0.2222222222222222,
              "#7201a8"
             ],
             [
              0.3333333333333333,
              "#9c179e"
             ],
             [
              0.4444444444444444,
              "#bd3786"
             ],
             [
              0.5555555555555556,
              "#d8576b"
             ],
             [
              0.6666666666666666,
              "#ed7953"
             ],
             [
              0.7777777777777778,
              "#fb9f3a"
             ],
             [
              0.8888888888888888,
              "#fdca26"
             ],
             [
              1,
              "#f0f921"
             ]
            ],
            "type": "histogram2d"
           }
          ],
          "histogram2dcontour": [
           {
            "colorbar": {
             "outlinewidth": 0,
             "ticks": ""
            },
            "colorscale": [
             [
              0,
              "#0d0887"
             ],
             [
              0.1111111111111111,
              "#46039f"
             ],
             [
              0.2222222222222222,
              "#7201a8"
             ],
             [
              0.3333333333333333,
              "#9c179e"
             ],
             [
              0.4444444444444444,
              "#bd3786"
             ],
             [
              0.5555555555555556,
              "#d8576b"
             ],
             [
              0.6666666666666666,
              "#ed7953"
             ],
             [
              0.7777777777777778,
              "#fb9f3a"
             ],
             [
              0.8888888888888888,
              "#fdca26"
             ],
             [
              1,
              "#f0f921"
             ]
            ],
            "type": "histogram2dcontour"
           }
          ],
          "mesh3d": [
           {
            "colorbar": {
             "outlinewidth": 0,
             "ticks": ""
            },
            "type": "mesh3d"
           }
          ],
          "parcoords": [
           {
            "line": {
             "colorbar": {
              "outlinewidth": 0,
              "ticks": ""
             }
            },
            "type": "parcoords"
           }
          ],
          "pie": [
           {
            "automargin": true,
            "type": "pie"
           }
          ],
          "scatter": [
           {
            "fillpattern": {
             "fillmode": "overlay",
             "size": 10,
             "solidity": 0.2
            },
            "type": "scatter"
           }
          ],
          "scatter3d": [
           {
            "line": {
             "colorbar": {
              "outlinewidth": 0,
              "ticks": ""
             }
            },
            "marker": {
             "colorbar": {
              "outlinewidth": 0,
              "ticks": ""
             }
            },
            "type": "scatter3d"
           }
          ],
          "scattercarpet": [
           {
            "marker": {
             "colorbar": {
              "outlinewidth": 0,
              "ticks": ""
             }
            },
            "type": "scattercarpet"
           }
          ],
          "scattergeo": [
           {
            "marker": {
             "colorbar": {
              "outlinewidth": 0,
              "ticks": ""
             }
            },
            "type": "scattergeo"
           }
          ],
          "scattergl": [
           {
            "marker": {
             "colorbar": {
              "outlinewidth": 0,
              "ticks": ""
             }
            },
            "type": "scattergl"
           }
          ],
          "scattermapbox": [
           {
            "marker": {
             "colorbar": {
              "outlinewidth": 0,
              "ticks": ""
             }
            },
            "type": "scattermapbox"
           }
          ],
          "scatterpolar": [
           {
            "marker": {
             "colorbar": {
              "outlinewidth": 0,
              "ticks": ""
             }
            },
            "type": "scatterpolar"
           }
          ],
          "scatterpolargl": [
           {
            "marker": {
             "colorbar": {
              "outlinewidth": 0,
              "ticks": ""
             }
            },
            "type": "scatterpolargl"
           }
          ],
          "scatterternary": [
           {
            "marker": {
             "colorbar": {
              "outlinewidth": 0,
              "ticks": ""
             }
            },
            "type": "scatterternary"
           }
          ],
          "surface": [
           {
            "colorbar": {
             "outlinewidth": 0,
             "ticks": ""
            },
            "colorscale": [
             [
              0,
              "#0d0887"
             ],
             [
              0.1111111111111111,
              "#46039f"
             ],
             [
              0.2222222222222222,
              "#7201a8"
             ],
             [
              0.3333333333333333,
              "#9c179e"
             ],
             [
              0.4444444444444444,
              "#bd3786"
             ],
             [
              0.5555555555555556,
              "#d8576b"
             ],
             [
              0.6666666666666666,
              "#ed7953"
             ],
             [
              0.7777777777777778,
              "#fb9f3a"
             ],
             [
              0.8888888888888888,
              "#fdca26"
             ],
             [
              1,
              "#f0f921"
             ]
            ],
            "type": "surface"
           }
          ],
          "table": [
           {
            "cells": {
             "fill": {
              "color": "#EBF0F8"
             },
             "line": {
              "color": "white"
             }
            },
            "header": {
             "fill": {
              "color": "#C8D4E3"
             },
             "line": {
              "color": "white"
             }
            },
            "type": "table"
           }
          ]
         },
         "layout": {
          "annotationdefaults": {
           "arrowcolor": "#2a3f5f",
           "arrowhead": 0,
           "arrowwidth": 1
          },
          "autotypenumbers": "strict",
          "coloraxis": {
           "colorbar": {
            "outlinewidth": 0,
            "ticks": ""
           }
          },
          "colorscale": {
           "diverging": [
            [
             0,
             "#8e0152"
            ],
            [
             0.1,
             "#c51b7d"
            ],
            [
             0.2,
             "#de77ae"
            ],
            [
             0.3,
             "#f1b6da"
            ],
            [
             0.4,
             "#fde0ef"
            ],
            [
             0.5,
             "#f7f7f7"
            ],
            [
             0.6,
             "#e6f5d0"
            ],
            [
             0.7,
             "#b8e186"
            ],
            [
             0.8,
             "#7fbc41"
            ],
            [
             0.9,
             "#4d9221"
            ],
            [
             1,
             "#276419"
            ]
           ],
           "sequential": [
            [
             0,
             "#0d0887"
            ],
            [
             0.1111111111111111,
             "#46039f"
            ],
            [
             0.2222222222222222,
             "#7201a8"
            ],
            [
             0.3333333333333333,
             "#9c179e"
            ],
            [
             0.4444444444444444,
             "#bd3786"
            ],
            [
             0.5555555555555556,
             "#d8576b"
            ],
            [
             0.6666666666666666,
             "#ed7953"
            ],
            [
             0.7777777777777778,
             "#fb9f3a"
            ],
            [
             0.8888888888888888,
             "#fdca26"
            ],
            [
             1,
             "#f0f921"
            ]
           ],
           "sequentialminus": [
            [
             0,
             "#0d0887"
            ],
            [
             0.1111111111111111,
             "#46039f"
            ],
            [
             0.2222222222222222,
             "#7201a8"
            ],
            [
             0.3333333333333333,
             "#9c179e"
            ],
            [
             0.4444444444444444,
             "#bd3786"
            ],
            [
             0.5555555555555556,
             "#d8576b"
            ],
            [
             0.6666666666666666,
             "#ed7953"
            ],
            [
             0.7777777777777778,
             "#fb9f3a"
            ],
            [
             0.8888888888888888,
             "#fdca26"
            ],
            [
             1,
             "#f0f921"
            ]
           ]
          },
          "colorway": [
           "#636efa",
           "#EF553B",
           "#00cc96",
           "#ab63fa",
           "#FFA15A",
           "#19d3f3",
           "#FF6692",
           "#B6E880",
           "#FF97FF",
           "#FECB52"
          ],
          "font": {
           "color": "#2a3f5f"
          },
          "geo": {
           "bgcolor": "white",
           "lakecolor": "white",
           "landcolor": "#E5ECF6",
           "showlakes": true,
           "showland": true,
           "subunitcolor": "white"
          },
          "hoverlabel": {
           "align": "left"
          },
          "hovermode": "closest",
          "mapbox": {
           "style": "light"
          },
          "paper_bgcolor": "white",
          "plot_bgcolor": "#E5ECF6",
          "polar": {
           "angularaxis": {
            "gridcolor": "white",
            "linecolor": "white",
            "ticks": ""
           },
           "bgcolor": "#E5ECF6",
           "radialaxis": {
            "gridcolor": "white",
            "linecolor": "white",
            "ticks": ""
           }
          },
          "scene": {
           "xaxis": {
            "backgroundcolor": "#E5ECF6",
            "gridcolor": "white",
            "gridwidth": 2,
            "linecolor": "white",
            "showbackground": true,
            "ticks": "",
            "zerolinecolor": "white"
           },
           "yaxis": {
            "backgroundcolor": "#E5ECF6",
            "gridcolor": "white",
            "gridwidth": 2,
            "linecolor": "white",
            "showbackground": true,
            "ticks": "",
            "zerolinecolor": "white"
           },
           "zaxis": {
            "backgroundcolor": "#E5ECF6",
            "gridcolor": "white",
            "gridwidth": 2,
            "linecolor": "white",
            "showbackground": true,
            "ticks": "",
            "zerolinecolor": "white"
           }
          },
          "shapedefaults": {
           "line": {
            "color": "#2a3f5f"
           }
          },
          "ternary": {
           "aaxis": {
            "gridcolor": "white",
            "linecolor": "white",
            "ticks": ""
           },
           "baxis": {
            "gridcolor": "white",
            "linecolor": "white",
            "ticks": ""
           },
           "bgcolor": "#E5ECF6",
           "caxis": {
            "gridcolor": "white",
            "linecolor": "white",
            "ticks": ""
           }
          },
          "title": {
           "x": 0.05
          },
          "xaxis": {
           "automargin": true,
           "gridcolor": "white",
           "linecolor": "white",
           "ticks": "",
           "title": {
            "standoff": 15
           },
           "zerolinecolor": "white",
           "zerolinewidth": 2
          },
          "yaxis": {
           "automargin": true,
           "gridcolor": "white",
           "linecolor": "white",
           "ticks": "",
           "title": {
            "standoff": 15
           },
           "zerolinecolor": "white",
           "zerolinewidth": 2
          }
         }
        },
        "title": {
         "text": "Size defined by Metadata_Concentration"
        },
        "updatemenus": [
         {
          "buttons": [
           {
            "args": [
             "visible",
             "legendonly"
            ],
            "label": "Deselect All",
            "method": "restyle"
           },
           {
            "args": [
             "visible",
             true
            ],
            "label": "Select All",
            "method": "restyle"
           }
          ],
          "direction": "left",
          "pad": {
           "r": 5,
           "t": 5
          },
          "showactive": true,
          "type": "buttons",
          "x": 1,
          "xanchor": "left",
          "y": 1.1,
          "yanchor": "top"
         }
        ],
        "width": 900
       }
      }
     },
     "metadata": {},
     "output_type": "display_data"
    }
   ],
   "source": [
    "combat_util.plot_umap_3d(df_3d, color_col=\"Metadata_Compound\", split_df = False, split_column = None, np = None,\n",
    "                      hover_cols=hover_list,\n",
    "                      size=True, size_col = \"Metadata_Concentration\",\n",
    "                      dili_color=True,\n",
    "                      discrete=True\n",
    "                      )"
   ]
  }
 ],
 "metadata": {
  "kernelspec": {
   "display_name": "pycytominer",
   "language": "python",
   "name": "python3"
  },
  "language_info": {
   "codemirror_mode": {
    "name": "ipython",
    "version": 3
   },
   "file_extension": ".py",
   "mimetype": "text/x-python",
   "name": "python",
   "nbconvert_exporter": "python",
   "pygments_lexer": "ipython3",
   "version": "3.9.12"
  },
  "orig_nbformat": 4
 },
 "nbformat": 4,
 "nbformat_minor": 2
}
