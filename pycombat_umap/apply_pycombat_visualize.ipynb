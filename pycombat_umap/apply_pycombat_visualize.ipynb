{
 "cells": [
  {
   "attachments": {},
   "cell_type": "markdown",
   "metadata": {},
   "source": [
    "# Visualize batches, apply pyCombat and visualize again\n",
    "\n",
    "- This notebook is to visualize batch effects of High-Content screening assays, try to correct those effects using pyCombat [reference here], and visualize it again with UMAP to check if the effect was corrected.\n",
    "\n",
    "\n",
    "github@fefossa"
   ]
  },
  {
   "cell_type": "code",
   "execution_count": null,
   "metadata": {},
   "outputs": [],
   "source": [
    "%cd G:\\My Drive\\GitHub\\scripts_notebooks_fossa\n",
    "%pip install ."
   ]
  },
  {
   "cell_type": "code",
   "execution_count": null,
   "metadata": {},
   "outputs": [],
   "source": [
    "import pandas as pd\n",
    "import numpy as np\n",
    "import matplotlib.pyplot as plt\n",
    "import plotly.express as px\n",
    "import pycytominer\n",
    "import easygui as eg\n",
    "import os \n",
    "\n",
    "from umap import UMAP\n",
    "from pycombat_umap import combat_util\n",
    "from combat.pycombat import pycombat\n",
    "import plotly.io as pio\n",
    "# %load_ext autoreload\n",
    "# %autoreload 2\n",
    "pio.renderers.default='notebook'"
   ]
  },
  {
   "attachments": {},
   "cell_type": "markdown",
   "metadata": {},
   "source": [
    "# 1. Inputs"
   ]
  },
  {
   "cell_type": "code",
   "execution_count": null,
   "metadata": {},
   "outputs": [],
   "source": [
    "myfile = eg.fileopenbox(msg=\"Choose a file\", default=r\"D:\")\n",
    "print('Filename', myfile)\n"
   ]
  },
  {
   "cell_type": "code",
   "execution_count": null,
   "metadata": {},
   "outputs": [],
   "source": [
    "df = pd.read_csv(myfile)\n",
    "df.head()"
   ]
  },
  {
   "attachments": {},
   "cell_type": "markdown",
   "metadata": {},
   "source": [
    "## 1a) Apply filters or change labels (optional)\n",
    "\n",
    "If there's any rows you'd like to filter out of your plate that you think it's affecting your analysis, do it here."
   ]
  },
  {
   "attachments": {},
   "cell_type": "markdown",
   "metadata": {},
   "source": [
    "### Filters"
   ]
  },
  {
   "cell_type": "code",
   "execution_count": null,
   "metadata": {},
   "outputs": [],
   "source": [
    "df = df[df['Metadata_Plate'] != '220604_111529_Plate_1'].copy().reset_index(drop=True)\n",
    "df['Metadata_CompoundSizeTime'] = df['Metadata_Compound'] + ' ' + df['Metadata_NPSize_nm'].astype(str) + ' ' + df['Metadata_Time'].astype(str)\n",
    "df = df[df['Metadata_CompoundSizeTime'] != 'AgNP 40 0'].copy().reset_index(drop=True)"
   ]
  },
  {
   "attachments": {},
   "cell_type": "markdown",
   "metadata": {},
   "source": [
    "### Change the Time column to be in hours instead of days\n",
    "\n",
    "- Doing this so we don't have 0 values for the time. This allow us to use Metadata_Time_hr as a size marker for the plots, for example."
   ]
  },
  {
   "cell_type": "code",
   "execution_count": null,
   "metadata": {},
   "outputs": [],
   "source": [
    "dict_change = {0:24, 2:48, 4:96, 6:144}\n",
    "df['Metadata_Time_hr'] = df['Metadata_Time']\n",
    "df.replace({'Metadata_Time_hr':dict_change}, inplace=True)"
   ]
  },
  {
   "attachments": {},
   "cell_type": "markdown",
   "metadata": {},
   "source": [
    "## 1b) Define UMAP parameters and hover cols"
   ]
  },
  {
   "attachments": {},
   "cell_type": "markdown",
   "metadata": {},
   "source": [
    "### UMAP"
   ]
  },
  {
   "cell_type": "code",
   "execution_count": null,
   "metadata": {},
   "outputs": [],
   "source": [
    "n_neighbors_input = 15\n",
    "min_dist_input = 0.5"
   ]
  },
  {
   "attachments": {},
   "cell_type": "markdown",
   "metadata": {},
   "source": [
    "### Define hover columns to always have it on the plots"
   ]
  },
  {
   "cell_type": "code",
   "execution_count": null,
   "metadata": {},
   "outputs": [],
   "source": [
    "hover_list = ['Metadata_Plate', 'Metadata_Time_hr', 'Metadata_Well', 'Metadata_Concentration']"
   ]
  },
  {
   "attachments": {},
   "cell_type": "markdown",
   "metadata": {},
   "source": [
    "# 3. Plot to check for batch effects\n",
    "\n",
    "- We plot columns that usually has batch effects like Plate (if they were read on different days), Well position"
   ]
  },
  {
   "cell_type": "code",
   "execution_count": null,
   "metadata": {},
   "outputs": [],
   "source": [
    "cols_to_join = [\"Metadata_Compound\", \"Metadata_Concentration\"]"
   ]
  },
  {
   "cell_type": "code",
   "execution_count": null,
   "metadata": {},
   "outputs": [],
   "source": [
    "df, new_col = combat_util.col_generator(df, cols_to_join = cols_to_join)"
   ]
  },
  {
   "attachments": {},
   "cell_type": "markdown",
   "metadata": {},
   "source": [
    "## Plate"
   ]
  },
  {
   "cell_type": "code",
   "execution_count": null,
   "metadata": {},
   "outputs": [],
   "source": [
    "df_plot = combat_util.generate_x_y_umap(df, n_neighbors=n_neighbors_input, min_dist=min_dist_input, metric='euclidean')\n",
    "combat_util.plot_umap(df_plot, \n",
    "                      color_col='Metadata_Plate',\n",
    "                      hover_cols=hover_list)"
   ]
  },
  {
   "attachments": {},
   "cell_type": "markdown",
   "metadata": {},
   "source": [
    "## Well"
   ]
  },
  {
   "cell_type": "code",
   "execution_count": null,
   "metadata": {},
   "outputs": [],
   "source": [
    "combat_util.plot_umap(df_plot, \n",
    "                      color_col='Metadata_Well', \n",
    "                      hover_cols=hover_list,\n",
    "                      discrete=True,\n",
    "                      compound_color=True)"
   ]
  },
  {
   "attachments": {},
   "cell_type": "markdown",
   "metadata": {},
   "source": [
    "## Compounds"
   ]
  },
  {
   "cell_type": "code",
   "execution_count": null,
   "metadata": {},
   "outputs": [],
   "source": [
    "combat_util.plot_umap(df_plot, color_col=new_col, split_df = False, split_column = None, np = None,\n",
    "                      hover_cols=hover_list)"
   ]
  },
  {
   "cell_type": "code",
   "execution_count": null,
   "metadata": {},
   "outputs": [],
   "source": [
    "np_list = [0.5, 4.0]\n",
    "for np in np_list:\n",
    "    combat_util.plot_umap(df_plot, \n",
    "                        color_col=new_col, \n",
    "                        hover_cols=hover_list, \n",
    "                        split_df = True, split_column = 'Metadata_Time_hr', np = np, \n",
    "                        # size=True, size_col = 'Metadata_Time_hr',\n",
    "                        discrete=True,\n",
    "                        time_color=True)"
   ]
  },
  {
   "attachments": {},
   "cell_type": "markdown",
   "metadata": {},
   "source": [
    "# 4. Apply pyCombat\n",
    "\n",
    "- Based on the batch effects you could visually identify above, choose the batch_col you'd like to correct "
   ]
  },
  {
   "cell_type": "code",
   "execution_count": null,
   "metadata": {},
   "outputs": [],
   "source": [
    "batch_col = \"Metadata_Plate\""
   ]
  },
  {
   "cell_type": "code",
   "execution_count": null,
   "metadata": {},
   "outputs": [],
   "source": [
    "df_plates = combat_util.pycombat_generator(df, batch_column = batch_col, well_column = 'Metadata_Well')"
   ]
  },
  {
   "attachments": {},
   "cell_type": "markdown",
   "metadata": {},
   "source": [
    "### Generate UMAP visualization and plot"
   ]
  },
  {
   "cell_type": "code",
   "execution_count": null,
   "metadata": {},
   "outputs": [],
   "source": [
    "df_plot = combat_util.generate_x_y_umap(df_plates, n_neighbors=n_neighbors_input, min_dist=min_dist_input, metric='cosine')\n",
    "combat_util.plot_umap(df_plot, color_col=new_col, split_df = False, split_column = None, np = None,\n",
    "                      hover_cols=hover_list,\n",
    "                      size=True, size_col = \"Metadata_Time_hr\")"
   ]
  },
  {
   "cell_type": "code",
   "execution_count": null,
   "metadata": {},
   "outputs": [],
   "source": [
    "np_list = [0.5, 4.0]\n",
    "for np in np_list:\n",
    "    combat_util.plot_umap(df_plot, \n",
    "                        color_col=new_col, \n",
    "                        hover_cols=hover_list, \n",
    "                        split_df = True, split_column = 'Metadata_Time_hr', np = np, \n",
    "                        # size=True, size_col = 'Metadata_Time_hr',\n",
    "                        discrete=True,\n",
    "                        time_color=True)"
   ]
  },
  {
   "attachments": {},
   "cell_type": "markdown",
   "metadata": {},
   "source": [
    "# \"Messing\" with the data\n",
    "## See if the effect is still there! \n",
    "\n",
    "- Consider rows or columns as batches, and ask pyCombat to correct for it. Somehow, if the effects are strong enough, it won't disappear after that correction.\n",
    "\n",
    "- Rows or columns:\n",
    "    - Choose rows = True, the default is {'B':0, 'C':1, 'D':2, 'E':3, 'F':4, 'G':5}\n",
    "    - Choose columns = True, the default is {'2':0, '3':1, '4':2, '5':3, '6':4, '7':5, '8':6, '9':7, '10':8, '11':9}\n",
    "    "
   ]
  },
  {
   "attachments": {},
   "cell_type": "markdown",
   "metadata": {},
   "source": [
    "Other options\n",
    "\n",
    "dict_change={'2': 0, '7': 0, '3':1, '8':1, '4':2, '9':2, '5':3, '10':3, '6':4, '11':4}\n",
    "\n",
    "dict_change={'B':0, 'C':1, 'D':2, 'E':0, 'F':1, 'G':2}"
   ]
  },
  {
   "attachments": {},
   "cell_type": "markdown",
   "metadata": {},
   "source": [
    "### Columns"
   ]
  },
  {
   "cell_type": "code",
   "execution_count": null,
   "metadata": {},
   "outputs": [],
   "source": [
    "df_combat = combat_util.generate_batch_col(df_plates, columns=True,\n",
    "                                           rows=False,\n",
    "                                           change_default_dict=False,\n",
    "                                           join_plate=False)"
   ]
  },
  {
   "cell_type": "code",
   "execution_count": null,
   "metadata": {},
   "outputs": [],
   "source": [
    "df_combat_corr = combat_util.pycombat_generator(df_combat, batch_column = 'Metadata_batch_pycombat', well_column='Metadata_Well')"
   ]
  },
  {
   "cell_type": "code",
   "execution_count": null,
   "metadata": {},
   "outputs": [],
   "source": [
    "df_plot = combat_util.generate_x_y_umap(df_combat_corr, n_neighbors=n_neighbors_input, min_dist=min_dist_input)\n",
    "combat_util.plot_umap(df_plot, \n",
    "                        color_col='Metadata_Time', \n",
    "                        hover_cols=hover_list, \n",
    "                        # split_df = True, split_column = 'Metadata_CompoundSize', np = np, \n",
    "                        size=True, size_col = 'Metadata_NPSize_nm',\n",
    "                        discrete=True,\n",
    "                        time_color=True)"
   ]
  },
  {
   "attachments": {},
   "cell_type": "markdown",
   "metadata": {},
   "source": [
    "### Rows"
   ]
  },
  {
   "cell_type": "code",
   "execution_count": null,
   "metadata": {},
   "outputs": [],
   "source": [
    "df_combat2 = combat_util.generate_batch_col(df_plates, columns=False,\n",
    "                                           rows=True,\n",
    "                                           change_default_dict=False,\n",
    "                                           join_plate=False)"
   ]
  },
  {
   "cell_type": "code",
   "execution_count": null,
   "metadata": {},
   "outputs": [],
   "source": [
    "df_plot = combat_util.generate_x_y_umap(df_combat2, n_neighbors=n_neighbors_input, min_dist=min_dist_input)\n",
    "combat_util.plot_umap(df_plot, \n",
    "                        color_col='Metadata_Time', \n",
    "                        hover_cols=hover_list, \n",
    "                        # split_df = True, split_column = 'Metadata_CompoundSize', np = np, \n",
    "                        size=True, size_col = 'Metadata_NPSize_nm',\n",
    "                        discrete=True,\n",
    "                        time_color=True)"
   ]
  },
  {
   "attachments": {},
   "cell_type": "markdown",
   "metadata": {},
   "source": [
    "# Export to csv"
   ]
  },
  {
   "cell_type": "code",
   "execution_count": null,
   "metadata": {},
   "outputs": [],
   "source": [
    "filename = myfile.rsplit('\\\\', 1)[-1][:-4]\n",
    "path = myfile.rsplit('\\\\', 1)[-2]\n",
    "output = os.path.join(path, filename)\n",
    "df_plates.to_csv(output+\"_pycombat.csv\")"
   ]
  },
  {
   "attachments": {},
   "cell_type": "markdown",
   "metadata": {},
   "source": [
    "# OPTIONAL: UMAP parameters search"
   ]
  },
  {
   "cell_type": "code",
   "execution_count": null,
   "metadata": {},
   "outputs": [],
   "source": [
    "n_neighbors_list = [5, 15] \n",
    "min_dist_list = [0.5, 1]\n",
    "np_list = ['AgNP 40', 'AgNP 100']\n",
    "\n",
    "for np in np_list:\n",
    "    for n in n_neighbors_list:\n",
    "            for m in min_dist_list:\n",
    "                df_umap = combat_util.generate_x_y_umap(df_plates, n_neighbors=n, min_dist=m, metric='cosine')\n",
    "                combat_util.plot_umap(df_umap, \n",
    "                        color_col='Metadata_Time', \n",
    "                        hover_cols=['Metadata_CompoundSize'], \n",
    "                        split_df = True, \n",
    "                        split_column = 'Metadata_CompoundSize', \n",
    "                        np = np,\n",
    "                        umap_param=True, neighbor=n, mindist=m,\n",
    "                        discrete=True,\n",
    "                        time_color=True)"
   ]
  }
 ],
 "metadata": {
  "kernelspec": {
   "display_name": "pycytominer",
   "language": "python",
   "name": "python3"
  },
  "language_info": {
   "codemirror_mode": {
    "name": "ipython",
    "version": 3
   },
   "file_extension": ".py",
   "mimetype": "text/x-python",
   "name": "python",
   "nbconvert_exporter": "python",
   "pygments_lexer": "ipython3",
   "version": "3.9.12"
  },
  "orig_nbformat": 4
 },
 "nbformat": 4,
 "nbformat_minor": 2
}
