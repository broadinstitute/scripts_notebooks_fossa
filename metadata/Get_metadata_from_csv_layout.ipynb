{
 "cells": [
  {
   "cell_type": "markdown",
   "metadata": {},
   "source": [
    "# Generating the metadata file "
   ]
  },
  {
   "cell_type": "code",
   "execution_count": 1,
   "metadata": {},
   "outputs": [
    {
     "name": "stdout",
     "output_type": "stream",
     "text": [
      "['A1', 'A2', 'A3', 'A4', 'A5', 'A6', 'A7', 'A8', 'A9', 'A10', 'A11', 'A12', 'B1', 'B2', 'B3', 'B4', 'B5', 'B6', 'B7', 'B8', 'B9', 'B10', 'B11', 'B12', 'C1', 'C2', 'C3', 'C4', 'C5', 'C6', 'C7', 'C8', 'C9', 'C10', 'C11', 'C12', 'D1', 'D2', 'D3', 'D4', 'D5', 'D6', 'D7', 'D8', 'D9', 'D10', 'D11', 'D12', 'E1', 'E2', 'E3', 'E4', 'E5', 'E6', 'E7', 'E8', 'E9', 'E10', 'E11', 'E12', 'F1', 'F2', 'F3', 'F4', 'F5', 'F6', 'F7', 'F8', 'F9', 'F10', 'F11', 'F12', 'G1', 'G2', 'G3', 'G4', 'G5', 'G6', 'G7', 'G8', 'G9', 'G10', 'G11', 'G12', 'H1', 'H2', 'H3', 'H4', 'H5', 'H6', 'H7', 'H8', 'H9', 'H10', 'H11', 'H12']\n"
     ]
    }
   ],
   "source": [
    "#constructing the list with well names\n",
    "label = []\n",
    "letras = ['A', 'B', 'C', 'D', 'E', 'F', 'G', 'H'] #letters of the rows for a 96-well plate\n",
    "\n",
    "for linha in letras: #iterate through letters\n",
    "    for col in range(1, 13): #create a range of 12 columns\n",
    "        text = str(linha)+'{:01d}'.format(col) #add the letter + the number formated to one numeral, corresponding to Cytation5 nomenclature\n",
    "        label.append(text) #append text to the label list\n",
    "#         print(linha,col)\n",
    "print(label) "
   ]
  },
  {
   "cell_type": "markdown",
   "metadata": {},
   "source": [
    "# Open Excel file with layout\n",
    "\n",
    "When performing an assay, you should prepare a layout to identificate each well in the plate, and what are the treatments in each well (example below).\n",
    "\n",
    "Create an excel file with the name of each well in its positions, remembering to keep BLANK the wells were there aren't any treatment."
   ]
  },
  {
   "cell_type": "markdown",
   "metadata": {},
   "source": [
    "![alt text](layout.png \"Layout\")"
   ]
  },
  {
   "cell_type": "markdown",
   "metadata": {},
   "source": [
    "### Provide the name of your file"
   ]
  },
  {
   "cell_type": "code",
   "execution_count": 35,
   "metadata": {},
   "outputs": [
    {
     "name": "stdin",
     "output_type": "stream",
     "text": [
      "Whats the name of your file? D:\\LowPainting\\DILI\\layout\n"
     ]
    }
   ],
   "source": [
    "filename = input('Whats the name of your file?')"
   ]
  },
  {
   "cell_type": "markdown",
   "metadata": {},
   "source": [
    "### Open file and store into layout variable"
   ]
  },
  {
   "cell_type": "code",
   "execution_count": 36,
   "metadata": {
    "scrolled": true
   },
   "outputs": [],
   "source": [
    "import openpyxl\n",
    "from pathlib import Path\n",
    "#the layout should be in the same directory of the notebook. \n",
    "#otherwise, you need to specify the path as Path('Documents', '...xlsx')\n",
    "set_path = Path(filename+'.xlsx')\n",
    "#read the excel file\n",
    "reading = openpyxl.load_workbook(set_path)\n",
    "#activate the sheet, so you can access other sheets in the excel file\n",
    "layout = reading.active"
   ]
  },
  {
   "cell_type": "markdown",
   "metadata": {},
   "source": [
    "### Create a list of names based on excel file\n",
    "\n",
    "Commands explanation available at https://openpyxl.readthedocs.io/en/latest/api/openpyxl.worksheet.worksheet.html"
   ]
  },
  {
   "cell_type": "code",
   "execution_count": 37,
   "metadata": {},
   "outputs": [],
   "source": [
    "names = []\n",
    "for row in layout.iter_rows(max_row=8,max_col=12): #iterate through rows until 8 and cols till 12 (size of the 96 well plate)\n",
    "    for cell in row: #iterate within the columns in each row\n",
    "        names.append(str(cell.internal_value)) #append the cell values to the names list"
   ]
  },
  {
   "cell_type": "markdown",
   "metadata": {},
   "source": [
    "### Confirm the lenght of the list, and print list to confirm the names."
   ]
  },
  {
   "cell_type": "code",
   "execution_count": 38,
   "metadata": {},
   "outputs": [
    {
     "data": {
      "text/plain": [
       "96"
      ]
     },
     "execution_count": 38,
     "metadata": {},
     "output_type": "execute_result"
    }
   ],
   "source": [
    "len(names)"
   ]
  },
  {
   "cell_type": "code",
   "execution_count": 39,
   "metadata": {},
   "outputs": [
    {
     "name": "stdout",
     "output_type": "stream",
     "text": [
      "['None', 'None', 'None', 'None', 'None', 'None', 'None', 'None', 'None', 'None', 'None', 'None', 'None', 'Huh7 Ctrl 0', 'Huh7 Aspirin 1', 'Huh7 Aspirin 10', 'Huh7 Amiodarone 0.2', 'Huh7 Amiodarone 2', 'Huh7 Cyclophosphamide 1', 'Huh7 Cyclophosphamide 10', 'Huh7 Etoposide 1', 'Huh7 Etoposide 10', 'Huh7 Vehicle-ETP 0 ', 'None', 'None', 'Huh7 Ctrl 0', 'Huh7 Aspirin 1', 'Huh7 Aspirin 10', 'Huh7 Amiodarone 0.2', 'Huh7 Amiodarone 2', 'Huh7 Cyclophosphamide 1', 'Huh7 Cyclophosphamide 10', 'Huh7 Etoposide 1', 'Huh7 Etoposide 10', 'Huh7 Vehicle-ETP 0 ', 'None', 'None', 'Huh7 Ctrl 0', 'Huh7 Aspirin 1', 'Huh7 Aspirin 10', 'Huh7 Amiodarone 0.2', 'Huh7 Amiodarone 2', 'Huh7 Cyclophosphamide 1', 'Huh7 Cyclophosphamide 10', 'Huh7 Etoposide 1', 'Huh7 Etoposide 10', 'Huh7 Vehicle-ETP 0 ', 'None', 'None', 'Huh7 Ctrl 0', 'Huh7 Lovastatin 1', 'Huh7 Lovastatin 10', 'Huh7 Orphenadrine 1', 'Huh7 Orphenadrine 10', 'Huh7 Tetracycline 1', 'Huh7 Tetracycline 10', 'Huh7 DMSO 1%', 'Huh7 Lactose 1', 'Huh7 Lactose 10', 'None', 'None', 'Huh7 Ctrl 0', 'Huh7 Lovastatin 1', 'Huh7 Lovastatin 10', 'Huh7 Orphenadrine 1', 'Huh7 Orphenadrine 10', 'Huh7 Tetracycline 1', 'Huh7 Tetracycline 10', 'Huh7 DMSO 1%', 'Huh7 Lactose 1', 'Huh7 Lactose 10', 'None', 'None', 'Huh7 Ctrl 0', 'Huh7 Lovastatin 1', 'Huh7 Lovastatin 10', 'Huh7 Orphenadrine 1', 'Huh7 Orphenadrine 10', 'Huh7 Tetracycline 1', 'Huh7 Tetracycline 10', 'Huh7 DMSO 1%', 'Huh7 Lactose 1', 'Huh7 Lactose 10', 'None', 'None', 'None', 'None', 'None', 'None', 'None', 'None', 'None', 'None', 'None', 'None', 'None']\n"
     ]
    }
   ],
   "source": [
    "print(names)"
   ]
  },
  {
   "cell_type": "markdown",
   "metadata": {},
   "source": [
    "# Get the name of cell in position 0, time in position 1 and treatment position 2"
   ]
  },
  {
   "cell_type": "code",
   "execution_count": 40,
   "metadata": {},
   "outputs": [],
   "source": [
    "cells = []\n",
    "treatment = []\n",
    "times = []\n",
    "for x in range(len(names)):\n",
    "    string = names[x].split()\n",
    "    if len(string) == 1:\n",
    "        cells.append('')\n",
    "        times.append('')\n",
    "        treatment.append('')\n",
    "    if len(string) != 1: #exclude the cells that has only 1 string like the None cells\n",
    "        cells.append(string[0])\n",
    "        times.append(string[1])\n",
    "        treatment.append(string[2])"
   ]
  },
  {
   "cell_type": "code",
   "execution_count": 41,
   "metadata": {},
   "outputs": [
    {
     "name": "stdout",
     "output_type": "stream",
     "text": [
      "['', '', '', '', '', '', '', '', '', '', '', '', '', '0', '1', '10', '0.2', '2', '1', '10', '1', '10', '0', '', '', '0', '1', '10', '0.2', '2', '1', '10', '1', '10', '0', '', '', '0', '1', '10', '0.2', '2', '1', '10', '1', '10', '0', '', '', '0', '1', '10', '1', '10', '1', '10', '1%', '1', '10', '', '', '0', '1', '10', '1', '10', '1', '10', '1%', '1', '10', '', '', '0', '1', '10', '1', '10', '1', '10', '1%', '1', '10', '', '', '', '', '', '', '', '', '', '', '', '', '']\n",
      "['', '', '', '', '', '', '', '', '', '', '', '', '', 'Huh7', 'Huh7', 'Huh7', 'Huh7', 'Huh7', 'Huh7', 'Huh7', 'Huh7', 'Huh7', 'Huh7', '', '', 'Huh7', 'Huh7', 'Huh7', 'Huh7', 'Huh7', 'Huh7', 'Huh7', 'Huh7', 'Huh7', 'Huh7', '', '', 'Huh7', 'Huh7', 'Huh7', 'Huh7', 'Huh7', 'Huh7', 'Huh7', 'Huh7', 'Huh7', 'Huh7', '', '', 'Huh7', 'Huh7', 'Huh7', 'Huh7', 'Huh7', 'Huh7', 'Huh7', 'Huh7', 'Huh7', 'Huh7', '', '', 'Huh7', 'Huh7', 'Huh7', 'Huh7', 'Huh7', 'Huh7', 'Huh7', 'Huh7', 'Huh7', 'Huh7', '', '', 'Huh7', 'Huh7', 'Huh7', 'Huh7', 'Huh7', 'Huh7', 'Huh7', 'Huh7', 'Huh7', 'Huh7', '', '', '', '', '', '', '', '', '', '', '', '', '']\n",
      "['', '', '', '', '', '', '', '', '', '', '', '', '', 'Ctrl', 'Aspirin', 'Aspirin', 'Amiodarone', 'Amiodarone', 'Cyclophosphamide', 'Cyclophosphamide', 'Etoposide', 'Etoposide', 'Vehicle-ETP', '', '', 'Ctrl', 'Aspirin', 'Aspirin', 'Amiodarone', 'Amiodarone', 'Cyclophosphamide', 'Cyclophosphamide', 'Etoposide', 'Etoposide', 'Vehicle-ETP', '', '', 'Ctrl', 'Aspirin', 'Aspirin', 'Amiodarone', 'Amiodarone', 'Cyclophosphamide', 'Cyclophosphamide', 'Etoposide', 'Etoposide', 'Vehicle-ETP', '', '', 'Ctrl', 'Lovastatin', 'Lovastatin', 'Orphenadrine', 'Orphenadrine', 'Tetracycline', 'Tetracycline', 'DMSO', 'Lactose', 'Lactose', '', '', 'Ctrl', 'Lovastatin', 'Lovastatin', 'Orphenadrine', 'Orphenadrine', 'Tetracycline', 'Tetracycline', 'DMSO', 'Lactose', 'Lactose', '', '', 'Ctrl', 'Lovastatin', 'Lovastatin', 'Orphenadrine', 'Orphenadrine', 'Tetracycline', 'Tetracycline', 'DMSO', 'Lactose', 'Lactose', '', '', '', '', '', '', '', '', '', '', '', '', '']\n"
     ]
    }
   ],
   "source": [
    "print(treatment)\n",
    "print(cells)\n",
    "print(times)"
   ]
  },
  {
   "cell_type": "code",
   "execution_count": 42,
   "metadata": {},
   "outputs": [
    {
     "name": "stdout",
     "output_type": "stream",
     "text": [
      "96\n",
      "96\n",
      "96\n"
     ]
    }
   ],
   "source": [
    "print(len(treatment))\n",
    "print(len(cells))\n",
    "print(len(times))"
   ]
  },
  {
   "cell_type": "markdown",
   "metadata": {
    "jp-MarkdownHeadingCollapsed": true,
    "tags": []
   },
   "source": [
    "### Get the name of the cell type (available, in this case, as the first part of the string name) and treatments separately"
   ]
  },
  {
   "cell_type": "code",
   "execution_count": 13,
   "metadata": {
    "tags": []
   },
   "outputs": [],
   "source": [
    "cells = []\n",
    "treatment = []\n",
    "for x in range(len(names)):\n",
    "    cell = names[x].split()[0] #get the part of the string only at index 0\n",
    "    cells.append(cell)\n",
    "    trt = \" \".join(names[x].split()[1:]) #get the treatment names separately from the cell's name # 1: is to get everything from index 1\n",
    "    treatment.append(trt)"
   ]
  },
  {
   "cell_type": "code",
   "execution_count": 14,
   "metadata": {
    "tags": []
   },
   "outputs": [
    {
     "name": "stdout",
     "output_type": "stream",
     "text": [
      "['', '', '', '', '', '', '', '', '', '', '', '', '', '30 Ctrl', '30 Ctrl', '30 Ctrl', '30 Ctrl', '30 Ctrl', '1 Ctrl', '1 Ctrl', '1 Ctrl', '1 Ctrl', '1 Ctrl', '', '', '30 Ag40', '30 Ag40', '30 Ag40', '30 Ag40', '30 Ag40', '1 Ag40', '1 Ag40', '1 Ag40', '1 Ag40', '1 Ag40', '', '', '30 Ag100', '30 Ag100', '30 Ag100', '30 Ag100', '30 Ag100', '1 Ag100', '1 Ag100', '1 Ag100', '1 Ag100', '1 Ag100', '', '', '15 Ctrl', '15 Ctrl', '15 Ctrl', '15 Ctrl', '15 Ctrl', '', '', '', '', '', '', '', '15 Ag40', '15 Ag40', '15 Ag40', '15 Ag40', '15 Ag40', '', '', '', '', '', '', '', '15 Ag100', '15 Ag100', '15 Ag100', '15 Ag100', '15 Ag100', '', '', '', '', '', '', '', '', '', '', '', '', '', '', '', '', '', '']\n"
     ]
    }
   ],
   "source": [
    "print(treatment)"
   ]
  },
  {
   "cell_type": "code",
   "execution_count": 79,
   "metadata": {
    "tags": []
   },
   "outputs": [
    {
     "name": "stdout",
     "output_type": "stream",
     "text": [
      "['None', 'None', 'None', 'None', 'None', 'None', 'None', 'None', 'None', 'None', 'None', 'None', 'None', 'Huh7', 'Huh7', 'Huh7', 'Huh7', 'Huh7', 'Huh7', 'Huh7', 'Huh7', 'Huh7', 'Huh7', 'None', 'None', 'Huh7', 'Huh7', 'Huh7', 'Huh7', 'Huh7', 'Huh7', 'Huh7', 'Huh7', 'Huh7', 'Huh7', 'None', 'None', 'Huh7', 'Huh7', 'Huh7', 'Huh7', 'Huh7', 'Huh7', 'Huh7', 'Huh7', 'Huh7', 'Huh7', 'None', 'None', 'Huh7', 'Huh7', 'Huh7', 'Huh7', 'Huh7', 'Huh7', 'Huh7', 'Huh7', 'Huh7', 'Huh7', 'None', 'None', 'Huh7', 'Huh7', 'Huh7', 'Huh7', 'Huh7', 'Huh7', 'Huh7', 'Huh7', 'Huh7', 'Huh7', 'None', 'None', 'Huh7', 'Huh7', 'Huh7', 'Huh7', 'Huh7', 'Huh7', 'Huh7', 'Huh7', 'Huh7', 'Huh7', 'None', 'None', 'None', 'None', 'None', 'None', 'None', 'None', 'None', 'None', 'None', 'None', 'None']\n"
     ]
    }
   ],
   "source": [
    "print(cells)"
   ]
  },
  {
   "cell_type": "markdown",
   "metadata": {
    "jp-MarkdownHeadingCollapsed": true,
    "tags": []
   },
   "source": [
    "### Use only when z-factor will be calculated within CellProfiler analysis\n",
    "\n",
    "Create a list to attribute values for each well associated with its biological value.\n",
    "\n",
    "Used after in cellprofiler for statistical analysis of HCS."
   ]
  },
  {
   "cell_type": "code",
   "execution_count": 38,
   "metadata": {
    "scrolled": true,
    "tags": []
   },
   "outputs": [
    {
     "name": "stdout",
     "output_type": "stream",
     "text": [
      "[0, 0, 0, 0, 0, 0, 0, 0, 0, 0, 0, 0, 0, 0, 0, 0, 0, 0, 0, 0, 0, 0, 0, 0, 0, 0, 0, 0, 0, 0, 0, 0, 0, 0, 0, 0, 0, 0, 0, 0, 0, 0, 0, 0, 0, 0, 0, 0, 0, 0, 0, 0, 0, 0, 0, 0, 0, 0, 0, 0, 0, 0, 0, 0, 0, 0, 0, 0, 0, 0, 0, 0, 0, 0, 0, 0, 0, 0, 0, 0, 0, 0, 0, 0, 0, 0, 0, 0, 0, 0, 0, 0, 0, 0, 0, 0]\n"
     ]
    }
   ],
   "source": [
    "z_factor = []\n",
    "for n in names:\n",
    "    if 'Non-treated' in n: #Non-treated cells has a value of 1\n",
    "        z_factor.append(1)\n",
    "    elif 'DMSO' in n:\n",
    "        z_factor.append(-1) #Positive control for damage is equal to -1\n",
    "    else:\n",
    "        z_factor.append(0) #Treatments in between has a value of 0\n",
    "print(z_factor)"
   ]
  },
  {
   "cell_type": "markdown",
   "metadata": {},
   "source": [
    "### Create a list to attribute True when a value is present, and False when None\n",
    "\n",
    "This step will be useful to create a list of wells and treatments only in the wells with information, and exclude the None wells."
   ]
  },
  {
   "cell_type": "code",
   "execution_count": 43,
   "metadata": {},
   "outputs": [
    {
     "name": "stdout",
     "output_type": "stream",
     "text": [
      "[False, False, False, False, False, False, False, False, False, False, False, False, False, True, True, True, True, True, True, True, True, True, True, False, False, True, True, True, True, True, True, True, True, True, True, False, False, True, True, True, True, True, True, True, True, True, True, False, False, True, True, True, True, True, True, True, True, True, True, False, False, True, True, True, True, True, True, True, True, True, True, False, False, True, True, True, True, True, True, True, True, True, True, False, False, False, False, False, False, False, False, False, False, False, False, False]\n",
      "96\n"
     ]
    }
   ],
   "source": [
    "enable = [] #empty list\n",
    "for name in names: #iterate through the names list\n",
    "    if name == 'None':\n",
    "        enable.append(False)\n",
    "    else:\n",
    "        enable.append(True)\n",
    "print(enable)\n",
    "print(len(enable))"
   ]
  },
  {
   "cell_type": "markdown",
   "metadata": {},
   "source": [
    "### Concatenate list of names, wells, and z_factor into a single file"
   ]
  },
  {
   "cell_type": "markdown",
   "metadata": {},
   "source": [
    "### Provide a list of headers to name each column\n",
    "\n",
    "Run the cell, insert the names of each "
   ]
  },
  {
   "cell_type": "code",
   "execution_count": 44,
   "metadata": {},
   "outputs": [
    {
     "name": "stdout",
     "output_type": "stream",
     "text": [
      "['Well', 'Treatment', 'Cell', 'Time']\n"
     ]
    }
   ],
   "source": [
    "header = [\n",
    "        'Well',\n",
    "         'Treatment',\n",
    "         'Cell',\n",
    "        'Time',\n",
    "#         'Z_Factor'\n",
    "         ]\n",
    "print(header)"
   ]
  },
  {
   "cell_type": "code",
   "execution_count": 45,
   "metadata": {},
   "outputs": [
    {
     "name": "stdin",
     "output_type": "stream",
     "text": [
      " DILI\n"
     ]
    }
   ],
   "source": [
    "filename_out = input() #name of output file"
   ]
  },
  {
   "cell_type": "code",
   "execution_count": 46,
   "metadata": {},
   "outputs": [],
   "source": [
    "#concatenate and save into csv file\n",
    "import csv\n",
    "\n",
    "with open('Metadata_' + filename_out + '.csv','w',newline = '') as csvfile: #create a metadata.csv file \n",
    "    writer = csv.writer(csvfile, delimiter=',') #comma delimited\n",
    "#gives the header name row into csv\n",
    "    writer.writerow([g for g in header])\n",
    "#data add in csv file\n",
    "    for j in range(len(enable)):\n",
    "        if enable[j] == True: #only saves in the csv if there is a value (True)\n",
    "            wells = label[j]\n",
    "            treatments = treatment[j]\n",
    "            cell = cells[j]\n",
    "            time = times[j]\n",
    "#             zfactor = z_factor[j]\n",
    "#if the name of your treatment is already right in the worksheet and there is no need for editing, uncomment the next line\n",
    "#             treatments = names[j]\n",
    "            writer.writerow([ #write every line into the csv\n",
    "                wells,\n",
    "                treatments,\n",
    "                cell,\n",
    "                time,\n",
    "#                 zfactor\n",
    "                ])"
   ]
  },
  {
   "cell_type": "code",
   "execution_count": null,
   "metadata": {},
   "outputs": [],
   "source": []
  }
 ],
 "metadata": {
  "kernelspec": {
   "display_name": "Python 3 (ipykernel)",
   "language": "python",
   "name": "python3"
  },
  "language_info": {
   "codemirror_mode": {
    "name": "ipython",
    "version": 3
   },
   "file_extension": ".py",
   "mimetype": "text/x-python",
   "name": "python",
   "nbconvert_exporter": "python",
   "pygments_lexer": "ipython3",
   "version": "3.9.12"
  }
 },
 "nbformat": 4,
 "nbformat_minor": 4
}
