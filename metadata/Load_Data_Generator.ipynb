{
 "cells": [
  {
   "attachments": {},
   "cell_type": "markdown",
   "id": "008ad845",
   "metadata": {},
   "source": [
    "# Load_data/metadata generator\n",
    "Written by Fernanda Fossa @fefossa\n",
    "\n",
    "Python 3.9.12\n",
    "\n",
    "**Description**: This notebook generates a CSV file to be used by CellProfiler module LoadData, using a list of the images to be analyzed locally.\n",
    "\n",
    "**1. Inputs**: it requires the following inputs:\n",
    "\n",
    "- Path to the input folder (where images are located) = Make sure to have only the images that will be analyzed in this folder.\n",
    "\n",
    "- project_name = this is the name of your bigger project.\n",
    "\n",
    "- subproject = this is the name of each subproject inside project_name folder. You can have different subprojects within one project. \n",
    "\n",
    "- Channels dictionary = Dictionary with Channel as a key and the name you want to give as a Value. Example: 'DAPI':'OrigDNA'. DAPI is the channel (written in the image name), and OrigDNA is the name we want to give to this image in CellProfiler. We have three options already available to choose from (Cell Painting, Live Cell Painting, ToxPath panels); if yours is different, please provide a new dictionary. \n",
    "\n",
    "**Outputs**: \n",
    "\n",
    "1. **load_data.csv** that we use with Illumination Correction pipelines. \n",
    "\n",
    "    To extract these informations, we are using a regex adapted to files from Cytation 5 microscope (B10_02_1_10_GFP_001.tif), where the location of the Well, Site and Channel is known. If you have images from different microscope, with a different pattern, you'd need to **change the regex**. \n",
    "\n",
    "    - FileName_CHANNEL = CHANNEL as the value you provided in the dictionary. It will extract the names of the images from the input folder. \n",
    "\n",
    "    - PathName_CHANNEL = containing a specific path to AWS (which will be used later in the virtual machines). To change that you would need to modify the images_dir variable.\n",
    "\n",
    "    - Metadata_Well and Metadata_Site = both are extracted from the image filename. \n",
    "\n",
    "    - Metadata_Plate = usually the name of the plate is the name of the FOLDER where the images are located with. Notice that we also have a regex for the plate name. We replace any spaces with \"_\" because AWS does not handle spaces well.\n",
    "\n",
    "2. **load_data_with_illum.csv** that we use for analysis pipelines after Illum Correction was performed. \n",
    "\n",
    "    The columns are the same as above, with two additional columns per channel:\n",
    "\n",
    "    - FileName_IllumCHANNEL = the name of the Illum Correction file (the name pattern is \"PlateName_IllumCHANNEL.npy\")\n",
    "\n",
    "    - PathName_IllumCHANNEL = the path in AWS where these Illum files will be located. Again this is a pattern for who's using AWS with Distributed-CellProfiler.\n",
    "\n",
    "    \n",
    "\n",
    "\n",
    "\n"
   ]
  },
  {
   "attachments": {},
   "cell_type": "markdown",
   "id": "f2196b8a",
   "metadata": {},
   "source": [
    "## Import libraries"
   ]
  },
  {
   "cell_type": "code",
   "execution_count": 50,
   "metadata": {},
   "outputs": [],
   "source": [
    "path_to_scripts = r\"C:\\Users\\Fer\\Documents\\GitHub\\fefossa\""
   ]
  },
  {
   "cell_type": "code",
   "execution_count": 51,
   "id": "1796517a",
   "metadata": {},
   "outputs": [],
   "source": [
    "import pandas as pd\n",
    "import easygui as eg\n",
    "import sys\n",
    "\n",
    "sys.path.append(path_to_scripts)\n",
    "\n",
    "from LoadDataGenerator.notebook import load_data_utils\n",
    "\n",
    "%load_ext autoreload\n",
    "%autoreload 2"
   ]
  },
  {
   "cell_type": "markdown",
   "id": "720f10b2",
   "metadata": {},
   "source": [
    "# 1. Inputs"
   ]
  },
  {
   "cell_type": "code",
   "execution_count": 68,
   "id": "3cdd17b1",
   "metadata": {},
   "outputs": [
    {
     "name": "stdout",
     "output_type": "stream",
     "text": [
      "F:\\2022_10_04_AgNPCellRecovery_fossa_Cimini\\2022_05_25_LiveCellPainting\\images\\220526_084043_Plate_1\n"
     ]
    }
   ],
   "source": [
    "input_folder = eg.diropenbox('Paste path to input folder and press OK', 'Paste Path')\n",
    "print(input_folder)"
   ]
  },
  {
   "attachments": {},
   "cell_type": "markdown",
   "id": "6199b5ca",
   "metadata": {},
   "source": [
    "## 1.1 Dictionary with channel as a key and new name as a value"
   ]
  },
  {
   "attachments": {},
   "cell_type": "markdown",
   "id": "77b679c9",
   "metadata": {},
   "source": [
    "###  1.1.1 Create your own dictionary\n",
    "\n",
    "- Enter first the name of the Channel, and then the new name. When you finish, just write **done** and press ok."
   ]
  },
  {
   "cell_type": "code",
   "execution_count": 77,
   "metadata": {},
   "outputs": [
    {
     "name": "stdout",
     "output_type": "stream",
     "text": [
      "{'GFP': 'AOGFP'}\n"
     ]
    }
   ],
   "source": [
    "dirlist = eg.enterbox(\"Enter the NUMBER of channels in your assay:\")\n",
    "number_inputs = [x+1 for x in range(int(dirlist))] \n",
    "channel_inputs = eg.multenterbox(\"Write the name of each channel like on the filename (DAPI, GFP, etc):\", \"Channels\", number_inputs)\n",
    "names_inputs = eg.multenterbox(\"Write a name to represent each channel:\", \"Names\", channel_inputs)\n",
    "list_channels = [s.replace(\" \", \"\") for s in channel_inputs]\n",
    "list_names = [s.replace(\" \", \"\") for s in names_inputs]\n",
    "ch_dic = dict(zip(list_channels, list_names))\n",
    "print(ch_dic)"
   ]
  },
  {
   "attachments": {},
   "cell_type": "markdown",
   "id": "3fc93868",
   "metadata": {},
   "source": [
    "### 1.1.2 OR Run one of the cells below to use our pre-made dictionaries\n",
    "\n",
    "- We have dictionaries for Cell Painting, Live Cell Painting, and ToxPath image panels names. \n",
    "\n",
    "- Run **ONLY ONE OF THE CELLS BELOW**"
   ]
  },
  {
   "attachments": {},
   "cell_type": "markdown",
   "id": "9b118cca",
   "metadata": {},
   "source": [
    "#### CELL PAINTING"
   ]
  },
  {
   "cell_type": "code",
   "execution_count": 75,
   "id": "4a52e367",
   "metadata": {},
   "outputs": [
    {
     "name": "stdout",
     "output_type": "stream",
     "text": [
      "{'DAPI': 'OrigDNA', 'GFP': 'OrigER', 'PropidiumIodide': 'OrigAGP', 'CY5': 'OrigMito'}\n"
     ]
    }
   ],
   "source": [
    "ch_dic = {'DAPI':'OrigDNA', 'GFP':'OrigER', 'PropidiumIodide':'OrigAGP', 'CY5':'OrigMito'}\n",
    "print(ch_dic)"
   ]
  },
  {
   "attachments": {},
   "cell_type": "markdown",
   "id": "2507779f",
   "metadata": {},
   "source": [
    "#### LIVE CELL PAINTING"
   ]
  },
  {
   "cell_type": "code",
   "execution_count": 6,
   "id": "1062fea3",
   "metadata": {},
   "outputs": [
    {
     "name": "stdout",
     "output_type": "stream",
     "text": [
      "{'GFP': 'AOGFP', 'PropidiumIodide': 'AOPI'}\n"
     ]
    }
   ],
   "source": [
    "ch_dic = {'GFP':'AOGFP', 'PropidiumIodide':'AOPI'}\n",
    "print(ch_dic)"
   ]
  },
  {
   "attachments": {},
   "cell_type": "markdown",
   "id": "43510e62",
   "metadata": {},
   "source": [
    "## Load data generator\n",
    "\n",
    "- Run next cell to generate the load data using regex, filenames and folder names. Both files will be saved in the input folder inside a load_data_csv folder.\n",
    "\n",
    "- IMPORTANT: this will run and generate load_data.csv and load_data_with_illum.csv because we have True and False in the illum_list. **load_data.csv only = False**\n",
    "and **load_data_with_illum.csv only = True**."
   ]
  },
  {
   "cell_type": "code",
   "execution_count": 80,
   "metadata": {},
   "outputs": [
    {
     "name": "stdout",
     "output_type": "stream",
     "text": [
      "WARNING: The number of channels you gave (1) are different from the ones we found (2).\n",
      "WARNING: The number of channels you gave (1) are different from the ones we found (2).\n"
     ]
    }
   ],
   "source": [
    "load_data_utils.generate_load_data(input_folder, ch_dic)"
   ]
  }
 ],
 "metadata": {
  "kernelspec": {
   "display_name": "Python 3.9.12 ('base')",
   "language": "python",
   "name": "python3"
  },
  "language_info": {
   "codemirror_mode": {
    "name": "ipython",
    "version": 3
   },
   "file_extension": ".py",
   "mimetype": "text/x-python",
   "name": "python",
   "nbconvert_exporter": "python",
   "pygments_lexer": "ipython3",
   "version": "3.9.12"
  },
  "vscode": {
   "interpreter": {
    "hash": "fd78521a938a9c4193d0781f83c0de96f4f266db216f064a23343888b0dd2e37"
   }
  }
 },
 "nbformat": 4,
 "nbformat_minor": 5
}
