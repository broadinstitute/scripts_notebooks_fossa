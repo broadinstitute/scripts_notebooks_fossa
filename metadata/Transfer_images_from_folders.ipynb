{
 "cells": [
  {
   "cell_type": "code",
   "execution_count": 2,
   "id": "767fbd5e-1b65-4a04-829e-5f646ad8b2af",
   "metadata": {},
   "outputs": [],
   "source": [
    "#import\n",
    "from os import walk\n",
    "import shutil\n",
    "import os"
   ]
  },
  {
   "cell_type": "markdown",
   "id": "bc1b9a2f-14e9-4754-bb98-b92ea33ae94b",
   "metadata": {},
   "source": [
    "## Get a list with name of each file"
   ]
  },
  {
   "cell_type": "code",
   "execution_count": 28,
   "id": "d9f38212-25dc-4e2a-850f-339ed9312bd0",
   "metadata": {},
   "outputs": [
    {
     "name": "stdout",
     "output_type": "stream",
     "text": [
      "Insert your path to the folder images here G:\\My Drive\\Analysis\\ContinuousExposure\\TestSegmentationSpeckles\n"
     ]
    }
   ],
   "source": [
    "#insert path to folder. just right click on the folder and copy adress as text \n",
    "#use the r to convert to a raw string so you dont need double slash\n",
    "input_folder = input(r\"Insert your path to the folder images here \")"
   ]
  },
  {
   "cell_type": "code",
   "execution_count": 29,
   "id": "02fda01f-fced-4e38-b9c7-c0c2896e4c3e",
   "metadata": {},
   "outputs": [],
   "source": [
    "#list all the files on the folder\n",
    "files = []\n",
    "for (dirpath, dirnames, filenames) in walk(input_folder):\n",
    "    files.extend(filenames)\n",
    "    break"
   ]
  },
  {
   "cell_type": "code",
   "execution_count": 30,
   "id": "5e6490b9-9200-4e13-ad04-7506491f0d61",
   "metadata": {
    "tags": []
   },
   "outputs": [
    {
     "name": "stdout",
     "output_type": "stream",
     "text": [
      "90\n"
     ]
    }
   ],
   "source": [
    "print(len(files))"
   ]
  },
  {
   "cell_type": "markdown",
   "id": "affc18f5-d571-46a8-a795-6d8da45093b2",
   "metadata": {},
   "source": [
    "## Get the images only with GFP in it"
   ]
  },
  {
   "cell_type": "code",
   "execution_count": 31,
   "id": "59e16a5d-7ddc-4f1e-93c1-00a881667559",
   "metadata": {},
   "outputs": [],
   "source": [
    "#get the images that you want by selecting something specific. here I want images that contains GFP in their filename\n",
    "file_gfp = []\n",
    "for names in range(len(files)):\n",
    "    if 'GFP' in files[names]:\n",
    "        file_gfp.append(files[names])"
   ]
  },
  {
   "cell_type": "code",
   "execution_count": 32,
   "id": "001af2b6-bed4-4e05-b31f-a4f3c990aa59",
   "metadata": {
    "tags": []
   },
   "outputs": [
    {
     "name": "stdout",
     "output_type": "stream",
     "text": [
      "45\n"
     ]
    }
   ],
   "source": [
    "print(len(file_gfp))"
   ]
  },
  {
   "cell_type": "code",
   "execution_count": 33,
   "id": "b4493605-1d21-4966-8f4a-8452276f0603",
   "metadata": {},
   "outputs": [],
   "source": [
    "#get the images that you want by selecting something specific. here I want images that contains GFP in their filename\n",
    "file_pi = []\n",
    "for names in range(len(files)):\n",
    "    if 'Propidium' in files[names]:\n",
    "        file_pi.append(files[names])"
   ]
  },
  {
   "cell_type": "code",
   "execution_count": 34,
   "id": "879049dd-0a19-4b1c-a275-01872c27dc56",
   "metadata": {},
   "outputs": [
    {
     "name": "stdout",
     "output_type": "stream",
     "text": [
      "45\n"
     ]
    }
   ],
   "source": [
    "print(len(file_pi))"
   ]
  },
  {
   "cell_type": "markdown",
   "id": "871196b5-e8d0-447b-b2f1-5153ca6baa4d",
   "metadata": {},
   "source": [
    "## Get a list of images through steps"
   ]
  },
  {
   "cell_type": "code",
   "execution_count": 21,
   "id": "b5f7e60a-9393-4762-bb82-6c2b173d1f1b",
   "metadata": {
    "tags": []
   },
   "outputs": [],
   "source": [
    "#I want just some pictures from my folder, a few 'random' one|s. So I put an interval of 26 to retrieve those names from the \n",
    "#file_gfp list but in the specifics steps I'm choosing.\n",
    "list_select = []\n",
    "for file in range(0,len(file_gfp),28):\n",
    "    list_select.append(file_gfp[file])\n",
    "    list_select.append(file_pi[file])"
   ]
  },
  {
   "cell_type": "code",
   "execution_count": 22,
   "id": "c49bc65c-2c60-434a-80dc-ee8b071414d4",
   "metadata": {
    "scrolled": true,
    "tags": []
   },
   "outputs": [
    {
     "data": {
      "text/plain": [
       "['B10_02_1_10_GFP_001.tif',\n",
       " 'B10_02_2_10_Propidium Iodide_001.tif',\n",
       " 'B11_02_1_13_GFP_001.tif',\n",
       " 'B11_02_2_13_Propidium Iodide_001.tif',\n",
       " 'B3_02_1_16_GFP_001.tif',\n",
       " 'B3_02_2_16_Propidium Iodide_001.tif',\n",
       " 'B4_02_1_19_GFP_001.tif',\n",
       " 'B4_02_2_19_Propidium Iodide_001.tif',\n",
       " 'B5_02_1_21_GFP_001.tif',\n",
       " 'B5_02_2_21_Propidium Iodide_001.tif',\n",
       " 'B6_02_1_24_GFP_001.tif',\n",
       " 'B6_02_2_24_Propidium Iodide_001.tif',\n",
       " 'B7_02_1_3_GFP_001.tif',\n",
       " 'B7_02_2_3_Propidium Iodide_001.tif',\n",
       " 'B8_02_1_6_GFP_001.tif',\n",
       " 'B8_02_2_6_Propidium Iodide_001.tif',\n",
       " 'B9_02_1_9_GFP_001.tif',\n",
       " 'B9_02_2_9_Propidium Iodide_001.tif',\n",
       " 'C11_03_1_12_GFP_001.tif',\n",
       " 'C11_03_2_12_Propidium Iodide_001.tif',\n",
       " 'C2_03_1_15_GFP_001.tif',\n",
       " 'C2_03_2_15_Propidium Iodide_001.tif',\n",
       " 'C3_03_1_18_GFP_001.tif',\n",
       " 'C3_03_2_18_Propidium Iodide_001.tif',\n",
       " 'C4_03_1_20_GFP_001.tif',\n",
       " 'C4_03_2_20_Propidium Iodide_001.tif',\n",
       " 'C5_03_1_23_GFP_001.tif',\n",
       " 'C5_03_2_23_Propidium Iodide_001.tif',\n",
       " 'C6_03_1_2_GFP_001.tif',\n",
       " 'C6_03_2_2_Propidium Iodide_001.tif',\n",
       " 'C7_03_1_5_GFP_001.tif',\n",
       " 'C7_03_2_5_Propidium Iodide_001.tif',\n",
       " 'C8_03_1_8_GFP_001.tif',\n",
       " 'C8_03_2_8_Propidium Iodide_001.tif',\n",
       " 'D10_04_1_11_GFP_001.tif',\n",
       " 'D10_04_2_11_Propidium Iodide_001.tif',\n",
       " 'D11_04_1_14_GFP_001.tif',\n",
       " 'D11_04_2_14_Propidium Iodide_001.tif',\n",
       " 'D2_04_1_17_GFP_001.tif',\n",
       " 'D2_04_2_17_Propidium Iodide_001.tif',\n",
       " 'D3_04_1_1_GFP_001.tif',\n",
       " 'D3_04_2_1_Propidium Iodide_001.tif',\n",
       " 'D4_04_1_22_GFP_001.tif',\n",
       " 'D4_04_2_22_Propidium Iodide_001.tif',\n",
       " 'D5_04_1_25_GFP_001.tif',\n",
       " 'D5_04_2_25_Propidium Iodide_001.tif',\n",
       " 'D6_04_1_4_GFP_001.tif',\n",
       " 'D6_04_2_4_Propidium Iodide_001.tif',\n",
       " 'D7_04_1_7_GFP_001.tif',\n",
       " 'D7_04_2_7_Propidium Iodide_001.tif',\n",
       " 'D9_04_1_10_GFP_001.tif',\n",
       " 'D9_04_2_10_Propidium Iodide_001.tif',\n",
       " 'E10_02_1_13_GFP_001.tif',\n",
       " 'E10_02_2_13_Propidium Iodide_001.tif',\n",
       " 'E2_02_1_16_GFP_001.tif',\n",
       " 'E2_02_2_16_Propidium Iodide_001.tif',\n",
       " 'E3_02_1_19_GFP_001.tif',\n",
       " 'E3_02_2_19_Propidium Iodide_001.tif',\n",
       " 'E4_02_1_21_GFP_001.tif',\n",
       " 'E4_02_2_21_Propidium Iodide_001.tif',\n",
       " 'E5_02_1_24_GFP_001.tif',\n",
       " 'E5_02_2_24_Propidium Iodide_001.tif',\n",
       " 'E6_02_1_3_GFP_001.tif',\n",
       " 'E6_02_2_3_Propidium Iodide_001.tif',\n",
       " 'E7_02_1_6_GFP_001.tif',\n",
       " 'E7_02_2_6_Propidium Iodide_001.tif',\n",
       " 'E8_02_1_9_GFP_001.tif',\n",
       " 'E8_02_2_9_Propidium Iodide_001.tif',\n",
       " 'F10_03_1_12_GFP_001.tif',\n",
       " 'F10_03_2_12_Propidium Iodide_001.tif',\n",
       " 'F11_03_1_15_GFP_001.tif',\n",
       " 'F11_03_2_15_Propidium Iodide_001.tif',\n",
       " 'F2_03_1_18_GFP_001.tif',\n",
       " 'F2_03_2_18_Propidium Iodide_001.tif',\n",
       " 'F3_03_1_20_GFP_001.tif',\n",
       " 'F3_03_2_20_Propidium Iodide_001.tif',\n",
       " 'F4_03_1_23_GFP_001.tif',\n",
       " 'F4_03_2_23_Propidium Iodide_001.tif',\n",
       " 'F5_03_1_2_GFP_001.tif',\n",
       " 'F5_03_2_2_Propidium Iodide_001.tif',\n",
       " 'F6_03_1_5_GFP_001.tif',\n",
       " 'F6_03_2_5_Propidium Iodide_001.tif',\n",
       " 'F7_03_1_8_GFP_001.tif',\n",
       " 'F7_03_2_8_Propidium Iodide_001.tif',\n",
       " 'F9_03_1_11_GFP_001.tif',\n",
       " 'F9_03_2_11_Propidium Iodide_001.tif',\n",
       " 'G10_04_1_14_GFP_001.tif',\n",
       " 'G10_04_2_14_Propidium Iodide_001.tif',\n",
       " 'G11_04_1_17_GFP_001.tif',\n",
       " 'G11_04_2_17_Propidium Iodide_001.tif',\n",
       " 'G2_04_1_1_GFP_001.tif',\n",
       " 'G2_04_2_1_Propidium Iodide_001.tif',\n",
       " 'G3_04_1_22_GFP_001.tif',\n",
       " 'G3_04_2_22_Propidium Iodide_001.tif',\n",
       " 'G4_04_1_25_GFP_001.tif',\n",
       " 'G4_04_2_25_Propidium Iodide_001.tif',\n",
       " 'G5_04_1_4_GFP_001.tif',\n",
       " 'G5_04_2_4_Propidium Iodide_001.tif',\n",
       " 'G6_04_1_7_GFP_001.tif',\n",
       " 'G6_04_2_7_Propidium Iodide_001.tif',\n",
       " 'G8_04_1_10_GFP_001.tif',\n",
       " 'G8_04_2_10_Propidium Iodide_001.tif',\n",
       " 'G9_04_1_13_GFP_001.tif',\n",
       " 'G9_04_2_13_Propidium Iodide_001.tif']"
      ]
     },
     "execution_count": 22,
     "metadata": {},
     "output_type": "execute_result"
    }
   ],
   "source": [
    "list_select"
   ]
  },
  {
   "cell_type": "code",
   "execution_count": 23,
   "id": "98a465c2-8994-40e6-b2b4-af5e54789b49",
   "metadata": {},
   "outputs": [
    {
     "data": {
      "text/plain": [
       "104"
      ]
     },
     "execution_count": 23,
     "metadata": {},
     "output_type": "execute_result"
    }
   ],
   "source": [
    "len(list_select)"
   ]
  },
  {
   "attachments": {},
   "cell_type": "markdown",
   "id": "e36843c6",
   "metadata": {},
   "source": [
    "# Select only the wells you want to copy to another folder"
   ]
  },
  {
   "cell_type": "code",
   "execution_count": null,
   "id": "7f5c0f01",
   "metadata": {},
   "outputs": [],
   "source": []
  },
  {
   "cell_type": "markdown",
   "id": "9431163d-025b-47dd-ab8d-f3880f1f4cf0",
   "metadata": {
    "tags": []
   },
   "source": [
    "## Copy the images from one folder to another"
   ]
  },
  {
   "cell_type": "code",
   "execution_count": 37,
   "id": "58db6f37-9a32-4d7f-be83-ca1df658db1f",
   "metadata": {
    "scrolled": true
   },
   "outputs": [
    {
     "name": "stdout",
     "output_type": "stream",
     "text": [
      "Provide output folder hereG:\\My Drive\\Analysis\\ContinuousExposure\\TestSegmentationSpeckles\\PI\n"
     ]
    }
   ],
   "source": [
    "#provide the names for input and output folders\n",
    "input_folder = input_folder\n",
    "output_folder = input(r\"Provide output folder here\")"
   ]
  },
  {
   "cell_type": "code",
   "execution_count": 39,
   "id": "a98c97b8-000c-4203-b873-a550d3f072a4",
   "metadata": {},
   "outputs": [],
   "source": [
    "#run this code to pick the names on the list of selected images, find it on our input folder, and then save in the output folder\n",
    "imageNames = file_pi\n",
    "for imageName in imageNames:\n",
    "    shutil.copy(os.path.join(input_folder, imageName), output_folder)"
   ]
  },
  {
   "cell_type": "code",
   "execution_count": null,
   "id": "961691a9-c228-4faf-b390-77bf641bd9fd",
   "metadata": {},
   "outputs": [],
   "source": []
  }
 ],
 "metadata": {
  "kernelspec": {
   "display_name": "Python 3 (ipykernel)",
   "language": "python",
   "name": "python3"
  },
  "language_info": {
   "codemirror_mode": {
    "name": "ipython",
    "version": 3
   },
   "file_extension": ".py",
   "mimetype": "text/x-python",
   "name": "python",
   "nbconvert_exporter": "python",
   "pygments_lexer": "ipython3",
   "version": "3.9.12"
  }
 },
 "nbformat": 4,
 "nbformat_minor": 5
}
