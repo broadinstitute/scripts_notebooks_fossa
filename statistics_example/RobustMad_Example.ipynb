{
 "cells": [
  {
   "cell_type": "code",
   "execution_count": 1,
   "metadata": {},
   "outputs": [],
   "source": [
    "from scipy import stats\n",
    "import numpy as np"
   ]
  },
  {
   "cell_type": "code",
   "execution_count": 25,
   "id": "cf8370ba",
   "metadata": {},
   "outputs": [],
   "source": [
    "def robust_mad(x_array):\n",
    "    median = np.median(x_array)\n",
    "    print('The median is', median)\n",
    "    mad = stats.median_abs_deviation(x_array)\n",
    "    print('The MAD is',mad)\n",
    "    return (x_array - median)/mad"
   ]
  },
  {
   "cell_type": "code",
   "execution_count": 59,
   "metadata": {},
   "outputs": [
    {
     "name": "stdout",
     "output_type": "stream",
     "text": [
      "Array is [ 4  7 10]\n",
      "The median is 7.0\n",
      "The MAD is 3.0\n",
      "Normalized [-1.  0.  1.]\n"
     ]
    }
   ],
   "source": [
    "x_array = np.array([4, 7, 10])\n",
    "print('Array is', x_array)\n",
    "print('Normalized',robust_mad(x_array))"
   ]
  },
  {
   "cell_type": "code",
   "execution_count": 76,
   "metadata": {},
   "outputs": [
    {
     "name": "stdout",
     "output_type": "stream",
     "text": [
      "Array is [ 1  2 30]\n",
      "The median is 2.0\n",
      "The MAD is 1.0\n",
      "Normalized [-1.  0. 28.]\n"
     ]
    }
   ],
   "source": [
    "x_array = np.array([1, 2, 30])\n",
    "print('Array is', x_array)\n",
    "print('Normalized',robust_mad(x_array))"
   ]
  },
  {
   "cell_type": "code",
   "execution_count": 74,
   "metadata": {},
   "outputs": [
    {
     "name": "stdout",
     "output_type": "stream",
     "text": [
      "Array is [  2  20 100]\n",
      "The median is 20.0\n",
      "The MAD is 18.0\n",
      "Normalized [-1.          0.          4.44444444]\n"
     ]
    }
   ],
   "source": [
    "x_array = np.array([2, 20, 100])\n",
    "print('Array is', x_array)\n",
    "print('Normalized',robust_mad(x_array))"
   ]
  },
  {
   "cell_type": "code",
   "execution_count": null,
   "metadata": {},
   "outputs": [],
   "source": []
  }
 ],
 "metadata": {
  "kernelspec": {
   "display_name": "base",
   "language": "python",
   "name": "python3"
  },
  "language_info": {
   "codemirror_mode": {
    "name": "ipython",
    "version": 3
   },
   "file_extension": ".py",
   "mimetype": "text/x-python",
   "name": "python",
   "nbconvert_exporter": "python",
   "pygments_lexer": "ipython3",
   "version": "3.9.12"
  },
  "orig_nbformat": 4,
  "vscode": {
   "interpreter": {
    "hash": "fd78521a938a9c4193d0781f83c0de96f4f266db216f064a23343888b0dd2e37"
   }
  }
 },
 "nbformat": 4,
 "nbformat_minor": 2
}
